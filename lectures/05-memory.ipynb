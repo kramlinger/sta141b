{
 "cells": [
  {
   "cell_type": "markdown",
   "id": "5ae0d8e9",
   "metadata": {
    "slideshow": {
     "slide_type": "slide"
    }
   },
   "source": [
    "# STA 141B Data & Web Technologies for Data Analysis\n",
    "\n",
    "### Lecture 5, 1/21/25, Memory handling\n"
   ]
  },
  {
   "cell_type": "markdown",
   "id": "95413246",
   "metadata": {
    "slideshow": {
     "slide_type": "slide"
    }
   },
   "source": [
    "### Announcements\n",
    "\n",
    "  - Midterm next Tuesday!"
   ]
  },
  {
   "cell_type": "code",
   "execution_count": null,
   "id": "68d6fa78",
   "metadata": {},
   "outputs": [],
   "source": []
  },
  {
   "cell_type": "markdown",
   "id": "2a9fdaa0",
   "metadata": {
    "slideshow": {
     "slide_type": "slide"
    }
   },
   "source": [
    "<span color=\"blue\"> https://forms.gle/ADZwZU5amEmVogmX6 </span>\n",
    "<img src=\"./source/GoogleForms.png\" width=500 height=500>"
   ]
  },
  {
   "cell_type": "markdown",
   "id": "9c9341f0",
   "metadata": {
    "slideshow": {
     "slide_type": "slide"
    }
   },
   "source": [
    "### Last week's topics\n",
    "\n",
    " - `numpy`\n",
    " - `pandas`"
   ]
  },
  {
   "cell_type": "markdown",
   "id": "90d20b21",
   "metadata": {},
   "source": [
    "### Today's topics\n",
    "\n",
    " - Memory Handling in Python\n",
    "     - Stack and Heap\n",
    "     - Types\n",
    "     - Reference Semantics\n",
    "     - Interning"
   ]
  },
  {
   "cell_type": "markdown",
   "id": "54df16d0",
   "metadata": {
    "slideshow": {
     "slide_type": "slide"
    }
   },
   "source": [
    "### Stack and Heap"
   ]
  },
  {
   "cell_type": "code",
   "execution_count": null,
   "id": "5f4170d1",
   "metadata": {
    "slideshow": {
     "slide_type": "-"
    }
   },
   "outputs": [],
   "source": [
    "x = True\n",
    "type(x)"
   ]
  },
  {
   "cell_type": "markdown",
   "id": "b7da4c66",
   "metadata": {},
   "source": [
    "`x` is a variable, which corresponds to an <kbd>bool</kbd> object with value `True`. The variable itself holds merely a reference to a specific object. This reference is stored in local memory (the *stack*). Our compiler takes care in allocating stack memory, we don't have to do that. \n",
    "\n",
    "The <kbd>bool</kbd>-object and its value are stored on the random access memory (RAM, the *heap*). We can access the address of the object on the heap (and, conversely, the reference on the stack): "
   ]
  },
  {
   "cell_type": "code",
   "execution_count": null,
   "id": "ca872c6a",
   "metadata": {},
   "outputs": [],
   "source": [
    "hex(id(x))"
   ]
  },
  {
   "cell_type": "code",
   "execution_count": null,
   "id": "7f9e5c6a",
   "metadata": {},
   "outputs": [],
   "source": [
    "y = float(x)\n",
    "hex(id(y))"
   ]
  },
  {
   "cell_type": "markdown",
   "id": "940b6dbe",
   "metadata": {
    "slideshow": {
     "slide_type": "slide"
    }
   },
   "source": [
    "A new object will be stored at a different location. "
   ]
  },
  {
   "cell_type": "code",
   "execution_count": null,
   "id": "16edd3d9",
   "metadata": {},
   "outputs": [],
   "source": [
    "hex(id(x))"
   ]
  },
  {
   "cell_type": "code",
   "execution_count": null,
   "id": "5e55f4ae",
   "metadata": {},
   "outputs": [],
   "source": [
    "x = int(x)\n",
    "type(x)"
   ]
  },
  {
   "cell_type": "code",
   "execution_count": null,
   "id": "6c9d0822",
   "metadata": {},
   "outputs": [],
   "source": [
    "hex(id(x))"
   ]
  },
  {
   "cell_type": "markdown",
   "id": "a9b1af0d",
   "metadata": {
    "slideshow": {
     "slide_type": "slide"
    }
   },
   "source": [
    "<img src=\"source/memory1.png\" alt=\"\" width=\"1000\"/>"
   ]
  },
  {
   "cell_type": "markdown",
   "id": "d919fa95",
   "metadata": {},
   "source": [
    "As soon as the `x`-variable, which previously referenced to the <kbd>bool</kbd> object is out of scope (either by deletion or recasting), the object on the heap is ready to be overwritten by the garbage collector. \n",
    "\n"
   ]
  },
  {
   "cell_type": "markdown",
   "id": "ad54e96b",
   "metadata": {
    "slideshow": {
     "slide_type": "slide"
    }
   },
   "source": [
    "Let's work through the phrases: *Everything in Python is an object*. Some basic default objects (*types*) we have already met are \n",
    "\n",
    "- Numeric: <kbd>int</kbd>, <kbd>floats</kbd>, <kbd>complex</kbd>\n",
    "- Boolean: <kbd>bool</kbd>\n",
    "- String: <kbd>str</kbd>\n",
    "- Sequence: <kbd>list</kbd>, <kbd>tuple</kbd>, <kbd>range</kbd>\n",
    "- Mapping: <kbd>dict</kbd>\n",
    "\n",
    "The function `sys.getsizeof` ([docs](https://docs.python.org/3/library/sys.html?highlight=getsizeof#sys.getsizeof)) returns the size in bytes of the object the variable points to. "
   ]
  },
  {
   "cell_type": "code",
   "execution_count": null,
   "id": "8ffdf699",
   "metadata": {},
   "outputs": [],
   "source": [
    "import sys\n",
    "sys.getsizeof(x)"
   ]
  },
  {
   "cell_type": "code",
   "execution_count": null,
   "id": "7588373c",
   "metadata": {},
   "outputs": [],
   "source": [
    "sys.getsizeof(y)"
   ]
  },
  {
   "cell_type": "markdown",
   "id": "dd3290b4",
   "metadata": {
    "slideshow": {
     "slide_type": "slide"
    }
   },
   "source": [
    "A <kbd>float</kbd> is less expensive than an <kbd>integer</kbd>. This is because <kbd>integer</kbd> stores additional information about size together with the actual value. The larger the integer, the more memory required. "
   ]
  },
  {
   "cell_type": "code",
   "execution_count": null,
   "id": "41b81c47",
   "metadata": {},
   "outputs": [],
   "source": [
    "sys.getsizeof(100 ** 10)"
   ]
  },
  {
   "cell_type": "code",
   "execution_count": null,
   "id": "604778c2",
   "metadata": {},
   "outputs": [],
   "source": [
    "sys.getsizeof(100.0 ** 10)"
   ]
  },
  {
   "cell_type": "markdown",
   "id": "2fa3073b",
   "metadata": {
    "slideshow": {
     "slide_type": "slide"
    }
   },
   "source": [
    "However, <kbd>integer</kbd> can store larger values than <kbd>float</kbd>. "
   ]
  },
  {
   "cell_type": "code",
   "execution_count": null,
   "id": "039aa8d0",
   "metadata": {},
   "outputs": [],
   "source": [
    "x = 500 ** 500 \n",
    "type(x)"
   ]
  },
  {
   "cell_type": "code",
   "execution_count": null,
   "id": "bfe994cc",
   "metadata": {},
   "outputs": [],
   "source": [
    "x"
   ]
  },
  {
   "cell_type": "code",
   "execution_count": null,
   "id": "99c3e637",
   "metadata": {},
   "outputs": [],
   "source": [
    "sys.getsizeof(x)"
   ]
  },
  {
   "cell_type": "code",
   "execution_count": null,
   "id": "e2684def",
   "metadata": {
    "scrolled": true
   },
   "outputs": [],
   "source": [
    "float(x)"
   ]
  },
  {
   "cell_type": "markdown",
   "id": "bf380eba",
   "metadata": {
    "slideshow": {
     "slide_type": "slide"
    }
   },
   "source": [
    "The function `range(start, stop, step)` ([docs](https://docs.python.org/3/library/stdtypes.html#range)) creates a <kbd>range</kbd> type object. It starts at `start` and ends at `stop - 1`, but does not instantiate an object of that length. "
   ]
  },
  {
   "cell_type": "code",
   "execution_count": null,
   "id": "b512cf41",
   "metadata": {},
   "outputs": [],
   "source": [
    "x = range(0, 500**500)\n",
    "sys.getsizeof(x)"
   ]
  },
  {
   "cell_type": "code",
   "execution_count": null,
   "id": "08ef9a91",
   "metadata": {
    "scrolled": false
   },
   "outputs": [],
   "source": [
    "sys.getsizeof(500**500)"
   ]
  },
  {
   "cell_type": "markdown",
   "id": "216de917",
   "metadata": {
    "slideshow": {
     "slide_type": "slide"
    }
   },
   "source": [
    "A <kbd>tuple</kbd> is an ordered collection of values. Think of coordinates. <kbd>tuple</kbd> is immutable, which means they can't be changed after they're created."
   ]
  },
  {
   "cell_type": "code",
   "execution_count": null,
   "id": "edbba5b2",
   "metadata": {},
   "outputs": [],
   "source": [
    "x = 1, 3.0, \"horse\" # parenthesis are optional, but should be used for clarity \n",
    "x"
   ]
  },
  {
   "cell_type": "code",
   "execution_count": null,
   "id": "499e2f89",
   "metadata": {},
   "outputs": [],
   "source": [
    "type(x)"
   ]
  },
  {
   "cell_type": "code",
   "execution_count": null,
   "id": "68977ed4",
   "metadata": {},
   "outputs": [],
   "source": [
    "sys.getsizeof(x)"
   ]
  },
  {
   "cell_type": "markdown",
   "id": "83dd947b",
   "metadata": {
    "slideshow": {
     "slide_type": "slide"
    }
   },
   "source": [
    "A <kbd>tuple</kbd> is inmutable. We have learned that once created, it can't be changed!"
   ]
  },
  {
   "cell_type": "code",
   "execution_count": null,
   "id": "ac4d4258",
   "metadata": {},
   "outputs": [],
   "source": [
    "x[2] = 'horsies' "
   ]
  },
  {
   "cell_type": "code",
   "execution_count": null,
   "id": "5bd98235",
   "metadata": {},
   "outputs": [],
   "source": [
    "try: x[2] = 'horsies' \n",
    "except: \n",
    "    print('Tuples are inmutable!')"
   ]
  },
  {
   "cell_type": "markdown",
   "id": "2cbbafab",
   "metadata": {
    "slideshow": {
     "slide_type": "slide"
    }
   },
   "source": [
    "This is a feature, not shortcoming of <kbd>tuple</kbd>. Since they cannot be changed nor appended, they are more  economical than <kbd>list</kbd>. <kbd>list</kbd> is the mutable counterpart of <kbd>tuple</kbd>. They are instantiated with square brackets. "
   ]
  },
  {
   "cell_type": "code",
   "execution_count": null,
   "id": "648d2c11",
   "metadata": {},
   "outputs": [],
   "source": [
    "y = [1, 3.0, \"horse\"]\n",
    "y"
   ]
  },
  {
   "cell_type": "code",
   "execution_count": null,
   "id": "4e405b91",
   "metadata": {},
   "outputs": [],
   "source": [
    "type(y)"
   ]
  },
  {
   "cell_type": "code",
   "execution_count": null,
   "id": "410f0e99",
   "metadata": {},
   "outputs": [],
   "source": [
    "sys.getsizeof(y)"
   ]
  },
  {
   "cell_type": "markdown",
   "id": "264a42b5",
   "metadata": {
    "slideshow": {
     "slide_type": "slide"
    }
   },
   "source": [
    "Lists are mutable, and in particular appendable. Since these actions are allowed, <kbd>list</kbd> objects require  more memory. The return of `sys.getsizeof` does not coincide with the values in the list! Instead, `y` is a variable with a reference to a <kbd>list</kbd> object on the heap, *which itself is a collection of adresses*. This collection of adresses takes $120$ bytes. "
   ]
  },
  {
   "cell_type": "code",
   "execution_count": null,
   "id": "54bfe326",
   "metadata": {},
   "outputs": [],
   "source": [
    "sys.getsizeof(y)"
   ]
  },
  {
   "cell_type": "code",
   "execution_count": null,
   "id": "bb90d9d6",
   "metadata": {},
   "outputs": [],
   "source": [
    "sum([sys.getsizeof(i) for i in y])"
   ]
  },
  {
   "cell_type": "code",
   "execution_count": null,
   "id": "7733c98d",
   "metadata": {},
   "outputs": [],
   "source": [
    "sys.getsizeof(1) + sys.getsizeof(3.0) + sys.getsizeof(\"horse\")"
   ]
  },
  {
   "cell_type": "markdown",
   "id": "b273eedf",
   "metadata": {
    "slideshow": {
     "slide_type": "slide"
    }
   },
   "source": [
    "In contrast to <kbd>tuples</kbd>, they are however mutable. "
   ]
  },
  {
   "cell_type": "code",
   "execution_count": null,
   "id": "8a0402d4",
   "metadata": {
    "scrolled": true
   },
   "outputs": [],
   "source": [
    "y[2] = \"horsies\"\n",
    "y"
   ]
  },
  {
   "cell_type": "markdown",
   "id": "723634d0",
   "metadata": {
    "slideshow": {
     "slide_type": "slide"
    }
   },
   "source": [
    "### Reference Semantics\n",
    "\n",
    "Lists use *reference semantics*, which means that if you assign a list to two different variables, there's still only one list in memory, and both variables refer to it. As a result, changing the list with one variable changes the list for the other variable."
   ]
  },
  {
   "cell_type": "code",
   "execution_count": null,
   "id": "aa3f4afe",
   "metadata": {},
   "outputs": [],
   "source": [
    "x = y"
   ]
  },
  {
   "cell_type": "code",
   "execution_count": null,
   "id": "878d7bed",
   "metadata": {},
   "outputs": [],
   "source": [
    "hex(id(x))"
   ]
  },
  {
   "cell_type": "code",
   "execution_count": null,
   "id": "95879bc9",
   "metadata": {},
   "outputs": [],
   "source": [
    "hex(id(y))"
   ]
  },
  {
   "cell_type": "code",
   "execution_count": null,
   "id": "03b56138",
   "metadata": {},
   "outputs": [],
   "source": [
    "x[0] = \"my\"\n",
    "y"
   ]
  },
  {
   "cell_type": "markdown",
   "id": "1096f858",
   "metadata": {
    "slideshow": {
     "slide_type": "slide"
    }
   },
   "source": [
    "A new, non-referenced object can be created by slicing. "
   ]
  },
  {
   "cell_type": "code",
   "execution_count": null,
   "id": "ece255fb",
   "metadata": {},
   "outputs": [],
   "source": [
    "z = y[:]"
   ]
  },
  {
   "cell_type": "code",
   "execution_count": null,
   "id": "c9ffdd66",
   "metadata": {},
   "outputs": [],
   "source": [
    "hex(id(z))"
   ]
  },
  {
   "cell_type": "code",
   "execution_count": null,
   "id": "628418cb",
   "metadata": {},
   "outputs": [],
   "source": [
    "z"
   ]
  },
  {
   "cell_type": "code",
   "execution_count": null,
   "id": "19d7faff",
   "metadata": {},
   "outputs": [],
   "source": [
    "z[1] = 3"
   ]
  },
  {
   "cell_type": "code",
   "execution_count": null,
   "id": "86d89ab4",
   "metadata": {},
   "outputs": [],
   "source": [
    "hex(id(z[1]))"
   ]
  },
  {
   "cell_type": "code",
   "execution_count": null,
   "id": "a00bcb88",
   "metadata": {},
   "outputs": [],
   "source": [
    "hex(id(y[1]))"
   ]
  },
  {
   "cell_type": "markdown",
   "id": "99cd5c70",
   "metadata": {
    "slideshow": {
     "slide_type": "slide"
    }
   },
   "source": [
    "<img src=\"source/memory2.png\" alt=\"\" width=\"1000\"/>"
   ]
  },
  {
   "cell_type": "markdown",
   "id": "c0ad5903",
   "metadata": {
    "slideshow": {
     "slide_type": "slide"
    }
   },
   "source": [
    "Alternatively, we can use the copy method ([docs](https://docs.python.org/3/library/copy.html)) to the original list. "
   ]
  },
  {
   "cell_type": "code",
   "execution_count": null,
   "id": "7f693392",
   "metadata": {},
   "outputs": [],
   "source": [
    "z = y.copy()\n",
    "hex(id(z))"
   ]
  },
  {
   "cell_type": "code",
   "execution_count": null,
   "id": "d50403a7",
   "metadata": {},
   "outputs": [],
   "source": [
    "hex(id(y))"
   ]
  },
  {
   "cell_type": "markdown",
   "id": "b253858b",
   "metadata": {
    "slideshow": {
     "slide_type": "slide"
    }
   },
   "source": [
    "While the copies `y` and `z` are *equal*, the are not *identical*, because they point to different objects. "
   ]
  },
  {
   "cell_type": "code",
   "execution_count": null,
   "id": "0c053a31",
   "metadata": {},
   "outputs": [],
   "source": [
    "y == z # equal"
   ]
  },
  {
   "cell_type": "code",
   "execution_count": null,
   "id": "c8edee59",
   "metadata": {},
   "outputs": [],
   "source": [
    "y is z # identical"
   ]
  },
  {
   "cell_type": "code",
   "execution_count": null,
   "id": "cb52cb6d",
   "metadata": {
    "scrolled": true
   },
   "outputs": [],
   "source": [
    "y is x # identical"
   ]
  },
  {
   "cell_type": "code",
   "execution_count": null,
   "id": "faac5881",
   "metadata": {
    "slideshow": {
     "slide_type": "slide"
    }
   },
   "outputs": [],
   "source": [
    "y[1] = 2\n",
    "print(y)\n",
    "print(z) "
   ]
  },
  {
   "cell_type": "markdown",
   "id": "a6b942aa",
   "metadata": {
    "slideshow": {
     "slide_type": "-"
    }
   },
   "source": [
    "Attention! This is a *shallow copy*, i.e., objects whithin the list will not be be reinstantiated! Above, the command `y[1] = 2` just instantiates a new <kbd>int</kbd> object of value `2` on the heap and replaces the former reference in `y` with the reference to that new object. "
   ]
  },
  {
   "cell_type": "code",
   "execution_count": null,
   "id": "8dab65cb",
   "metadata": {},
   "outputs": [],
   "source": [
    "hex(id(z[1])) == hex(id(y[1]))"
   ]
  },
  {
   "cell_type": "markdown",
   "id": "fa72d595",
   "metadata": {
    "slideshow": {
     "slide_type": "slide"
    }
   },
   "source": [
    "This becomes tricky if the list references to another list: "
   ]
  },
  {
   "cell_type": "code",
   "execution_count": null,
   "id": "8a189800",
   "metadata": {},
   "outputs": [],
   "source": [
    "a = ['a', 'list']"
   ]
  },
  {
   "cell_type": "code",
   "execution_count": null,
   "id": "0742d6e3",
   "metadata": {},
   "outputs": [],
   "source": [
    "y = [1, 2, 'three', a]"
   ]
  },
  {
   "cell_type": "code",
   "execution_count": null,
   "id": "f9d44a61",
   "metadata": {},
   "outputs": [],
   "source": [
    "z = y.copy()"
   ]
  },
  {
   "cell_type": "code",
   "execution_count": null,
   "id": "25e682dc",
   "metadata": {},
   "outputs": [],
   "source": [
    "hex(id(y))"
   ]
  },
  {
   "cell_type": "code",
   "execution_count": null,
   "id": "f9dad5a6",
   "metadata": {},
   "outputs": [],
   "source": [
    "hex(id(z))"
   ]
  },
  {
   "cell_type": "code",
   "execution_count": null,
   "id": "6d074e8c",
   "metadata": {},
   "outputs": [],
   "source": [
    "hex(id(y[3]))"
   ]
  },
  {
   "cell_type": "code",
   "execution_count": null,
   "id": "826c2b9d",
   "metadata": {},
   "outputs": [],
   "source": [
    "hex(id(z[3]))"
   ]
  },
  {
   "cell_type": "code",
   "execution_count": null,
   "id": "1211bc45",
   "metadata": {
    "slideshow": {
     "slide_type": "slide"
    }
   },
   "outputs": [],
   "source": [
    "z[0] = 3"
   ]
  },
  {
   "cell_type": "code",
   "execution_count": null,
   "id": "5cd0cc78",
   "metadata": {},
   "outputs": [],
   "source": [
    "y"
   ]
  },
  {
   "cell_type": "code",
   "execution_count": null,
   "id": "1435f523",
   "metadata": {},
   "outputs": [],
   "source": [
    "z"
   ]
  },
  {
   "cell_type": "code",
   "execution_count": null,
   "id": "48c08fbf",
   "metadata": {},
   "outputs": [],
   "source": [
    "y[3][1] = 'ha'"
   ]
  },
  {
   "cell_type": "code",
   "execution_count": null,
   "id": "ca61cf42",
   "metadata": {},
   "outputs": [],
   "source": [
    "print(y)\n",
    "print(z)"
   ]
  },
  {
   "cell_type": "code",
   "execution_count": null,
   "id": "2b46064e",
   "metadata": {},
   "outputs": [],
   "source": [
    "hex(id(z[3])) == hex(id(y[3])) "
   ]
  },
  {
   "cell_type": "markdown",
   "id": "d02ad10f",
   "metadata": {
    "slideshow": {
     "slide_type": "slide"
    }
   },
   "source": [
    "Although both lists are real copies, they reference to the same other list `a`, which has not been copied. "
   ]
  },
  {
   "cell_type": "code",
   "execution_count": null,
   "id": "1477c03f",
   "metadata": {},
   "outputs": [],
   "source": [
    "hex(id(z[3])) == hex(id(y[3]))"
   ]
  },
  {
   "cell_type": "markdown",
   "id": "53405c68",
   "metadata": {
    "slideshow": {
     "slide_type": "slide"
    }
   },
   "source": [
    "This behaviour is irrespecive of the variable `a`. We can remove it from the scope. Since the list object `a` has pointed to still is in scope, it will not be taken by the garbage collector. "
   ]
  },
  {
   "cell_type": "code",
   "execution_count": null,
   "id": "9e3c33dd",
   "metadata": {},
   "outputs": [],
   "source": [
    "hex(id(a))"
   ]
  },
  {
   "cell_type": "code",
   "execution_count": null,
   "id": "1b6ee48c",
   "metadata": {},
   "outputs": [],
   "source": [
    "del(a)"
   ]
  },
  {
   "cell_type": "code",
   "execution_count": null,
   "id": "bf06adbd",
   "metadata": {},
   "outputs": [],
   "source": [
    "hex(id(z[3]))"
   ]
  },
  {
   "cell_type": "markdown",
   "id": "88398160",
   "metadata": {
    "slideshow": {
     "slide_type": "slide"
    }
   },
   "source": [
    "We can copy the upper-level lists as well by calling the `copy.deepcopy`. "
   ]
  },
  {
   "cell_type": "code",
   "execution_count": null,
   "id": "9cbefc31",
   "metadata": {},
   "outputs": [],
   "source": [
    "from copy import deepcopy\n",
    "z = deepcopy(y)"
   ]
  },
  {
   "cell_type": "code",
   "execution_count": null,
   "id": "cd2063ed",
   "metadata": {},
   "outputs": [],
   "source": [
    "y"
   ]
  },
  {
   "cell_type": "code",
   "execution_count": null,
   "id": "d8510f95",
   "metadata": {},
   "outputs": [],
   "source": [
    "hex(id(z[1]))"
   ]
  },
  {
   "cell_type": "code",
   "execution_count": null,
   "id": "f60ba040",
   "metadata": {},
   "outputs": [],
   "source": [
    "hex(id(y[1]))"
   ]
  },
  {
   "cell_type": "markdown",
   "id": "9efcb4ad",
   "metadata": {
    "slideshow": {
     "slide_type": "slide"
    }
   },
   "source": [
    "While the copies `y` and `z` are *equal*, the are not *identical*, because they point to different objects. "
   ]
  },
  {
   "cell_type": "code",
   "execution_count": null,
   "id": "1430d750",
   "metadata": {},
   "outputs": [],
   "source": [
    "y == z # equal"
   ]
  },
  {
   "cell_type": "code",
   "execution_count": null,
   "id": "4f3e0714",
   "metadata": {
    "scrolled": true
   },
   "outputs": [],
   "source": [
    "y is z # identical"
   ]
  },
  {
   "cell_type": "markdown",
   "id": "6b60e8cb",
   "metadata": {
    "slideshow": {
     "slide_type": "slide"
    }
   },
   "source": [
    "### Interning \n",
    "\n",
    "The heap memory is memory that can be accessed and reserved by the programmer. Usually, this is tedious and automatically done. To optimize this process, Python uses *interning* to allocate ressources. Since `x` is merely a pointer to the <kbd>int</kbd> type object with value `1`, any other variable can point to the same adress.  "
   ]
  },
  {
   "cell_type": "code",
   "execution_count": null,
   "id": "0a6786be",
   "metadata": {},
   "outputs": [],
   "source": [
    "x = 1"
   ]
  },
  {
   "cell_type": "code",
   "execution_count": null,
   "id": "eb939188",
   "metadata": {},
   "outputs": [],
   "source": [
    "y = 1"
   ]
  },
  {
   "cell_type": "code",
   "execution_count": null,
   "id": "ea86599b",
   "metadata": {},
   "outputs": [],
   "source": [
    "hex(id(x)) == hex(id(y))"
   ]
  },
  {
   "cell_type": "markdown",
   "id": "e4fa8432",
   "metadata": {
    "slideshow": {
     "slide_type": "slide"
    }
   },
   "source": [
    "This does not mean that integers use reference semantics! "
   ]
  },
  {
   "cell_type": "code",
   "execution_count": null,
   "id": "0bc816fd",
   "metadata": {},
   "outputs": [],
   "source": [
    "y = 2\n",
    "x"
   ]
  },
  {
   "cell_type": "code",
   "execution_count": null,
   "id": "927a24fd",
   "metadata": {},
   "outputs": [],
   "source": [
    "hex(id(x)) == hex(id(y))"
   ]
  },
  {
   "cell_type": "markdown",
   "id": "76ab9588",
   "metadata": {
    "slideshow": {
     "slide_type": "slide"
    }
   },
   "source": [
    "Integer internalization is only done from `-5` to `255`. "
   ]
  },
  {
   "cell_type": "code",
   "execution_count": null,
   "id": "98bbe164",
   "metadata": {},
   "outputs": [],
   "source": [
    "x = 4.0\n",
    "y = 4.0\n",
    "hex(id(x)) == hex(id(y))"
   ]
  },
  {
   "cell_type": "markdown",
   "id": "9b1450e9",
   "metadata": {},
   "source": [
    "Interning works for several simple types: "
   ]
  },
  {
   "cell_type": "code",
   "execution_count": null,
   "id": "d113d715",
   "metadata": {},
   "outputs": [],
   "source": [
    "x = \"Hi\"\n",
    "y = \"Hi\""
   ]
  },
  {
   "cell_type": "code",
   "execution_count": null,
   "id": "62329c23",
   "metadata": {},
   "outputs": [],
   "source": [
    "hex(id(x)) == hex(id(y))"
   ]
  },
  {
   "cell_type": "markdown",
   "id": "5f044d8b",
   "metadata": {
    "slideshow": {
     "slide_type": "slide"
    }
   },
   "source": [
    "Interning can be forced using `sys.intern`. "
   ]
  },
  {
   "cell_type": "code",
   "execution_count": null,
   "id": "63632807",
   "metadata": {
    "scrolled": true,
    "slideshow": {
     "slide_type": "slide"
    }
   },
   "outputs": [],
   "source": [
    "a = \"This is quite a long string.\"\n",
    "b = \"This is quite a long string.\"\n",
    "hex(id(a)) == hex(id(b))"
   ]
  },
  {
   "cell_type": "code",
   "execution_count": null,
   "id": "fae126e6",
   "metadata": {
    "scrolled": true
   },
   "outputs": [],
   "source": [
    "a = \"This is quite a long string.\"\n",
    "b = a\n",
    "hex(id(a)) == hex(id(b))"
   ]
  },
  {
   "cell_type": "code",
   "execution_count": null,
   "id": "0b026136",
   "metadata": {
    "slideshow": {
     "slide_type": "-"
    }
   },
   "outputs": [],
   "source": [
    "import sys\n",
    "a = sys.intern(\"This is quite a long string.\")\n",
    "b = sys.intern(\"This is quite a long string.\")\n",
    "hex(id(a)) == hex(id(b))"
   ]
  },
  {
   "cell_type": "code",
   "execution_count": null,
   "id": "b872b0bd",
   "metadata": {
    "slideshow": {
     "slide_type": "-"
    }
   },
   "outputs": [],
   "source": [
    "c = \"This is quite a long string.\"\n",
    "hex(id(a)) == hex(id(c))"
   ]
  },
  {
   "cell_type": "markdown",
   "id": "0aedcc9d",
   "metadata": {
    "slideshow": {
     "slide_type": "slide"
    }
   },
   "source": [
    "When using `sys.intern`, the we can internalize an object without it being pointed to on the heap. "
   ]
  },
  {
   "cell_type": "code",
   "execution_count": null,
   "id": "0575b3f4",
   "metadata": {
    "slideshow": {
     "slide_type": "-"
    }
   },
   "outputs": [],
   "source": [
    "a = sys.intern(\"This is quite a long string.\")\n",
    "hex(id(a))"
   ]
  },
  {
   "cell_type": "code",
   "execution_count": null,
   "id": "eacbbde0",
   "metadata": {
    "scrolled": true,
    "slideshow": {
     "slide_type": "-"
    }
   },
   "outputs": [],
   "source": [
    "del a\n",
    "b = sys.intern(\"This is quite a long string.\")\n",
    "hex(id(b))"
   ]
  },
  {
   "cell_type": "markdown",
   "id": "005200f3",
   "metadata": {},
   "source": [
    "For reoccuring data, interning allows to use the heap economically. "
   ]
  },
  {
   "cell_type": "markdown",
   "id": "2d3521c8",
   "metadata": {
    "slideshow": {
     "slide_type": "slide"
    }
   },
   "source": [
    "### Summary \n",
    "\n",
    "- There is stack and heap memory\n",
    "- All objects are stored on the heap\n",
    "- Lists are versatile, but generally inefficient\n",
    "- Optimize heap usage via interning"
   ]
  }
 ],
 "metadata": {
  "celltoolbar": "Slideshow",
  "kernelspec": {
   "display_name": "Python 3 (ipykernel)",
   "language": "python",
   "name": "python3"
  },
  "language_info": {
   "codemirror_mode": {
    "name": "ipython",
    "version": 3
   },
   "file_extension": ".py",
   "mimetype": "text/x-python",
   "name": "python",
   "nbconvert_exporter": "python",
   "pygments_lexer": "ipython3",
   "version": "3.9.12"
  },
  "rise": {
   "progress": true,
   "scroll": true,
   "theme": "white"
  }
 },
 "nbformat": 4,
 "nbformat_minor": 5
}
