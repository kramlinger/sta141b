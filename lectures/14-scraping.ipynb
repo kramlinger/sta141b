{
 "cells": [
  {
   "cell_type": "markdown",
   "id": "512b5138",
   "metadata": {
    "slideshow": {
     "slide_type": "slide"
    }
   },
   "source": [
    "# STA 141B Data & Web Technologies for Data Analysis\n",
    "\n",
    "### Lecture 14, 2/24/25, Scraping"
   ]
  },
  {
   "cell_type": "markdown",
   "id": "8a6ca692",
   "metadata": {
    "slideshow": {
     "slide_type": "slide"
    }
   },
   "source": [
    "### Last Week's topics\n",
    "- NLP"
   ]
  },
  {
   "cell_type": "markdown",
   "id": "991420cd",
   "metadata": {},
   "source": [
    "### Today's topics\n",
    "- Scraping with Java Script\n",
    "- GraphQL\n",
    "    \n",
    "### Ressources\n",
    "- Mitchell: Scraping with Python, Chapters 9 and 10\n",
    "- [GraphQL](https://www.mobilelive.ca/blog/graphql-vs-rest-what-you-didnt-know) (Attention: This is infotainment!)"
   ]
  },
  {
   "cell_type": "markdown",
   "id": "418a4c7b",
   "metadata": {},
   "source": [
    "### Scraping from `ratemyprofessors.com`\n",
    "\n",
    "We are interested in retrieving information from the webpage [`ratemyprofessors.com`](https://www.ratemyprofessors.com/). By navigating with our browser, we find that all professors at UCD can be retrieved as follows. "
   ]
  },
  {
   "cell_type": "code",
   "execution_count": null,
   "id": "088b5c89",
   "metadata": {},
   "outputs": [],
   "source": [
    "import requests"
   ]
  },
  {
   "cell_type": "code",
   "execution_count": null,
   "id": "e2a519b4",
   "metadata": {},
   "outputs": [],
   "source": [
    "endpoint = 'https://www.ratemyprofessors.com/search/professors/1073?'\n",
    "params = {'q':'*'}"
   ]
  },
  {
   "cell_type": "code",
   "execution_count": null,
   "id": "a82730d1",
   "metadata": {},
   "outputs": [],
   "source": [
    "result=requests.get(endpoint, params)\n",
    "result.raise_for_status"
   ]
  },
  {
   "cell_type": "code",
   "execution_count": null,
   "id": "73e36576",
   "metadata": {},
   "outputs": [],
   "source": [
    "import lxml\n",
    "from bs4 import BeautifulSoup"
   ]
  },
  {
   "cell_type": "code",
   "execution_count": null,
   "id": "6f2e920e",
   "metadata": {},
   "outputs": [],
   "source": [
    "html = BeautifulSoup(result.text,'lxml')\n",
    "print(html.prettify()) "
   ]
  },
  {
   "cell_type": "code",
   "execution_count": null,
   "id": "12c7e1ef",
   "metadata": {},
   "outputs": [],
   "source": [
    "result.text.find(\"Toupadakis\")"
   ]
  },
  {
   "cell_type": "code",
   "execution_count": null,
   "id": "675f2bcc",
   "metadata": {},
   "outputs": [],
   "source": [
    "result.text.find(\"Tavernetti\")"
   ]
  },
  {
   "cell_type": "markdown",
   "id": "01badfd2",
   "metadata": {},
   "source": [
    "As we have already seen in the wikipedia example, the website (html) rendered by the browser does not coincide with the html returned by the request. Apparently, some information is fetched while the *browser* executed JS. \n",
    "\n",
    "The running of scripts is a client-side operation run in the browser itself, rather\n",
    "than on a web server. \n",
    "\n",
    "JavaScript is, by far, the most common and most well-supported client-side scripting\n",
    "language on the Web today. It can be used to collect information for user tracking,\n",
    "submit forms without reloading the page, embed multimedia, and even power entire\n",
    "online games. Even deceptively simple-looking pages can often contain multiple\n",
    "pieces of JavaScript. You can find it embedded between `<script>` tags in the page’s\n",
    "source code."
   ]
  },
  {
   "cell_type": "markdown",
   "id": "854cf39f",
   "metadata": {},
   "source": [
    "Since we are interested in the rendered html displayed by the browser, we have to artificialy render it first, then return the rendered html as a string. This can be achieved with `Selenium`. \n",
    "\n",
    "Selenium is a powerful web scraping tool developed originally for website testing.\n",
    "These days it’s also used when the accurate portrayal of websites—as they appear in a\n",
    "browser—is required. Selenium works by automating browsers to load the website,\n",
    "retrieve the required data, and even take screenshots or assert that certain actions\n",
    "happen on the website."
   ]
  },
  {
   "cell_type": "code",
   "execution_count": null,
   "id": "1e013322",
   "metadata": {},
   "outputs": [],
   "source": [
    "from selenium import webdriver\n",
    "from selenium.webdriver.chrome.service import Service\n",
    "from webdriver_manager.chrome import ChromeDriverManager\n",
    "\n",
    "from selenium.webdriver.chrome.options import Options\n",
    "chrome_options = Options()\n",
    "chrome_options.add_argument(\"--headless\")\n",
    "\n",
    "driver = webdriver.Chrome(\n",
    "    service=Service(ChromeDriverManager().install()), \n",
    "    options = chrome_options)"
   ]
  },
  {
   "cell_type": "code",
   "execution_count": null,
   "id": "2fd1ca07",
   "metadata": {},
   "outputs": [],
   "source": [
    "driver."
   ]
  },
  {
   "cell_type": "code",
   "execution_count": null,
   "id": "ee49bbf4",
   "metadata": {},
   "outputs": [],
   "source": [
    "url = result.url\n",
    "url"
   ]
  },
  {
   "cell_type": "code",
   "execution_count": null,
   "id": "b127be70",
   "metadata": {},
   "outputs": [],
   "source": [
    "#driver.get(url)"
   ]
  },
  {
   "cell_type": "markdown",
   "id": "01c92152",
   "metadata": {},
   "source": [
    "We have already seen that it takes a while to load the page in the browser. We don't have time for this. "
   ]
  },
  {
   "cell_type": "code",
   "execution_count": null,
   "id": "a2dbf943",
   "metadata": {
    "scrolled": true
   },
   "outputs": [],
   "source": [
    "driver.set_page_load_timeout(10)\n",
    "driver.get_cookies()"
   ]
  },
  {
   "cell_type": "code",
   "execution_count": null,
   "id": "0ceb5278",
   "metadata": {},
   "outputs": [],
   "source": [
    "from selenium.common.exceptions import TimeoutException\n",
    "driver.set_page_load_timeout(20) # four seconds should be enough\n",
    "\n",
    "try:\n",
    "    driver.get(url)\n",
    "except TimeoutException:\n",
    "    driver.execute_script(\"window.stop();\")"
   ]
  },
  {
   "cell_type": "markdown",
   "id": "244c7ab4",
   "metadata": {},
   "source": [
    "Other professors are not displayed. For that, we have to hit the button `show more`, or, better, specify that we are only interested in stats professors. "
   ]
  },
  {
   "cell_type": "markdown",
   "id": "50a94756",
   "metadata": {},
   "source": [
    "How do we navigate on this page? First, we need to get rid of the cookies banner. Using developer tools, we can inspect find the 'close' button for the cookies banner: \n",
    "\n",
    "    \"/html/body/div[5]/div/div/button\""
   ]
  },
  {
   "cell_type": "markdown",
   "id": "267e9a19",
   "metadata": {},
   "source": [
    "See the [docs](https://www.selenium.dev/selenium/docs/api/py/index.html)!"
   ]
  },
  {
   "cell_type": "code",
   "execution_count": null,
   "id": "8b6e3ff9",
   "metadata": {},
   "outputs": [],
   "source": [
    "driver.set_page_load_timeout(4)"
   ]
  },
  {
   "cell_type": "code",
   "execution_count": null,
   "id": "a55ca2bc",
   "metadata": {
    "scrolled": true
   },
   "outputs": [],
   "source": [
    "button=driver.find_element(\"xpath\", \"/html/body/div[4]/div/div/button\")"
   ]
  },
  {
   "cell_type": "code",
   "execution_count": null,
   "id": "c64fbca1",
   "metadata": {},
   "outputs": [],
   "source": []
  },
  {
   "cell_type": "code",
   "execution_count": null,
   "id": "a12b7668",
   "metadata": {},
   "outputs": [],
   "source": [
    "button.click()"
   ]
  },
  {
   "cell_type": "markdown",
   "id": "b7e6c52d",
   "metadata": {},
   "source": [
    "Next, we should select the stats professors. To do so, we need to access the dropdown menu. From the developer tools, we find that its coded as `div` element, so we cannot use the implemented `select` method to access the dropdown. \n",
    "\n",
    "First, we need to find which `div` actually opens the dropdown. "
   ]
  },
  {
   "cell_type": "code",
   "execution_count": null,
   "id": "6d1ee957",
   "metadata": {},
   "outputs": [],
   "source": [
    "driver.set_page_load_timeout(4) # four seconds should be enough"
   ]
  },
  {
   "cell_type": "code",
   "execution_count": null,
   "id": "2d1b3ccc",
   "metadata": {},
   "outputs": [],
   "source": [
    "driver.find_element(\"xpath\", '//div[@class=\" css-1l6bn5c-control\"]').click()"
   ]
  },
  {
   "cell_type": "code",
   "execution_count": null,
   "id": "f0746f73",
   "metadata": {},
   "outputs": [],
   "source": [
    "try:\n",
    "    driver.find_element(\"xpath\", '//div[@class=\" css-1l6bn5c-control\"]').click()\n",
    "except TimeoutException:\n",
    "    driver.execute_script(\"window.stop();\")"
   ]
  },
  {
   "cell_type": "markdown",
   "id": "b10f797b",
   "metadata": {},
   "source": [
    "Lets see how the html looks like in the dropdown menu. "
   ]
  },
  {
   "cell_type": "code",
   "execution_count": null,
   "id": "326fd118",
   "metadata": {},
   "outputs": [],
   "source": [
    "import lxml.html as lx\n",
    "from lxml import etree\n",
    "\n",
    "html = lx.fromstring(driver.page_source)"
   ]
  },
  {
   "cell_type": "code",
   "execution_count": null,
   "id": "4ae2bb30",
   "metadata": {},
   "outputs": [],
   "source": [
    "#driver.page_source"
   ]
  },
  {
   "cell_type": "code",
   "execution_count": null,
   "id": "c778ce98",
   "metadata": {},
   "outputs": [],
   "source": [
    "driver.page_source.find(\"Statistics\")"
   ]
  },
  {
   "cell_type": "code",
   "execution_count": null,
   "id": "9433d3cc",
   "metadata": {},
   "outputs": [],
   "source": [
    "html.xpath('//*[contains(text(),\"Statistics\")]')"
   ]
  },
  {
   "cell_type": "code",
   "execution_count": null,
   "id": "d772db04",
   "metadata": {},
   "outputs": [],
   "source": [
    "html.xpath('//*[contains(text(),\"Statistics\")]/text()')"
   ]
  },
  {
   "cell_type": "code",
   "execution_count": null,
   "id": "c888fa08",
   "metadata": {},
   "outputs": [],
   "source": [
    "html.xpath('//div[contains(text(),\"Statistics\")]/@*')"
   ]
  },
  {
   "cell_type": "code",
   "execution_count": null,
   "id": "30449fd0",
   "metadata": {},
   "outputs": [],
   "source": [
    "html.xpath('name(//div[contains(text(),\"Statistics\")]/@*[2])')"
   ]
  },
  {
   "cell_type": "code",
   "execution_count": null,
   "id": "1dd0ecf4",
   "metadata": {},
   "outputs": [],
   "source": [
    "dropdown = html.xpath('//div[@id=\"react-select-3-option-116\"]')[0]"
   ]
  },
  {
   "cell_type": "code",
   "execution_count": null,
   "id": "b42e12f5",
   "metadata": {},
   "outputs": [],
   "source": [
    "dropdown"
   ]
  },
  {
   "cell_type": "code",
   "execution_count": null,
   "id": "2cdcde67",
   "metadata": {
    "scrolled": true
   },
   "outputs": [],
   "source": [
    "print(BeautifulSoup(etree.tostring(dropdown),'lxml').prettify())"
   ]
  },
  {
   "cell_type": "markdown",
   "id": "8788bcde",
   "metadata": {},
   "source": [
    "We ought to select the element with `id=\"react-select-3-option-116\"`. "
   ]
  },
  {
   "cell_type": "code",
   "execution_count": null,
   "id": "b067a05a",
   "metadata": {},
   "outputs": [],
   "source": [
    "driver.find_element(\"xpath\", '//div[@id=\"react-select-3-option-116\"]').click()"
   ]
  },
  {
   "cell_type": "markdown",
   "id": "42743c6d",
   "metadata": {},
   "source": [
    "We learn that there are 102 professors in the Statistics department, but only 8 are shown. Further investigation shows that we might use the class attribute that contains `Pagination button`. "
   ]
  },
  {
   "cell_type": "code",
   "execution_count": null,
   "id": "b8113557",
   "metadata": {},
   "outputs": [],
   "source": [
    "'//*[@id=\"root\"]/div/div/div[3]/div/div[2]/div[2]/button'"
   ]
  },
  {
   "cell_type": "code",
   "execution_count": null,
   "id": "d2ccbc7f",
   "metadata": {},
   "outputs": [],
   "source": [
    "driver.find_element(\"xpath\", '//button[contains(@class, \"PaginationButton\")]').click()"
   ]
  },
  {
   "cell_type": "code",
   "execution_count": null,
   "id": "fc44104a",
   "metadata": {
    "scrolled": true
   },
   "outputs": [],
   "source": [
    "html = lx.fromstring(driver.page_source)\n",
    "html.xpath(\"//button[contains(@class, 'PaginationButton')]\")"
   ]
  },
  {
   "cell_type": "code",
   "execution_count": null,
   "id": "36d65471",
   "metadata": {},
   "outputs": [],
   "source": [
    "button=driver.find_element(\"xpath\", \"//button[contains(@class, 'PaginationButton')]\")\n",
    "button.click()"
   ]
  },
  {
   "cell_type": "code",
   "execution_count": null,
   "id": "fded9591",
   "metadata": {},
   "outputs": [],
   "source": [
    "import time"
   ]
  },
  {
   "cell_type": "code",
   "execution_count": null,
   "id": "bc5dbac2",
   "metadata": {},
   "outputs": [],
   "source": [
    "while True: \n",
    "    try: \n",
    "        time.sleep(4)\n",
    "        button=driver.find_element(\"xpath\", \"//button[contains(@class, 'PaginationButton')]\")\n",
    "        button.click()\n",
    "    except: \n",
    "        break"
   ]
  },
  {
   "cell_type": "code",
   "execution_count": null,
   "id": "cff1cc11",
   "metadata": {},
   "outputs": [],
   "source": [
    "html = lx.fromstring(driver.page_source)"
   ]
  },
  {
   "cell_type": "markdown",
   "id": "4025100e",
   "metadata": {},
   "source": [
    "We don't need the browser anymore. We can close it. "
   ]
  },
  {
   "cell_type": "code",
   "execution_count": null,
   "id": "37b124cf",
   "metadata": {},
   "outputs": [],
   "source": [
    "driver.quit()"
   ]
  },
  {
   "cell_type": "markdown",
   "id": "fcce54aa",
   "metadata": {},
   "source": [
    "Since we do not need visual confimation of what the browser does, we can run it in headless mode as well next time. "
   ]
  },
  {
   "cell_type": "code",
   "execution_count": null,
   "id": "31acc0f0",
   "metadata": {},
   "outputs": [],
   "source": [
    "#chrome_options.add_argument(\"--headless\")\n",
    "#browser = webdriver.Chrome('./chromedriver', options=chrome_options)"
   ]
  },
  {
   "cell_type": "markdown",
   "id": "9725297e",
   "metadata": {},
   "source": [
    "Lets retrieve name and link for now. Any further analysis can be performed similar to our previous case studies. "
   ]
  },
  {
   "cell_type": "code",
   "execution_count": null,
   "id": "5d8a8b99",
   "metadata": {
    "scrolled": true
   },
   "outputs": [],
   "source": [
    "links = html.xpath('//a[@class = \"TeacherCard__StyledTeacherCard-syjs0d-0 dLJIlx\"]/@href')\n",
    "links"
   ]
  },
  {
   "cell_type": "code",
   "execution_count": null,
   "id": "c9f1c183",
   "metadata": {
    "scrolled": true
   },
   "outputs": [],
   "source": [
    "names = html.xpath('//div[@class = \"CardName__StyledCardName-sc-1gyrgim-0 cJdVEK\"]')\n",
    "names = [name.text for name in names]\n",
    "names[0:10]"
   ]
  },
  {
   "cell_type": "code",
   "execution_count": null,
   "id": "39c2419f",
   "metadata": {},
   "outputs": [],
   "source": [
    "import pandas as pd\n",
    "\n",
    "df=pd.DataFrame({'name': names, 'link': links})\n",
    "df"
   ]
  },
  {
   "cell_type": "markdown",
   "id": "84ed85f3",
   "metadata": {},
   "source": [
    "So far so good. Next, we will see how these steps could have been achieved somewhat easier. "
   ]
  },
  {
   "cell_type": "markdown",
   "id": "72ed5598",
   "metadata": {},
   "source": [
    "We have seen that the html was rendered after some JS code has been executed. However, the information we retrieved must have been retrieved by querying some data base. To see which data base was queried using which script, we can use the performance tab in the developer tools. "
   ]
  },
  {
   "cell_type": "markdown",
   "id": "c14bae40",
   "metadata": {},
   "source": [
    "As it turns out, the information is fetched via *GraphQL*. GraphQL is an API as we have seen them before, but its not a REST API. Facebook developed it as an internal technology for their versatile applications, and later, publicly released it as open-source. Since then, the software development community has utilized it as one of the favourite technology stacks for developing web services.\n",
    "\n",
    "As a query language, GraphQL defines specifications of how a client application can request the needed data from a remote server. As a result, the server application returns a response to the requested client query. The exciting thing to notice here is that the client application can also query exactly what it needs, without relying on the server-side application to define a query. \n",
    "\n",
    "GraphQL has become fairly common. Its adavantage is that due to specific queries, it avoids some problems of REST APIs, namely \n",
    " - Multiple roundtrips with REST\n",
    " - Over-fetching and Under-fetching Problems with REST"
   ]
  },
  {
   "cell_type": "markdown",
   "id": "5a0bf840",
   "metadata": {},
   "source": [
    "Lets see how the GraphQL request is made. "
   ]
  },
  {
   "cell_type": "code",
   "execution_count": null,
   "id": "08301ea6",
   "metadata": {},
   "outputs": [],
   "source": [
    "import requests"
   ]
  },
  {
   "cell_type": "code",
   "execution_count": null,
   "id": "38225b93",
   "metadata": {},
   "outputs": [],
   "source": []
  },
  {
   "cell_type": "code",
   "execution_count": null,
   "id": "4c9e3dfa",
   "metadata": {},
   "outputs": [],
   "source": [
    "endpoint = 'https://www.ratemyprofessors.com/graphql'\n",
    "headers = {\n",
    "    \"Authorization\": \"Basic dGVzdDp0ZXN0\", \n",
    "}"
   ]
  },
  {
   "cell_type": "code",
   "execution_count": null,
   "id": "d57bfa56",
   "metadata": {},
   "outputs": [],
   "source": [
    "# first query\n",
    "data = {\n",
    "    \"query\":\"query TeacherSearchResultsPageQuery(\\n  $query: TeacherSearchQuery!\\n  $schoolID: ID\\n  $includeSchoolFilter: Boolean!\\n) {\\n  search: newSearch {\\n    ...TeacherSearchPagination_search_1ZLmLD\\n  }\\n  school: node(id: $schoolID) @include(if: $includeSchoolFilter) {\\n    __typename\\n    ... on School {\\n      name\\n      ...StickyHeaderContent_school\\n    }\\n    id\\n  }\\n}\\n\\nfragment TeacherSearchPagination_search_1ZLmLD on newSearch {\\n  teachers(query: $query, first: 8, after: \\\"\\\") {\\n    didFallback\\n    edges {\\n      cursor\\n      node {\\n        ...TeacherCard_teacher\\n        id\\n        __typename\\n      }\\n    }\\n    pageInfo {\\n      hasNextPage\\n      endCursor\\n    }\\n    resultCount\\n    filters {\\n      field\\n      options {\\n        value\\n        id\\n      }\\n    }\\n  }\\n}\\n\\nfragment StickyHeaderContent_school on School {\\n  name\\n  ...HeaderDescription_school\\n  ...HeaderRateButton_school\\n}\\n\\nfragment HeaderDescription_school on School {\\n  name\\n  city\\n  state\\n  legacyId\\n  ...RateSchoolLink_school\\n  ...CompareSchoolLink_school\\n}\\n\\nfragment HeaderRateButton_school on School {\\n  ...RateSchoolLink_school\\n  ...CompareSchoolLink_school\\n}\\n\\nfragment RateSchoolLink_school on School {\\n  legacyId\\n}\\n\\nfragment CompareSchoolLink_school on School {\\n  legacyId\\n}\\n\\nfragment TeacherCard_teacher on Teacher {\\n  id\\n  legacyId\\n  avgRating\\n  numRatings\\n  ...CardFeedback_teacher\\n  ...CardSchool_teacher\\n  ...CardName_teacher\\n  ...TeacherBookmark_teacher\\n}\\n\\nfragment CardFeedback_teacher on Teacher {\\n  wouldTakeAgainPercent\\n  avgDifficulty\\n}\\n\\nfragment CardSchool_teacher on Teacher {\\n  department\\n  school {\\n    name\\n    id\\n  }\\n}\\n\\nfragment CardName_teacher on Teacher {\\n  firstName\\n  lastName\\n}\\n\\nfragment TeacherBookmark_teacher on Teacher {\\n  id\\n  isSaved\\n}\\n\",\n",
    "    \"variables\":{\n",
    "        'includeSchoolFilter': True, \n",
    "        \"query\":{\n",
    "            \"text\":\"\",\n",
    "            \"schoolID\":\"U2Nob29sLTEwNzM=\",\n",
    "            \"fallback\":True,\n",
    "            \"departmentID\":\"RGVwYXJ0bWVudC0xNDA=\", \n",
    "        },\n",
    "        \"schoolID\":\"U2Nob29sLTEwNzM=\"\n",
    "    }\n",
    "} "
   ]
  },
  {
   "cell_type": "code",
   "execution_count": null,
   "id": "e22a6e89",
   "metadata": {
    "scrolled": true
   },
   "outputs": [],
   "source": [
    "response = requests.post(endpoint, headers = headers, json=data)\n",
    "response.raise_for_status()\n",
    "result = response.json()\n",
    "result"
   ]
  },
  {
   "cell_type": "code",
   "execution_count": null,
   "id": "3ef97dd8",
   "metadata": {},
   "outputs": [],
   "source": [
    "def fetch_info(dic): \n",
    "    name = dic['node']['firstName'] + \" \" + dic['node']['lastName']\n",
    "    lid = \"/professor?tid=\" + str(dic['node']['legacyId'])\n",
    "    return name, lid\n",
    "    \n",
    "prof_list = result['data']['search']['teachers']['edges']\n",
    "    \n",
    "[fetch_info(prof) for prof in prof_list]"
   ]
  },
  {
   "cell_type": "markdown",
   "id": "f2110676",
   "metadata": {},
   "source": [
    "Using developer tools, we find the the subsequent requests can be done using a different data layout. Watch out, the `query` value has changed! "
   ]
  },
  {
   "cell_type": "code",
   "execution_count": null,
   "id": "dc342b5a",
   "metadata": {},
   "outputs": [],
   "source": [
    "cursor = result['data']['search']['teachers']['pageInfo']['endCursor']\n",
    "cursor"
   ]
  },
  {
   "cell_type": "code",
   "execution_count": null,
   "id": "56999b4e",
   "metadata": {},
   "outputs": [],
   "source": [
    "\n",
    "data = {\n",
    "        \"query\":\"query TeacherSearchPaginationQuery(\\n  $count: Int!\\n  $cursor: String\\n  $query: TeacherSearchQuery!\\n) {\\n  search: newSearch {\\n    ...TeacherSearchPagination_search_1jWD3d\\n  }\\n}\\n\\nfragment TeacherSearchPagination_search_1jWD3d on newSearch {\\n  teachers(query: $query, first: $count, after: $cursor) {\\n    didFallback\\n    edges {\\n      cursor\\n      node {\\n        ...TeacherCard_teacher\\n        id\\n        __typename\\n      }\\n    }\\n    pageInfo {\\n      hasNextPage\\n      endCursor\\n    }\\n    resultCount\\n    filters {\\n      field\\n      options {\\n        value\\n        id\\n      }\\n    }\\n  }\\n}\\n\\nfragment TeacherCard_teacher on Teacher {\\n  id\\n  legacyId\\n  avgRating\\n  numRatings\\n  ...CardFeedback_teacher\\n  ...CardSchool_teacher\\n  ...CardName_teacher\\n  ...TeacherBookmark_teacher\\n}\\n\\nfragment CardFeedback_teacher on Teacher {\\n  wouldTakeAgainPercent\\n  avgDifficulty\\n}\\n\\nfragment CardSchool_teacher on Teacher {\\n  department\\n  school {\\n    name\\n    id\\n  }\\n}\\n\\nfragment CardName_teacher on Teacher {\\n  firstName\\n  lastName\\n}\\n\\nfragment TeacherBookmark_teacher on Teacher {\\n  id\\n  isSaved\\n}\\n\",\n",
    "        \"variables\":{\n",
    "            \"count\": 999,\n",
    "            \"query\":{\n",
    "                \"text\":\"\",\n",
    "                \"schoolID\":\"U2Nob29sLTEwNzM=\",\n",
    "                \"fallback\":True,\n",
    "                \"departmentID\":\"RGVwYXJ0bWVudC0xNDA=\", \n",
    "            }\n",
    "        }\n",
    "    }"
   ]
  },
  {
   "cell_type": "code",
   "execution_count": null,
   "id": "228e1247",
   "metadata": {},
   "outputs": [],
   "source": [
    "data = {\n",
    "    \"query\":\"query TeacherSearchResultsPageQuery(\\n  $query: TeacherSearchQuery!\\n  $schoolID: ID\\n  $includeSchoolFilter: Boolean!\\n) {\\n  search: newSearch {\\n    ...TeacherSearchPagination_search_1ZLmLD\\n  }\\n  school: node(id: $schoolID) @include(if: $includeSchoolFilter) {\\n    __typename\\n    ... on School {\\n      name\\n      ...StickyHeaderContent_school\\n    }\\n    id\\n  }\\n}\\n\\nfragment TeacherSearchPagination_search_1ZLmLD on newSearch {\\n  teachers(query: $query, first: 8, after: \\\"\\\") {\\n    didFallback\\n    edges {\\n      cursor\\n      node {\\n        ...TeacherCard_teacher\\n        id\\n        __typename\\n      }\\n    }\\n    pageInfo {\\n      hasNextPage\\n      endCursor\\n    }\\n    resultCount\\n    filters {\\n      field\\n      options {\\n        value\\n        id\\n      }\\n    }\\n  }\\n}\\n\\nfragment StickyHeaderContent_school on School {\\n  name\\n  ...HeaderDescription_school\\n  ...HeaderRateButton_school\\n}\\n\\nfragment HeaderDescription_school on School {\\n  name\\n  city\\n  state\\n  legacyId\\n  ...RateSchoolLink_school\\n  ...CompareSchoolLink_school\\n}\\n\\nfragment HeaderRateButton_school on School {\\n  ...RateSchoolLink_school\\n  ...CompareSchoolLink_school\\n}\\n\\nfragment RateSchoolLink_school on School {\\n  legacyId\\n}\\n\\nfragment CompareSchoolLink_school on School {\\n  legacyId\\n}\\n\\nfragment TeacherCard_teacher on Teacher {\\n  id\\n  legacyId\\n  avgRating\\n  numRatings\\n  ...CardFeedback_teacher\\n  ...CardSchool_teacher\\n  ...CardName_teacher\\n  ...TeacherBookmark_teacher\\n}\\n\\nfragment CardFeedback_teacher on Teacher {\\n  wouldTakeAgainPercent\\n  avgDifficulty\\n}\\n\\nfragment CardSchool_teacher on Teacher {\\n  department\\n  school {\\n    name\\n    id\\n  }\\n}\\n\\nfragment CardName_teacher on Teacher {\\n  firstName\\n  lastName\\n}\\n\\nfragment TeacherBookmark_teacher on Teacher {\\n  id\\n  isSaved\\n}\\n\",\n",
    "    \"variables\":{\n",
    "        'includeSchoolFilter': True, \n",
    "        \"count\": 999,\n",
    "        \"query\":{\n",
    "            \"text\":\"\",\n",
    "            \"schoolID\":\"U2Nob29sLTEwNzM=\",\n",
    "            \"fallback\":True,\n",
    "            \"departmentID\":\"RGVwYXJ0bWVudC0xNDA=\", \n",
    "        },\n",
    "        \"schoolID\":\"U2Nob29sLTEwNzM=\"\n",
    "    }\n",
    "} "
   ]
  },
  {
   "cell_type": "code",
   "execution_count": null,
   "id": "daced159",
   "metadata": {
    "scrolled": true
   },
   "outputs": [],
   "source": [
    "print('\"query TeacherSearchPaginationQuery(\\n  $count: Int!\\n  $cursor: String\\n  $query: TeacherSearchQuery!\\n) {\\n  search: newSearch {\\n    ...TeacherSearchPagination_search_1jWD3d\\n  }\\n}\\n\\nfragment TeacherSearchPagination_search_1jWD3d on newSearch {\\n  teachers(query: $query, first: $count, after: $cursor) {\\n    didFallback\\n    edges {\\n      cursor\\n      node {\\n        ...TeacherCard_teacher\\n        id\\n        __typename\\n      }\\n    }\\n    pageInfo {\\n      hasNextPage\\n      endCursor\\n    }\\n    resultCount\\n    filters {\\n      field\\n      options {\\n        value\\n        id\\n      }\\n    }\\n  }\\n}\\n\\nfragment TeacherCard_teacher on Teacher {\\n  id\\n  legacyId\\n  avgRating\\n  numRatings\\n  ...CardFeedback_teacher\\n  ...CardSchool_teacher\\n  ...CardName_teacher\\n  ...TeacherBookmark_teacher\\n}\\n\\nfragment CardFeedback_teacher on Teacher {\\n  wouldTakeAgainPercent\\n  avgDifficulty\\n}\\n\\nfragment CardSchool_teacher on Teacher {\\n  department\\n  school {\\n    name\\n    id\\n  }\\n}\\n\\nfragment CardName_teacher on Teacher {\\n  firstName\\n  lastName\\n}\\n\\nfragment TeacherBookmark_teacher on Teacher {\\n  id\\n  isSaved\\n}\\n\"')"
   ]
  },
  {
   "cell_type": "code",
   "execution_count": null,
   "id": "fb2eb49c",
   "metadata": {
    "scrolled": false
   },
   "outputs": [],
   "source": [
    "print('query TeacherSearchResultsPageQuery(\\n  $query: TeacherSearchQuery!\\n  $schoolID: ID\\n  $includeSchoolFilter: Boolean!\\n) {\\n  search: newSearch {\\n    ...TeacherSearchPagination_search_1ZLmLD\\n  }\\n  school: node(id: $schoolID) @include(if: $includeSchoolFilter) {\\n    __typename\\n    ... on School {\\n      name\\n      ...StickyHeaderContent_school\\n    }\\n    id\\n  }\\n}\\n\\nfragment TeacherSearchPagination_search_1ZLmLD on newSearch {\\n  teachers(query: $query, first: 8, after: \\\"\\\") {\\n    didFallback\\n    edges {\\n      cursor\\n      node {\\n        ...TeacherCard_teacher\\n        id\\n        __typename\\n      }\\n    }\\n    pageInfo {\\n      hasNextPage\\n      endCursor\\n    }\\n    resultCount\\n    filters {\\n      field\\n      options {\\n        value\\n        id\\n      }\\n    }\\n  }\\n}\\n\\nfragment StickyHeaderContent_school on School {\\n  name\\n  ...HeaderDescription_school\\n  ...HeaderRateButton_school\\n}\\n\\nfragment HeaderDescription_school on School {\\n  name\\n  city\\n  state\\n  legacyId\\n  ...RateSchoolLink_school\\n  ...CompareSchoolLink_school\\n}\\n\\nfragment HeaderRateButton_school on School {\\n  ...RateSchoolLink_school\\n  ...CompareSchoolLink_school\\n}\\n\\nfragment RateSchoolLink_school on School {\\n  legacyId\\n}\\n\\nfragment CompareSchoolLink_school on School {\\n  legacyId\\n}\\n\\nfragment TeacherCard_teacher on Teacher {\\n  id\\n  legacyId\\n  avgRating\\n  numRatings\\n  ...CardFeedback_teacher\\n  ...CardSchool_teacher\\n  ...CardName_teacher\\n  ...TeacherBookmark_teacher\\n}\\n\\nfragment CardFeedback_teacher on Teacher {\\n  wouldTakeAgainPercent\\n  avgDifficulty\\n}\\n\\nfragment CardSchool_teacher on Teacher {\\n  department\\n  school {\\n    name\\n    id\\n  }\\n}\\n\\nfragment CardName_teacher on Teacher {\\n  firstName\\n  lastName\\n}\\n\\nfragment TeacherBookmark_teacher on Teacher {\\n  id\\n  isSaved\\n}\\n')"
   ]
  },
  {
   "cell_type": "code",
   "execution_count": null,
   "id": "b861866f",
   "metadata": {},
   "outputs": [],
   "source": []
  },
  {
   "cell_type": "code",
   "execution_count": null,
   "id": "a44e654b",
   "metadata": {},
   "outputs": [],
   "source": []
  },
  {
   "cell_type": "code",
   "execution_count": null,
   "id": "c96946f3",
   "metadata": {},
   "outputs": [],
   "source": [
    "response = requests.post(endpoint, headers = headers, json=data)\n",
    "response.raise_for_status()\n",
    "result = response.json()"
   ]
  },
  {
   "cell_type": "code",
   "execution_count": null,
   "id": "2119a212",
   "metadata": {},
   "outputs": [],
   "source": [
    "len(result['data']['search']['teachers']['edges'])"
   ]
  },
  {
   "cell_type": "code",
   "execution_count": null,
   "id": "71240439",
   "metadata": {},
   "outputs": [],
   "source": [
    "result['data']['search']['teachers']['edges'][0]"
   ]
  },
  {
   "cell_type": "code",
   "execution_count": null,
   "id": "77aa13f9",
   "metadata": {},
   "outputs": [],
   "source": []
  },
  {
   "cell_type": "code",
   "execution_count": null,
   "id": "5ce5d7a5",
   "metadata": {},
   "outputs": [],
   "source": []
  },
  {
   "cell_type": "code",
   "execution_count": null,
   "id": "3e0a961b",
   "metadata": {},
   "outputs": [],
   "source": []
  },
  {
   "cell_type": "code",
   "execution_count": null,
   "id": "d0fe8067",
   "metadata": {},
   "outputs": [],
   "source": [
    "def new_data(cursor):\n",
    "    data = {\n",
    "        \"query\":\"query TeacherSearchPaginationQuery(\\n  $count: Int!\\n  $cursor: String\\n  $query: TeacherSearchQuery!\\n) {\\n  search: newSearch {\\n    ...TeacherSearchPagination_search_1jWD3d\\n  }\\n}\\n\\nfragment TeacherSearchPagination_search_1jWD3d on newSearch {\\n  teachers(query: $query, first: $count, after: $cursor) {\\n    didFallback\\n    edges {\\n      cursor\\n      node {\\n        ...TeacherCard_teacher\\n        id\\n        __typename\\n      }\\n    }\\n    pageInfo {\\n      hasNextPage\\n      endCursor\\n    }\\n    resultCount\\n    filters {\\n      field\\n      options {\\n        value\\n        id\\n      }\\n    }\\n  }\\n}\\n\\nfragment TeacherCard_teacher on Teacher {\\n  id\\n  legacyId\\n  avgRating\\n  numRatings\\n  ...CardFeedback_teacher\\n  ...CardSchool_teacher\\n  ...CardName_teacher\\n  ...TeacherBookmark_teacher\\n}\\n\\nfragment CardFeedback_teacher on Teacher {\\n  wouldTakeAgainPercent\\n  avgDifficulty\\n}\\n\\nfragment CardSchool_teacher on Teacher {\\n  department\\n  school {\\n    name\\n    id\\n  }\\n}\\n\\nfragment CardName_teacher on Teacher {\\n  firstName\\n  lastName\\n}\\n\\nfragment TeacherBookmark_teacher on Teacher {\\n  id\\n  isSaved\\n}\\n\",\n",
    "        \"variables\":{\n",
    "            \"count\": 106,\n",
    "            \"cursor\": cursor, \n",
    "            \"query\":{\n",
    "                \"text\":\"\",\n",
    "                \"schoolID\":\"U2Nob29sLTEwNzM=\",\n",
    "                \"fallback\":True,\n",
    "                \"departmentID\":\"RGVwYXJ0bWVudC0xNDA=\", \n",
    "            }\n",
    "        }\n",
    "    } \n",
    "    return data\n",
    "data = new_data(cursor)"
   ]
  },
  {
   "cell_type": "code",
   "execution_count": null,
   "id": "bb051940",
   "metadata": {},
   "outputs": [],
   "source": [
    "response = requests.post(endpoint, headers = headers, json=data)\n",
    "response.raise_for_status()\n",
    "result = response.json()\n",
    "result"
   ]
  },
  {
   "cell_type": "code",
   "execution_count": null,
   "id": "5b427596",
   "metadata": {},
   "outputs": [],
   "source": [
    "prof_list = result['data']['search']['teachers']['edges']\n",
    "[fetch_info(prof) for prof in prof_list]"
   ]
  },
  {
   "cell_type": "code",
   "execution_count": null,
   "id": "6eeac581",
   "metadata": {},
   "outputs": [],
   "source": [
    "cursor = result['data']['search']['teachers']['pageInfo']['endCursor']\n",
    "cursor"
   ]
  },
  {
   "cell_type": "code",
   "execution_count": null,
   "id": "f85d08bc",
   "metadata": {},
   "outputs": [],
   "source": [
    "flag = result['data']['search']['teachers']['pageInfo']['hasNextPage']\n",
    "flag"
   ]
  },
  {
   "cell_type": "markdown",
   "id": "64254969",
   "metadata": {},
   "source": [
    "Lets formalize this. "
   ]
  },
  {
   "cell_type": "code",
   "execution_count": null,
   "id": "79b00bb6",
   "metadata": {},
   "outputs": [],
   "source": [
    "def fetch_profs(): \n",
    "    endpoint = 'https://www.ratemyprofessors.com/graphql'\n",
    "    headers = {\n",
    "        \"Authorization\": \"Basic dGVzdDp0ZXN0\", \n",
    "    }\n",
    "    \n",
    "    # first query\n",
    "    data = {\n",
    "        \"query\":\"query TeacherSearchResultsPageQuery(\\n  $query: TeacherSearchQuery!\\n  $schoolID: ID\\n) {\\n  search: newSearch {\\n    ...TeacherSearchPagination_search_1ZLmLD\\n  }\\n  school: node(id: $schoolID) {\\n    __typename\\n    ... on School {\\n      name\\n    }\\n    id\\n  }\\n}\\n\\nfragment TeacherSearchPagination_search_1ZLmLD on newSearch {\\n  teachers(query: $query, first: 8, after: \\\"\\\") {\\n    didFallback\\n    edges {\\n      cursor\\n      node {\\n        ...TeacherCard_teacher\\n        id\\n        __typename\\n      }\\n    }\\n    pageInfo {\\n      hasNextPage\\n      endCursor\\n    }\\n    resultCount\\n    filters {\\n      field\\n      options {\\n        value\\n        id\\n      }\\n    }\\n  }\\n}\\n\\nfragment TeacherCard_teacher on Teacher {\\n  id\\n  legacyId\\n  avgRating\\n  numRatings\\n  ...CardFeedback_teacher\\n  ...CardSchool_teacher\\n  ...CardName_teacher\\n  ...TeacherBookmark_teacher\\n}\\n\\nfragment CardFeedback_teacher on Teacher {\\n  wouldTakeAgainPercent\\n  avgDifficulty\\n}\\n\\nfragment CardSchool_teacher on Teacher {\\n  department\\n  school {\\n    name\\n    id\\n  }\\n}\\n\\nfragment CardName_teacher on Teacher {\\n  firstName\\n  lastName\\n}\\n\\nfragment TeacherBookmark_teacher on Teacher {\\n  id\\n  isSaved\\n}\\n\",\n",
    "        \"variables\":{\n",
    "            \"query\":{\n",
    "                \"text\":\"\",\n",
    "                \"schoolID\":\"U2Nob29sLTEwNzM=\",\n",
    "                \"fallback\":True,\n",
    "                \"departmentID\":\"RGVwYXJ0bWVudC0xNDA=\", \n",
    "            },\n",
    "            \"schoolID\":\"U2Nob29sLTEwNzM=\"\n",
    "        }\n",
    "    } \n",
    "    \n",
    "    response = requests.post(endpoint, headers = headers, json=data)\n",
    "    result = response.json()\n",
    "    \n",
    "    prof_list = result['data']['search']['teachers']['edges']\n",
    "    df = [fetch_info(prof) for prof in prof_list]\n",
    "    \n",
    "    cursor = result['data']['search']['teachers']['pageInfo']['endCursor']\n",
    "    \n",
    "    flag = True\n",
    "    while flag: \n",
    "        data = new_data(cursor)\n",
    "        response = requests.post(endpoint, headers = headers, json=data)\n",
    "        result = response.json()\n",
    "            \n",
    "        prof_list = result['data']['search']['teachers']['edges']\n",
    "        df.extend([fetch_info(prof) for prof in prof_list])\n",
    "        cursor = result['data']['search']['teachers']['pageInfo']['endCursor']\n",
    "\n",
    "        flag = result['data']['search']['teachers']['pageInfo']['hasNextPage']\n",
    "        \n",
    "    return df"
   ]
  },
  {
   "cell_type": "code",
   "execution_count": null,
   "id": "4331d73f",
   "metadata": {},
   "outputs": [],
   "source": [
    "df = fetch_profs()"
   ]
  },
  {
   "cell_type": "code",
   "execution_count": null,
   "id": "be49c9be",
   "metadata": {},
   "outputs": [],
   "source": [
    "pd.DataFrame(df)"
   ]
  },
  {
   "cell_type": "markdown",
   "id": "0fe44f44",
   "metadata": {},
   "source": [
    "### Summary \n",
    "\n",
    "- `Selenium` is very useful to remote-control a browser\n",
    "- Internally, information is usually handled via APIs anyway"
   ]
  }
 ],
 "metadata": {
  "kernelspec": {
   "display_name": "Python 3 (ipykernel)",
   "language": "python",
   "name": "python3"
  },
  "language_info": {
   "codemirror_mode": {
    "name": "ipython",
    "version": 3
   },
   "file_extension": ".py",
   "mimetype": "text/x-python",
   "name": "python",
   "nbconvert_exporter": "python",
   "pygments_lexer": "ipython3",
   "version": "3.9.12"
  },
  "vscode": {
   "interpreter": {
    "hash": "b2b12ec50b0a525a62abe739e766b0c808eccd181e3f804cedbbca00f4d5b392"
   }
  }
 },
 "nbformat": 4,
 "nbformat_minor": 5
}
