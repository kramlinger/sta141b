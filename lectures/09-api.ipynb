{
 "cells": [
  {
   "cell_type": "markdown",
   "id": "62f8ef9f",
   "metadata": {
    "slideshow": {
     "slide_type": "slide"
    }
   },
   "source": [
    "# STA 141B Data & Web Technologies for Data Analysis\n",
    "\n",
    "\n",
    "### Lecture 9, 2/6/25, APIs\n"
   ]
  },
  {
   "cell_type": "markdown",
   "id": "f610c425",
   "metadata": {
    "slideshow": {
     "slide_type": "slide"
    }
   },
   "source": [
    "### Today's topics\n",
    "\n",
    "- Undocumented APIs\n",
    "\n",
    "### Ressources\n",
    " - [Yolo County Health Inspections](https://yoloeco.envisionconnect.com/)"
   ]
  },
  {
   "cell_type": "markdown",
   "id": "49517520",
   "metadata": {},
   "source": [
    "### Recap: HTTP\n",
    "\n",
    "A response to an HTTP request always includes a status code that summarizes whether the request was successful. Wikipedia has a full [list of HTTP status codes](https://en.wikipedia.org/wiki/List_of_HTTP_status_codes). Generally,\n",
    "\n",
    "* 200-299: Your request succeeded.\n",
    "* 300-399: You need to take further action to complete the request.\n",
    "* 400-499: Your request wasn't valid (you made a mistake). You've probably seen 404 before!\n",
    "* 500-599: Your request failed (the server made a mistake)."
   ]
  },
  {
   "cell_type": "code",
   "execution_count": null,
   "id": "7d3b25e9",
   "metadata": {},
   "outputs": [],
   "source": [
    "import requests"
   ]
  },
  {
   "cell_type": "markdown",
   "id": "18a05de7",
   "metadata": {},
   "source": [
    "### Undocumented Web APIs\n",
    "\n",
    "Many websites use undocumented web APIs to get data. For example:\n",
    "\n",
    " - [University of California Compensation](https://ucannualwage.ucop.edu/wage/)\n",
    " - [Yolo County Health Inspections](https://yoloeco.envisionconnect.com/)\n",
    "\n",
    "You can identify these websites by looking at requests in your browser's developer tools. For Firefox and Chrome these can be accessed (Windows: <kbd>Ctrl</kbd> + <kbd>i</kbd>; MacOS: <kbd>&#8984;</kbd> + <kbd>&#8997;</kbd> + <kbd>i</kbd>).\n",
    "\n",
    "Requests to web APIs almost always return JSON or XML data. By examining the browser requests, you can work out the endpoints and parameters, allowing you to use the API.\n",
    "\n",
    "**CAUTION:** Web APIs that are undocumented are often undocumented for a reason. Using an undocumented API may make someone angry or get you into legal trouble! Government and quasi-government websites (like the examples above) are probably okay, as long as you cache and rate-limit your requests. For everything else, find for an alternative or get permission first."
   ]
  },
  {
   "cell_type": "markdown",
   "id": "649a7eb3",
   "metadata": {},
   "source": [
    "Let's reverse engineer the Yolo County Health Inspections web API so that we can get data about local restaurants."
   ]
  },
  {
   "cell_type": "code",
   "execution_count": null,
   "id": "3e374bf2",
   "metadata": {},
   "outputs": [],
   "source": [
    "import numpy as np\n",
    "import pandas as pd\n",
    "import requests"
   ]
  },
  {
   "cell_type": "code",
   "execution_count": null,
   "id": "560041fe",
   "metadata": {},
   "outputs": [],
   "source": [
    "url = 'https://yoloeco.envisionconnect.com/api/pressAgentClient/searchFacilities'"
   ]
  },
  {
   "cell_type": "code",
   "execution_count": null,
   "id": "f9aa9570",
   "metadata": {},
   "outputs": [],
   "source": [
    "result = requests.post(url, \n",
    "                       data = {\n",
    "    'FacilityName': \"Ali Baba\"\n",
    "})"
   ]
  },
  {
   "cell_type": "code",
   "execution_count": null,
   "id": "118a6b32",
   "metadata": {},
   "outputs": [],
   "source": [
    "result.text"
   ]
  },
  {
   "cell_type": "markdown",
   "id": "c91140d8",
   "metadata": {},
   "source": [
    "Check the [docs](https://requests.readthedocs.io/en/latest/api/?highlight=post#requests.post) for `requests`!"
   ]
  },
  {
   "cell_type": "code",
   "execution_count": null,
   "id": "8ce620a8",
   "metadata": {},
   "outputs": [],
   "source": [
    "result.url"
   ]
  },
  {
   "cell_type": "code",
   "execution_count": null,
   "id": "55aa923c",
   "metadata": {},
   "outputs": [],
   "source": [
    "result.json()"
   ]
  },
  {
   "cell_type": "markdown",
   "id": "4c0e872f",
   "metadata": {},
   "source": [
    "Lets investigate this further. The second request uses the `FacilityID` as parameter. "
   ]
  },
  {
   "cell_type": "code",
   "execution_count": null,
   "id": "4853a0b9",
   "metadata": {},
   "outputs": [],
   "source": [
    "url = 'https://yoloeco.envisionconnect.com/api/pressAgentClient/programs'\n",
    "result = requests.get(url, params = {\n",
    "    'FacilityId': 'FA0001973', \n",
    "    'PressAgentOid': 'c08cb189-894c-4c8c-b595-a5ef010226b4'\n",
    "})\n",
    "result.raise_for_status()\n",
    "result.json()"
   ]
  },
  {
   "cell_type": "code",
   "execution_count": null,
   "id": "eb458b00",
   "metadata": {},
   "outputs": [],
   "source": [
    "result.url"
   ]
  },
  {
   "cell_type": "markdown",
   "id": "07e961d1",
   "metadata": {},
   "source": [
    "We are interested in the inspections text, for which we have to provide the `ProgramID` parameter. "
   ]
  },
  {
   "cell_type": "code",
   "execution_count": null,
   "id": "16d6be46",
   "metadata": {},
   "outputs": [],
   "source": [
    "url = 'https://yoloeco.envisionconnect.com/api/pressAgentClient/inspections'"
   ]
  },
  {
   "cell_type": "code",
   "execution_count": null,
   "id": "653ba3ff",
   "metadata": {},
   "outputs": [],
   "source": [
    "result = requests.get(url, params = {\n",
    "    'PressAgentOid': 'c08cb189-894c-4c8c-b595-a5ef010226b4', \n",
    "    'ProgramId': 'PR0000674'\n",
    "})\n",
    "result.raise_for_status()"
   ]
  },
  {
   "cell_type": "code",
   "execution_count": null,
   "id": "a5ad5757",
   "metadata": {},
   "outputs": [],
   "source": [
    "results = result.json()\n",
    "results"
   ]
  },
  {
   "cell_type": "code",
   "execution_count": null,
   "id": "0c0c97d4",
   "metadata": {},
   "outputs": [],
   "source": [
    "results_df = pd.DataFrame(results)\n",
    "results_df"
   ]
  },
  {
   "cell_type": "code",
   "execution_count": null,
   "id": "49164ff7",
   "metadata": {
    "scrolled": true
   },
   "outputs": [],
   "source": [
    "results_df['violations'][1]"
   ]
  },
  {
   "cell_type": "code",
   "execution_count": null,
   "id": "dc05da94",
   "metadata": {},
   "outputs": [],
   "source": [
    "results_df['violations'][1][0]['v_memo']"
   ]
  },
  {
   "cell_type": "code",
   "execution_count": null,
   "id": "73e84eec",
   "metadata": {},
   "outputs": [],
   "source": [
    "len(results_df['violations'][1])"
   ]
  },
  {
   "cell_type": "code",
   "execution_count": null,
   "id": "c18d5d52",
   "metadata": {},
   "outputs": [],
   "source": [
    "violations = [\n",
    "    results_df['violations'][1][i]['violation_description'] for i in range(len(results_df['violations'][1]))\n",
    "]\n",
    "violations"
   ]
  },
  {
   "cell_type": "code",
   "execution_count": null,
   "id": "5fda7ccf",
   "metadata": {},
   "outputs": [],
   "source": [
    "{'Ali Baba': violations}"
   ]
  },
  {
   "cell_type": "markdown",
   "id": "0c414596",
   "metadata": {},
   "source": [
    "How can we generalize this procedure? "
   ]
  },
  {
   "cell_type": "code",
   "execution_count": null,
   "id": "6494f780",
   "metadata": {},
   "outputs": [],
   "source": [
    "url = 'https://yoloeco.envisionconnect.com/api/pressAgentClient/searchFacilities'"
   ]
  },
  {
   "cell_type": "code",
   "execution_count": null,
   "id": "7e3b3300",
   "metadata": {},
   "outputs": [],
   "source": [
    "result=requests.post(url, params  = {\n",
    "    \"PressAgentOid\": \"c08cb189-894c-4c8c-b595-a5ef010226b4\"\n",
    "}, \n",
    "                     data = {\n",
    "    \"FacilityName\": \"Ali Baba\", \n",
    "})\n",
    "result.raise_for_status()"
   ]
  },
  {
   "cell_type": "code",
   "execution_count": null,
   "id": "84f0ceb0",
   "metadata": {},
   "outputs": [],
   "source": [
    "result.json()"
   ]
  },
  {
   "cell_type": "code",
   "execution_count": null,
   "id": "42a3ed85",
   "metadata": {
    "scrolled": true
   },
   "outputs": [],
   "source": [
    "result=requests.post(url, params  = {\n",
    "    \"PressAgentOid\": \"c08cb189-894c-4c8c-b595-a5ef010226b4\"}, \n",
    "              data = {\n",
    "    \"FacilityName\": \"a\", \n",
    "})\n",
    "result.json()"
   ]
  },
  {
   "cell_type": "code",
   "execution_count": null,
   "id": "3a5f5861",
   "metadata": {
    "scrolled": true
   },
   "outputs": [],
   "source": [
    "pd.DataFrame(result.json())"
   ]
  },
  {
   "cell_type": "markdown",
   "id": "96282efb",
   "metadata": {},
   "source": [
    "Lets write a pipeline. "
   ]
  },
  {
   "cell_type": "code",
   "execution_count": null,
   "id": "3e323f33",
   "metadata": {},
   "outputs": [],
   "source": [
    "def fetch_violations(ProgramId):\n",
    "    result = requests.get('https://yoloeco.envisionconnect.com/api/pressAgentClient/inspections', \n",
    "                          params = {\n",
    "        'PressAgentOid': 'c08cb189-894c-4c8c-b595-a5ef010226b4', \n",
    "        'ProgramId': ProgramId\n",
    "    })\n",
    "    result.raise_for_status()\n",
    "    results = result.json()\n",
    "    results_df = pd.DataFrame(results)\n",
    "    violations = [\n",
    "        results_df['violations'][0][i]['violation_description'] for i in range(len(results_df['violations'][0]))\n",
    "    ]\n",
    "    return(violations)"
   ]
  },
  {
   "cell_type": "code",
   "execution_count": null,
   "id": "24243a10",
   "metadata": {},
   "outputs": [],
   "source": [
    "fetch_violations('PR0000623') # for in-n-out"
   ]
  },
  {
   "cell_type": "code",
   "execution_count": null,
   "id": "5e4999d6",
   "metadata": {},
   "outputs": [],
   "source": [
    "result = requests.get('https://yoloeco.envisionconnect.com/api/pressAgentClient/inspections', \n",
    "                          params = {\n",
    "        'PressAgentOid': 'c08cb189-894c-4c8c-b595-a5ef010226b4', \n",
    "        'ProgramId': 'PR0000623'\n",
    "    })"
   ]
  },
  {
   "cell_type": "code",
   "execution_count": null,
   "id": "a72109a9",
   "metadata": {},
   "outputs": [],
   "source": [
    "results = result.json()\n",
    "results_df = pd.DataFrame(results)"
   ]
  },
  {
   "cell_type": "code",
   "execution_count": null,
   "id": "84348b58",
   "metadata": {},
   "outputs": [],
   "source": [
    "results_df"
   ]
  },
  {
   "cell_type": "code",
   "execution_count": null,
   "id": "6e229486",
   "metadata": {},
   "outputs": [],
   "source": [
    "result = requests.get('https://yoloeco.envisionconnect.com/api/pressAgentClient/inspections', \n",
    "                          params = {\n",
    "        'PressAgentOid': 'c08cb189-894c-4c8c-b595-a5ef010226b4', \n",
    "        'ProgramId': 'PR0024103'\n",
    "    })"
   ]
  },
  {
   "cell_type": "code",
   "execution_count": null,
   "id": "db0bbad4",
   "metadata": {
    "scrolled": true
   },
   "outputs": [],
   "source": [
    "result.text"
   ]
  },
  {
   "cell_type": "code",
   "execution_count": null,
   "id": "7621dbe4",
   "metadata": {},
   "outputs": [],
   "source": [
    "def fetch_ProgramId(FacilityID):\n",
    "    result = requests.get('https://yoloeco.envisionconnect.com/api/pressAgentClient/programs', \n",
    "                          params = {\n",
    "        'PressAgentOid': 'c08cb189-894c-4c8c-b595-a5ef010226b4', \n",
    "        'FacilityID': FacilityID\n",
    "    })\n",
    "    result.raise_for_status()\n",
    "    ProgramId = result.json()[0]['ProgramId']\n",
    "    return(ProgramId)"
   ]
  },
  {
   "cell_type": "code",
   "execution_count": null,
   "id": "bd215ad3",
   "metadata": {},
   "outputs": [],
   "source": [
    "fetch_ProgramId('FA0001345')"
   ]
  },
  {
   "cell_type": "code",
   "execution_count": null,
   "id": "69f4e6aa",
   "metadata": {},
   "outputs": [],
   "source": [
    "def fetch_FacilityID(letter):\n",
    "    result = requests.post('https://yoloeco.envisionconnect.com/api/pressAgentClient/searchFacilities?', \n",
    "                           params  = {\n",
    "    \"PressAgentOid\": \"c08cb189-894c-4c8c-b595-a5ef010226b4\"}, \n",
    "                           data = {\n",
    "    \"FacilityName\": letter, \n",
    "    })\n",
    "    facility_table = pd.DataFrame(result.json())[['FacilityId', 'FacilityName']]\n",
    "    return(facility_table)"
   ]
  },
  {
   "cell_type": "code",
   "execution_count": null,
   "id": "873699de",
   "metadata": {
    "scrolled": true
   },
   "outputs": [],
   "source": [
    "fetch_FacilityID('A&B LIQUOR')"
   ]
  },
  {
   "cell_type": "code",
   "execution_count": null,
   "id": "a7aaa96d",
   "metadata": {},
   "outputs": [],
   "source": [
    "import time"
   ]
  },
  {
   "cell_type": "code",
   "execution_count": null,
   "id": "836bb6f7",
   "metadata": {},
   "outputs": [],
   "source": [
    "[letter for letter in map(chr, range(97, 99))]"
   ]
  },
  {
   "cell_type": "code",
   "execution_count": null,
   "id": "fbceedb4",
   "metadata": {},
   "outputs": [],
   "source": [
    "x = {}\n",
    "type(x)"
   ]
  },
  {
   "cell_type": "code",
   "execution_count": null,
   "id": "c8811a90",
   "metadata": {},
   "outputs": [],
   "source": [
    "def get_violations(): \n",
    "    violations = {}\n",
    "    for letter in map(chr, range(97, 99)): # map(chr, range(97, 123)) takes too long\n",
    "        time.sleep(0.05) # sleep until making a request for each letter\n",
    "        facility_table = fetch_FacilityID(letter)\n",
    "        for index in range(facility_table.shape[0]): # for all facilities returned for this letter\n",
    "            FacilityId, FacilityName = facility_table.iloc[index]\n",
    "            time.sleep(0.1) # sleep again for each individual request\n",
    "            ProgramId = fetch_ProgramId(FacilityId)\n",
    "            print(FacilityName)\n",
    "            violations[FacilityName] = fetch_violations(ProgramId)\n",
    "    return(violations)"
   ]
  },
  {
   "cell_type": "code",
   "execution_count": null,
   "id": "1707a23e",
   "metadata": {
    "scrolled": true
   },
   "outputs": [],
   "source": [
    "violations = get_violations()"
   ]
  },
  {
   "cell_type": "code",
   "execution_count": null,
   "id": "d1ad9e0b",
   "metadata": {},
   "outputs": [],
   "source": [
    "x = {'key': 'value'}\n",
    "x['keyy']"
   ]
  },
  {
   "cell_type": "code",
   "execution_count": null,
   "id": "6497ed74",
   "metadata": {},
   "outputs": [],
   "source": [
    "fetch_FacilityID('A&B LIQUOR')"
   ]
  },
  {
   "cell_type": "code",
   "execution_count": null,
   "id": "2f466c70",
   "metadata": {},
   "outputs": [],
   "source": [
    "fetch_ProgramId('FA0001345')"
   ]
  },
  {
   "cell_type": "code",
   "execution_count": null,
   "id": "c906e121",
   "metadata": {},
   "outputs": [],
   "source": [
    "ProgramId = fetch_ProgramId('FA0001345')            \n",
    "ProgramId"
   ]
  },
  {
   "cell_type": "code",
   "execution_count": null,
   "id": "d1a37784",
   "metadata": {},
   "outputs": [],
   "source": [
    "fetch_violations('PR0000623')"
   ]
  },
  {
   "cell_type": "code",
   "execution_count": null,
   "id": "08fa9e66",
   "metadata": {},
   "outputs": [],
   "source": [
    "result = requests.get('https://yoloeco.envisionconnect.com/api/pressAgentClient/inspections', params = {\n",
    "        'PressAgentOid': 'c08cb189-894c-4c8c-b595-a5ef010226b4', \n",
    "        'ProgramId': 'PR0000623'\n",
    "})\n",
    "result.raise_for_status()"
   ]
  },
  {
   "cell_type": "code",
   "execution_count": null,
   "id": "4a38584f",
   "metadata": {},
   "outputs": [],
   "source": [
    "results = result.json()\n",
    "results"
   ]
  },
  {
   "cell_type": "markdown",
   "id": "c0ead916",
   "metadata": {},
   "source": [
    "Lets check this in the browser! "
   ]
  },
  {
   "cell_type": "code",
   "execution_count": null,
   "id": "a53154a3",
   "metadata": {},
   "outputs": [],
   "source": [
    "result = requests.get('https://yoloeco.envisionconnect.com/api/pressAgentClient/programs', params = {\n",
    "        'PressAgentOid': 'c08cb189-894c-4c8c-b595-a5ef010226b4', \n",
    "        'FacilityID': 'FA0001345'\n",
    "    }).json()\n",
    "[result[i]['ProgramId'] for i in range(len(result))]"
   ]
  },
  {
   "cell_type": "code",
   "execution_count": null,
   "id": "d7a3fad8",
   "metadata": {},
   "outputs": [],
   "source": [
    "def fetch_ProgramId(FacilityID):\n",
    "    result = requests.get('https://yoloeco.envisionconnect.com/api/pressAgentClient/programs', params = {\n",
    "        'PressAgentOid': 'c08cb189-894c-4c8c-b595-a5ef010226b4', \n",
    "        'FacilityID': FacilityID\n",
    "    }).json()\n",
    "    ProgramId = [result[i]['ProgramId'] for i in range(len(result))]\n",
    "    return(ProgramId)"
   ]
  },
  {
   "cell_type": "code",
   "execution_count": null,
   "id": "dc6cf309",
   "metadata": {},
   "outputs": [],
   "source": [
    "fetch_ProgramId('FA0001345')"
   ]
  },
  {
   "cell_type": "code",
   "execution_count": null,
   "id": "5e5e1811",
   "metadata": {},
   "outputs": [],
   "source": [
    "def fetch_violations(ProgramId_list):\n",
    "    violations = []\n",
    "    for ProgramId in ProgramId_list: \n",
    "        result = requests.get('https://yoloeco.envisionconnect.com/api/pressAgentClient/inspections', params = {\n",
    "            'PressAgentOid': 'c08cb189-894c-4c8c-b595-a5ef010226b4', \n",
    "            'ProgramId': ProgramId\n",
    "        }).json()\n",
    "        results_df = pd.DataFrame(result)\n",
    "        if not results_df.empty: # only append violations if there are any\n",
    "            violations.extend(\n",
    "                [results_df['violations'][0][i]['violation_description'] for i in range(len(results_df['violations'][0]))]\n",
    "            )\n",
    "    return(violations)"
   ]
  },
  {
   "cell_type": "code",
   "execution_count": null,
   "id": "69f14de7",
   "metadata": {},
   "outputs": [],
   "source": [
    "fetch_violations(['PR0000623', 'PR0069422'])"
   ]
  },
  {
   "cell_type": "code",
   "execution_count": null,
   "id": "e0829a66",
   "metadata": {
    "scrolled": true
   },
   "outputs": [],
   "source": [
    "violations = get_violations()"
   ]
  },
  {
   "cell_type": "code",
   "execution_count": null,
   "id": "938ff28e",
   "metadata": {},
   "outputs": [],
   "source": [
    "violations"
   ]
  },
  {
   "cell_type": "markdown",
   "id": "a4cf4b90",
   "metadata": {},
   "source": [
    "#### Safeway\n",
    "\n",
    "Check the [docs](https://requests.readthedocs.io/en/latest/api/?requests.get)!"
   ]
  },
  {
   "cell_type": "code",
   "execution_count": null,
   "id": "2de5fdf9",
   "metadata": {},
   "outputs": [],
   "source": [
    "url = 'https://www.safeway.com/abs/pub/xapi/pgmsearch/v1/search/products'\n",
    "params = {\n",
    "    'request-id': 5561736793073137191,\n",
    "    'q': 'eggs',\n",
    "    'rows': 30,\n",
    "    'start': 0,\n",
    "    'search-type': 'keyword',\n",
    "    'storeid': 3132,\n",
    "    'featured': 'true',\n",
    "    'url': 'https://www.safeway.com',\n",
    "    'pageurl': 'https://www.safeway.com', \n",
    "    'search-uid': 'uid%3D3640904575678%3Av%3D12.0%3Ats%3D1674581210532%3Ahc%3D3', \n",
    "    'pagename': 'search',\n",
    "    'dvid': 'web-4.1search',\n",
    "}\n",
    "header = {\n",
    "    #'accept': 'application/json, text/plain, */*',\n",
    "    #'accept-encoding': 'gzip, deflate, br, zstd',\n",
    "    #'accept-language': 'en-US,en;q=0.9',\n",
    "    #'cache-control': 'no-cache',\n",
    "    'Cookie': \"visid_incap_1610353=NpQjFt3XShCg5HmsJYLwrxWpGmcAAAAAQUIPAAAAAABTbH3K+b6Xlzm4bbIilz0A; OptanonAlertBoxClosed=2024-10-24T20:13:12.155Z; akacd_PR-bg-www-prod-safeway=3914245866~rv=80~id=f9720057ac5012141d9501502823ae32; nlbi_1610353=M32aK2/TRgycgjWj6eNT2gAAAABGpxl4Fz9uGtERK5SQr0G+; incap_ses_1357_1610353=x9+QQFPW5kOEJ75beQjVEupbhWcAAAAANJR7ORNIqIiNK+nGTcaNmw==; AMCVS_A7BF3BC75245ADF20A490D4D%40AdobeOrg=1; ACI_S_ECommBanner=safeway; abs_gsession=%7B%22info%22%3A%7B%22COMMON%22%3A%7B%22Selection%22%3A%22default%22%2C%22preference%22%3A%22J4U%22%2C%22userType%22%3A%22G%22%2C%22zipcode%22%3A%2294611%22%2C%22banner%22%3A%22safeway%22%2C%22siteType%22%3A%22C%22%2C%22customerType%22%3A%22%22%2C%22resolvedBy%22%3A%22%22%7D%2C%22J4U%22%3A%7B%22zipcode%22%3A%2294611%22%2C%22storeId%22%3A%223132%22%7D%2C%22SHOP%22%3A%7B%22zipcode%22%3A%2294611%22%2C%22storeId%22%3A%223132%22%7D%7D%7D; ACI_S_abs_previouslogin=%7B%22info%22%3A%7B%22COMMON%22%3A%7B%22Selection%22%3A%22default%22%2C%22preference%22%3A%22J4U%22%2C%22userType%22%3A%22G%22%2C%22zipcode%22%3A%2294611%22%2C%22banner%22%3A%22safeway%22%2C%22siteType%22%3A%22C%22%2C%22customerType%22%3A%22%22%2C%22resolvedBy%22%3A%22%22%7D%2C%22J4U%22%3A%7B%22zipcode%22%3A%2294611%22%2C%22storeId%22%3A%223132%22%7D%2C%22SHOP%22%3A%7B%22zipcode%22%3A%2294611%22%2C%22storeId%22%3A%223132%22%7D%7D%7D; SWY_SYND_USER_INFO=%7B%22storeAddress%22%3A%22%22%2C%22storeZip%22%3A%2294611%22%2C%22storeId%22%3A%223132%22%2C%22preference%22%3A%22J4U%22%7D; ACI_S_ECommSignInCount=0; at_check=true; SAFEWAY_MODAL_LINK=; SWY_SHARED_SESSION_INFO=%7B%22info%22%3A%7B%22COMMON%22%3A%7B%22userType%22%3A%22G%22%2C%22zipcode%22%3A%2294611%22%2C%22banner%22%3A%22safeway%22%2C%22preference%22%3A%22J4U%22%2C%22Selection%22%3A%22default%22%2C%22wfcStoreId%22%3A%225799%22%2C%22userData%22%3A%7B%7D%2C%22grsSessionId%22%3A%2265868f2b-f89f-4a7a-9edc-f8607c5728a9%22%2C%22siteType%22%3A%22C%22%2C%22customerType%22%3A%22%22%2C%22resolvedBy%22%3A%22%22%7D%2C%22J4U%22%3A%7B%22storeId%22%3A%223132%22%2C%22zipcode%22%3A%2294611%22%2C%22userData%22%3A%7B%7D%7D%2C%22SHOP%22%3A%7B%22storeId%22%3A%223132%22%2C%22zipcode%22%3A%2294611%22%2C%22userData%22%3A%7B%7D%7D%7D%7D; OptanonConsent=isGpcEnabled=0&datestamp=Mon+Jan+13+2025+10%3A31%3A10+GMT-0800+(Pacific+Standard+Time)&version=202409.1.0&browserGpcFlag=0&isIABGlobal=false&hosts=&consentId=a294f937-8674-4c26-9178-9f1b60f6b59b&interactionCount=2&isAnonUser=1&landingPath=NotLandingPage&groups=C0001%3A1%2CC0002%3A1%2CC0004%3A1%2CC0003%3A1&AwaitingReconsent=false&intType=3&geolocation=US%3BCA; nlbi_1610353_2147483392=5gvNQA0KaE9HVNxe6eNT2gAAAABCup9oWsSAk1ZDDN2TmX8R; reese84=3:ExNoTZgnHBodyq0jNmWs8g==:J4VcV6yDVCf3FV56rwTIU0ZXkTM8sNmwT9oLEQRGS7tecwRkhajCAwJkTzB8jP83kx7XvlxPaSjkfhEOeHL45QvGi6QlLt1eIzP5/FW9ya+sDicCoCaxSCUOJEgQNKLdzYYAhbpZ8c2qMWT4CYUIYE94uC6MQqu7NIoDGszKTcBq6GYnz6j6GgmNCffd6J43IBdcMTMMh+9WMDk3+FAhIQ3p1HpHGPGuy39PSxe1VLglWGMrcmdax81dwmzRsGKkA2BKcq5Zh8bdEZWwHIT02lXZxgglCcRMdZN77huBciKdRmC6Ie9M6CHLYogzRoVgH0QEuaCBDzx+3TzrmimnffHp4fwe2wcraMfyyvzEViz8PPH9hrEJaRiLRb10QfcxsIASJ1oe06T2tl+GFd6LlHO72GKSgm1FyJLpcIQAj7ot8a9k6SJVTd65bLawwhiPUOR9V3Reh1zVU40hUYVYYgK0WQAHT2onMOhwvk4Pic5vdxSO7iKW0HxX+jqZIq79WRw1c/qcVrAFg7veHbQsJw==:qij+BfrUCJWyBDLfyP92iy/QSXKrDa2fVrAr/ygSiSY=; AMCV_A7BF3BC75245ADF20A490D4D%40AdobeOrg=179643557%7CMCIDTS%7C20102%7CMCMID%7C88307423134550140093054020464612948435%7CMCOPTOUT-1736800272s%7CNONE%7CvVersion%7C5.5.0; mbox=PC#ce30384f188648868a639d719bb80350.35_0#1800037874|session#c608f2b05a384af1a61447777b4fc45d#1736794934\",\n",
    "    'Ocp-Apim-Subscription-Key': '5e790236c84e46338f4290aa1050cdd4'\n",
    "    #'pragma': 'no-cache',\n",
    "    #'priority': 'u=1, i',\n",
    "    #'referer': 'https://www.safeway.com/shop/search-results.html?q=eggs',\n",
    "    #'sec-ch-ua': '\"Chromium\";v=\"130\", \"Google Chrome\";v=\"130\", \"Not?A_Brand\";v=\"99\"',\n",
    "    #'sec-ch-ua-mobile':'?0',\n",
    "    #'sec-ch-ua-platform':\"macOS\",\n",
    "    #'sec-fetch-dest': 'empty',\n",
    "    #'sec-fetch-mode': 'cors',\n",
    "    #'sec-fetch-site': 'same-origin',\n",
    "    #'User-Agent': 'Mozilla/5.0 (Macintosh; Intel Mac OS X 10_15_7) AppleWebKit/537.36 (KHTML, like Gecko) Chrome/130.0.0.0 Safari/537.36'\n",
    "}\n",
    "\n",
    "# try without cookie and subscription key! "
   ]
  },
  {
   "cell_type": "code",
   "execution_count": null,
   "id": "1701220a",
   "metadata": {
    "scrolled": true
   },
   "outputs": [],
   "source": [
    "results = requests.get(url, params = params, headers = header)\n",
    "results.json()"
   ]
  },
  {
   "cell_type": "code",
   "execution_count": null,
   "id": "fd403380",
   "metadata": {},
   "outputs": [],
   "source": [
    "s = requests.Session()\n",
    "s.cookies"
   ]
  },
  {
   "cell_type": "code",
   "execution_count": null,
   "id": "48095f05",
   "metadata": {},
   "outputs": [],
   "source": [
    "s.get('https://www.safeway.com/')\n",
    "s.cookies"
   ]
  },
  {
   "cell_type": "code",
   "execution_count": null,
   "id": "c799f8f5",
   "metadata": {},
   "outputs": [],
   "source": [
    "r=s.get(url, params=params, headers = {'Ocp-Apim-Subscription-Key': '5e790236c84e46338f4290aa1050cdd4'}) #error! "
   ]
  },
  {
   "cell_type": "code",
   "execution_count": null,
   "id": "371f79bd",
   "metadata": {},
   "outputs": [],
   "source": [
    "url2 = 'https://www.safeway.com/abs/pub/xapi/search/products'\n",
    "\n",
    "r = requests.get(url2, params, headers = {'Ocp-Apim-Subscription-Key': 'e914eec9448c4d5eb672debf5011cf8f'}) #error! \n",
    "r.json()"
   ]
  },
  {
   "cell_type": "code",
   "execution_count": null,
   "id": "165d0fa6",
   "metadata": {},
   "outputs": [],
   "source": []
  },
  {
   "cell_type": "code",
   "execution_count": null,
   "id": "fa9457cd",
   "metadata": {},
   "outputs": [],
   "source": []
  },
  {
   "cell_type": "markdown",
   "id": "83bfcc3c",
   "metadata": {},
   "source": [
    "### Summary \n",
    "\n",
    "- Check the query type, header and params using the developer tools \n",
    "- Often, multiple API queries are made to display one result "
   ]
  }
 ],
 "metadata": {
  "kernelspec": {
   "display_name": "Python 3 (ipykernel)",
   "language": "python",
   "name": "python3"
  },
  "language_info": {
   "codemirror_mode": {
    "name": "ipython",
    "version": 3
   },
   "file_extension": ".py",
   "mimetype": "text/x-python",
   "name": "python",
   "nbconvert_exporter": "python",
   "pygments_lexer": "ipython3",
   "version": "3.9.12"
  }
 },
 "nbformat": 4,
 "nbformat_minor": 5
}
