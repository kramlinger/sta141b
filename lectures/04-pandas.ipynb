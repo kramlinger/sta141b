{
 "cells": [
  {
   "cell_type": "markdown",
   "id": "ff704263",
   "metadata": {
    "slideshow": {
     "slide_type": "slide"
    }
   },
   "source": [
    "# STA 141B Data & Web Technologies for Data Analysis\n",
    "\n",
    "### Lecture 5, 10/17/24, Pandas\n"
   ]
  },
  {
   "cell_type": "markdown",
   "id": "d720fbd5",
   "metadata": {
    "slideshow": {
     "slide_type": "slide"
    }
   },
   "source": [
    "### Announcements\n",
    "\n",
    "- Homework 2 is due this Sunday, 11:59 PM. \n",
    "- Midterm next week on Thursday, Oct 17. Sample exam is online. "
   ]
  },
  {
   "cell_type": "markdown",
   "id": "229980e2",
   "metadata": {},
   "source": [
    "### Today's topics\n",
    "\n",
    " - Pandas\n",
    " \n",
    "### Data Sets\n",
    "\n",
    " - `dogs_full.csv`\n",
    " - `fluidmilk.xlsx`\n",
    "\n",
    "### References\n",
    "\n",
    " - Python for Data Analysis, Ch. 5, 10\n",
    " - [Python Data Science Handbook](https://jakevdp.github.io/PythonDataScienceHandbook/), Ch. 3"
   ]
  },
  {
   "cell_type": "markdown",
   "id": "213dd869",
   "metadata": {
    "slideshow": {
     "slide_type": "slide"
    }
   },
   "source": [
    "## Pandas\n",
    "\n",
    "Pandas is a Python package that provides tools for manipulating tabular data. The name \"pandas\" is short for \"**PAN**el **DA**ta\", an econometrics term. Since we're using Anaconda, Pandas is already installed.\n",
    "\n",
    "Pandas is documented [here](http://pandas.pydata.org/pandas-docs/stable/)."
   ]
  },
  {
   "cell_type": "code",
   "execution_count": 1,
   "id": "3677019a",
   "metadata": {},
   "outputs": [],
   "source": [
    "import pandas as pd"
   ]
  },
  {
   "cell_type": "markdown",
   "id": "57b1eefd",
   "metadata": {
    "slideshow": {
     "slide_type": "slide"
    }
   },
   "source": [
    "### Series\n",
    "\n",
    "A Pandas Series a one-dimensional labeled array capable of holding data of any type (integer, string, float, python objects, etc.). It is a generalization of a NumPy array.\n",
    "\n",
    "In addition to elements, every series includes an <b>index</b>."
   ]
  },
  {
   "cell_type": "code",
   "execution_count": 2,
   "id": "8caa7520",
   "metadata": {},
   "outputs": [
    {
     "data": {
      "text/plain": [
       "pandas.core.series.Series"
      ]
     },
     "execution_count": 2,
     "metadata": {},
     "output_type": "execute_result"
    }
   ],
   "source": [
    "x = pd.Series([1, 2, 3])\n",
    "type(x)"
   ]
  },
  {
   "cell_type": "code",
   "execution_count": 3,
   "id": "e1d4a627",
   "metadata": {},
   "outputs": [
    {
     "data": {
      "text/plain": [
       "0    1\n",
       "1    2\n",
       "2    3\n",
       "dtype: int64"
      ]
     },
     "execution_count": 3,
     "metadata": {},
     "output_type": "execute_result"
    }
   ],
   "source": [
    "x"
   ]
  },
  {
   "cell_type": "code",
   "execution_count": 4,
   "id": "bae4bed9",
   "metadata": {},
   "outputs": [
    {
     "data": {
      "text/plain": [
       "a    1\n",
       "b    2\n",
       "c    3\n",
       "dtype: int64"
      ]
     },
     "execution_count": 4,
     "metadata": {},
     "output_type": "execute_result"
    }
   ],
   "source": [
    "x = pd.S eries([1,2,3], index = [\"a\", \"b\", \"c\"])\n",
    "x"
   ]
  },
  {
   "cell_type": "markdown",
   "id": "651274c4",
   "metadata": {
    "slideshow": {
     "slide_type": "subslide"
    }
   },
   "source": [
    "A series can be indexed in all of the same ways as a NumPy array, but also by index values. This means a series can also be used like an ordered dictionary (although its keys are not unique). "
   ]
  },
  {
   "cell_type": "code",
   "execution_count": 6,
   "id": "4966ec8d",
   "metadata": {},
   "outputs": [
    {
     "data": {
      "text/plain": [
       "1"
      ]
     },
     "execution_count": 6,
     "metadata": {},
     "output_type": "execute_result"
    }
   ],
   "source": [
    "x[0]"
   ]
  },
  {
   "cell_type": "code",
   "execution_count": 9,
   "id": "d706119f",
   "metadata": {},
   "outputs": [
    {
     "data": {
      "text/plain": [
       "a    1\n",
       "dtype: int64"
      ]
     },
     "execution_count": 9,
     "metadata": {},
     "output_type": "execute_result"
    }
   ],
   "source": [
    "x[:1]"
   ]
  },
  {
   "cell_type": "code",
   "execution_count": 5,
   "id": "f0165a5b",
   "metadata": {},
   "outputs": [
    {
     "data": {
      "text/plain": [
       "1"
      ]
     },
     "execution_count": 5,
     "metadata": {},
     "output_type": "execute_result"
    }
   ],
   "source": [
    "x[\"a\"]"
   ]
  },
  {
   "cell_type": "code",
   "execution_count": 12,
   "id": "3217645e",
   "metadata": {
    "slideshow": {
     "slide_type": "subslide"
    }
   },
   "outputs": [
    {
     "data": {
      "text/plain": [
       "a    1\n",
       "b    2\n",
       "dtype: int64"
      ]
     },
     "execution_count": 12,
     "metadata": {},
     "output_type": "execute_result"
    }
   ],
   "source": [
    "x[0:2]"
   ]
  },
  {
   "cell_type": "code",
   "execution_count": 18,
   "id": "55b129f3",
   "metadata": {},
   "outputs": [
    {
     "data": {
      "text/plain": [
       "Series([], dtype: int64)"
      ]
     },
     "execution_count": 18,
     "metadata": {},
     "output_type": "execute_result"
    }
   ],
   "source": [
    "x[\"b\":\"a\"]"
   ]
  },
  {
   "cell_type": "code",
   "execution_count": 19,
   "id": "533293b9",
   "metadata": {
    "slideshow": {
     "slide_type": "subslide"
    }
   },
   "outputs": [
    {
     "data": {
      "text/plain": [
       "c    1\n",
       "b    2\n",
       "a    3\n",
       "dtype: int64"
      ]
     },
     "execution_count": 19,
     "metadata": {},
     "output_type": "execute_result"
    }
   ],
   "source": [
    "x = pd.Series([1,2,3], index = [\"c\", \"b\", \"a\"])\n",
    "x"
   ]
  },
  {
   "cell_type": "code",
   "execution_count": 20,
   "id": "bd5f132c",
   "metadata": {},
   "outputs": [
    {
     "data": {
      "text/plain": [
       "Series([], dtype: int64)"
      ]
     },
     "execution_count": 20,
     "metadata": {},
     "output_type": "execute_result"
    }
   ],
   "source": [
    "x[\"a\":\"b\"]"
   ]
  },
  {
   "cell_type": "code",
   "execution_count": 21,
   "id": "81b205cd",
   "metadata": {
    "scrolled": true
   },
   "outputs": [
    {
     "data": {
      "text/plain": [
       "c    1\n",
       "b    2\n",
       "dtype: int64"
      ]
     },
     "execution_count": 21,
     "metadata": {},
     "output_type": "execute_result"
    }
   ],
   "source": [
    "x[\"c\":\"b\"]"
   ]
  },
  {
   "cell_type": "code",
   "execution_count": 27,
   "id": "4efa7e4f",
   "metadata": {},
   "outputs": [
    {
     "data": {
      "text/plain": [
       "False"
      ]
     },
     "execution_count": 27,
     "metadata": {},
     "output_type": "execute_result"
    }
   ],
   "source": [
    "x = pd.Series([1,2,3], index = [\"c\", \"a\", \"b\"])\n",
    "x is x[\"c\":\"b\"]"
   ]
  },
  {
   "cell_type": "code",
   "execution_count": 37,
   "id": "644dfea5",
   "metadata": {},
   "outputs": [
    {
     "data": {
      "text/plain": [
       "2"
      ]
     },
     "execution_count": 37,
     "metadata": {},
     "output_type": "execute_result"
    }
   ],
   "source": [
    "x = pd.Series([1,2,3], index = [\"c\", \"a\", \"b\"])\n",
    "x[\"a\"]"
   ]
  },
  {
   "cell_type": "markdown",
   "id": "64099d66",
   "metadata": {
    "slideshow": {
     "slide_type": "subslide"
    }
   },
   "source": [
    "A series may have integer indices as well. "
   ]
  },
  {
   "cell_type": "code",
   "execution_count": 40,
   "id": "8ea3a43b",
   "metadata": {},
   "outputs": [
    {
     "data": {
      "text/plain": [
       "2    1\n",
       "0    2\n",
       "1    3\n",
       "dtype: int64"
      ]
     },
     "execution_count": 40,
     "metadata": {},
     "output_type": "execute_result"
    }
   ],
   "source": [
    "x = pd.Series([1, 2, 3], index = [2, 0, 1])\n",
    "x "
   ]
  },
  {
   "cell_type": "code",
   "execution_count": 43,
   "id": "ca5ca87b",
   "metadata": {},
   "outputs": [
    {
     "data": {
      "text/plain": [
       "1    3\n",
       "dtype: int64"
      ]
     },
     "execution_count": 43,
     "metadata": {},
     "output_type": "execute_result"
    }
   ],
   "source": [
    "x[x > 2]"
   ]
  },
  {
   "cell_type": "markdown",
   "id": "99cc6dbb",
   "metadata": {
    "slideshow": {
     "slide_type": "subslide"
    }
   },
   "source": [
    "For a indexing series (and as we'll see later, also data frames):\n",
    "\n",
    "* `[ ]` is by position, name, or condition. **Exception:** for an integer index it's by name or condition only.\n",
    "* `.iloc[ ]` is by position\n",
    "* `.loc[ ]` is by name or condition"
   ]
  },
  {
   "cell_type": "code",
   "execution_count": 44,
   "id": "7c5c26ef",
   "metadata": {},
   "outputs": [
    {
     "data": {
      "text/plain": [
       "1    2\n",
       "2    3\n",
       "dtype: int64"
      ]
     },
     "execution_count": 44,
     "metadata": {},
     "output_type": "execute_result"
    }
   ],
   "source": [
    "y = pd.Series([1,2,3])\n",
    "z = y[1:3]\n",
    "z"
   ]
  },
  {
   "cell_type": "code",
   "execution_count": 49,
   "id": "d1c11512",
   "metadata": {},
   "outputs": [
    {
     "data": {
      "text/plain": [
       "2"
      ]
     },
     "execution_count": 49,
     "metadata": {},
     "output_type": "execute_result"
    }
   ],
   "source": [
    "y[1]"
   ]
  },
  {
   "cell_type": "code",
   "execution_count": 50,
   "id": "447108ff",
   "metadata": {},
   "outputs": [
    {
     "data": {
      "text/plain": [
       "1"
      ]
     },
     "execution_count": 50,
     "metadata": {},
     "output_type": "execute_result"
    }
   ],
   "source": [
    "y.iloc[0]"
   ]
  },
  {
   "cell_type": "code",
   "execution_count": 51,
   "id": "bb166266",
   "metadata": {},
   "outputs": [
    {
     "data": {
      "text/plain": [
       "2"
      ]
     },
     "execution_count": 51,
     "metadata": {},
     "output_type": "execute_result"
    }
   ],
   "source": [
    "y.loc[1]"
   ]
  },
  {
   "cell_type": "code",
   "execution_count": 52,
   "id": "fc03df51",
   "metadata": {
    "slideshow": {
     "slide_type": "subslide"
    }
   },
   "outputs": [
    {
     "data": {
      "text/plain": [
       " 0.0+3.0j    1\n",
       " 0.0+2.0j    2\n",
       " 0.0+1.0j    3\n",
       "-0.0-1.0j    4\n",
       "dtype: int64"
      ]
     },
     "execution_count": 52,
     "metadata": {},
     "output_type": "execute_result"
    }
   ],
   "source": [
    "z = pd.Series([1, 2, 3, 4], index = [3j, 2j, 1j, -1j])\n",
    "z"
   ]
  },
  {
   "cell_type": "code",
   "execution_count": 53,
   "id": "e5b2d38b",
   "metadata": {},
   "outputs": [
    {
     "data": {
      "text/plain": [
       "1"
      ]
     },
     "execution_count": 53,
     "metadata": {},
     "output_type": "execute_result"
    }
   ],
   "source": [
    "z[3j]"
   ]
  },
  {
   "cell_type": "code",
   "execution_count": 56,
   "id": "1cbc0fb0",
   "metadata": {},
   "outputs": [],
   "source": [
    "#z.iloc[-1j]"
   ]
  },
  {
   "cell_type": "code",
   "execution_count": 61,
   "id": "da1260aa",
   "metadata": {},
   "outputs": [
    {
     "data": {
      "text/plain": [
       "Index([3j, 2j, 1j, (-0-1j)], dtype='complex128')"
      ]
     },
     "execution_count": 61,
     "metadata": {},
     "output_type": "execute_result"
    }
   ],
   "source": [
    "z.index"
   ]
  },
  {
   "cell_type": "markdown",
   "id": "c6903d98",
   "metadata": {
    "slideshow": {
     "slide_type": "slide"
    }
   },
   "source": [
    "### Data Frames\n",
    "\n",
    "A data frame is a table or a two-dimensional array-like structure in which each column contains values of one variable and each row contains one set of values from each column.\n",
    "\n",
    "It represents tabular data as a collection of Series."
   ]
  },
  {
   "cell_type": "code",
   "execution_count": 62,
   "id": "6d0f8b3e",
   "metadata": {},
   "outputs": [
    {
     "data": {
      "text/html": [
       "<div>\n",
       "<style scoped>\n",
       "    .dataframe tbody tr th:only-of-type {\n",
       "        vertical-align: middle;\n",
       "    }\n",
       "\n",
       "    .dataframe tbody tr th {\n",
       "        vertical-align: top;\n",
       "    }\n",
       "\n",
       "    .dataframe thead th {\n",
       "        text-align: right;\n",
       "    }\n",
       "</style>\n",
       "<table border=\"1\" class=\"dataframe\">\n",
       "  <thead>\n",
       "    <tr style=\"text-align: right;\">\n",
       "      <th></th>\n",
       "      <th>x</th>\n",
       "      <th>y</th>\n",
       "    </tr>\n",
       "  </thead>\n",
       "  <tbody>\n",
       "    <tr>\n",
       "      <th>0</th>\n",
       "      <td>1</td>\n",
       "      <td>a</td>\n",
       "    </tr>\n",
       "    <tr>\n",
       "      <th>1</th>\n",
       "      <td>2</td>\n",
       "      <td>b</td>\n",
       "    </tr>\n",
       "    <tr>\n",
       "      <th>2</th>\n",
       "      <td>3</td>\n",
       "      <td>c</td>\n",
       "    </tr>\n",
       "  </tbody>\n",
       "</table>\n",
       "</div>"
      ],
      "text/plain": [
       "   x  y\n",
       "0  1  a\n",
       "1  2  b\n",
       "2  3  c"
      ]
     },
     "execution_count": 62,
     "metadata": {},
     "output_type": "execute_result"
    }
   ],
   "source": [
    "df = pd.DataFrame({\"x\": [1, 2, 3], \"y\": [\"a\", \"b\", \"c\"]})\n",
    "df"
   ]
  },
  {
   "cell_type": "markdown",
   "id": "ac720ae6",
   "metadata": {
    "slideshow": {
     "slide_type": "subslide"
    }
   },
   "source": [
    "Data frames support the similar indexing methods as series. However, for indexing with `[ ]`,\n",
    "\n",
    "* Scalar values get columns by name\n",
    "* Conditions or slices get rows"
   ]
  },
  {
   "cell_type": "code",
   "execution_count": 63,
   "id": "6c1e088c",
   "metadata": {},
   "outputs": [
    {
     "data": {
      "text/html": [
       "<div>\n",
       "<style scoped>\n",
       "    .dataframe tbody tr th:only-of-type {\n",
       "        vertical-align: middle;\n",
       "    }\n",
       "\n",
       "    .dataframe tbody tr th {\n",
       "        vertical-align: top;\n",
       "    }\n",
       "\n",
       "    .dataframe thead th {\n",
       "        text-align: right;\n",
       "    }\n",
       "</style>\n",
       "<table border=\"1\" class=\"dataframe\">\n",
       "  <thead>\n",
       "    <tr style=\"text-align: right;\">\n",
       "      <th></th>\n",
       "      <th>x</th>\n",
       "      <th>y</th>\n",
       "    </tr>\n",
       "  </thead>\n",
       "  <tbody>\n",
       "    <tr>\n",
       "      <th>0</th>\n",
       "      <td>1</td>\n",
       "      <td>a</td>\n",
       "    </tr>\n",
       "    <tr>\n",
       "      <th>1</th>\n",
       "      <td>2</td>\n",
       "      <td>b</td>\n",
       "    </tr>\n",
       "    <tr>\n",
       "      <th>2</th>\n",
       "      <td>3</td>\n",
       "      <td>c</td>\n",
       "    </tr>\n",
       "  </tbody>\n",
       "</table>\n",
       "</div>"
      ],
      "text/plain": [
       "   x  y\n",
       "0  1  a\n",
       "1  2  b\n",
       "2  3  c"
      ]
     },
     "execution_count": 63,
     "metadata": {},
     "output_type": "execute_result"
    }
   ],
   "source": [
    "df"
   ]
  },
  {
   "cell_type": "code",
   "execution_count": 64,
   "id": "68997c04",
   "metadata": {},
   "outputs": [
    {
     "data": {
      "text/plain": [
       "1"
      ]
     },
     "execution_count": 64,
     "metadata": {},
     "output_type": "execute_result"
    }
   ],
   "source": [
    "df.iloc[0,0]"
   ]
  },
  {
   "cell_type": "code",
   "execution_count": 81,
   "id": "ba70a40f",
   "metadata": {},
   "outputs": [
    {
     "data": {
      "text/html": [
       "<div>\n",
       "<style scoped>\n",
       "    .dataframe tbody tr th:only-of-type {\n",
       "        vertical-align: middle;\n",
       "    }\n",
       "\n",
       "    .dataframe tbody tr th {\n",
       "        vertical-align: top;\n",
       "    }\n",
       "\n",
       "    .dataframe thead th {\n",
       "        text-align: right;\n",
       "    }\n",
       "</style>\n",
       "<table border=\"1\" class=\"dataframe\">\n",
       "  <thead>\n",
       "    <tr style=\"text-align: right;\">\n",
       "      <th></th>\n",
       "      <th>x</th>\n",
       "      <th>y</th>\n",
       "    </tr>\n",
       "  </thead>\n",
       "  <tbody>\n",
       "    <tr>\n",
       "      <th>2</th>\n",
       "      <td>3</td>\n",
       "      <td>c</td>\n",
       "    </tr>\n",
       "  </tbody>\n",
       "</table>\n",
       "</div>"
      ],
      "text/plain": [
       "   x  y\n",
       "2  3  c"
      ]
     },
     "execution_count": 81,
     "metadata": {},
     "output_type": "execute_result"
    }
   ],
   "source": [
    "df[df['x']>2]"
   ]
  },
  {
   "cell_type": "code",
   "execution_count": 83,
   "id": "d69bfe07",
   "metadata": {
    "scrolled": true
   },
   "outputs": [
    {
     "data": {
      "text/plain": [
       "0    a\n",
       "1    b\n",
       "2    c\n",
       "Name: y, dtype: object"
      ]
     },
     "execution_count": 83,
     "metadata": {},
     "output_type": "execute_result"
    }
   ],
   "source": [
    "df[\"y\"]"
   ]
  },
  {
   "cell_type": "code",
   "execution_count": 67,
   "id": "11726153",
   "metadata": {
    "scrolled": true,
    "slideshow": {
     "slide_type": "subslide"
    }
   },
   "outputs": [
    {
     "data": {
      "text/plain": [
       "0    1\n",
       "1    2\n",
       "2    3\n",
       "Name: x, dtype: int64"
      ]
     },
     "execution_count": 67,
     "metadata": {},
     "output_type": "execute_result"
    }
   ],
   "source": [
    "df['x']"
   ]
  },
  {
   "cell_type": "code",
   "execution_count": 69,
   "id": "dd9614de",
   "metadata": {},
   "outputs": [
    {
     "data": {
      "text/plain": [
       "x    1\n",
       "y    a\n",
       "Name: 0, dtype: object"
      ]
     },
     "execution_count": 69,
     "metadata": {},
     "output_type": "execute_result"
    }
   ],
   "source": [
    "df.iloc[0]"
   ]
  },
  {
   "cell_type": "code",
   "execution_count": 72,
   "id": "4d69b339",
   "metadata": {},
   "outputs": [
    {
     "data": {
      "text/html": [
       "<div>\n",
       "<style scoped>\n",
       "    .dataframe tbody tr th:only-of-type {\n",
       "        vertical-align: middle;\n",
       "    }\n",
       "\n",
       "    .dataframe tbody tr th {\n",
       "        vertical-align: top;\n",
       "    }\n",
       "\n",
       "    .dataframe thead th {\n",
       "        text-align: right;\n",
       "    }\n",
       "</style>\n",
       "<table border=\"1\" class=\"dataframe\">\n",
       "  <thead>\n",
       "    <tr style=\"text-align: right;\">\n",
       "      <th></th>\n",
       "      <th>x</th>\n",
       "      <th>y</th>\n",
       "    </tr>\n",
       "  </thead>\n",
       "  <tbody>\n",
       "    <tr>\n",
       "      <th>0</th>\n",
       "      <td>1</td>\n",
       "      <td>a</td>\n",
       "    </tr>\n",
       "  </tbody>\n",
       "</table>\n",
       "</div>"
      ],
      "text/plain": [
       "   x  y\n",
       "0  1  a"
      ]
     },
     "execution_count": 72,
     "metadata": {},
     "output_type": "execute_result"
    }
   ],
   "source": [
    "df[0:1]"
   ]
  },
  {
   "cell_type": "code",
   "execution_count": null,
   "id": "0c5a7805",
   "metadata": {
    "scrolled": true
   },
   "outputs": [],
   "source": [
    "df "
   ]
  },
  {
   "cell_type": "code",
   "execution_count": 73,
   "id": "7b5e0ca8",
   "metadata": {
    "slideshow": {
     "slide_type": "subslide"
    }
   },
   "outputs": [
    {
     "data": {
      "text/plain": [
       "0    1\n",
       "1    2\n",
       "2    3\n",
       "Name: x, dtype: int64"
      ]
     },
     "execution_count": 73,
     "metadata": {},
     "output_type": "execute_result"
    }
   ],
   "source": [
    "df.loc[:,\"x\"] "
   ]
  },
  {
   "cell_type": "code",
   "execution_count": 74,
   "id": "b4220c63",
   "metadata": {},
   "outputs": [
    {
     "data": {
      "text/html": [
       "<div>\n",
       "<style scoped>\n",
       "    .dataframe tbody tr th:only-of-type {\n",
       "        vertical-align: middle;\n",
       "    }\n",
       "\n",
       "    .dataframe tbody tr th {\n",
       "        vertical-align: top;\n",
       "    }\n",
       "\n",
       "    .dataframe thead th {\n",
       "        text-align: right;\n",
       "    }\n",
       "</style>\n",
       "<table border=\"1\" class=\"dataframe\">\n",
       "  <thead>\n",
       "    <tr style=\"text-align: right;\">\n",
       "      <th></th>\n",
       "      <th>x</th>\n",
       "      <th>y</th>\n",
       "    </tr>\n",
       "  </thead>\n",
       "  <tbody>\n",
       "    <tr>\n",
       "      <th>2</th>\n",
       "      <td>3</td>\n",
       "      <td>c</td>\n",
       "    </tr>\n",
       "  </tbody>\n",
       "</table>\n",
       "</div>"
      ],
      "text/plain": [
       "   x  y\n",
       "2  3  c"
      ]
     },
     "execution_count": 74,
     "metadata": {},
     "output_type": "execute_result"
    }
   ],
   "source": [
    "df[df[\"x\"] > 2] # more conventient "
   ]
  },
  {
   "cell_type": "code",
   "execution_count": 77,
   "id": "ae12d0ff",
   "metadata": {},
   "outputs": [
    {
     "data": {
      "text/html": [
       "<div>\n",
       "<style scoped>\n",
       "    .dataframe tbody tr th:only-of-type {\n",
       "        vertical-align: middle;\n",
       "    }\n",
       "\n",
       "    .dataframe tbody tr th {\n",
       "        vertical-align: top;\n",
       "    }\n",
       "\n",
       "    .dataframe thead th {\n",
       "        text-align: right;\n",
       "    }\n",
       "</style>\n",
       "<table border=\"1\" class=\"dataframe\">\n",
       "  <thead>\n",
       "    <tr style=\"text-align: right;\">\n",
       "      <th></th>\n",
       "      <th>x</th>\n",
       "      <th>y</th>\n",
       "    </tr>\n",
       "  </thead>\n",
       "  <tbody>\n",
       "    <tr>\n",
       "      <th>2</th>\n",
       "      <td>3</td>\n",
       "      <td>c</td>\n",
       "    </tr>\n",
       "  </tbody>\n",
       "</table>\n",
       "</div>"
      ],
      "text/plain": [
       "   x  y\n",
       "2  3  c"
      ]
     },
     "execution_count": 77,
     "metadata": {},
     "output_type": "execute_result"
    }
   ],
   "source": [
    "df.loc[df['x'] > 2,:]  # more principled (?)"
   ]
  },
  {
   "cell_type": "markdown",
   "id": "3164330f",
   "metadata": {
    "slideshow": {
     "slide_type": "-"
    }
   },
   "source": [
    "Since we are subsetting a DataFrame, a DataFrame is returned. "
   ]
  },
  {
   "cell_type": "code",
   "execution_count": 84,
   "id": "329bceb2",
   "metadata": {
    "slideshow": {
     "slide_type": "subslide"
    }
   },
   "outputs": [
    {
     "data": {
      "text/plain": [
       "(3, 2)"
      ]
     },
     "execution_count": 84,
     "metadata": {},
     "output_type": "execute_result"
    }
   ],
   "source": [
    "df.shape"
   ]
  },
  {
   "cell_type": "code",
   "execution_count": 85,
   "id": "06823a46",
   "metadata": {},
   "outputs": [
    {
     "data": {
      "text/plain": [
       "6"
      ]
     },
     "execution_count": 85,
     "metadata": {},
     "output_type": "execute_result"
    }
   ],
   "source": [
    "df.size"
   ]
  },
  {
   "cell_type": "code",
   "execution_count": 86,
   "id": "42664fe1",
   "metadata": {},
   "outputs": [
    {
     "data": {
      "text/plain": [
       "pandas.core.frame.DataFrame"
      ]
     },
     "execution_count": 86,
     "metadata": {},
     "output_type": "execute_result"
    }
   ],
   "source": [
    "type(df)"
   ]
  },
  {
   "cell_type": "code",
   "execution_count": 101,
   "id": "4f9f03b3",
   "metadata": {},
   "outputs": [
    {
     "data": {
      "text/plain": [
       "x     int64\n",
       "y    object\n",
       "dtype: object"
      ]
     },
     "execution_count": 101,
     "metadata": {},
     "output_type": "execute_result"
    }
   ],
   "source": [
    "df.dtypes"
   ]
  },
  {
   "cell_type": "code",
   "execution_count": null,
   "id": "b3e7ed2c",
   "metadata": {},
   "outputs": [],
   "source": [
    "x = pd.Series(['1', '2'])"
   ]
  },
  {
   "cell_type": "code",
   "execution_count": 99,
   "id": "232f67b4",
   "metadata": {},
   "outputs": [
    {
     "data": {
      "text/plain": [
       "dtype('O')"
      ]
     },
     "execution_count": 99,
     "metadata": {},
     "output_type": "execute_result"
    }
   ],
   "source": [
    "x.dtype"
   ]
  },
  {
   "cell_type": "markdown",
   "id": "36058be7",
   "metadata": {},
   "source": [
    "More indexing and selection data using pandas can be found [here](https://pandas.pydata.org/pandas-docs/stable/user_guide/indexing.html#indexing-slicing-with-labels)"
   ]
  },
  {
   "cell_type": "markdown",
   "id": "3c3f429c",
   "metadata": {
    "slideshow": {
     "slide_type": "slide"
    }
   },
   "source": [
    "### Missing Data\n",
    "\n",
    "Pandas represents missing data with `NaN` and `None`, but these values do not exclusively mean missing data. For instance, `NaN` stands for \"Not a Number\" and is also the result of undefined computations. Pay attention to your data and code to determine whether values are missing or have some other meaning.\n",
    "\n",
    "You can create `NaN` values with NumPy."
   ]
  },
  {
   "cell_type": "code",
   "execution_count": 102,
   "id": "c2004230",
   "metadata": {},
   "outputs": [
    {
     "data": {
      "text/plain": [
       "nan"
      ]
     },
     "execution_count": 102,
     "metadata": {},
     "output_type": "execute_result"
    }
   ],
   "source": [
    "import numpy as np \n",
    "np.nan"
   ]
  },
  {
   "cell_type": "code",
   "execution_count": 103,
   "id": "8be4c47c",
   "metadata": {
    "slideshow": {
     "slide_type": "-"
    }
   },
   "outputs": [
    {
     "data": {
      "text/html": [
       "<div>\n",
       "<style scoped>\n",
       "    .dataframe tbody tr th:only-of-type {\n",
       "        vertical-align: middle;\n",
       "    }\n",
       "\n",
       "    .dataframe tbody tr th {\n",
       "        vertical-align: top;\n",
       "    }\n",
       "\n",
       "    .dataframe thead th {\n",
       "        text-align: right;\n",
       "    }\n",
       "</style>\n",
       "<table border=\"1\" class=\"dataframe\">\n",
       "  <thead>\n",
       "    <tr style=\"text-align: right;\">\n",
       "      <th></th>\n",
       "      <th>x</th>\n",
       "      <th>y</th>\n",
       "      <th>z</th>\n",
       "    </tr>\n",
       "  </thead>\n",
       "  <tbody>\n",
       "    <tr>\n",
       "      <th>0</th>\n",
       "      <td>1.0</td>\n",
       "      <td>0</td>\n",
       "      <td>x</td>\n",
       "    </tr>\n",
       "    <tr>\n",
       "      <th>1</th>\n",
       "      <td>NaN</td>\n",
       "      <td>1</td>\n",
       "      <td>y</td>\n",
       "    </tr>\n",
       "    <tr>\n",
       "      <th>2</th>\n",
       "      <td>2.0</td>\n",
       "      <td>2</td>\n",
       "      <td>None</td>\n",
       "    </tr>\n",
       "  </tbody>\n",
       "</table>\n",
       "</div>"
      ],
      "text/plain": [
       "     x  y     z\n",
       "0  1.0  0     x\n",
       "1  NaN  1     y\n",
       "2  2.0  2  None"
      ]
     },
     "execution_count": 103,
     "metadata": {},
     "output_type": "execute_result"
    }
   ],
   "source": [
    "df = pd.DataFrame({\"x\": [1, np.nan, 2], \"y\": np.arange(3), \"z\": [\"x\", \"y\", None]})\n",
    "df"
   ]
  },
  {
   "cell_type": "markdown",
   "id": "deef4b70",
   "metadata": {
    "slideshow": {
     "slide_type": "subslide"
    }
   },
   "source": [
    "Use the `.isna()` or `.isnull()` methods to detect missing values."
   ]
  },
  {
   "cell_type": "code",
   "execution_count": 104,
   "id": "5ae6e719",
   "metadata": {},
   "outputs": [
    {
     "data": {
      "text/html": [
       "<div>\n",
       "<style scoped>\n",
       "    .dataframe tbody tr th:only-of-type {\n",
       "        vertical-align: middle;\n",
       "    }\n",
       "\n",
       "    .dataframe tbody tr th {\n",
       "        vertical-align: top;\n",
       "    }\n",
       "\n",
       "    .dataframe thead th {\n",
       "        text-align: right;\n",
       "    }\n",
       "</style>\n",
       "<table border=\"1\" class=\"dataframe\">\n",
       "  <thead>\n",
       "    <tr style=\"text-align: right;\">\n",
       "      <th></th>\n",
       "      <th>x</th>\n",
       "      <th>y</th>\n",
       "      <th>z</th>\n",
       "    </tr>\n",
       "  </thead>\n",
       "  <tbody>\n",
       "    <tr>\n",
       "      <th>0</th>\n",
       "      <td>False</td>\n",
       "      <td>False</td>\n",
       "      <td>False</td>\n",
       "    </tr>\n",
       "    <tr>\n",
       "      <th>1</th>\n",
       "      <td>True</td>\n",
       "      <td>False</td>\n",
       "      <td>False</td>\n",
       "    </tr>\n",
       "    <tr>\n",
       "      <th>2</th>\n",
       "      <td>False</td>\n",
       "      <td>False</td>\n",
       "      <td>True</td>\n",
       "    </tr>\n",
       "  </tbody>\n",
       "</table>\n",
       "</div>"
      ],
      "text/plain": [
       "       x      y      z\n",
       "0  False  False  False\n",
       "1   True  False  False\n",
       "2  False  False   True"
      ]
     },
     "execution_count": 104,
     "metadata": {},
     "output_type": "execute_result"
    }
   ],
   "source": [
    "df.isna()"
   ]
  },
  {
   "cell_type": "code",
   "execution_count": 109,
   "id": "55c56138",
   "metadata": {},
   "outputs": [
    {
     "data": {
      "text/html": [
       "<div>\n",
       "<style scoped>\n",
       "    .dataframe tbody tr th:only-of-type {\n",
       "        vertical-align: middle;\n",
       "    }\n",
       "\n",
       "    .dataframe tbody tr th {\n",
       "        vertical-align: top;\n",
       "    }\n",
       "\n",
       "    .dataframe thead th {\n",
       "        text-align: right;\n",
       "    }\n",
       "</style>\n",
       "<table border=\"1\" class=\"dataframe\">\n",
       "  <thead>\n",
       "    <tr style=\"text-align: right;\">\n",
       "      <th></th>\n",
       "      <th>x</th>\n",
       "      <th>y</th>\n",
       "      <th>z</th>\n",
       "    </tr>\n",
       "  </thead>\n",
       "  <tbody>\n",
       "    <tr>\n",
       "      <th>0</th>\n",
       "      <td>False</td>\n",
       "      <td>False</td>\n",
       "      <td>False</td>\n",
       "    </tr>\n",
       "    <tr>\n",
       "      <th>1</th>\n",
       "      <td>True</td>\n",
       "      <td>False</td>\n",
       "      <td>False</td>\n",
       "    </tr>\n",
       "    <tr>\n",
       "      <th>2</th>\n",
       "      <td>False</td>\n",
       "      <td>False</td>\n",
       "      <td>True</td>\n",
       "    </tr>\n",
       "  </tbody>\n",
       "</table>\n",
       "</div>"
      ],
      "text/plain": [
       "       x      y      z\n",
       "0  False  False  False\n",
       "1   True  False  False\n",
       "2  False  False   True"
      ]
     },
     "execution_count": 109,
     "metadata": {},
     "output_type": "execute_result"
    }
   ],
   "source": [
    "df.isnull()"
   ]
  },
  {
   "cell_type": "code",
   "execution_count": 110,
   "id": "6437e9cb",
   "metadata": {
    "slideshow": {
     "slide_type": "subslide"
    }
   },
   "outputs": [
    {
     "data": {
      "text/html": [
       "<div>\n",
       "<style scoped>\n",
       "    .dataframe tbody tr th:only-of-type {\n",
       "        vertical-align: middle;\n",
       "    }\n",
       "\n",
       "    .dataframe tbody tr th {\n",
       "        vertical-align: top;\n",
       "    }\n",
       "\n",
       "    .dataframe thead th {\n",
       "        text-align: right;\n",
       "    }\n",
       "</style>\n",
       "<table border=\"1\" class=\"dataframe\">\n",
       "  <thead>\n",
       "    <tr style=\"text-align: right;\">\n",
       "      <th></th>\n",
       "      <th>x</th>\n",
       "      <th>y</th>\n",
       "      <th>z</th>\n",
       "    </tr>\n",
       "  </thead>\n",
       "  <tbody>\n",
       "    <tr>\n",
       "      <th>0</th>\n",
       "      <td>1.0</td>\n",
       "      <td>0</td>\n",
       "      <td>x</td>\n",
       "    </tr>\n",
       "    <tr>\n",
       "      <th>1</th>\n",
       "      <td>NaN</td>\n",
       "      <td>1</td>\n",
       "      <td>y</td>\n",
       "    </tr>\n",
       "    <tr>\n",
       "      <th>2</th>\n",
       "      <td>2.0</td>\n",
       "      <td>2</td>\n",
       "      <td>None</td>\n",
       "    </tr>\n",
       "  </tbody>\n",
       "</table>\n",
       "</div>"
      ],
      "text/plain": [
       "     x  y     z\n",
       "0  1.0  0     x\n",
       "1  NaN  1     y\n",
       "2  2.0  2  None"
      ]
     },
     "execution_count": 110,
     "metadata": {},
     "output_type": "execute_result"
    }
   ],
   "source": [
    "df"
   ]
  },
  {
   "cell_type": "code",
   "execution_count": 111,
   "id": "ac17421f",
   "metadata": {
    "slideshow": {
     "slide_type": "subslide"
    }
   },
   "outputs": [
    {
     "name": "stdout",
     "output_type": "stream",
     "text": [
      "<class 'pandas.core.frame.DataFrame'>\n",
      "RangeIndex: 3 entries, 0 to 2\n",
      "Data columns (total 3 columns):\n",
      " #   Column  Non-Null Count  Dtype  \n",
      "---  ------  --------------  -----  \n",
      " 0   x       2 non-null      float64\n",
      " 1   y       3 non-null      int64  \n",
      " 2   z       2 non-null      object \n",
      "dtypes: float64(1), int64(1), object(1)\n",
      "memory usage: 200.0+ bytes\n"
     ]
    }
   ],
   "source": [
    "df.info()"
   ]
  },
  {
   "cell_type": "code",
   "execution_count": null,
   "id": "6652964f",
   "metadata": {
    "slideshow": {
     "slide_type": "subslide"
    }
   },
   "outputs": [],
   "source": [
    "df "
   ]
  },
  {
   "cell_type": "code",
   "execution_count": 113,
   "id": "1fbc921a",
   "metadata": {
    "slideshow": {
     "slide_type": "subslide"
    }
   },
   "outputs": [
    {
     "data": {
      "text/plain": [
       "7"
      ]
     },
     "execution_count": 113,
     "metadata": {},
     "output_type": "execute_result"
    }
   ],
   "source": [
    "(~df.isna()).sum().sum()"
   ]
  },
  {
   "cell_type": "code",
   "execution_count": 115,
   "id": "a19c09ee",
   "metadata": {},
   "outputs": [
    {
     "data": {
      "text/plain": [
       "2"
      ]
     },
     "execution_count": 115,
     "metadata": {},
     "output_type": "execute_result"
    }
   ],
   "source": [
    "df.isna().sum().sum() # how many are missing"
   ]
  },
  {
   "cell_type": "code",
   "execution_count": 118,
   "id": "d3b0477f",
   "metadata": {},
   "outputs": [
    {
     "data": {
      "text/html": [
       "<div>\n",
       "<style scoped>\n",
       "    .dataframe tbody tr th:only-of-type {\n",
       "        vertical-align: middle;\n",
       "    }\n",
       "\n",
       "    .dataframe tbody tr th {\n",
       "        vertical-align: top;\n",
       "    }\n",
       "\n",
       "    .dataframe thead th {\n",
       "        text-align: right;\n",
       "    }\n",
       "</style>\n",
       "<table border=\"1\" class=\"dataframe\">\n",
       "  <thead>\n",
       "    <tr style=\"text-align: right;\">\n",
       "      <th></th>\n",
       "      <th>x</th>\n",
       "      <th>y</th>\n",
       "      <th>z</th>\n",
       "    </tr>\n",
       "  </thead>\n",
       "  <tbody>\n",
       "    <tr>\n",
       "      <th>0</th>\n",
       "      <td>1.0</td>\n",
       "      <td>0</td>\n",
       "      <td>x</td>\n",
       "    </tr>\n",
       "    <tr>\n",
       "      <th>1</th>\n",
       "      <td>NaN</td>\n",
       "      <td>1</td>\n",
       "      <td>y</td>\n",
       "    </tr>\n",
       "    <tr>\n",
       "      <th>2</th>\n",
       "      <td>2.0</td>\n",
       "      <td>2</td>\n",
       "      <td>None</td>\n",
       "    </tr>\n",
       "  </tbody>\n",
       "</table>\n",
       "</div>"
      ],
      "text/plain": [
       "     x  y     z\n",
       "0  1.0  0     x\n",
       "1  NaN  1     y\n",
       "2  2.0  2  None"
      ]
     },
     "execution_count": 118,
     "metadata": {},
     "output_type": "execute_result"
    }
   ],
   "source": [
    "df"
   ]
  },
  {
   "cell_type": "code",
   "execution_count": 120,
   "id": "6bc3c249",
   "metadata": {},
   "outputs": [
    {
     "data": {
      "text/plain": [
       "x    3.0\n",
       "y    3.0\n",
       "dtype: float64"
      ]
     },
     "execution_count": 120,
     "metadata": {},
     "output_type": "execute_result"
    }
   ],
   "source": [
    "df.sum(numeric_only=True)"
   ]
  },
  {
   "cell_type": "markdown",
   "id": "53463314",
   "metadata": {},
   "source": [
    "Lets deal with this warning. "
   ]
  },
  {
   "cell_type": "code",
   "execution_count": null,
   "id": "872f836e",
   "metadata": {
    "scrolled": true
   },
   "outputs": [],
   "source": [
    "df.sum(numeric_only=True).sum()"
   ]
  },
  {
   "cell_type": "markdown",
   "id": "07aedde1",
   "metadata": {
    "slideshow": {
     "slide_type": "slide"
    }
   },
   "source": [
    "### Data Alignment\n",
    "\n",
    "Pandas supports vectorized operations, but elements are <b>automatically</b> aligned by index. **Beware!!** This is a major difference compared to R."
   ]
  },
  {
   "cell_type": "code",
   "execution_count": 125,
   "id": "467dfb5b",
   "metadata": {},
   "outputs": [
    {
     "data": {
      "text/plain": [
       "a    1\n",
       "b    2\n",
       "c    3\n",
       "dtype: int64"
      ]
     },
     "execution_count": 125,
     "metadata": {},
     "output_type": "execute_result"
    }
   ],
   "source": [
    "x = pd.Series([1, 2, 3], index = [\"a\", \"b\", \"c\"])\n",
    "y = pd.Series([1, 2, 3])\n",
    "x"
   ]
  },
  {
   "cell_type": "code",
   "execution_count": 126,
   "id": "4a1106f2",
   "metadata": {},
   "outputs": [
    {
     "data": {
      "text/plain": [
       "0    1\n",
       "1    2\n",
       "2    3\n",
       "dtype: int64"
      ]
     },
     "execution_count": 126,
     "metadata": {},
     "output_type": "execute_result"
    }
   ],
   "source": [
    "y"
   ]
  },
  {
   "cell_type": "code",
   "execution_count": 127,
   "id": "1d78884e",
   "metadata": {},
   "outputs": [
    {
     "data": {
      "text/plain": [
       "a   NaN\n",
       "b   NaN\n",
       "c   NaN\n",
       "0   NaN\n",
       "1   NaN\n",
       "2   NaN\n",
       "dtype: float64"
      ]
     },
     "execution_count": 127,
     "metadata": {},
     "output_type": "execute_result"
    }
   ],
   "source": [
    "x + y"
   ]
  },
  {
   "cell_type": "markdown",
   "id": "660bc912",
   "metadata": {
    "slideshow": {
     "slide_type": "subslide"
    }
   },
   "source": [
    "You can use the `.reset_index()` method to reset the indexes on a series or data frame. Watch out: The method returns a new DataFrame, but does not overwrite the old object. "
   ]
  },
  {
   "cell_type": "code",
   "execution_count": 161,
   "id": "d4f60471",
   "metadata": {},
   "outputs": [
    {
     "data": {
      "text/plain": [
       "index\n",
       "a    1\n",
       "b    2\n",
       "c    3\n",
       "Name: 0, dtype: int64"
      ]
     },
     "execution_count": 161,
     "metadata": {},
     "output_type": "execute_result"
    }
   ],
   "source": [
    "x.reset_index().set_index('index')[0]"
   ]
  },
  {
   "cell_type": "code",
   "execution_count": 142,
   "id": "9cd8ab1d",
   "metadata": {},
   "outputs": [
    {
     "data": {
      "text/plain": [
       "0    1\n",
       "1    2\n",
       "2    3\n",
       "dtype: int64"
      ]
     },
     "execution_count": 142,
     "metadata": {},
     "output_type": "execute_result"
    }
   ],
   "source": [
    "y"
   ]
  },
  {
   "cell_type": "code",
   "execution_count": 148,
   "id": "680ec8fd",
   "metadata": {},
   "outputs": [
    {
     "data": {
      "text/plain": [
       "0    1\n",
       "1    2\n",
       "2    3\n",
       "dtype: int64"
      ]
     },
     "execution_count": 148,
     "metadata": {},
     "output_type": "execute_result"
    }
   ],
   "source": [
    "x.reset_index(drop = True) # throw away the old index"
   ]
  },
  {
   "cell_type": "code",
   "execution_count": 145,
   "id": "bb644e12",
   "metadata": {},
   "outputs": [
    {
     "data": {
      "text/plain": [
       "a    1\n",
       "b    2\n",
       "c    3\n",
       "dtype: int64"
      ]
     },
     "execution_count": 145,
     "metadata": {},
     "output_type": "execute_result"
    }
   ],
   "source": [
    "x"
   ]
  },
  {
   "cell_type": "markdown",
   "id": "7c9ad69d",
   "metadata": {
    "slideshow": {
     "slide_type": "slide"
    }
   },
   "source": [
    "### Reading Data\n",
    "\n",
    "Pandas provides functions for reading (and writing) a variety of common formats. Most of their names begin with `read_`. For instance, we can read the dogs data from a CSV file:"
   ]
  },
  {
   "cell_type": "code",
   "execution_count": 162,
   "id": "68bcd845",
   "metadata": {},
   "outputs": [],
   "source": [
    "dogs = pd.read_csv(\"../data/dogs_full.csv\")"
   ]
  },
  {
   "cell_type": "code",
   "execution_count": 163,
   "id": "c533e4e1",
   "metadata": {
    "scrolled": false
   },
   "outputs": [
    {
     "data": {
      "text/html": [
       "<div>\n",
       "<style scoped>\n",
       "    .dataframe tbody tr th:only-of-type {\n",
       "        vertical-align: middle;\n",
       "    }\n",
       "\n",
       "    .dataframe tbody tr th {\n",
       "        vertical-align: top;\n",
       "    }\n",
       "\n",
       "    .dataframe thead th {\n",
       "        text-align: right;\n",
       "    }\n",
       "</style>\n",
       "<table border=\"1\" class=\"dataframe\">\n",
       "  <thead>\n",
       "    <tr style=\"text-align: right;\">\n",
       "      <th></th>\n",
       "      <th>breed</th>\n",
       "      <th>group</th>\n",
       "      <th>datadog</th>\n",
       "      <th>popularity_all</th>\n",
       "      <th>popularity</th>\n",
       "      <th>lifetime_cost</th>\n",
       "      <th>intelligence_rank</th>\n",
       "      <th>longevity</th>\n",
       "      <th>ailments</th>\n",
       "      <th>price</th>\n",
       "      <th>food_cost</th>\n",
       "      <th>grooming</th>\n",
       "      <th>kids</th>\n",
       "      <th>megarank_kids</th>\n",
       "      <th>megarank</th>\n",
       "      <th>size</th>\n",
       "      <th>weight</th>\n",
       "      <th>height</th>\n",
       "    </tr>\n",
       "  </thead>\n",
       "  <tbody>\n",
       "    <tr>\n",
       "      <th>0</th>\n",
       "      <td>Border Collie</td>\n",
       "      <td>herding</td>\n",
       "      <td>3.64</td>\n",
       "      <td>45</td>\n",
       "      <td>39.0</td>\n",
       "      <td>20143.0</td>\n",
       "      <td>1.0</td>\n",
       "      <td>12.52</td>\n",
       "      <td>2.0</td>\n",
       "      <td>623.0</td>\n",
       "      <td>324.0</td>\n",
       "      <td>weekly</td>\n",
       "      <td>low</td>\n",
       "      <td>1.0</td>\n",
       "      <td>29.0</td>\n",
       "      <td>medium</td>\n",
       "      <td>NaN</td>\n",
       "      <td>20.0</td>\n",
       "    </tr>\n",
       "    <tr>\n",
       "      <th>1</th>\n",
       "      <td>Border Terrier</td>\n",
       "      <td>terrier</td>\n",
       "      <td>3.61</td>\n",
       "      <td>80</td>\n",
       "      <td>61.0</td>\n",
       "      <td>22638.0</td>\n",
       "      <td>30.0</td>\n",
       "      <td>14.00</td>\n",
       "      <td>0.0</td>\n",
       "      <td>833.0</td>\n",
       "      <td>324.0</td>\n",
       "      <td>weekly</td>\n",
       "      <td>high</td>\n",
       "      <td>2.0</td>\n",
       "      <td>1.0</td>\n",
       "      <td>small</td>\n",
       "      <td>13.5</td>\n",
       "      <td>NaN</td>\n",
       "    </tr>\n",
       "    <tr>\n",
       "      <th>2</th>\n",
       "      <td>Brittany</td>\n",
       "      <td>sporting</td>\n",
       "      <td>3.54</td>\n",
       "      <td>30</td>\n",
       "      <td>30.0</td>\n",
       "      <td>22589.0</td>\n",
       "      <td>19.0</td>\n",
       "      <td>12.92</td>\n",
       "      <td>0.0</td>\n",
       "      <td>618.0</td>\n",
       "      <td>466.0</td>\n",
       "      <td>weekly</td>\n",
       "      <td>medium</td>\n",
       "      <td>3.0</td>\n",
       "      <td>11.0</td>\n",
       "      <td>medium</td>\n",
       "      <td>35.0</td>\n",
       "      <td>19.0</td>\n",
       "    </tr>\n",
       "    <tr>\n",
       "      <th>3</th>\n",
       "      <td>Cairn Terrier</td>\n",
       "      <td>terrier</td>\n",
       "      <td>3.53</td>\n",
       "      <td>59</td>\n",
       "      <td>48.0</td>\n",
       "      <td>21992.0</td>\n",
       "      <td>35.0</td>\n",
       "      <td>13.84</td>\n",
       "      <td>2.0</td>\n",
       "      <td>435.0</td>\n",
       "      <td>324.0</td>\n",
       "      <td>weekly</td>\n",
       "      <td>high</td>\n",
       "      <td>4.0</td>\n",
       "      <td>2.0</td>\n",
       "      <td>small</td>\n",
       "      <td>14.0</td>\n",
       "      <td>10.0</td>\n",
       "    </tr>\n",
       "    <tr>\n",
       "      <th>4</th>\n",
       "      <td>Welsh Springer Spaniel</td>\n",
       "      <td>sporting</td>\n",
       "      <td>3.34</td>\n",
       "      <td>130</td>\n",
       "      <td>81.0</td>\n",
       "      <td>20224.0</td>\n",
       "      <td>31.0</td>\n",
       "      <td>12.49</td>\n",
       "      <td>1.0</td>\n",
       "      <td>750.0</td>\n",
       "      <td>324.0</td>\n",
       "      <td>weekly</td>\n",
       "      <td>high</td>\n",
       "      <td>5.0</td>\n",
       "      <td>4.0</td>\n",
       "      <td>medium</td>\n",
       "      <td>NaN</td>\n",
       "      <td>18.0</td>\n",
       "    </tr>\n",
       "  </tbody>\n",
       "</table>\n",
       "</div>"
      ],
      "text/plain": [
       "                    breed     group  datadog  popularity_all  popularity  \\\n",
       "0           Border Collie   herding     3.64              45        39.0   \n",
       "1          Border Terrier   terrier     3.61              80        61.0   \n",
       "2                Brittany  sporting     3.54              30        30.0   \n",
       "3           Cairn Terrier   terrier     3.53              59        48.0   \n",
       "4  Welsh Springer Spaniel  sporting     3.34             130        81.0   \n",
       "\n",
       "   lifetime_cost  intelligence_rank  longevity  ailments  price  food_cost  \\\n",
       "0        20143.0                1.0      12.52       2.0  623.0      324.0   \n",
       "1        22638.0               30.0      14.00       0.0  833.0      324.0   \n",
       "2        22589.0               19.0      12.92       0.0  618.0      466.0   \n",
       "3        21992.0               35.0      13.84       2.0  435.0      324.0   \n",
       "4        20224.0               31.0      12.49       1.0  750.0      324.0   \n",
       "\n",
       "  grooming    kids  megarank_kids  megarank    size  weight  height  \n",
       "0   weekly     low            1.0      29.0  medium     NaN    20.0  \n",
       "1   weekly    high            2.0       1.0   small    13.5     NaN  \n",
       "2   weekly  medium            3.0      11.0  medium    35.0    19.0  \n",
       "3   weekly    high            4.0       2.0   small    14.0    10.0  \n",
       "4   weekly    high            5.0       4.0  medium     NaN    18.0  "
      ]
     },
     "execution_count": 163,
     "metadata": {},
     "output_type": "execute_result"
    }
   ],
   "source": [
    "dogs.head()"
   ]
  },
  {
   "cell_type": "markdown",
   "id": "d1ca3756",
   "metadata": {
    "slideshow": {
     "slide_type": "slide"
    }
   },
   "source": [
    "### Inspecting Data\n",
    "\n",
    "Series and data frames provide many of the same methods and attributes as NumPy arrays."
   ]
  },
  {
   "cell_type": "markdown",
   "id": "d327cf62",
   "metadata": {},
   "source": [
    "For a data frame, the `.dtypes` attribute gives the column types.\n",
    "\n",
    "The type \"object\" means some non-numeric Python object, often a string."
   ]
  },
  {
   "cell_type": "code",
   "execution_count": 164,
   "id": "8be4e952",
   "metadata": {},
   "outputs": [
    {
     "data": {
      "text/plain": [
       "breed                 object\n",
       "group                 object\n",
       "datadog              float64\n",
       "popularity_all         int64\n",
       "popularity           float64\n",
       "lifetime_cost        float64\n",
       "intelligence_rank    float64\n",
       "longevity            float64\n",
       "ailments             float64\n",
       "price                float64\n",
       "food_cost            float64\n",
       "grooming              object\n",
       "kids                  object\n",
       "megarank_kids        float64\n",
       "megarank             float64\n",
       "size                  object\n",
       "weight               float64\n",
       "height               float64\n",
       "dtype: object"
      ]
     },
     "execution_count": 164,
     "metadata": {},
     "output_type": "execute_result"
    }
   ],
   "source": [
    "dogs.dtypes"
   ]
  },
  {
   "cell_type": "markdown",
   "id": "f0b82c57",
   "metadata": {
    "slideshow": {
     "slide_type": "subslide"
    }
   },
   "source": [
    "There are also several methods for quickly summarizing data."
   ]
  },
  {
   "cell_type": "code",
   "execution_count": 165,
   "id": "1f10be24",
   "metadata": {},
   "outputs": [
    {
     "data": {
      "text/html": [
       "<div>\n",
       "<style scoped>\n",
       "    .dataframe tbody tr th:only-of-type {\n",
       "        vertical-align: middle;\n",
       "    }\n",
       "\n",
       "    .dataframe tbody tr th {\n",
       "        vertical-align: top;\n",
       "    }\n",
       "\n",
       "    .dataframe thead th {\n",
       "        text-align: right;\n",
       "    }\n",
       "</style>\n",
       "<table border=\"1\" class=\"dataframe\">\n",
       "  <thead>\n",
       "    <tr style=\"text-align: right;\">\n",
       "      <th></th>\n",
       "      <th>datadog</th>\n",
       "      <th>popularity_all</th>\n",
       "      <th>popularity</th>\n",
       "      <th>lifetime_cost</th>\n",
       "      <th>intelligence_rank</th>\n",
       "      <th>longevity</th>\n",
       "      <th>ailments</th>\n",
       "      <th>price</th>\n",
       "      <th>food_cost</th>\n",
       "      <th>megarank_kids</th>\n",
       "      <th>megarank</th>\n",
       "      <th>weight</th>\n",
       "      <th>height</th>\n",
       "    </tr>\n",
       "  </thead>\n",
       "  <tbody>\n",
       "    <tr>\n",
       "      <th>count</th>\n",
       "      <td>87.000000</td>\n",
       "      <td>172.000000</td>\n",
       "      <td>87.000000</td>\n",
       "      <td>91.000000</td>\n",
       "      <td>132.000000</td>\n",
       "      <td>135.000000</td>\n",
       "      <td>148.000000</td>\n",
       "      <td>146.000000</td>\n",
       "      <td>87.000000</td>\n",
       "      <td>87.000000</td>\n",
       "      <td>87.000000</td>\n",
       "      <td>86.00000</td>\n",
       "      <td>159.000000</td>\n",
       "    </tr>\n",
       "    <tr>\n",
       "      <th>mean</th>\n",
       "      <td>2.603678</td>\n",
       "      <td>87.122093</td>\n",
       "      <td>44.000000</td>\n",
       "      <td>19819.538462</td>\n",
       "      <td>40.924242</td>\n",
       "      <td>10.956741</td>\n",
       "      <td>1.216216</td>\n",
       "      <td>876.815068</td>\n",
       "      <td>489.597701</td>\n",
       "      <td>43.954023</td>\n",
       "      <td>43.942529</td>\n",
       "      <td>44.97093</td>\n",
       "      <td>19.089623</td>\n",
       "    </tr>\n",
       "    <tr>\n",
       "      <th>std</th>\n",
       "      <td>0.570288</td>\n",
       "      <td>50.205335</td>\n",
       "      <td>25.258662</td>\n",
       "      <td>3102.475382</td>\n",
       "      <td>19.603560</td>\n",
       "      <td>1.995742</td>\n",
       "      <td>1.549810</td>\n",
       "      <td>461.172524</td>\n",
       "      <td>204.266894</td>\n",
       "      <td>25.288065</td>\n",
       "      <td>25.278153</td>\n",
       "      <td>35.52707</td>\n",
       "      <td>6.012400</td>\n",
       "    </tr>\n",
       "    <tr>\n",
       "      <th>min</th>\n",
       "      <td>0.990000</td>\n",
       "      <td>1.000000</td>\n",
       "      <td>1.000000</td>\n",
       "      <td>12653.000000</td>\n",
       "      <td>1.000000</td>\n",
       "      <td>6.290000</td>\n",
       "      <td>0.000000</td>\n",
       "      <td>283.000000</td>\n",
       "      <td>270.000000</td>\n",
       "      <td>1.000000</td>\n",
       "      <td>1.000000</td>\n",
       "      <td>5.00000</td>\n",
       "      <td>5.000000</td>\n",
       "    </tr>\n",
       "    <tr>\n",
       "      <th>25%</th>\n",
       "      <td>2.185000</td>\n",
       "      <td>43.750000</td>\n",
       "      <td>22.500000</td>\n",
       "      <td>17816.500000</td>\n",
       "      <td>27.000000</td>\n",
       "      <td>9.700000</td>\n",
       "      <td>0.000000</td>\n",
       "      <td>587.250000</td>\n",
       "      <td>324.000000</td>\n",
       "      <td>22.500000</td>\n",
       "      <td>22.500000</td>\n",
       "      <td>17.50000</td>\n",
       "      <td>14.000000</td>\n",
       "    </tr>\n",
       "    <tr>\n",
       "      <th>50%</th>\n",
       "      <td>2.710000</td>\n",
       "      <td>87.500000</td>\n",
       "      <td>44.000000</td>\n",
       "      <td>20087.000000</td>\n",
       "      <td>42.000000</td>\n",
       "      <td>11.290000</td>\n",
       "      <td>1.000000</td>\n",
       "      <td>795.000000</td>\n",
       "      <td>466.000000</td>\n",
       "      <td>44.000000</td>\n",
       "      <td>44.000000</td>\n",
       "      <td>35.00000</td>\n",
       "      <td>19.000000</td>\n",
       "    </tr>\n",
       "    <tr>\n",
       "      <th>75%</th>\n",
       "      <td>3.035000</td>\n",
       "      <td>130.250000</td>\n",
       "      <td>65.500000</td>\n",
       "      <td>21798.000000</td>\n",
       "      <td>54.250000</td>\n",
       "      <td>12.365000</td>\n",
       "      <td>2.000000</td>\n",
       "      <td>1042.250000</td>\n",
       "      <td>466.000000</td>\n",
       "      <td>65.500000</td>\n",
       "      <td>65.500000</td>\n",
       "      <td>62.50000</td>\n",
       "      <td>24.125000</td>\n",
       "    </tr>\n",
       "    <tr>\n",
       "      <th>max</th>\n",
       "      <td>3.640000</td>\n",
       "      <td>173.000000</td>\n",
       "      <td>87.000000</td>\n",
       "      <td>26686.000000</td>\n",
       "      <td>80.000000</td>\n",
       "      <td>16.500000</td>\n",
       "      <td>9.000000</td>\n",
       "      <td>3460.000000</td>\n",
       "      <td>1349.000000</td>\n",
       "      <td>87.000000</td>\n",
       "      <td>87.000000</td>\n",
       "      <td>175.00000</td>\n",
       "      <td>32.000000</td>\n",
       "    </tr>\n",
       "  </tbody>\n",
       "</table>\n",
       "</div>"
      ],
      "text/plain": [
       "         datadog  popularity_all  popularity  lifetime_cost  \\\n",
       "count  87.000000      172.000000   87.000000      91.000000   \n",
       "mean    2.603678       87.122093   44.000000   19819.538462   \n",
       "std     0.570288       50.205335   25.258662    3102.475382   \n",
       "min     0.990000        1.000000    1.000000   12653.000000   \n",
       "25%     2.185000       43.750000   22.500000   17816.500000   \n",
       "50%     2.710000       87.500000   44.000000   20087.000000   \n",
       "75%     3.035000      130.250000   65.500000   21798.000000   \n",
       "max     3.640000      173.000000   87.000000   26686.000000   \n",
       "\n",
       "       intelligence_rank   longevity    ailments        price    food_cost  \\\n",
       "count         132.000000  135.000000  148.000000   146.000000    87.000000   \n",
       "mean           40.924242   10.956741    1.216216   876.815068   489.597701   \n",
       "std            19.603560    1.995742    1.549810   461.172524   204.266894   \n",
       "min             1.000000    6.290000    0.000000   283.000000   270.000000   \n",
       "25%            27.000000    9.700000    0.000000   587.250000   324.000000   \n",
       "50%            42.000000   11.290000    1.000000   795.000000   466.000000   \n",
       "75%            54.250000   12.365000    2.000000  1042.250000   466.000000   \n",
       "max            80.000000   16.500000    9.000000  3460.000000  1349.000000   \n",
       "\n",
       "       megarank_kids   megarank     weight      height  \n",
       "count      87.000000  87.000000   86.00000  159.000000  \n",
       "mean       43.954023  43.942529   44.97093   19.089623  \n",
       "std        25.288065  25.278153   35.52707    6.012400  \n",
       "min         1.000000   1.000000    5.00000    5.000000  \n",
       "25%        22.500000  22.500000   17.50000   14.000000  \n",
       "50%        44.000000  44.000000   35.00000   19.000000  \n",
       "75%        65.500000  65.500000   62.50000   24.125000  \n",
       "max        87.000000  87.000000  175.00000   32.000000  "
      ]
     },
     "execution_count": 165,
     "metadata": {},
     "output_type": "execute_result"
    }
   ],
   "source": [
    "dogs.describe()"
   ]
  },
  {
   "cell_type": "markdown",
   "id": "e50d84d4",
   "metadata": {
    "slideshow": {
     "slide_type": "subslide"
    }
   },
   "source": [
    "First, get the string columns (`object`), then describe"
   ]
  },
  {
   "cell_type": "code",
   "execution_count": 168,
   "id": "38967214",
   "metadata": {},
   "outputs": [
    {
     "data": {
      "text/html": [
       "<div>\n",
       "<style scoped>\n",
       "    .dataframe tbody tr th:only-of-type {\n",
       "        vertical-align: middle;\n",
       "    }\n",
       "\n",
       "    .dataframe tbody tr th {\n",
       "        vertical-align: top;\n",
       "    }\n",
       "\n",
       "    .dataframe thead th {\n",
       "        text-align: right;\n",
       "    }\n",
       "</style>\n",
       "<table border=\"1\" class=\"dataframe\">\n",
       "  <thead>\n",
       "    <tr style=\"text-align: right;\">\n",
       "      <th></th>\n",
       "      <th>breed</th>\n",
       "      <th>group</th>\n",
       "      <th>grooming</th>\n",
       "      <th>kids</th>\n",
       "      <th>size</th>\n",
       "    </tr>\n",
       "  </thead>\n",
       "  <tbody>\n",
       "    <tr>\n",
       "      <th>count</th>\n",
       "      <td>172</td>\n",
       "      <td>172</td>\n",
       "      <td>112</td>\n",
       "      <td>112</td>\n",
       "      <td>172</td>\n",
       "    </tr>\n",
       "    <tr>\n",
       "      <th>unique</th>\n",
       "      <td>172</td>\n",
       "      <td>7</td>\n",
       "      <td>3</td>\n",
       "      <td>3</td>\n",
       "      <td>3</td>\n",
       "    </tr>\n",
       "    <tr>\n",
       "      <th>top</th>\n",
       "      <td>Border Collie</td>\n",
       "      <td>terrier</td>\n",
       "      <td>weekly</td>\n",
       "      <td>high</td>\n",
       "      <td>medium</td>\n",
       "    </tr>\n",
       "    <tr>\n",
       "      <th>freq</th>\n",
       "      <td>1</td>\n",
       "      <td>28</td>\n",
       "      <td>88</td>\n",
       "      <td>67</td>\n",
       "      <td>60</td>\n",
       "    </tr>\n",
       "  </tbody>\n",
       "</table>\n",
       "</div>"
      ],
      "text/plain": [
       "                breed    group grooming  kids    size\n",
       "count             172      172      112   112     172\n",
       "unique            172        7        3     3       3\n",
       "top     Border Collie  terrier   weekly  high  medium\n",
       "freq                1       28       88    67      60"
      ]
     },
     "execution_count": 168,
     "metadata": {},
     "output_type": "execute_result"
    }
   ],
   "source": [
    "dogs.select_dtypes(include = [\"object\"]).describe()"
   ]
  },
  {
   "cell_type": "code",
   "execution_count": 169,
   "id": "f6d6bdf4",
   "metadata": {
    "slideshow": {
     "slide_type": "subslide"
    }
   },
   "outputs": [
    {
     "data": {
      "text/html": [
       "<div>\n",
       "<style scoped>\n",
       "    .dataframe tbody tr th:only-of-type {\n",
       "        vertical-align: middle;\n",
       "    }\n",
       "\n",
       "    .dataframe tbody tr th {\n",
       "        vertical-align: top;\n",
       "    }\n",
       "\n",
       "    .dataframe thead th {\n",
       "        text-align: right;\n",
       "    }\n",
       "</style>\n",
       "<table border=\"1\" class=\"dataframe\">\n",
       "  <thead>\n",
       "    <tr style=\"text-align: right;\">\n",
       "      <th></th>\n",
       "      <th>popularity_all</th>\n",
       "    </tr>\n",
       "  </thead>\n",
       "  <tbody>\n",
       "    <tr>\n",
       "      <th>count</th>\n",
       "      <td>172.000000</td>\n",
       "    </tr>\n",
       "    <tr>\n",
       "      <th>mean</th>\n",
       "      <td>87.122093</td>\n",
       "    </tr>\n",
       "    <tr>\n",
       "      <th>std</th>\n",
       "      <td>50.205335</td>\n",
       "    </tr>\n",
       "    <tr>\n",
       "      <th>min</th>\n",
       "      <td>1.000000</td>\n",
       "    </tr>\n",
       "    <tr>\n",
       "      <th>25%</th>\n",
       "      <td>43.750000</td>\n",
       "    </tr>\n",
       "    <tr>\n",
       "      <th>50%</th>\n",
       "      <td>87.500000</td>\n",
       "    </tr>\n",
       "    <tr>\n",
       "      <th>75%</th>\n",
       "      <td>130.250000</td>\n",
       "    </tr>\n",
       "    <tr>\n",
       "      <th>max</th>\n",
       "      <td>173.000000</td>\n",
       "    </tr>\n",
       "  </tbody>\n",
       "</table>\n",
       "</div>"
      ],
      "text/plain": [
       "       popularity_all\n",
       "count      172.000000\n",
       "mean        87.122093\n",
       "std         50.205335\n",
       "min          1.000000\n",
       "25%         43.750000\n",
       "50%         87.500000\n",
       "75%        130.250000\n",
       "max        173.000000"
      ]
     },
     "execution_count": 169,
     "metadata": {},
     "output_type": "execute_result"
    }
   ],
   "source": [
    "dogs.select_dtypes(include = [\"int64\"]).describe()"
   ]
  },
  {
   "cell_type": "markdown",
   "id": "7622994e",
   "metadata": {
    "slideshow": {
     "slide_type": "slide"
    }
   },
   "source": [
    "### Aggregation\n",
    "\n",
    "Pandas also provides several methods for aggregating data, such as `.mean()`, `.median()`, `.std()`, and `.value_counts()`. They ignore missing values by default."
   ]
  },
  {
   "cell_type": "code",
   "execution_count": null,
   "id": "716f7ee4",
   "metadata": {},
   "outputs": [],
   "source": [
    "dogs.median(numeric_only=True)"
   ]
  },
  {
   "cell_type": "code",
   "execution_count": null,
   "id": "cf79f1df",
   "metadata": {
    "slideshow": {
     "slide_type": "subslide"
    }
   },
   "outputs": [],
   "source": [
    "dogs[\"price\"].median()"
   ]
  },
  {
   "cell_type": "code",
   "execution_count": null,
   "id": "3af7cf85",
   "metadata": {},
   "outputs": [],
   "source": [
    "dogs[\"group\"].value_counts() # like R's table() with 1 arg"
   ]
  },
  {
   "cell_type": "markdown",
   "id": "7bc3ad1a",
   "metadata": {
    "slideshow": {
     "slide_type": "subslide"
    }
   },
   "source": [
    "For counting one group against another (crosstabulating), use `pd.crosstab()`."
   ]
  },
  {
   "cell_type": "code",
   "execution_count": null,
   "id": "38b8e9cd",
   "metadata": {},
   "outputs": [],
   "source": [
    "pd.crosstab(dogs[\"group\"], dogs[\"kids\"]) # like R's table() with 2+ arg"
   ]
  },
  {
   "cell_type": "markdown",
   "id": "9f63b92e",
   "metadata": {
    "slideshow": {
     "slide_type": "slide"
    }
   },
   "source": [
    "### Applying Functions\n",
    "\n",
    "You can also use Pandas to apply your own aggregation functions to columns or rows.\n",
    "\n",
    "* `.apply()` applies a function column-by-column or row-by-row.\n",
    "* `.applymap()` applies a function element-by-element.\n",
    "\n",
    "This is another way to vectorizing code, but only works for DataFrame. \n"
   ]
  },
  {
   "cell_type": "code",
   "execution_count": null,
   "id": "d776d49e",
   "metadata": {},
   "outputs": [],
   "source": [
    "def spread(x):\n",
    "    '''Returns spread. Input is a single column (or row)'''\n",
    "    return x.max() - x.min()\n",
    "    \n",
    "dogs.select_dtypes(include = [\"float64\", \"int64\"]).apply(spread)"
   ]
  },
  {
   "cell_type": "markdown",
   "id": "dc50033a",
   "metadata": {
    "slideshow": {
     "slide_type": "slide"
    }
   },
   "source": [
    "### Grouping"
   ]
  },
  {
   "cell_type": "markdown",
   "id": "712150c8",
   "metadata": {},
   "source": [
    "Use the `.groupby()` method to group data before computing aggregate statistics."
   ]
  },
  {
   "cell_type": "code",
   "execution_count": null,
   "id": "5f922682",
   "metadata": {},
   "outputs": [],
   "source": [
    "dogs.head()"
   ]
  },
  {
   "cell_type": "code",
   "execution_count": null,
   "id": "878bd289",
   "metadata": {
    "slideshow": {
     "slide_type": "subslide"
    }
   },
   "outputs": [],
   "source": [
    "dogs.groupby(\"group\").mean(numeric_only=True).reset_index()"
   ]
  },
  {
   "cell_type": "markdown",
   "id": "6a1db5a9",
   "metadata": {
    "slideshow": {
     "slide_type": "subslide"
    }
   },
   "source": [
    "By default, the groups become the index. You can keep them as regular columns by setting `as_index = False` when grouping."
   ]
  },
  {
   "cell_type": "code",
   "execution_count": null,
   "id": "a3ddcedf",
   "metadata": {},
   "outputs": [],
   "source": [
    "dogs.groupby(\"group\", as_index = False).mean(numeric_only=True)"
   ]
  },
  {
   "cell_type": "markdown",
   "id": "7e50e784",
   "metadata": {
    "slideshow": {
     "slide_type": "subslide"
    }
   },
   "source": [
    "You can group by multiple columns."
   ]
  },
  {
   "cell_type": "code",
   "execution_count": null,
   "id": "4031cbd1",
   "metadata": {},
   "outputs": [],
   "source": [
    "dogs.groupby([\"group\", \"kids\"]).mean(numeric_only=True).head()"
   ]
  },
  {
   "cell_type": "markdown",
   "id": "6c671dce",
   "metadata": {
    "slideshow": {
     "slide_type": "subslide"
    }
   },
   "source": [
    "On groups, the `.apply()` method computes group-by-group. It is the most general form of two other methods:\n",
    "\n",
    "* `.agg()`, which applies a function to each group to compute summary statistics\n",
    "* `.transform()`, which applies a function to each group to compute transformations (such as standardization)"
   ]
  },
  {
   "cell_type": "markdown",
   "id": "9076d18e",
   "metadata": {
    "slideshow": {
     "slide_type": "slide"
    }
   },
   "source": [
    "## Tidying a Dataset\n",
    "\n",
    "Do Americans prefer low fat milk over whole milk?\n",
    "\n",
    "The USDA publishes data about dairy production. We can answer the question with the [Milk Sales Dataset](https://www.ers.usda.gov/webdocs/DataFiles/48685/fluidmilk.xlsx?v=5010.6).\n",
    "\n",
    "Many of Python's visualization packages expect [tidy data](https://vita.had.co.nz/papers/tidy-data.pdf), which means:\n",
    "\n",
    "1. Each feature must have its own column.\n",
    "2. Each observation must have its own row.\n",
    "3. Each value must have its own cell.\n",
    "\n",
    "Let's tidy up the Milk Sales Dataset so we can make a line plot that shows how milk sales have changed over time."
   ]
  },
  {
   "cell_type": "code",
   "execution_count": null,
   "id": "69313cb3",
   "metadata": {
    "slideshow": {
     "slide_type": "subslide"
    }
   },
   "outputs": [],
   "source": [
    "import numpy as np\n",
    "import pandas as pd"
   ]
  },
  {
   "cell_type": "code",
   "execution_count": null,
   "id": "41102177",
   "metadata": {
    "scrolled": false
   },
   "outputs": [],
   "source": [
    "milk = pd.read_excel(\"../data/fluidmilk.xlsx\")\n",
    "milk.head()"
   ]
  },
  {
   "cell_type": "code",
   "execution_count": null,
   "id": "2ea8e849",
   "metadata": {
    "scrolled": true,
    "slideshow": {
     "slide_type": "subslide"
    }
   },
   "outputs": [],
   "source": [
    "milk = pd.read_excel(\"../data/fluidmilk.xlsx\", skiprows = 1)\n",
    "milk.head()"
   ]
  },
  {
   "cell_type": "code",
   "execution_count": null,
   "id": "ff62e9f6",
   "metadata": {},
   "outputs": [],
   "source": [
    "milk.columns"
   ]
  },
  {
   "cell_type": "code",
   "execution_count": null,
   "id": "857b9684",
   "metadata": {
    "scrolled": true,
    "slideshow": {
     "slide_type": "subslide"
    }
   },
   "outputs": [],
   "source": [
    "milk.columns = milk.columns.str.replace('\\n', '')\n",
    "milk.head()"
   ]
  },
  {
   "cell_type": "code",
   "execution_count": null,
   "id": "85abfb81",
   "metadata": {
    "slideshow": {
     "slide_type": "subslide"
    }
   },
   "outputs": [],
   "source": [
    "milk = milk.rename(columns=lambda x: x.strip(' 012'))\n",
    "milk.head()"
   ]
  },
  {
   "cell_type": "code",
   "execution_count": null,
   "id": "8a81ce1e",
   "metadata": {
    "scrolled": true,
    "slideshow": {
     "slide_type": "subslide"
    }
   },
   "outputs": [],
   "source": [
    "milk = milk.rename(columns = {'Unnamed:': 'Year'})\n",
    "milk.head()"
   ]
  },
  {
   "cell_type": "code",
   "execution_count": null,
   "id": "24e9ef5e",
   "metadata": {
    "scrolled": true,
    "slideshow": {
     "slide_type": "subslide"
    }
   },
   "outputs": [],
   "source": [
    "milk.columns.values[[2,3,5,6]] = np.array(['Reduced', 'Low', \n",
    "                                            'Flavored Whole', 'Flavored Other'])"
   ]
  },
  {
   "cell_type": "code",
   "execution_count": null,
   "id": "862fa2fd",
   "metadata": {},
   "outputs": [],
   "source": [
    "milk.head()"
   ]
  },
  {
   "cell_type": "code",
   "execution_count": null,
   "id": "8014a438",
   "metadata": {
    "slideshow": {
     "slide_type": "subslide"
    }
   },
   "outputs": [],
   "source": [
    "milk.dtypes"
   ]
  },
  {
   "cell_type": "code",
   "execution_count": null,
   "id": "dfb94ddc",
   "metadata": {
    "slideshow": {
     "slide_type": "subslide"
    }
   },
   "outputs": [],
   "source": [
    "milk = milk.set_index('Year')  "
   ]
  },
  {
   "cell_type": "code",
   "execution_count": null,
   "id": "0d4232b4",
   "metadata": {},
   "outputs": [],
   "source": [
    "milk.head()"
   ]
  },
  {
   "cell_type": "code",
   "execution_count": null,
   "id": "f6ebaf4c",
   "metadata": {
    "scrolled": true,
    "slideshow": {
     "slide_type": "slide"
    }
   },
   "outputs": [],
   "source": [
    "milk = pd.read_excel(\"../data/fluidmilk.xlsx\", skiprows = 1)\n",
    "milk.columns = milk.columns.str.replace('\\n', '')\n",
    "milk = milk.rename(columns=lambda df: df.strip(' 12'))\n",
    "milk.columns.values[[0,2,3,5,6]] = np.array(['Year', 'Reduced', 'Low', \n",
    "                                             'Flavored Whole', 'Flavored Other'])\n",
    "milk = milk[:-4] # get rid of the last four rows\n",
    "milk = milk.set_index(\"Year\") \n",
    "milk.head()"
   ]
  },
  {
   "cell_type": "code",
   "execution_count": null,
   "id": "d10cb953",
   "metadata": {
    "slideshow": {
     "slide_type": "subslide"
    }
   },
   "outputs": [],
   "source": [
    "milk = milk.stack() \n",
    "milk"
   ]
  },
  {
   "cell_type": "code",
   "execution_count": null,
   "id": "3eb11e1b",
   "metadata": {
    "scrolled": true,
    "slideshow": {
     "slide_type": "subslide"
    }
   },
   "outputs": [],
   "source": [
    "milk.index"
   ]
  },
  {
   "cell_type": "code",
   "execution_count": null,
   "id": "5cc522c5",
   "metadata": {
    "slideshow": {
     "slide_type": "subslide"
    }
   },
   "outputs": [],
   "source": [
    "milk = milk.reset_index()\n",
    "milk"
   ]
  },
  {
   "cell_type": "code",
   "execution_count": null,
   "id": "a053b1c1",
   "metadata": {},
   "outputs": [],
   "source": [
    "milk.columns.values[[False, True, True]] = np.array([\"Kind\", \"Sales\"])"
   ]
  },
  {
   "cell_type": "code",
   "execution_count": null,
   "id": "649c4173",
   "metadata": {
    "slideshow": {
     "slide_type": "subslide"
    }
   },
   "outputs": [],
   "source": [
    "milk.head()"
   ]
  },
  {
   "cell_type": "code",
   "execution_count": null,
   "id": "39a79eca",
   "metadata": {
    "scrolled": true
   },
   "outputs": [],
   "source": [
    "milk.tail()"
   ]
  }
 ],
 "metadata": {
  "celltoolbar": "Slideshow",
  "kernelspec": {
   "display_name": "Python 3 (ipykernel)",
   "language": "python",
   "name": "python3"
  },
  "language_info": {
   "codemirror_mode": {
    "name": "ipython",
    "version": 3
   },
   "file_extension": ".py",
   "mimetype": "text/x-python",
   "name": "python",
   "nbconvert_exporter": "python",
   "pygments_lexer": "ipython3",
   "version": "3.9.12"
  },
  "rise": {
   "progress": true,
   "scroll": true,
   "theme": "white"
  }
 },
 "nbformat": 4,
 "nbformat_minor": 5
}
