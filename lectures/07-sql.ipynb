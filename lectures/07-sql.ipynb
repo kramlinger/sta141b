{
 "cells": [
  {
   "cell_type": "markdown",
   "id": "bd0c9018",
   "metadata": {
    "slideshow": {
     "slide_type": "slide"
    }
   },
   "source": [
    "# STA 141B Data & Web Technologies for Data Analysis\n",
    "\n",
    "### Lecture 7, 1/30/25, SQL"
   ]
  },
  {
   "cell_type": "markdown",
   "id": "9c87ab21",
   "metadata": {
    "slideshow": {
     "slide_type": "slide"
    }
   },
   "source": [
    "### Announcements\n",
    "\n",
    " - "
   ]
  },
  {
   "cell_type": "markdown",
   "id": "3dd31dd9",
   "metadata": {
    "slideshow": {
     "slide_type": "slide"
    }
   },
   "source": [
    "### Last week's topics\n",
    "\n",
    "- Memory handling in Python\n",
    "- Concurrency"
   ]
  },
  {
   "cell_type": "markdown",
   "id": "8598bf07",
   "metadata": {
    "slideshow": {
     "slide_type": "slide"
    }
   },
   "source": [
    "### Today's topics\n",
    "- Databases\n",
    "- Structured Query Language\n",
    " \n",
    "### Datasets\n",
    "\n",
    "* The Suppliers Database\n",
    "\n",
    "### References\n",
    "\n",
    "* [W3 Schools SQL Tutorial](https://www.w3schools.com/sql/)\n",
    "* [SQL Cheatsheet](https://www.sqltutorial.org/sql-cheat-sheet/)\n",
    "\n",
    "[PDSH]: https://jakevdp.github.io/PythonDataScienceHandbook/\n",
    "[ProGit]: https://git-scm.com/book/\n",
    "[nlpp]: https://www.nltk.org/book/\n",
    "[atap]: https://search.library.ucdavis.edu/primo-explore/fulldisplay?docid=01UCD_ALMA51320822340003126&context=L&vid=01UCD_V1&search_scope=everything_scope&tab=default_tab&lang=en_US"
   ]
  },
  {
   "cell_type": "markdown",
   "id": "fb43d093",
   "metadata": {
    "slideshow": {
     "slide_type": "slide"
    }
   },
   "source": [
    "## Databases\n",
    "\n",
    "A _database_ is a collection of data. There are several different models for how to organize data in a database; these are called _database models_. In this context, \"model\" refers to a design or mental model, not a statistical model.\n",
    "\n",
    "The _relational model_ organizes data as a collection of tables. Tables have rows (also called _tuples_ or _records_) and columns (also called _attributes_). Most tables have a _key_ column that is unique for each row and _relates_ the table to other tables. The relational model is the most popular database model by far, and the one we'll focus on in this course.\n",
    "\n",
    "There are also many different software programs for managing databases, called _database management systems_ (DBMS). Each DBMS usually has its own format for storing data on disk, independent of the database model. Some popular DBMSes are:\n",
    "\n",
    "* [SQLite](https://www.sqlite.org/)\n",
    "* [MySQL](https://www.mysql.com/)\n",
    "* [Microsoft SQL Server](https://www.microsoft.com/en-us/sql-server)\n",
    "* [PostgreSQL](https://www.postgresql.org/)\n",
    "\n",
    "Why use a database? There are several reasons:\n",
    "\n",
    "* Your data may already be in a database, so converting to another format is extra work.\n",
    "* Database operations are highly optimized, so they typically take less time and memory than an equivalent operation in Python.\n",
    "* Database operations can run on datasets that are too large to fit in memory. Doing this in Python requires special programming strategies.\n",
    "* Many DBMSes provide built-in version control, multi-user access, and security checks.\n",
    "* Databases can be updated in real time."
   ]
  },
  {
   "cell_type": "markdown",
   "id": "c6e61ac9",
   "metadata": {
    "slideshow": {
     "slide_type": "slide"
    }
   },
   "source": [
    "## Structured Query Language\n",
    "\n",
    "_Structured query language_ (SQL) is a language designed for querying information in relational databases.\n",
    "\n",
    "A free SQL tutorial is available [here](https://www.w3schools.com/sql/).\n",
    "\n",
    "### Getting Connected\n",
    "\n",
    "There are several ways to connect to a database and run SQL queries from Python:\n",
    "\n",
    "* The built-in __sqlite3__ module, which only supports SQLite.\n",
    "* The __sqlalchemy__ package, a unified interface for a variety of different SQL database formats (more than just SQLite). See the [tutorial](http://docs.sqlalchemy.org/en/latest/core/tutorial.html) for more details.\n",
    "\n",
    "We'll use a SQLite database here, since SQLite is possibly [the most-used database engine in the world](https://sqlite.org/mostdeployed.html). SQLite's popularity is partly due to its reliability, easy setup, and broad range of features.\n",
    "\n",
    "Let's connect to the suppliers database:"
   ]
  },
  {
   "cell_type": "code",
   "execution_count": null,
   "id": "a3b0aadd",
   "metadata": {
    "scrolled": true,
    "slideshow": {
     "slide_type": "subslide"
    }
   },
   "outputs": [],
   "source": [
    "import numpy as np\n",
    "import pandas as pd"
   ]
  },
  {
   "cell_type": "code",
   "execution_count": null,
   "id": "66aa7575",
   "metadata": {
    "scrolled": true
   },
   "outputs": [],
   "source": [
    "import sqlite3 as sql"
   ]
  },
  {
   "cell_type": "markdown",
   "id": "2287ad04",
   "metadata": {
    "slideshow": {
     "slide_type": "subslide"
    }
   },
   "source": [
    "To connect to a database, use the module's `connect()` function. This is similar to opening a file; you should close the database when you're done using it."
   ]
  },
  {
   "cell_type": "code",
   "execution_count": null,
   "id": "45f00190",
   "metadata": {
    "scrolled": true
   },
   "outputs": [],
   "source": [
    "db = sql.connect(\"../data/suppliers.sqlite\")"
   ]
  },
  {
   "cell_type": "code",
   "execution_count": null,
   "id": "ae4268e0",
   "metadata": {
    "scrolled": true
   },
   "outputs": [],
   "source": [
    "db"
   ]
  },
  {
   "cell_type": "markdown",
   "id": "8ac7f491",
   "metadata": {
    "slideshow": {
     "slide_type": "subslide"
    }
   },
   "source": [
    "To execute a SQL query, use the connection's `.execute()` method. This returns a _cursor_, which is a pointer to the results in the database (imagine a finger pointing at the results).\n",
    "\n",
    "SQLite databases store metadata in a special table called `sqlite_master`. We can use `sqlite_master` to find out the names of the other tables in the database."
   ]
  },
  {
   "cell_type": "code",
   "execution_count": null,
   "id": "76d8f70f",
   "metadata": {
    "scrolled": true
   },
   "outputs": [],
   "source": [
    "cur = db.execute(\"SELECT * FROM sqlite_master\")"
   ]
  },
  {
   "cell_type": "code",
   "execution_count": null,
   "id": "dad825b4",
   "metadata": {
    "scrolled": true
   },
   "outputs": [],
   "source": [
    "type(cur)"
   ]
  },
  {
   "cell_type": "markdown",
   "id": "c02a9dc5",
   "metadata": {
    "slideshow": {
     "slide_type": "subslide"
    }
   },
   "source": [
    "To get the results from the database, use one of the cursor's fetch methods. The `.fetchall()` method returns all rows in the result."
   ]
  },
  {
   "cell_type": "code",
   "execution_count": null,
   "id": "dd060d5f",
   "metadata": {
    "scrolled": false
   },
   "outputs": [],
   "source": [
    "cur.fetchall() "
   ]
  },
  {
   "cell_type": "markdown",
   "id": "6340f77c",
   "metadata": {
    "slideshow": {
     "slide_type": "subslide"
    }
   },
   "source": [
    "By default, `sqlite3` will return rows as tuples. If you'd rather have the rows as dictionaries indexed by column name, set the `.row_factory` attribute on the database connection."
   ]
  },
  {
   "cell_type": "code",
   "execution_count": null,
   "id": "92aa0bd6",
   "metadata": {
    "scrolled": true
   },
   "outputs": [],
   "source": [
    "db.row_factory = sql.Row "
   ]
  },
  {
   "cell_type": "markdown",
   "id": "39d548d4",
   "metadata": {
    "slideshow": {
     "slide_type": "subslide"
    }
   },
   "source": [
    "Now the rows will behave like dictionaries:"
   ]
  },
  {
   "cell_type": "code",
   "execution_count": null,
   "id": "6d43f3cd",
   "metadata": {
    "scrolled": true
   },
   "outputs": [],
   "source": [
    "cur = db.execute(\"SELECT * FROM sqlite_master\")\n",
    "rows = cur.fetchall() \n",
    "dict(rows[0])"
   ]
  },
  {
   "cell_type": "code",
   "execution_count": null,
   "id": "860afa61",
   "metadata": {
    "scrolled": true
   },
   "outputs": [],
   "source": [
    "rows"
   ]
  },
  {
   "cell_type": "markdown",
   "id": "cf3ad776",
   "metadata": {
    "slideshow": {
     "slide_type": "subslide"
    }
   },
   "source": [
    "Don't forget to close the database when you're done!"
   ]
  },
  {
   "cell_type": "code",
   "execution_count": null,
   "id": "2c590b7e",
   "metadata": {
    "scrolled": true
   },
   "outputs": [],
   "source": [
    "#db.close()"
   ]
  },
  {
   "cell_type": "markdown",
   "id": "9e630906",
   "metadata": {},
   "source": [
    "We'll generally use the `pd.read_sql()` function in __pandas__ to run our SQL queries. \n",
    "\n",
    "The function takes a SQL query and an open database connection as arguments, so you still need to connect to the database first with `sqlite3` or `sqlalchemy`. The result of the query is returned as a data frame."
   ]
  },
  {
   "cell_type": "markdown",
   "id": "a8420751",
   "metadata": {
    "slideshow": {
     "slide_type": "slide"
    }
   },
   "source": [
    "### `SELECT`\n",
    "\n",
    "The `SELECT` command selects rows from a table. Most of your SQL queries will start with `SELECT`. The syntax is:\n",
    "\n",
    "```sql\n",
    "SELECT col1, col2, ... FROM my_table;\n",
    "```\n",
    "\n",
    "Here `col1`, `col2`, and so on are column names and `my_table` is a table name. You can select all columns with an asterisk  `*`.\n",
    "\n",
    "SQL is not case-sensitive and ignores whitespace, but the convention is to write SQL keywords in uppercase and column/table names in lowercase. A semicolon `;` marks the end of a SQL query, but this is optional for many tools."
   ]
  },
  {
   "cell_type": "code",
   "execution_count": null,
   "id": "f7cbe1d7",
   "metadata": {
    "scrolled": true
   },
   "outputs": [],
   "source": [
    "#db.excute(\"SELECT * FROM file_name\")"
   ]
  },
  {
   "cell_type": "code",
   "execution_count": null,
   "id": "68252b99",
   "metadata": {
    "scrolled": true,
    "slideshow": {
     "slide_type": "subslide"
    }
   },
   "outputs": [],
   "source": [
    "pd.read_sql(\"SELECT * FROM sqlite_master;\", db) # ; is optional but is preferred"
   ]
  },
  {
   "cell_type": "code",
   "execution_count": null,
   "id": "3a490686",
   "metadata": {
    "scrolled": true,
    "slideshow": {
     "slide_type": "subslide"
    }
   },
   "outputs": [],
   "source": [
    "# select only name and type from the data\n",
    "pd.read_sql(\"SELECT name, type, sql FROM sqlite_master\", db)"
   ]
  },
  {
   "cell_type": "code",
   "execution_count": null,
   "id": "f7ef710e",
   "metadata": {
    "scrolled": true,
    "slideshow": {
     "slide_type": "subslide"
    }
   },
   "outputs": [],
   "source": [
    "pd.read_sql(\"SELECT * FROM suppliers;\", db)"
   ]
  },
  {
   "cell_type": "code",
   "execution_count": null,
   "id": "e9deb238",
   "metadata": {
    "scrolled": true,
    "slideshow": {
     "slide_type": "subslide"
    }
   },
   "outputs": [],
   "source": [
    "pd.read_sql(\"SELECT * FROM parts;\", db)"
   ]
  },
  {
   "cell_type": "code",
   "execution_count": null,
   "id": "aaf05e70",
   "metadata": {
    "scrolled": false,
    "slideshow": {
     "slide_type": "subslide"
    }
   },
   "outputs": [],
   "source": [
    "pd.read_sql(\"SELECT * FROM supplierparts;\", db)"
   ]
  },
  {
   "cell_type": "markdown",
   "id": "f963b787",
   "metadata": {
    "slideshow": {
     "slide_type": "slide"
    }
   },
   "source": [
    "### `LIMIT`\n",
    "\n",
    "The `SELECT` command can be extended with many other keywords.\n",
    "\n",
    "The first of these is `LIMIT`, which limits the number of rows returned. `LIMIT` is the SQL equivalent of Pandas' `.head()` method."
   ]
  },
  {
   "cell_type": "code",
   "execution_count": null,
   "id": "ef996456",
   "metadata": {
    "scrolled": true
   },
   "outputs": [],
   "source": [
    "pd.read_sql(\"SELECT * FROM parts LIMIT 4\", db)"
   ]
  },
  {
   "cell_type": "markdown",
   "id": "b0ebe3bd",
   "metadata": {
    "slideshow": {
     "slide_type": "slide"
    }
   },
   "source": [
    "### `DISTINCT`\n",
    "\n",
    "The `DISTINCT` keyword limits rows to distinct results. `DISTINCT` is the SQL equivalent of Pandas' `.drop_duplicates()` method.\n",
    "\n",
    "Keep in mind that `DISTINCT` applies to all of the selected columns, not just one column."
   ]
  },
  {
   "cell_type": "code",
   "execution_count": null,
   "id": "7b01b48d",
   "metadata": {
    "scrolled": true
   },
   "outputs": [],
   "source": [
    "pd.read_sql(\"SELECT DISTINCT color, city FROM parts LIMIT 2\", db)"
   ]
  },
  {
   "cell_type": "code",
   "execution_count": null,
   "id": "af1f7678",
   "metadata": {
    "scrolled": true,
    "slideshow": {
     "slide_type": "subslide"
    }
   },
   "outputs": [],
   "source": [
    "pd.read_sql(\"SELECT DISTINCT color, city FROM parts;\", db)"
   ]
  },
  {
   "cell_type": "markdown",
   "id": "a47a48d2",
   "metadata": {
    "slideshow": {
     "slide_type": "slide"
    }
   },
   "source": [
    "### `ORDER BY`\n",
    "\n",
    "The `ORDER BY` keyword sorts the returned rows. `ORDER BY` is the SQL equivalent of Pandas' `.sort_values()` method."
   ]
  },
  {
   "cell_type": "code",
   "execution_count": null,
   "id": "d1b96350",
   "metadata": {
    "scrolled": true
   },
   "outputs": [],
   "source": [
    "pd.read_sql(\"SELECT * FROM parts ORDER BY color, weight LIMIT 1\", db)"
   ]
  },
  {
   "cell_type": "markdown",
   "id": "9a668215",
   "metadata": {
    "slideshow": {
     "slide_type": "subslide"
    }
   },
   "source": [
    "Add the suffix `ASC` for an ascending sort (smallest to largest) and `DESC` for a descending sort (largest to smallest).\n",
    "\n",
    "In SQLite, the default is ascending, but other other databases may differ."
   ]
  },
  {
   "cell_type": "code",
   "execution_count": null,
   "id": "3c4b60a8",
   "metadata": {
    "scrolled": true
   },
   "outputs": [],
   "source": [
    "pd.read_sql(\"SELECT * FROM parts ORDER BY weight DESC, color;\", db)"
   ]
  },
  {
   "cell_type": "code",
   "execution_count": null,
   "id": "8b3b1f9c",
   "metadata": {
    "scrolled": true,
    "slideshow": {
     "slide_type": "subslide"
    }
   },
   "outputs": [],
   "source": [
    "pd.read_sql('''SELECT partid \n",
    "               FROM parts \n",
    "               ORDER BY weight DESC, color;''', db)"
   ]
  },
  {
   "cell_type": "markdown",
   "id": "c9ed52b3",
   "metadata": {
    "slideshow": {
     "slide_type": "slide"
    }
   },
   "source": [
    "### `WHERE`\n",
    "\n",
    "`WHERE` puts conditions on the rows returned. `WHERE` is the SQL equivalent of subsetting.\n",
    "\n",
    "You can use `=` to test equality. Other comparison operators, such as `>=`, are also available."
   ]
  },
  {
   "cell_type": "code",
   "execution_count": null,
   "id": "f518bc1a",
   "metadata": {
    "scrolled": true
   },
   "outputs": [],
   "source": [
    "pd.read_sql(\"SELECT * FROM parts WHERE weight >= 12 AND city = 'Paris'\", db)"
   ]
  },
  {
   "cell_type": "code",
   "execution_count": null,
   "id": "22b3d396",
   "metadata": {
    "scrolled": true,
    "slideshow": {
     "slide_type": "subslide"
    }
   },
   "outputs": [],
   "source": [
    "pd.read_sql('''SELECT * \n",
    "               FROM parts \n",
    "               WHERE weight >= 17 OR (color = 'Green' AND city != 'London');\n",
    "''', db)"
   ]
  },
  {
   "cell_type": "markdown",
   "id": "61b95f1c",
   "metadata": {
    "slideshow": {
     "slide_type": "subslide"
    }
   },
   "source": [
    "You can use `AND` and `OR` to combine conditions. You can also use parenthesis to indicate the order of operations."
   ]
  },
  {
   "cell_type": "code",
   "execution_count": null,
   "id": "cb1c2080",
   "metadata": {
    "scrolled": true
   },
   "outputs": [],
   "source": [
    "pd.read_sql(\"SELECT * FROM parts WHERE (city = 'London' OR city = 'Paris') AND (color = 'Red' OR color = 'Green');\", db)"
   ]
  },
  {
   "cell_type": "markdown",
   "id": "c48ee503",
   "metadata": {
    "slideshow": {
     "slide_type": "subslide"
    }
   },
   "source": [
    "You can use `IN` to check whether a value is in a collection of values."
   ]
  },
  {
   "cell_type": "code",
   "execution_count": null,
   "id": "d0f2e8f5",
   "metadata": {
    "scrolled": true
   },
   "outputs": [],
   "source": [
    "pd.read_sql(\"SELECT * FROM parts WHERE weight IN (12, 14, 17) AND city IN ('Oslo');\", db)"
   ]
  },
  {
   "cell_type": "code",
   "execution_count": null,
   "id": "defca565",
   "metadata": {
    "scrolled": true,
    "slideshow": {
     "slide_type": "subslide"
    }
   },
   "outputs": [],
   "source": [
    "pd.read_sql(\"SELECT * FROM parts;\", db)"
   ]
  },
  {
   "cell_type": "markdown",
   "id": "b2b422a0",
   "metadata": {
    "slideshow": {
     "slide_type": "slide"
    }
   },
   "source": [
    "SQL's `LIKE` keyword does simple pattern-matching language for strings. This is less powerful than regular expressions, but still useful.\n",
    "\n",
    "* `%` matches zero or more of any character, similar to regex (re) `.*`\n",
    "* `_` matches any one character, similar to regex `.`\n",
    "\n",
    "In other databases (but not SQLite):\n",
    "* `[]` matches any one of the characters you put inside the brackets, identical to regex `[]`"
   ]
  },
  {
   "cell_type": "code",
   "execution_count": null,
   "id": "30f9a215",
   "metadata": {
    "slideshow": {
     "slide_type": "subslide"
    }
   },
   "outputs": [],
   "source": [
    "pd.read_sql(\"SELECT * FROM parts;\", db)"
   ]
  },
  {
   "cell_type": "code",
   "execution_count": null,
   "id": "8057bb6c",
   "metadata": {
    "scrolled": true,
    "slideshow": {
     "slide_type": "subslide"
    }
   },
   "outputs": [],
   "source": [
    "pd.read_sql(\"SELECT * FROM parts WHERE city LIKE 'o%';\", db)"
   ]
  },
  {
   "cell_type": "markdown",
   "id": "7ddaf3d5",
   "metadata": {
    "slideshow": {
     "slide_type": "subslide"
    }
   },
   "source": [
    "The `BETWEEN` ... `AND` keyword is useful for selecting ranges."
   ]
  },
  {
   "cell_type": "code",
   "execution_count": null,
   "id": "d47f98a9",
   "metadata": {
    "scrolled": true
   },
   "outputs": [],
   "source": [
    "pd.read_sql(\"SELECT * FROM parts WHERE weight IN (12, 14, 17) ORDER BY weight DESC;\", db)"
   ]
  },
  {
   "cell_type": "markdown",
   "id": "bd2c89a3",
   "metadata": {
    "slideshow": {
     "slide_type": "slide"
    }
   },
   "source": [
    "### Operators\n",
    "\n",
    "You can use arithmetic operators `+`, `-`, `*`, `/`, `%` on SQL columns to perform columnwise computations. These are the SQL equivalent of vectorized arithmetic."
   ]
  },
  {
   "cell_type": "code",
   "execution_count": null,
   "id": "0501eb5b",
   "metadata": {
    "scrolled": true
   },
   "outputs": [],
   "source": [
    "pd.read_sql(\"SELECT * FROM parts WHERE weight+weight > 30\", db) # the first *: multiplication, and the second *: reads all columns."
   ]
  },
  {
   "cell_type": "code",
   "execution_count": null,
   "id": "27203b91",
   "metadata": {
    "scrolled": true,
    "slideshow": {
     "slide_type": "subslide"
    }
   },
   "outputs": [],
   "source": [
    "pd.read_sql(\"SELECT weight + weight AS double_weight, * FROM parts\", db)"
   ]
  },
  {
   "cell_type": "code",
   "execution_count": null,
   "id": "a261be9c",
   "metadata": {
    "scrolled": true,
    "slideshow": {
     "slide_type": "subslide"
    }
   },
   "outputs": [],
   "source": [
    "pd.read_sql('''\n",
    "    SELECT weight + weight AS double_weight, * \n",
    "    FROM parts \n",
    "    WHERE weight * weight > 200;\n",
    "''', db)"
   ]
  },
  {
   "cell_type": "markdown",
   "id": "ff1e2435",
   "metadata": {
    "slideshow": {
     "slide_type": "subslide"
    }
   },
   "source": [
    "### `AS`\n",
    "\n",
    "You can rename a column with the `AS` keyword. This keyword is especially useful together with SQL arithmetic operators and functions."
   ]
  },
  {
   "cell_type": "code",
   "execution_count": null,
   "id": "aaf03bc5",
   "metadata": {
    "scrolled": true
   },
   "outputs": [],
   "source": [
    "pd.read_sql('''\n",
    "    SELECT weight + weight AS weightsum, * \n",
    "    FROM parts \n",
    "    WHERE weight * weight > 200;\n",
    "''', db)"
   ]
  },
  {
   "cell_type": "markdown",
   "id": "3cd0687b",
   "metadata": {
    "slideshow": {
     "slide_type": "slide"
    }
   },
   "source": [
    "### Functions & Aggregation\n",
    "\n",
    "SQL has built-in functions, which vary from one DBMS to another. The SQL cheatsheet lists most of the functions supported by SQLite.\n",
    "\n",
    "Most SQL functions aggregate data in a column, summarizing that column somehow."
   ]
  },
  {
   "cell_type": "code",
   "execution_count": null,
   "id": "db08df8c",
   "metadata": {
    "scrolled": true
   },
   "outputs": [],
   "source": [
    "pd.read_sql('''\n",
    "    SELECT weight * 12 AS multiplied_weight, * \n",
    "    FROM parts;\n",
    "''', db)"
   ]
  },
  {
   "cell_type": "code",
   "execution_count": null,
   "id": "cceafb56",
   "metadata": {
    "slideshow": {
     "slide_type": "subslide"
    }
   },
   "outputs": [],
   "source": [
    "pd.read_sql('''SELECT SUM(weight * 12) AS avg_multiplied_weight\n",
    "               FROM parts;\n",
    "''', db)"
   ]
  },
  {
   "cell_type": "code",
   "execution_count": null,
   "id": "cc92cf7b",
   "metadata": {
    "scrolled": true,
    "slideshow": {
     "slide_type": "subslide"
    }
   },
   "outputs": [],
   "source": [
    "pd.read_sql(\"SELECT * FROM parts;\", db) "
   ]
  },
  {
   "cell_type": "code",
   "execution_count": null,
   "id": "1522a918",
   "metadata": {
    "scrolled": true
   },
   "outputs": [],
   "source": [
    "pd.read_sql(\"SELECT COUNT(*) AS numberrows FROM parts;\", db) "
   ]
  },
  {
   "cell_type": "code",
   "execution_count": null,
   "id": "1b09134f",
   "metadata": {
    "scrolled": true,
    "slideshow": {
     "slide_type": "subslide"
    }
   },
   "outputs": [],
   "source": [
    "pd.read_sql(\"SELECT UPPER(partname) AS uppercity, * FROM parts;\", db) "
   ]
  },
  {
   "cell_type": "markdown",
   "id": "1e3985e9",
   "metadata": {
    "slideshow": {
     "slide_type": "slide"
    }
   },
   "source": [
    "### `GROUP BY`\n",
    "\n",
    "The `GROUP BY` keyword groups rows before they are aggregated. `GROUP BY` is the SQL equivalent of Pandas' `.groupby()` method."
   ]
  },
  {
   "cell_type": "code",
   "execution_count": null,
   "id": "3d3020c1",
   "metadata": {
    "scrolled": true
   },
   "outputs": [],
   "source": [
    "pd.read_sql(\"SELECT * FROM parts ORDER BY city\", db)"
   ]
  },
  {
   "cell_type": "code",
   "execution_count": null,
   "id": "0fd3294c",
   "metadata": {
    "scrolled": true
   },
   "outputs": [],
   "source": [
    "pd.read_sql('''SELECT AVG(weight) AS avg_weight_per_city, city, color\n",
    "               FROM parts \n",
    "               GROUP BY city, color;''', db)"
   ]
  },
  {
   "cell_type": "code",
   "execution_count": null,
   "id": "2fe9b7d7",
   "metadata": {
    "scrolled": true,
    "slideshow": {
     "slide_type": "subslide"
    }
   },
   "outputs": [],
   "source": [
    "pd.read_sql(\"SELECT AVG(weight), city, partname FROM parts GROUP BY city, partname;\", db)"
   ]
  },
  {
   "cell_type": "markdown",
   "id": "c4210542",
   "metadata": {
    "slideshow": {
     "slide_type": "slide"
    }
   },
   "source": [
    "### `HAVING`\n",
    "\n",
    "The `WHERE` keyword puts conditions on the rows returned _before computing any aggregate functions._ So use `WHERE` to remove rows before aggregation.\n",
    "\n",
    "The `HAVING` keyword puts conditions on the rows returned _after computing any aggregate functions._ So use `HAVING` to remove rows after aggregation. `HAVING` is most useful for conditions on the result of an aggregate."
   ]
  },
  {
   "cell_type": "code",
   "execution_count": null,
   "id": "e5b7133c",
   "metadata": {},
   "outputs": [],
   "source": [
    "pd.read_sql('''\n",
    "    SELECT city\n",
    "    FROM (SELECT AVG(weight) AS avg_weight, city  \n",
    "          FROM parts \n",
    "          WHERE weight > 15 \n",
    "          GROUP BY city)\n",
    "    WHERE avg_weight <= 17\n",
    "''', db)"
   ]
  },
  {
   "cell_type": "code",
   "execution_count": null,
   "id": "fda7a034",
   "metadata": {
    "scrolled": true
   },
   "outputs": [],
   "source": [
    "pd.read_sql(''' \n",
    "    SELECT city\n",
    "    FROM parts \n",
    "    WHERE weight > 15 \n",
    "    GROUP BY city\n",
    "    HAVING AVG(weight) <= 17\n",
    "''', db)"
   ]
  },
  {
   "cell_type": "code",
   "execution_count": null,
   "id": "79c1b6a3",
   "metadata": {
    "scrolled": true,
    "slideshow": {
     "slide_type": "subslide"
    }
   },
   "outputs": [],
   "source": [
    "pd.read_sql(\"SELECT AVG(weight) AS avg_weight, city FROM parts GROUP BY city HAVING avg_weight > 15\", db)"
   ]
  },
  {
   "cell_type": "markdown",
   "id": "5802fa74",
   "metadata": {
    "slideshow": {
     "slide_type": "slide"
    }
   },
   "source": [
    "### Joins\n",
    "\n",
    "A `JOIN` combines two tables using a column they have in common. `JOIN` is the SQL equivalent of Pandas' `.join()` method and `pd.merge()` function."
   ]
  },
  {
   "cell_type": "code",
   "execution_count": null,
   "id": "6132b424",
   "metadata": {
    "scrolled": false
   },
   "outputs": [],
   "source": [
    "pd.read_sql(\"SELECT * FROM supplierparts\", db)"
   ]
  },
  {
   "cell_type": "code",
   "execution_count": null,
   "id": "308b62b1",
   "metadata": {
    "scrolled": false,
    "slideshow": {
     "slide_type": "subslide"
    }
   },
   "outputs": [],
   "source": [
    "pd.read_sql(\"\"\"\n",
    "    SELECT * \n",
    "    FROM parts RIGHT JOIN supplierparts \n",
    "    ON supplierparts.partid = parts.partid\n",
    "\"\"\", db)"
   ]
  },
  {
   "cell_type": "markdown",
   "id": "27e2504d",
   "metadata": {
    "slideshow": {
     "slide_type": "subslide"
    }
   },
   "source": [
    "SQLite supports two kinds of joins:\n",
    "* Left join (`LEFT JOIN`): Keep all rows from the left table, merging rows from the right.\n",
    "* Inner join (`INNER JOIN`): Keep only rows where there is a match.\n",
    "\n",
    "Other DBMSes sometimes support two more kinds of joins:\n",
    "* Right join: Keep all rows from the right table, merging rows from the left.\n",
    "* Full join: Keep all rows from both tables, merging where there are matches."
   ]
  },
  {
   "cell_type": "code",
   "execution_count": null,
   "id": "236ac297",
   "metadata": {
    "scrolled": true,
    "slideshow": {
     "slide_type": "subslide"
    }
   },
   "outputs": [],
   "source": [
    "pd.read_sql(\"SELECT * FROM supplierparts\", db)"
   ]
  },
  {
   "cell_type": "code",
   "execution_count": null,
   "id": "07da7d6a",
   "metadata": {
    "scrolled": false,
    "slideshow": {
     "slide_type": "subslide"
    }
   },
   "outputs": [],
   "source": [
    "pd.read_sql(\"\"\"\n",
    "    SELECT * \n",
    "    FROM supplierparts AS l\n",
    "    LEFT JOIN suppliers AS r\n",
    "    ON l.supplierid = r.supplierid;\n",
    "\"\"\", db)"
   ]
  },
  {
   "cell_type": "code",
   "execution_count": null,
   "id": "a979f3fd",
   "metadata": {
    "scrolled": false,
    "slideshow": {
     "slide_type": "subslide"
    }
   },
   "outputs": [],
   "source": [
    "pd.read_sql(\"\"\"\n",
    "    SELECT l.qty, r.* \n",
    "    FROM supplierparts AS l\n",
    "    LEFT JOIN suppliers AS r\n",
    "    ON l.supplierid = r.supplierid;\n",
    "\"\"\", db)"
   ]
  },
  {
   "cell_type": "markdown",
   "id": "02137fa0",
   "metadata": {
    "slideshow": {
     "slide_type": "subslide"
    }
   },
   "source": [
    "### Subqueries\n",
    "\n",
    "You can write one or more `SELECT` queries within another:"
   ]
  },
  {
   "cell_type": "code",
   "execution_count": null,
   "id": "e126a16b",
   "metadata": {
    "scrolled": true
   },
   "outputs": [],
   "source": [
    "pd.read_sql(\"\"\"\n",
    "    SELECT * \n",
    "    FROM (\n",
    "        SELECT l.*, r.supplierid, r.qty \n",
    "        FROM parts AS l INNER JOIN supplierparts AS r\n",
    "        ON l.partid = r.partid) AS a\n",
    "    INNER JOIN\n",
    "        (SELECT * FROM suppliers\n",
    "        WHERE status > 10) AS b\n",
    "    ON a.supplierid = b.supplierid;\n",
    "\"\"\", db) "
   ]
  },
  {
   "cell_type": "markdown",
   "id": "0de10a5e",
   "metadata": {
    "slideshow": {
     "slide_type": "slide"
    }
   },
   "source": [
    "You can paste strings into SQL queries, but make sure the string you paste in isn't compromised (e.g., user input)"
   ]
  },
  {
   "cell_type": "markdown",
   "id": "4fab3e2c",
   "metadata": {
    "slideshow": {
     "slide_type": "-"
    }
   },
   "source": [
    "![Drag Racing](https://imgs.xkcd.com/comics/exploits_of_a_mom_2x.png)"
   ]
  },
  {
   "cell_type": "code",
   "execution_count": null,
   "id": "232703a1",
   "metadata": {
    "scrolled": true,
    "slideshow": {
     "slide_type": "subslide"
    }
   },
   "outputs": [],
   "source": [
    "val = pd.read_sql(\"SELECT AVG(weight) FROM parts\", db).iloc[0, 0]\n",
    "val"
   ]
  },
  {
   "cell_type": "code",
   "execution_count": null,
   "id": "738a7d67",
   "metadata": {
    "scrolled": true,
    "slideshow": {
     "slide_type": "-"
    }
   },
   "outputs": [],
   "source": [
    "query = \"SELECT * FROM parts WHERE weight > \" + format(val) #+ \"; NEW QUERY\"\n",
    "query"
   ]
  },
  {
   "cell_type": "code",
   "execution_count": null,
   "id": "c80fdb36",
   "metadata": {
    "scrolled": true
   },
   "outputs": [],
   "source": [
    "pd.read_sql(query, db)"
   ]
  },
  {
   "cell_type": "markdown",
   "id": "1389b34e",
   "metadata": {
    "slideshow": {
     "slide_type": "slide"
    }
   },
   "source": [
    "### Database Operations: CRUD\n",
    "\n",
    "So far we've only learned 1/4 of the basic operations most databases support. They are:\n",
    "\n",
    "* Create (`CREATE`): Create a new table.\n",
    "* Read (`SELECT`): Read some rows from a table.\n",
    "* Update (`UPDATE`): Update rows in a table.\n",
    "* Delete (`DROP`): Delete a table.\n",
    "\n",
    "For data analysis, you'll usually only need to read data.\n",
    "\n",
    "Once in a while, it can be useful to create tables to store complicated results. We have to go back to __sqlite3__ to run SQL commands other than `SELECT`."
   ]
  },
  {
   "cell_type": "code",
   "execution_count": null,
   "id": "290a1e82",
   "metadata": {
    "scrolled": true,
    "slideshow": {
     "slide_type": "subslide"
    }
   },
   "outputs": [],
   "source": [
    "result = db.execute(\"\"\"\n",
    "    CREATE TABLE table2 AS\n",
    "        SELECT l.*, r.qty, r.supplierid FROM\n",
    "            parts AS l\n",
    "        INNER JOIN\n",
    "            supplierparts AS r\n",
    "        ON l.partid = r.partid\n",
    "\"\"\")\n",
    "\n",
    "# Force the database to run (\"commit\") the query.\n",
    "# Otherwise the database evaluates queries lazily, so the table will not show up.\n",
    "db.commit()"
   ]
  },
  {
   "cell_type": "code",
   "execution_count": null,
   "id": "cca33468",
   "metadata": {
    "scrolled": true,
    "slideshow": {
     "slide_type": "subslide"
    }
   },
   "outputs": [],
   "source": [
    "pd.read_sql(\"SELECT * FROM sqlite_master\", db)"
   ]
  },
  {
   "cell_type": "code",
   "execution_count": null,
   "id": "58472423",
   "metadata": {
    "scrolled": true,
    "slideshow": {
     "slide_type": "subslide"
    }
   },
   "outputs": [],
   "source": [
    "pd.read_sql(\"SELECT * FROM sqlite_master\", db)"
   ]
  },
  {
   "cell_type": "code",
   "execution_count": null,
   "id": "e8a1da9b",
   "metadata": {
    "scrolled": true,
    "slideshow": {
     "slide_type": "subslide"
    }
   },
   "outputs": [],
   "source": [
    "db.execute(\"DROP TABLE table2;\")\n",
    "db.commit()"
   ]
  },
  {
   "cell_type": "code",
   "execution_count": null,
   "id": "9ce81097",
   "metadata": {
    "scrolled": true
   },
   "outputs": [],
   "source": [
    "db.close()"
   ]
  },
  {
   "cell_type": "markdown",
   "id": "9c5d0961",
   "metadata": {
    "slideshow": {
     "slide_type": "slide"
    }
   },
   "source": [
    "## Other Databases\n",
    "\n",
    "You can use the __sqlalchemy__ package to connect to many different kinds of databases (not only SQLite).\n",
    "\n",
    "The `sqlalchemy.create_engine()` function creates an _engine_ to connect to a database. The `.raw_connection()` method on the returned engine opens a connection compatible with Pandas.\n",
    "\n",
    "See the __sqlalchemy__ documentation for more info about [how to write a database URL](https://docs.sqlalchemy.org/en/latest/core/engines.html#database-urls)."
   ]
  },
  {
   "cell_type": "code",
   "execution_count": null,
   "id": "e50144b9",
   "metadata": {
    "scrolled": true
   },
   "outputs": [],
   "source": [
    "import sqlalchemy\n",
    "\n",
    "engine = sqlalchemy.create_engine(\"sqlite:///../data/suppliers.sqlite\")\n",
    "conn = engine.raw_connection()"
   ]
  },
  {
   "cell_type": "code",
   "execution_count": null,
   "id": "af2a3959",
   "metadata": {
    "scrolled": true
   },
   "outputs": [],
   "source": [
    "conn"
   ]
  },
  {
   "cell_type": "code",
   "execution_count": null,
   "id": "f8a1133f",
   "metadata": {
    "scrolled": true,
    "slideshow": {
     "slide_type": "subslide"
    }
   },
   "outputs": [],
   "source": [
    "pd.read_sql(\"SELECT * FROM sqlite_master\", conn)"
   ]
  },
  {
   "cell_type": "code",
   "execution_count": null,
   "id": "38b96906",
   "metadata": {
    "scrolled": true
   },
   "outputs": [],
   "source": [
    "engine.table_names()"
   ]
  },
  {
   "cell_type": "code",
   "execution_count": null,
   "id": "7f4935ea",
   "metadata": {
    "scrolled": true
   },
   "outputs": [],
   "source": [
    "conn.close()"
   ]
  },
  {
   "cell_type": "markdown",
   "id": "6fa6df02",
   "metadata": {
    "slideshow": {
     "slide_type": "subslide"
    }
   },
   "source": [
    "Unlike SQLite, most databases:\n",
    "\n",
    "* Are not stored in a single file.\n",
    "* Have a client-server design, where you connect to the database by logging in with a username and password."
   ]
  }
 ],
 "metadata": {
  "celltoolbar": "Slideshow",
  "kernelspec": {
   "display_name": "Python 3 (ipykernel)",
   "language": "python",
   "name": "python3"
  },
  "language_info": {
   "codemirror_mode": {
    "name": "ipython",
    "version": 3
   },
   "file_extension": ".py",
   "mimetype": "text/x-python",
   "name": "python",
   "nbconvert_exporter": "python",
   "pygments_lexer": "ipython3",
   "version": "3.9.12"
  },
  "vscode": {
   "interpreter": {
    "hash": "b2b12ec50b0a525a62abe739e766b0c808eccd181e3f804cedbbca00f4d5b392"
   }
  }
 },
 "nbformat": 4,
 "nbformat_minor": 5
}
