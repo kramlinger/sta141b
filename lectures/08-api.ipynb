{
 "cells": [
  {
   "cell_type": "markdown",
   "id": "f717f3e4",
   "metadata": {
    "slideshow": {
     "slide_type": "slide"
    }
   },
   "source": [
    "# STA 141B Data & Web Technologies for Data Analysis\n",
    "\n",
    "### Lecture 8, 2/4/25, APIs\n"
   ]
  },
  {
   "cell_type": "markdown",
   "id": "ceda6e19",
   "metadata": {
    "slideshow": {
     "slide_type": "slide"
    }
   },
   "source": [
    "### Announcements\n",
    "\n",
    "- HW 2 is due this Sunday. "
   ]
  },
  {
   "cell_type": "markdown",
   "id": "29af6ed1",
   "metadata": {
    "slideshow": {
     "slide_type": "slide"
    }
   },
   "source": [
    "### Last week's topics\n",
    "\n",
    "- Exam \n",
    "- SQL"
   ]
  },
  {
   "cell_type": "markdown",
   "id": "7e9db447",
   "metadata": {
    "slideshow": {
     "slide_type": "slide"
    }
   },
   "source": [
    "### Today's topics\n",
    "\n",
    "- Final project\n",
    "- Getting Data from the Web\n",
    "- Hypertext Transfer Protocol\n",
    "- Representational State Transfer\n",
    "- iTunes API\n",
    "- Caching\n",
    "- API Keys\n",
    "- Guardian API\n",
    "\n",
    "### Resources\n",
    " - [iTunes Search API](https://affiliate.itunes.apple.com/resources/documentation/itunes-store-web-service-search-api/)\n",
    " - [Guardian API](https://open-platform.theguardian.com/documentation/)"
   ]
  },
  {
   "cell_type": "markdown",
   "id": "95271974",
   "metadata": {},
   "source": [
    "### Getting Data from the Web\n",
    "\n",
    "We consider three ways one can get data from the web, from most to least convenient:\n",
    "1. Direct download\n",
    "2. API\n",
    "3. Scraping\n",
    "\n",
    "Always look for a direct download first!\n",
    "\n",
    "##### Difference between web scraping and API\n",
    "\n",
    "_Web Scraping_ refers to the process of extracting data from a website or specific webpage.\n",
    "\n",
    "API stands for _application programming interface_ (API) is a collection of functions and data structures for communicating with other software. For instance, whenever you use a Python package, you're using the API created by the package's developers.\n",
    "\n",
    "The goal of both web scraping and (web) APIs is to access web data.\n",
    "\n",
    "Web scraping allows you to extract data from any website through the use of web scraping software. On the other hand, APIs give you direct access to the data you want.\n",
    "\n",
    "Websites sometimes provide an API so that programmers can access content without web scraping. "
   ]
  },
  {
   "cell_type": "markdown",
   "id": "827579f0",
   "metadata": {},
   "source": [
    "### Hypertext Transfer Protocol\n",
    "\n",
    "The hypertext transfer protocol (HTTP) is a set of rules for communicating over the internet.\n",
    "\n",
    "For example, your web browser uses HTTP every time you visit a web page. The browser makes a _request_ to the server for the page, and if nothing goes wrong, the server _responds_ with the page. If you have Firefox or Chrome, you can inspect these requests with your browser's web developer tools (Windows: <kbd>Ctrl</kbd> + <kbd>i</kbd>; MacOS: <kbd>&#8984;</kbd> + <kbd>&#8997;</kbd> + <kbd>i</kbd>).\n",
    "\n",
    "Several [different kinds of HTTP requests](https://en.wikipedia.org/wiki/Hypertext_Transfer_Protocol#Request_methods) are possible. Think of these as the different \"verbs\" you can use when communicating in HTTP.\n",
    "\n",
    "Many protocols exist for communicating over the internet. For instance, you may have heard of _file transfer protocol_ (FTP) for transferring files, or _simple mail transfer protocol_ (SMTP) for sending/receiving email. However, web APIs almost always use HTTP."
   ]
  },
  {
   "cell_type": "markdown",
   "id": "8ba672dc",
   "metadata": {},
   "source": [
    "A response to an HTTP request always includes a status code that summarizes whether the request was successful. Wikipedia has a full [list of HTTP status codes](https://en.wikipedia.org/wiki/List_of_HTTP_status_codes). Generally,\n",
    "\n",
    "* 200-299: Your request succeeded.\n",
    "* 300-399: You need to take further action to complete the request.\n",
    "* 400-499: Your request wasn't valid (you made a mistake). You've probably seen 404 before!\n",
    "* 500-599: Your request failed (the server made a mistake)."
   ]
  },
  {
   "cell_type": "markdown",
   "id": "5d5c5939",
   "metadata": {},
   "source": [
    "### Representational State Transfer \n",
    "\n",
    "The most popular kind of web API is a _representational state transfer_ (REST) API. The API needs to meet the following architectural requirements to be considered a REST API:\n",
    "\n",
    "- Client-server: REST applications have a server that manages application data and state. \n",
    "- Stateless: Servers don’t maintain client state, clients manage their own application state. The client’s requests to the server contain all the information required to process them.\n",
    "- Cacheable: servers must mark their responses as cacheable or not. Systems and clients can cache responses when convenient to improve performance. \n",
    "- Uniform interface: This is REST’s most well-known feature or rule. \n",
    "\n",
    "The URL with which we can talk to the server is sometimes called *endpoint*. "
   ]
  },
  {
   "cell_type": "markdown",
   "id": "362d8ccc",
   "metadata": {},
   "source": [
    "### iTunes API\n",
    "\n",
    "We use the iTunes API at `https://itunes.apple.com/search`, see [documentation](https://developer.apple.com/library/archive/documentation/AudioVideo/Conceptual/iTuneSearchAPI/Searching.html#//apple_ref/doc/uid/TP40017632-CH5-SW1). \n",
    "\n",
    "When you first use a web API, check the documentation to find out what the endpoints are and what kind of HTTP requests to use. If the documentation doesn't mention what kind of HTTP request to use, then GET is usually the right choice."
   ]
  },
  {
   "cell_type": "markdown",
   "id": "5063c5af",
   "metadata": {},
   "source": [
    "#### Making Requests\n",
    "\n",
    "Python's `requests` package provides functions for making HTTP requests. Let's use the endpoint we learned from the iTunes API."
   ]
  },
  {
   "cell_type": "code",
   "execution_count": null,
   "id": "bd240f48",
   "metadata": {},
   "outputs": [],
   "source": [
    "import requests"
   ]
  },
  {
   "cell_type": "markdown",
   "id": "2b90545b",
   "metadata": {},
   "source": [
    "The syntax for the `requests` package is `response = requests.get(\"WEBSITE ADDRESS\")`. "
   ]
  },
  {
   "cell_type": "markdown",
   "id": "257cf0b5",
   "metadata": {},
   "source": [
    "#### Query Strings\n",
    "\n",
    "Most of the functions we use have parameters, and you can pass arguments for those parameters when you call a function.\n",
    "\n",
    "Endpoints in REST APIs work the same way, but the syntax is different. You can pass arguments by adding `?PARAMETER=ARGUMENT` to the end of the URL. Parameter and argument pairs are separated by `&`. This syntax is called a _query string_.\n",
    "\n",
    "The search endpoint is `https://itunes.apple.com/search`, and the documentation lists several parameters. We can use `requests` to build the query string automatically.\n",
    "\n",
    "Lets answer the question: How many albums of *Beyoncé* are on iTunes? "
   ]
  },
  {
   "cell_type": "code",
   "execution_count": null,
   "id": "001f2733",
   "metadata": {},
   "outputs": [],
   "source": [
    "r = requests.get(\"https://itunes.apple.com/search\", params = {\n",
    "        \"term\": \"beyonce\", # add multiple terms via +\n",
    "        \"media\": \"music\",\n",
    "        \"entity\": \"album\",\n",
    "        \"attribute\": \"tvEpisodeTerm\", # check iTunes docs\n",
    "        \"country\": \"US\", \n",
    "        \"limit\": \"1\"\n",
    "    })"
   ]
  },
  {
   "cell_type": "code",
   "execution_count": null,
   "id": "24195549",
   "metadata": {},
   "outputs": [],
   "source": [
    "type(r)"
   ]
  },
  {
   "cell_type": "code",
   "execution_count": null,
   "id": "e9e2a2be",
   "metadata": {},
   "outputs": [],
   "source": [
    "r.url"
   ]
  },
  {
   "cell_type": "code",
   "execution_count": null,
   "id": "9546015b",
   "metadata": {},
   "outputs": [],
   "source": [
    "r"
   ]
  },
  {
   "cell_type": "markdown",
   "id": "e67a60a6",
   "metadata": {},
   "source": [
    "You can have `requests` check the status for you with the `.raise_for_status()` method."
   ]
  },
  {
   "cell_type": "code",
   "execution_count": null,
   "id": "a78df907",
   "metadata": {},
   "outputs": [],
   "source": [
    "r.url"
   ]
  },
  {
   "cell_type": "code",
   "execution_count": null,
   "id": "6c60a77a",
   "metadata": {},
   "outputs": [],
   "source": [
    "response = requests.get(\"https://itunes.apple.com/search\", params = {\n",
    "        \"term\": \"beyonce\", \n",
    "        \"media\": \"music\",\n",
    "        \"entity\": \"album\",\n",
    "        \"attribute\": \"artistTerm\", # artistsTerm is no valid attribute! \n",
    "        \"country\": \"US\", \n",
    "        \"limit\": \"200\"\n",
    "    })"
   ]
  },
  {
   "cell_type": "markdown",
   "id": "d2a2356d",
   "metadata": {},
   "source": [
    "Once you have the response, now what? Where's the data? Different web APIs use different formats. Again, see the documentation. Two common formats are:\n",
    "\n",
    " - _JavaScript Object Notation_ (JSON): JSON looks and works a lot like Python lists and dictionaries. Lists are surrounded with `[ ]`, and dictionaries are surrounded with `{ }`. There are many Python libraries for reading JSON into lists and dictionaries. Jupyter notebooks are an example of a file in JSON format.\n",
    "\n",
    " - _eXtensible Markup Language_ (XML): XML uses \"tags\" denoted by `< >` to mark up sections of text. We'll learn more about XML when we learn about web scraping, since XML is very similar to hypertext markup language (HTML), the language used to build web pages.\n",
    "\n",
    "The iTunes returns data in JSON format (derived from JavaScript). We can inspect the raw content (bytes) of a response with the `.content` attribute. If we know the response is in a text format, we can use `.text` to see the content as an ordinary Python string."
   ]
  },
  {
   "cell_type": "code",
   "execution_count": null,
   "id": "876c8c35",
   "metadata": {},
   "outputs": [],
   "source": [
    "response.text"
   ]
  },
  {
   "cell_type": "markdown",
   "id": "763d3991",
   "metadata": {},
   "source": [
    "Since the response we got is in JSON format, we'd like to convert the string to lists and dictionaries. The `requests` package provides a method `.json()` to do this."
   ]
  },
  {
   "cell_type": "code",
   "execution_count": null,
   "id": "8d23b4e2",
   "metadata": {
    "scrolled": true
   },
   "outputs": [],
   "source": [
    "result = response.json()\n",
    "result"
   ]
  },
  {
   "cell_type": "code",
   "execution_count": null,
   "id": "b8bf7ce4",
   "metadata": {},
   "outputs": [],
   "source": [
    "type(result)"
   ]
  },
  {
   "cell_type": "code",
   "execution_count": null,
   "id": "35588ef8",
   "metadata": {},
   "outputs": [],
   "source": [
    "result[\"results\"][0]"
   ]
  },
  {
   "cell_type": "code",
   "execution_count": null,
   "id": "955b6652",
   "metadata": {
    "scrolled": true
   },
   "outputs": [],
   "source": [
    "import pandas as pd\n",
    "results = pd.DataFrame(result['results'])\n",
    "results"
   ]
  },
  {
   "cell_type": "code",
   "execution_count": null,
   "id": "6f6e6037",
   "metadata": {},
   "outputs": [],
   "source": [
    "results.shape"
   ]
  },
  {
   "cell_type": "markdown",
   "id": "7044d953",
   "metadata": {},
   "source": [
    "### Caching\n",
    "\n",
    "Making an HTTP request is not free! It has a real cost in CPU time and also cash. Server administrators will not appreciate it if you make too many requests or make requests too quickly. So:\n",
    "\n",
    "* Use `time.sleep()` to slow down any requests you make in a loop. Aim for no more than 20-30 requests per second.\n",
    "* Install and use the `requests_cache` package to avoid downloading extra data when you make the same request twice.\n",
    "\n",
    "Failing to be polite can get you banned from websites!\n",
    "\n",
    "We can use `sleep` from `time` to suspend any operation for the passed number of seconds. "
   ]
  },
  {
   "cell_type": "code",
   "execution_count": null,
   "id": "02e6c2ec",
   "metadata": {},
   "outputs": [],
   "source": [
    "import time \n",
    "print(time.ctime())\n",
    "time.sleep(0.05)\n",
    "print(time.ctime())"
   ]
  },
  {
   "cell_type": "markdown",
   "id": "26c96435",
   "metadata": {},
   "source": [
    "A possible problem for time consuming requests is that data is requested multiple times. This can be avoided by using a cache. When the request is made, it first checks the cache. Only if the data is not found there, the data is pulled from the server and copied into the cache. \n",
    "\n",
    "We cache our search results with `requests_cache` ([docs](https://requests-cache.readthedocs.io/en/v0.9.6/user_guide.html)). "
   ]
  },
  {
   "cell_type": "code",
   "execution_count": null,
   "id": "009624f2",
   "metadata": {},
   "outputs": [],
   "source": [
    "import requests\n",
    "session = requests.Session() \n",
    "print(time.ctime())\n",
    "for i in range(10):\n",
    "    session.get('http://httpbin.org/delay/1') # this endpoints delays by one second\n",
    "print(time.ctime())"
   ]
  },
  {
   "cell_type": "code",
   "execution_count": null,
   "id": "d48cae99",
   "metadata": {},
   "outputs": [],
   "source": [
    "import requests_cache\n",
    "session = requests_cache.CachedSession('demo_cache')\n",
    "print(time.ctime())\n",
    "for i in range(10):\n",
    "    res = session.get('http://httpbin.org/delay/1')\n",
    "print(time.ctime())"
   ]
  },
  {
   "cell_type": "code",
   "execution_count": null,
   "id": "68f96499",
   "metadata": {
    "scrolled": true
   },
   "outputs": [],
   "source": [
    "res.text"
   ]
  },
  {
   "cell_type": "markdown",
   "id": "73359fc9",
   "metadata": {},
   "source": [
    "### API Keys\n",
    "\n",
    "Many APIs use a _key_ or _token_ to identify the user. For instance, The Guardian, a British newspaper, provides a [web API](https://open-platform.theguardian.com/) to access their news articles. You need an API key to use their web APIs. You can get one for free [here](https://bonobo.capi.gutools.co.uk/register/developer).\n",
    "\n",
    "#### Storing API Keys\n",
    "\n",
    "Your API key is private and your responsibility. Treat it like a password. Keep it secret! \n",
    "\n",
    "In order to keep your API key separate from your code:\n",
    "1. Save the API key in a text file.\n",
    "2. Use Python to load the API key into a variable.\n",
    "\n",
    "Python's built-in `open()` function opens a file, and the `.readline()` method reads a line from a file. Often you'll see these used with `with`, which automatically closes the file at the end of the block:"
   ]
  },
  {
   "cell_type": "code",
   "execution_count": null,
   "id": "9539e0d4",
   "metadata": {},
   "outputs": [],
   "source": [
    "def read_key(keyfile):\n",
    "    with open(keyfile) as f:\n",
    "        return f.readline().strip(\"\\n\")"
   ]
  },
  {
   "cell_type": "code",
   "execution_count": null,
   "id": "0b761edf",
   "metadata": {},
   "outputs": [],
   "source": [
    "key = read_key(\"../keys/guardian.txt\") # Don't print out your actual API key"
   ]
  },
  {
   "cell_type": "code",
   "execution_count": null,
   "id": "01095de9",
   "metadata": {},
   "outputs": [],
   "source": [
    "type(key)"
   ]
  },
  {
   "cell_type": "markdown",
   "id": "1c091fd1",
   "metadata": {},
   "source": [
    "Now you can use the `key` variable anywhere you need the actual API key."
   ]
  },
  {
   "cell_type": "markdown",
   "id": "159384a3",
   "metadata": {},
   "source": [
    "#### Querying The Guardian\n",
    "\n",
    "We've got our key, so let's use The Guardian API. \n",
    "\n",
    "We want to answer the question whether Biden or Trump get more newspaper coverage in the days leading up to the 2024 U.S. presidential election. Let's start by trying to get all of the articles about one of the candidates."
   ]
  },
  {
   "cell_type": "code",
   "execution_count": null,
   "id": "a9da664f",
   "metadata": {},
   "outputs": [],
   "source": [
    "response = requests.get(\"https://content.guardianapis.com/search\", params = {\n",
    "        \"api-key\": key,\n",
    "        \"q\": \"Harris\",\n",
    "        \"from-date\": \"2024-10-20\",\n",
    "        \"to-date\": \"2024-11-5\",\n",
    "        \"page-size\": 50,\n",
    "        \"order_by\": \"newest\",\n",
    "        \"page\": 1\n",
    "    }) # try page 12"
   ]
  },
  {
   "cell_type": "code",
   "execution_count": null,
   "id": "6f703575",
   "metadata": {},
   "outputs": [],
   "source": [
    "response.raise_for_status"
   ]
  },
  {
   "cell_type": "code",
   "execution_count": null,
   "id": "73eb681e",
   "metadata": {},
   "outputs": [],
   "source": [
    "response.json()"
   ]
  },
  {
   "cell_type": "code",
   "execution_count": null,
   "id": "ec5d001a",
   "metadata": {},
   "outputs": [],
   "source": [
    "import time\n",
    "def get_articles(q, page = 1, from_date = \"2024-10-20\"):\n",
    "    time.sleep(0.05) \n",
    "    response = requests.get(\"https://content.guardianapis.com/search\", params = {\n",
    "        \"api-key\": key,\n",
    "        \"q\": q,\n",
    "        \"from-date\": from_date,\n",
    "        \"to-date\": \"2024-11-5\",\n",
    "        \"page-size\": 50,\n",
    "        \"order_by\": \"newest\", \n",
    "        \"page\": page\n",
    "    })\n",
    "    response.raise_for_status()\n",
    "    return response.json()[\"response\"]"
   ]
  },
  {
   "cell_type": "code",
   "execution_count": null,
   "id": "c52e61c9",
   "metadata": {
    "scrolled": false
   },
   "outputs": [],
   "source": [
    "harris = get_articles(\"Harris\")"
   ]
  },
  {
   "cell_type": "code",
   "execution_count": null,
   "id": "7bbffa86",
   "metadata": {},
   "outputs": [],
   "source": [
    "harris"
   ]
  },
  {
   "cell_type": "code",
   "execution_count": null,
   "id": "0a10e5aa",
   "metadata": {},
   "outputs": [],
   "source": [
    "pages = harris[\"pages\"]\n",
    "pages"
   ]
  },
  {
   "cell_type": "code",
   "execution_count": null,
   "id": "0a781468",
   "metadata": {},
   "outputs": [],
   "source": [
    "pageSize = harris[\"total\"]\n",
    "pageSize"
   ]
  },
  {
   "cell_type": "code",
   "execution_count": null,
   "id": "71535368",
   "metadata": {},
   "outputs": [],
   "source": [
    "currentPage = harris[\"currentPage\"]\n",
    "currentPage"
   ]
  },
  {
   "cell_type": "code",
   "execution_count": null,
   "id": "9d3a235c",
   "metadata": {},
   "outputs": [],
   "source": [
    "results = harris[\"results\"]\n",
    "for p in range(2, pages + 1):\n",
    "    results += get_articles(\"Harris\", p)[\"results\"]"
   ]
  },
  {
   "cell_type": "code",
   "execution_count": null,
   "id": "89fd9020",
   "metadata": {},
   "outputs": [],
   "source": [
    "results"
   ]
  },
  {
   "cell_type": "code",
   "execution_count": null,
   "id": "a76c7c3c",
   "metadata": {},
   "outputs": [],
   "source": [
    "type(results)"
   ]
  },
  {
   "cell_type": "code",
   "execution_count": null,
   "id": "e36a8d65",
   "metadata": {},
   "outputs": [],
   "source": [
    "df = pd.DataFrame(results)"
   ]
  },
  {
   "cell_type": "code",
   "execution_count": null,
   "id": "836957a7",
   "metadata": {},
   "outputs": [],
   "source": [
    "df.shape"
   ]
  },
  {
   "cell_type": "code",
   "execution_count": null,
   "id": "e9a2eed1",
   "metadata": {},
   "outputs": [],
   "source": [
    "df.tail()"
   ]
  },
  {
   "cell_type": "code",
   "execution_count": null,
   "id": "d56ea60c",
   "metadata": {},
   "outputs": [],
   "source": [
    "df[\"webPublicationDate\"] = pd.to_datetime(df[\"webPublicationDate\"])"
   ]
  },
  {
   "cell_type": "code",
   "execution_count": null,
   "id": "2537027c",
   "metadata": {},
   "outputs": [],
   "source": [
    "type(df[\"webPublicationDate\"][0])"
   ]
  },
  {
   "cell_type": "code",
   "execution_count": null,
   "id": "82c9196c",
   "metadata": {},
   "outputs": [],
   "source": [
    "df.head()"
   ]
  },
  {
   "cell_type": "code",
   "execution_count": null,
   "id": "fb04dc05",
   "metadata": {},
   "outputs": [],
   "source": [
    "date = df[\"webPublicationDate\"].dt\n",
    "date"
   ]
  },
  {
   "cell_type": "code",
   "execution_count": null,
   "id": "afa50a22",
   "metadata": {},
   "outputs": [],
   "source": [
    "date.day_name()"
   ]
  },
  {
   "cell_type": "code",
   "execution_count": null,
   "id": "410d89ca",
   "metadata": {},
   "outputs": [],
   "source": [
    "dates = pd.DataFrame({\"day\": date.day, \"day_name\": date.day_name()})"
   ]
  },
  {
   "cell_type": "code",
   "execution_count": null,
   "id": "c11b4370",
   "metadata": {},
   "outputs": [],
   "source": [
    "dates"
   ]
  },
  {
   "cell_type": "code",
   "execution_count": null,
   "id": "6df73355",
   "metadata": {},
   "outputs": [],
   "source": [
    "dates.groupby([\"day\", \"day_name\"]).size()"
   ]
  },
  {
   "cell_type": "markdown",
   "id": "c4cfef74",
   "metadata": {},
   "source": [
    "Write it as a function"
   ]
  },
  {
   "cell_type": "code",
   "execution_count": null,
   "id": "8eebf595",
   "metadata": {},
   "outputs": [],
   "source": [
    "def get_articles(q, page = 1):\n",
    "    response = requests.get(\"https://content.guardianapis.com/search\", params = {\n",
    "        \"api-key\": key,\n",
    "        \"q\": q,\n",
    "        \"from-date\": \"2024-10-20\",\n",
    "        \"to-date\": \"2024-11-5\",\n",
    "        \"page-size\": 50,\n",
    "        \"page\": page\n",
    "    })\n",
    "    response.raise_for_status()\n",
    "    return response.json()[\"response\"]"
   ]
  },
  {
   "cell_type": "code",
   "execution_count": null,
   "id": "d58261c2",
   "metadata": {},
   "outputs": [],
   "source": [
    "def get_all_articles(q, time_sleep = 0.05):\n",
    "    # Get the first page, and find out how many pages there are.\n",
    "    candidate = get_articles(q)\n",
    "    pages = candidate[\"pages\"]\n",
    "\n",
    "    # Loop over remaining pages.\n",
    "    results = candidate[\"results\"]\n",
    "    for p in range(2, pages + 1):\n",
    "        results += get_articles(q, p)[\"results\"]\n",
    "        time.sleep(time_sleep)\n",
    "\n",
    "    # Convert the articles to data frame, and the date column to a date.\n",
    "    df = pd.DataFrame(results)\n",
    "    df[\"webPublicationDate\"] = pd.to_datetime(df[\"webPublicationDate\"])\n",
    "    \n",
    "    # Get the day and day name, then count them.\n",
    "    date = df[\"webPublicationDate\"].dt\n",
    "    dates = pd.DataFrame({\"day\": date.day, \"day_name\": date.day_name()})\n",
    "    return dates.groupby([\"day\", \"day_name\"]).size()"
   ]
  },
  {
   "cell_type": "code",
   "execution_count": null,
   "id": "a7a1e93a",
   "metadata": {},
   "outputs": [],
   "source": [
    "harris=get_all_articles(\"Harris\")\n",
    "harris"
   ]
  },
  {
   "cell_type": "code",
   "execution_count": null,
   "id": "9c8cfdfe",
   "metadata": {},
   "outputs": [],
   "source": [
    "harris.head(10)"
   ]
  },
  {
   "cell_type": "code",
   "execution_count": null,
   "id": "1c38d438",
   "metadata": {},
   "outputs": [],
   "source": [
    "trump=get_all_articles(\"Trump\")\n",
    "trump"
   ]
  },
  {
   "cell_type": "code",
   "execution_count": null,
   "id": "295dceb4",
   "metadata": {},
   "outputs": [],
   "source": [
    "df = pd.DataFrame([harris,trump]).T\n",
    "df = df.rename(columns={0: 'Harris', 1: 'Trump'})\n",
    "df = df.reset_index()\n",
    "df"
   ]
  },
  {
   "cell_type": "code",
   "execution_count": null,
   "id": "4a769ef9",
   "metadata": {
    "scrolled": true
   },
   "outputs": [],
   "source": [
    "df = df.melt(id_vars = ['day', 'day_name'])\n",
    "df"
   ]
  },
  {
   "cell_type": "code",
   "execution_count": null,
   "id": "390386ed",
   "metadata": {},
   "outputs": [],
   "source": [
    "import plotnine as p9\n",
    "(\n",
    "    p9.ggplot(df, p9.aes(x='day',y='value',color='variable')) + \n",
    "        p9.geom_line() + \n",
    "    p9.labs(color='',x='Day',y='Number of articles')\n",
    ")"
   ]
  },
  {
   "cell_type": "markdown",
   "id": "f889e852",
   "metadata": {},
   "source": [
    "What are some ways this analysis could be improved?\n",
    "\n",
    "* Check that articles about \"Trump\" and \"Harris\" are actually about the two candidates. Some may be about other things -- the English word \"trump\", ...\n",
    "* Check whether the API searches article text or just article titles.\n",
    "* Use more sources, and use American newspapers (unless the goal was to analyze international news).\n",
    "* Make visualizations.\n",
    "* Use a larger time window.\n",
    "* Use other kinds of data (e.g., poll results) to look for relationships.\n",
    "\n",
    "Collecting and cleaning data takes a lot of very technical work, but it's only the first step in the analysis. When you finish data collection and cleaning, it can feel like you're finally done. Take a moment to congratulate yourself and step away from the data, so that when you come back you'll be ready to do a careful statistical analysis."
   ]
  },
  {
   "cell_type": "markdown",
   "id": "04dad689",
   "metadata": {},
   "source": [
    "### OAuth\n",
    "\n",
    "[OAuth](https://en.wikipedia.org/wiki/OAuth) is a way to give an application access to data on a website or web API.\n",
    "\n",
    "You might run into OAuth if you use a web API where the data is private. For instance, Twitter provides a [web API](https://developer.twitter.com/en/docs.html) for managing your personal Twitter account. If you want to access the API from a Python script, first you have to use OAuth to tell Twitter that the script has permission to use your data.\n",
    "\n",
    "OAuth can operate in several different ways. As always, check the documentation for the web API you want to use in order to find out what you need to do.\n",
    "\n",
    "The simplest case of OAuth requires scripts to have a key or token from the web API provider. This is very similar to using an API key.\n",
    "\n",
    "For more complicated cases, the `requests-ouathlib` package ([docs](https://requests-oauthlib.readthedocs.io/en/latest/)) may help."
   ]
  },
  {
   "cell_type": "markdown",
   "id": "8fa6006a",
   "metadata": {},
   "source": [
    "### Summary \n",
    "\n",
    "- Third parties provide access to their data bases via APIs\n",
    "- Check API documentation to assemble a valid query\n",
    "- You are a guest, be polite! "
   ]
  }
 ],
 "metadata": {
  "kernelspec": {
   "display_name": "Python 3 (ipykernel)",
   "language": "python",
   "name": "python3"
  },
  "language_info": {
   "codemirror_mode": {
    "name": "ipython",
    "version": 3
   },
   "file_extension": ".py",
   "mimetype": "text/x-python",
   "name": "python",
   "nbconvert_exporter": "python",
   "pygments_lexer": "ipython3",
   "version": "3.9.12"
  }
 },
 "nbformat": 4,
 "nbformat_minor": 5
}
