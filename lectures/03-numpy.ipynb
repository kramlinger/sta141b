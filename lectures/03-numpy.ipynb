{
 "cells": [
  {
   "cell_type": "markdown",
   "id": "ff704263",
   "metadata": {
    "slideshow": {
     "slide_type": "slide"
    }
   },
   "source": [
    "# STA 141B Data & Web Technologies for Data Analysis\n",
    "\n",
    "### Lecture 4, 10/15/24, Numpy\n"
   ]
  },
  {
   "cell_type": "markdown",
   "id": "d720fbd5",
   "metadata": {
    "slideshow": {
     "slide_type": "slide"
    }
   },
   "source": [
    "### Announcements\n",
    "\n",
    "- Homework 2 is due this Sunday, 11:59 PM. \n",
    "- Midterm next week on Thursday, Oct 17. Sample exam is online. "
   ]
  },
  {
   "cell_type": "markdown",
   "id": "f15bba7a",
   "metadata": {
    "slideshow": {
     "slide_type": "slide"
    }
   },
   "source": [
    "### Last week's topics\n",
    "\n",
    " - Basics of Python \n",
    "- Memory handling in Python\n",
    "    - Reference semantics\n",
    "    - Interning"
   ]
  },
  {
   "cell_type": "code",
   "execution_count": null,
   "id": "e21ad26c",
   "metadata": {},
   "outputs": [],
   "source": []
  },
  {
   "cell_type": "markdown",
   "id": "522ed175",
   "metadata": {
    "slideshow": {
     "slide_type": "slide"
    }
   },
   "source": [
    "### Today's topics\n",
    "\n",
    " - Modules and Packages\n",
    " - NumPy "
   ]
  },
  {
   "cell_type": "markdown",
   "id": "133a9b0b",
   "metadata": {
    "slideshow": {
     "slide_type": "slide"
    }
   },
   "source": [
    "### Modules and Packages \n",
    "\n",
    "A module is a text file that contains Python code, usually a `.py` file. Any Python file is a module as well, its name being the file's base name without the `.py` extension. A package is a collection of Python modules. \n",
    "\n",
    "In R, it is called a script or package. Python's `import` command lets us load code from a module to use in our script or notebook. `import` is like a combination of R's `source` and `library` functions.\n",
    "\n",
    "Python provides many built-in modules for common tasks (see the [list](https://docs.python.org/3/library/index.html)). Packages provide even more modules.\n",
    "\n",
    "We can access functions from modules via `.`: "
   ]
  },
  {
   "cell_type": "code",
   "execution_count": 2,
   "id": "408100eb",
   "metadata": {
    "slideshow": {
     "slide_type": "slide"
    }
   },
   "outputs": [
    {
     "ename": "NameError",
     "evalue": "name 'pi' is not defined",
     "output_type": "error",
     "traceback": [
      "\u001b[0;31m---------------------------------------------------------------------------\u001b[0m",
      "\u001b[0;31mNameError\u001b[0m                                 Traceback (most recent call last)",
      "\u001b[0;32m/var/folders/fh/hvkm2z9n7631q5058px_kqg80000gr/T/ipykernel_82160/3440806613.py\u001b[0m in \u001b[0;36m<module>\u001b[0;34m\u001b[0m\n\u001b[0;32m----> 1\u001b[0;31m \u001b[0mpi\u001b[0m\u001b[0;34m\u001b[0m\u001b[0;34m\u001b[0m\u001b[0m\n\u001b[0m",
      "\u001b[0;31mNameError\u001b[0m: name 'pi' is not defined"
     ]
    }
   ],
   "source": [
    "pi"
   ]
  },
  {
   "cell_type": "code",
   "execution_count": 3,
   "id": "edb270a8",
   "metadata": {},
   "outputs": [
    {
     "data": {
      "text/plain": [
       "3.141592653589793"
      ]
     },
     "execution_count": 3,
     "metadata": {},
     "output_type": "execute_result"
    }
   ],
   "source": [
    "import math\n",
    "math.pi"
   ]
  },
  {
   "cell_type": "markdown",
   "id": "5fa72f71",
   "metadata": {
    "slideshow": {
     "slide_type": "subslide"
    }
   },
   "source": [
    "You can give imported modules an alias to cut down on typing: "
   ]
  },
  {
   "cell_type": "code",
   "execution_count": 4,
   "id": "1ef128e7",
   "metadata": {},
   "outputs": [
    {
     "data": {
      "text/plain": [
       "3.141592653589793"
      ]
     },
     "execution_count": 4,
     "metadata": {},
     "output_type": "execute_result"
    }
   ],
   "source": [
    "import math as m\n",
    "m.pi"
   ]
  },
  {
   "cell_type": "markdown",
   "id": "fc627151",
   "metadata": {
    "slideshow": {
     "slide_type": "subslide"
    }
   },
   "source": [
    "We can import single functions within a module or package by running"
   ]
  },
  {
   "cell_type": "code",
   "execution_count": 7,
   "id": "3de2369f",
   "metadata": {},
   "outputs": [
    {
     "data": {
      "text/plain": [
       "3.141592653589793"
      ]
     },
     "execution_count": 7,
     "metadata": {},
     "output_type": "execute_result"
    }
   ],
   "source": [
    "from math import pi\n",
    "pi"
   ]
  },
  {
   "cell_type": "code",
   "execution_count": 8,
   "id": "90ac8709",
   "metadata": {},
   "outputs": [
    {
     "data": {
      "text/plain": [
       "3.141592653589793"
      ]
     },
     "execution_count": 8,
     "metadata": {},
     "output_type": "execute_result"
    }
   ],
   "source": [
    "math.pi"
   ]
  },
  {
   "cell_type": "markdown",
   "id": "f5cccc9f",
   "metadata": {
    "slideshow": {
     "slide_type": "subslide"
    }
   },
   "source": [
    "Of course, other `math` functions are not imported this way: "
   ]
  },
  {
   "cell_type": "code",
   "execution_count": 9,
   "id": "cd44dea0",
   "metadata": {},
   "outputs": [
    {
     "ename": "NameError",
     "evalue": "name 'ceil' is not defined",
     "output_type": "error",
     "traceback": [
      "\u001b[0;31m---------------------------------------------------------------------------\u001b[0m",
      "\u001b[0;31mNameError\u001b[0m                                 Traceback (most recent call last)",
      "\u001b[0;32m/var/folders/fh/hvkm2z9n7631q5058px_kqg80000gr/T/ipykernel_82160/1690255181.py\u001b[0m in \u001b[0;36m<module>\u001b[0;34m\u001b[0m\n\u001b[0;32m----> 1\u001b[0;31m \u001b[0mceil\u001b[0m\u001b[0;34m(\u001b[0m\u001b[0;36m4.3\u001b[0m\u001b[0;34m)\u001b[0m\u001b[0;34m\u001b[0m\u001b[0;34m\u001b[0m\u001b[0m\n\u001b[0m",
      "\u001b[0;31mNameError\u001b[0m: name 'ceil' is not defined"
     ]
    }
   ],
   "source": [
    "ceil(4.3)"
   ]
  },
  {
   "cell_type": "code",
   "execution_count": 10,
   "id": "0f8063d4",
   "metadata": {},
   "outputs": [
    {
     "data": {
      "text/plain": [
       "5"
      ]
     },
     "execution_count": 10,
     "metadata": {},
     "output_type": "execute_result"
    }
   ],
   "source": [
    "m.ceil(4.3)"
   ]
  },
  {
   "cell_type": "markdown",
   "id": "b86faf04",
   "metadata": {
    "slideshow": {
     "slide_type": "subslide"
    }
   },
   "source": [
    "Importing only the required functions keep the namespace clean. We can import all functions from one package by running"
   ]
  },
  {
   "cell_type": "code",
   "execution_count": 11,
   "id": "abc035cb",
   "metadata": {},
   "outputs": [],
   "source": [
    "from math import * # this is called wildcard import"
   ]
  },
  {
   "cell_type": "code",
   "execution_count": 12,
   "id": "9bcafc72",
   "metadata": {},
   "outputs": [
    {
     "data": {
      "text/plain": [
       "5"
      ]
     },
     "execution_count": 12,
     "metadata": {},
     "output_type": "execute_result"
    }
   ],
   "source": [
    "ceil(4.3)"
   ]
  },
  {
   "cell_type": "markdown",
   "id": "458ea702",
   "metadata": {
    "slideshow": {
     "slide_type": "-"
    }
   },
   "source": [
    "Use this with care, in particular if the namespaces of some modules collide! "
   ]
  },
  {
   "cell_type": "markdown",
   "id": "a860ed3a",
   "metadata": {
    "slideshow": {
     "slide_type": "slide"
    }
   },
   "source": [
    "The Python style guide allows to import several functions in one line. This is an exception to the one-line-one-statement rule."
   ]
  },
  {
   "cell_type": "code",
   "execution_count": null,
   "id": "ec49720e",
   "metadata": {},
   "outputs": [],
   "source": [
    "from math import pi, ceil"
   ]
  },
  {
   "cell_type": "code",
   "execution_count": 14,
   "id": "0f0e685a",
   "metadata": {},
   "outputs": [],
   "source": [
    "from math import pi\n",
    "from math import ceil"
   ]
  },
  {
   "cell_type": "markdown",
   "id": "fd62a19a",
   "metadata": {
    "slideshow": {
     "slide_type": "slide"
    }
   },
   "source": [
    "Which of the built-in modules are important?\n",
    "\n",
    "Module      | Description\n",
    "----------- | -----------\n",
    "sys         | info about Python (version, etc)\n",
    "pdb         | Python debugger\n",
    "pathlib     | tools for file paths\n",
    "collections | additional data structures\n",
    "string      | string processing\n",
    "re          | regular expressions\n",
    "datetime    | date processing\n",
    "urlparse    | tools for URLs\n",
    "itertools   | tools for iterators\n",
    "functools   | tools for functions\n",
    "\n",
    "Python's built-in `math` and `statistics` modules are missing features we need for serious scientific computing, so we use the \"SciPy Stack\" instead."
   ]
  },
  {
   "cell_type": "markdown",
   "id": "5d29c3e6",
   "metadata": {
    "slideshow": {
     "slide_type": "slide"
    }
   },
   "source": [
    "The SciPy Stack is a collection of packages for scientific computing (marked with a `*` below). Most scientists working in Python use the SciPy Stack. The 3 most important packages in the stack are:\n",
    "\n",
    "Package      | Description\n",
    "------------ | -----------\n",
    "numpy\\*      | arrays, matrices, math/stat functions\n",
    "scipy\\*      | additional math/stat functions\n",
    "pandas\\*     | data frames"
   ]
  },
  {
   "cell_type": "markdown",
   "id": "5e4f6fee",
   "metadata": {
    "slideshow": {
     "slide_type": "slide"
    }
   },
   "source": [
    "There are also several packages available for creating static plots.\n",
    "\n",
    "Package      | Description\n",
    "------------ | -----------\n",
    "matplotlib\\* | visualizations\n",
    "seaborn      | \"statistical\" visualizations\n",
    "plotnine     | ggplot2 for Python"
   ]
  },
  {
   "cell_type": "markdown",
   "id": "eb16778e",
   "metadata": {
    "slideshow": {
     "slide_type": "slide"
    }
   },
   "source": [
    "Finally, there are many other packages we may use for specific statistical tasks. Some of these are:\n",
    "\n",
    "Package      | Description\n",
    "------------ | -----------\n",
    "requests     | web (HTTP) requests\n",
    "lxml         | web page parsing (XML & HTML)\n",
    "beatifulsoup | web page parsing (HTML)\n",
    "nltk         | natural language processing\n",
    "spacy        | natural language processing\n",
    "textblob     | natural language processing\n",
    "statsmodels  | classical statistical models\n",
    "scikit-learn | machine learning models\n",
    "pillow       | image processing\n",
    "scikit-image | image processing\n",
    "opencv       | image processing"
   ]
  },
  {
   "cell_type": "markdown",
   "id": "9a5f733d",
   "metadata": {
    "slideshow": {
     "slide_type": "slide"
    }
   },
   "source": [
    "### NumPy\n",
    "NumPy is a Python package that provides tools for numerical computing (the name stands for \"Numerical Python\"). If you use Anaconda, NumPy is already installed.\n",
    "\n",
    "NumPy is documented [here][link4].\n",
    "\n",
    "[link4]: https://numpy.org/doc/stable/"
   ]
  },
  {
   "cell_type": "code",
   "execution_count": 15,
   "id": "6d85fe38",
   "metadata": {},
   "outputs": [],
   "source": [
    "import numpy as np # standard naming convention for numpy"
   ]
  },
  {
   "cell_type": "markdown",
   "id": "443a3615",
   "metadata": {},
   "source": [
    "NumPy's core feature is the n-dimensional array of <kbd>numpy.ndarray</kbd> object type. NumPy arrays are the basis for almost all of Python's scientific computing packages. They are the Python equivalent of R's built-in vectors.\n",
    "\n",
    "NumPy arrays use reference semantics, just as <kbd>list</kbd> type objects. "
   ]
  },
  {
   "cell_type": "markdown",
   "id": "3cf9bc6e",
   "metadata": {
    "slideshow": {
     "slide_type": "slide"
    }
   },
   "source": [
    "#### Creating NumPy Arrays\n",
    "\n",
    "You can create NumPy arrays from lists:"
   ]
  },
  {
   "cell_type": "code",
   "execution_count": 23,
   "id": "35a2a015",
   "metadata": {},
   "outputs": [
    {
     "data": {
      "text/plain": [
       "array([1., 2., 4.])"
      ]
     },
     "execution_count": 23,
     "metadata": {},
     "output_type": "execute_result"
    }
   ],
   "source": [
    "a = np.array((1,2,4.0))\n",
    "a"
   ]
  },
  {
   "cell_type": "code",
   "execution_count": 21,
   "id": "6dd1e688",
   "metadata": {},
   "outputs": [
    {
     "data": {
      "text/plain": [
       "numpy.ndarray"
      ]
     },
     "execution_count": 21,
     "metadata": {},
     "output_type": "execute_result"
    }
   ],
   "source": [
    "type(a)"
   ]
  },
  {
   "cell_type": "markdown",
   "id": "24b89573",
   "metadata": {
    "slideshow": {
     "slide_type": "slide"
    }
   },
   "source": [
    "A numpy array is a grid of values, all of the same type and is indexed by a tuple of nonnegative integers. A list is the Python equivalent of an array, but is resizeable and can contain elements of different types."
   ]
  },
  {
   "cell_type": "code",
   "execution_count": 24,
   "id": "5d99a41b",
   "metadata": {},
   "outputs": [
    {
     "data": {
      "text/plain": [
       "array(['1', '2.0', 'horse'], dtype='<U32')"
      ]
     },
     "execution_count": 24,
     "metadata": {},
     "output_type": "execute_result"
    }
   ],
   "source": [
    "np.array([1, 2.0, 'horse']) # recasts all entries to char"
   ]
  },
  {
   "cell_type": "code",
   "execution_count": 25,
   "id": "747a0078",
   "metadata": {},
   "outputs": [
    {
     "data": {
      "text/plain": [
       "array([1., 2., 3.])"
      ]
     },
     "execution_count": 25,
     "metadata": {},
     "output_type": "execute_result"
    }
   ],
   "source": [
    "np.array([1,2.0,3]) # recasts all entries to float"
   ]
  },
  {
   "cell_type": "code",
   "execution_count": 36,
   "id": "ab9cf107",
   "metadata": {
    "slideshow": {
     "slide_type": "subslide"
    }
   },
   "outputs": [
    {
     "data": {
      "text/plain": [
       "array([5.1, 7.2, 9.3])"
      ]
     },
     "execution_count": 36,
     "metadata": {},
     "output_type": "execute_result"
    }
   ],
   "source": [
    "x = np.array([1,2,3]) \n",
    "y = np.array([4.1, 5.2, 6.3])\n",
    "x + y"
   ]
  },
  {
   "cell_type": "code",
   "execution_count": 32,
   "id": "3df82724",
   "metadata": {
    "slideshow": {
     "slide_type": "subslide"
    }
   },
   "outputs": [
    {
     "data": {
      "text/plain": [
       "[5.1, 7.2, 9.3]"
      ]
     },
     "execution_count": 32,
     "metadata": {},
     "output_type": "execute_result"
    }
   ],
   "source": [
    "[x + y for x, y in zip([1,2,3], [4.1, 5.2, 6.3])]"
   ]
  },
  {
   "cell_type": "code",
   "execution_count": 39,
   "id": "3f451d9e",
   "metadata": {
    "slideshow": {
     "slide_type": "fragment"
    }
   },
   "outputs": [
    {
     "data": {
      "text/plain": [
       "array([3, 5, 7])"
      ]
     },
     "execution_count": 39,
     "metadata": {},
     "output_type": "execute_result"
    }
   ],
   "source": [
    "z = [2, 3, 4] #list!\n",
    "x + z # array + list = array"
   ]
  },
  {
   "cell_type": "code",
   "execution_count": 40,
   "id": "0b1a4258",
   "metadata": {},
   "outputs": [
    {
     "data": {
      "text/plain": [
       "array([5, 6, 7])"
      ]
     },
     "execution_count": 40,
     "metadata": {},
     "output_type": "execute_result"
    }
   ],
   "source": [
    "x + 4"
   ]
  },
  {
   "cell_type": "code",
   "execution_count": 41,
   "id": "1e64d7e4",
   "metadata": {},
   "outputs": [
    {
     "ename": "ValueError",
     "evalue": "operands could not be broadcast together with shapes (3,) (4,) ",
     "output_type": "error",
     "traceback": [
      "\u001b[0;31m---------------------------------------------------------------------------\u001b[0m",
      "\u001b[0;31mValueError\u001b[0m                                Traceback (most recent call last)",
      "\u001b[0;32m/var/folders/fh/hvkm2z9n7631q5058px_kqg80000gr/T/ipykernel_82160/2123605555.py\u001b[0m in \u001b[0;36m<module>\u001b[0;34m\u001b[0m\n\u001b[0;32m----> 1\u001b[0;31m \u001b[0mx\u001b[0m \u001b[0;34m+\u001b[0m \u001b[0mnp\u001b[0m\u001b[0;34m.\u001b[0m\u001b[0marray\u001b[0m\u001b[0;34m(\u001b[0m\u001b[0;34m[\u001b[0m\u001b[0;36m2\u001b[0m\u001b[0;34m,\u001b[0m \u001b[0;36m3\u001b[0m\u001b[0;34m,\u001b[0m \u001b[0;36m4\u001b[0m\u001b[0;34m,\u001b[0m \u001b[0;36m5\u001b[0m\u001b[0;34m]\u001b[0m\u001b[0;34m)\u001b[0m\u001b[0;34m\u001b[0m\u001b[0;34m\u001b[0m\u001b[0m\n\u001b[0m",
      "\u001b[0;31mValueError\u001b[0m: operands could not be broadcast together with shapes (3,) (4,) "
     ]
    }
   ],
   "source": [
    "x + np.array([2, 3, 4, 5])"
   ]
  },
  {
   "cell_type": "markdown",
   "id": "3ba0ee7e",
   "metadata": {
    "slideshow": {
     "slide_type": "slide"
    }
   },
   "source": [
    "You can create multidimensional arrays, like matrices, from nested lists."
   ]
  },
  {
   "cell_type": "code",
   "execution_count": 42,
   "id": "ee6bac26",
   "metadata": {},
   "outputs": [
    {
     "data": {
      "text/plain": [
       "array([[1, 2, 3],\n",
       "       [4, 5, 6]])"
      ]
     },
     "execution_count": 42,
     "metadata": {},
     "output_type": "execute_result"
    }
   ],
   "source": [
    "m = np.array([[1, 2, 3], \n",
    "              [4, 5, 6]])\n",
    "m"
   ]
  },
  {
   "cell_type": "code",
   "execution_count": 43,
   "id": "1640c214",
   "metadata": {},
   "outputs": [
    {
     "data": {
      "text/plain": [
       "numpy.ndarray"
      ]
     },
     "execution_count": 43,
     "metadata": {},
     "output_type": "execute_result"
    }
   ],
   "source": [
    "type(m)"
   ]
  },
  {
   "cell_type": "code",
   "execution_count": 44,
   "id": "1ae64bbb",
   "metadata": {},
   "outputs": [
    {
     "data": {
      "text/plain": [
       "(2, 3)"
      ]
     },
     "execution_count": 44,
     "metadata": {},
     "output_type": "execute_result"
    }
   ],
   "source": [
    "np.shape(m)"
   ]
  },
  {
   "cell_type": "code",
   "execution_count": null,
   "id": "9728c10f",
   "metadata": {},
   "outputs": [],
   "source": [
    "np.size(m)"
   ]
  },
  {
   "cell_type": "code",
   "execution_count": 51,
   "id": "a7fa3e28",
   "metadata": {},
   "outputs": [
    {
     "data": {
      "text/plain": [
       "6"
      ]
     },
     "execution_count": 51,
     "metadata": {},
     "output_type": "execute_result"
    }
   ],
   "source": [
    "m.size"
   ]
  },
  {
   "cell_type": "markdown",
   "id": "42a661c0",
   "metadata": {
    "slideshow": {
     "slide_type": "slide"
    }
   },
   "source": [
    "`numpy.matrix` is a subclass of `numpy.ndarray`. It inherits the laters attributes and is restricted to two dimensions. There is no N-dimensional matrix in numpy, only N-dimensional array: see [this](https://numpy.org/doc/stable/reference/arrays.ndarray.html)."
   ]
  },
  {
   "cell_type": "code",
   "execution_count": 52,
   "id": "ec8e20ce",
   "metadata": {
    "slideshow": {
     "slide_type": "-"
    }
   },
   "outputs": [
    {
     "data": {
      "text/plain": [
       "matrix([[1, 2, 3],\n",
       "        [4, 5, 6]])"
      ]
     },
     "execution_count": 52,
     "metadata": {},
     "output_type": "execute_result"
    }
   ],
   "source": [
    "m = np.matrix([[1, 2, 3], [4, 5, 6]])\n",
    "m"
   ]
  },
  {
   "cell_type": "code",
   "execution_count": 53,
   "id": "03b5c0a5",
   "metadata": {},
   "outputs": [
    {
     "data": {
      "text/plain": [
       "numpy.matrix"
      ]
     },
     "execution_count": 53,
     "metadata": {},
     "output_type": "execute_result"
    }
   ],
   "source": [
    "type(m)"
   ]
  },
  {
   "cell_type": "code",
   "execution_count": 55,
   "id": "7bebb5bd",
   "metadata": {},
   "outputs": [
    {
     "data": {
      "text/plain": [
       "(2, 3)"
      ]
     },
     "execution_count": 55,
     "metadata": {},
     "output_type": "execute_result"
    }
   ],
   "source": [
    "m.shape"
   ]
  },
  {
   "cell_type": "markdown",
   "id": "d923af3b",
   "metadata": {
    "slideshow": {
     "slide_type": "slide"
    }
   },
   "source": [
    "NumPy also provides several helper functions to create arrays. See the [documentation](https://numpy.org/doc/stable/user/basics.creation.html) for a full list."
   ]
  },
  {
   "cell_type": "code",
   "execution_count": 56,
   "id": "442077cf",
   "metadata": {},
   "outputs": [
    {
     "data": {
      "text/plain": [
       "array([0, 2, 4, 6, 8])"
      ]
     },
     "execution_count": 56,
     "metadata": {},
     "output_type": "execute_result"
    }
   ],
   "source": [
    "np.arange(0, 10, 2)"
   ]
  },
  {
   "cell_type": "code",
   "execution_count": 59,
   "id": "0e837e75",
   "metadata": {},
   "outputs": [
    {
     "data": {
      "text/plain": [
       "array([0, 2, 4, 6, 8])"
      ]
     },
     "execution_count": 59,
     "metadata": {},
     "output_type": "execute_result"
    }
   ],
   "source": [
    "np.array(range(0, 10, 2))"
   ]
  },
  {
   "cell_type": "code",
   "execution_count": 63,
   "id": "d9f2d320",
   "metadata": {
    "scrolled": true
   },
   "outputs": [
    {
     "data": {
      "text/plain": [
       "array([[[[[[1., 1.],\n",
       "           [1., 1.]],\n",
       "\n",
       "          [[1., 1.],\n",
       "           [1., 1.]]],\n",
       "\n",
       "\n",
       "         [[[1., 1.],\n",
       "           [1., 1.]],\n",
       "\n",
       "          [[1., 1.],\n",
       "           [1., 1.]]]],\n",
       "\n",
       "\n",
       "\n",
       "        [[[[1., 1.],\n",
       "           [1., 1.]],\n",
       "\n",
       "          [[1., 1.],\n",
       "           [1., 1.]]],\n",
       "\n",
       "\n",
       "         [[[1., 1.],\n",
       "           [1., 1.]],\n",
       "\n",
       "          [[1., 1.],\n",
       "           [1., 1.]]]]],\n",
       "\n",
       "\n",
       "\n",
       "\n",
       "       [[[[[1., 1.],\n",
       "           [1., 1.]],\n",
       "\n",
       "          [[1., 1.],\n",
       "           [1., 1.]]],\n",
       "\n",
       "\n",
       "         [[[1., 1.],\n",
       "           [1., 1.]],\n",
       "\n",
       "          [[1., 1.],\n",
       "           [1., 1.]]]],\n",
       "\n",
       "\n",
       "\n",
       "        [[[[1., 1.],\n",
       "           [1., 1.]],\n",
       "\n",
       "          [[1., 1.],\n",
       "           [1., 1.]]],\n",
       "\n",
       "\n",
       "         [[[1., 1.],\n",
       "           [1., 1.]],\n",
       "\n",
       "          [[1., 1.],\n",
       "           [1., 1.]]]]]])"
      ]
     },
     "execution_count": 63,
     "metadata": {},
     "output_type": "execute_result"
    }
   ],
   "source": [
    "np.ones((2, 2, 2, 2, 2, 2))"
   ]
  },
  {
   "cell_type": "code",
   "execution_count": 61,
   "id": "43d13262",
   "metadata": {},
   "outputs": [
    {
     "data": {
      "text/plain": [
       "array([0., 0., 0., 0., 0., 0., 0., 0., 0., 0.])"
      ]
     },
     "execution_count": 61,
     "metadata": {},
     "output_type": "execute_result"
    }
   ],
   "source": [
    "np.zeros(10)"
   ]
  },
  {
   "cell_type": "markdown",
   "id": "b66e3e34",
   "metadata": {
    "slideshow": {
     "slide_type": "slide"
    }
   },
   "source": [
    "#### Inspecting Arrays\n",
    "\n",
    "The array attributes `.shape` and `.size` contain information about the structure of the array. A plethora of array methods are also provided. "
   ]
  },
  {
   "cell_type": "code",
   "execution_count": 64,
   "id": "8479e41b",
   "metadata": {},
   "outputs": [
    {
     "data": {
      "text/plain": [
       "array([1, 2, 3])"
      ]
     },
     "execution_count": 64,
     "metadata": {},
     "output_type": "execute_result"
    }
   ],
   "source": [
    "x"
   ]
  },
  {
   "cell_type": "code",
   "execution_count": 68,
   "id": "4378dda1",
   "metadata": {},
   "outputs": [
    {
     "data": {
      "text/plain": [
       "3"
      ]
     },
     "execution_count": 68,
     "metadata": {},
     "output_type": "execute_result"
    }
   ],
   "source": [
    "np.size(x)"
   ]
  },
  {
   "cell_type": "code",
   "execution_count": 73,
   "id": "53bb1b04",
   "metadata": {},
   "outputs": [
    {
     "data": {
      "text/plain": [
       "(3,)"
      ]
     },
     "execution_count": 73,
     "metadata": {},
     "output_type": "execute_result"
    }
   ],
   "source": [
    "x.shape # returns a tuple! "
   ]
  },
  {
   "cell_type": "code",
   "execution_count": 74,
   "id": "4470eebe",
   "metadata": {},
   "outputs": [
    {
     "data": {
      "text/plain": [
       "(2, 3)"
      ]
     },
     "execution_count": 74,
     "metadata": {},
     "output_type": "execute_result"
    }
   ],
   "source": [
    "m.shape"
   ]
  },
  {
   "cell_type": "code",
   "execution_count": 75,
   "id": "69ab2c7c",
   "metadata": {},
   "outputs": [
    {
     "data": {
      "text/plain": [
       "3"
      ]
     },
     "execution_count": 75,
     "metadata": {},
     "output_type": "execute_result"
    }
   ],
   "source": [
    "x.size #  like R's length()"
   ]
  },
  {
   "cell_type": "code",
   "execution_count": 76,
   "id": "64e54c16",
   "metadata": {},
   "outputs": [
    {
     "data": {
      "text/plain": [
       "6"
      ]
     },
     "execution_count": 76,
     "metadata": {},
     "output_type": "execute_result"
    }
   ],
   "source": [
    "m.size"
   ]
  },
  {
   "cell_type": "code",
   "execution_count": 70,
   "id": "8308f109",
   "metadata": {},
   "outputs": [
    {
     "data": {
      "text/plain": [
       "3"
      ]
     },
     "execution_count": 70,
     "metadata": {},
     "output_type": "execute_result"
    }
   ],
   "source": [
    "len(x) # not as neat, but gives same result"
   ]
  },
  {
   "cell_type": "code",
   "execution_count": 77,
   "id": "351ae29b",
   "metadata": {
    "slideshow": {
     "slide_type": "subslide"
    }
   },
   "outputs": [
    {
     "data": {
      "text/plain": [
       "6"
      ]
     },
     "execution_count": 77,
     "metadata": {},
     "output_type": "execute_result"
    }
   ],
   "source": [
    "x.sum()"
   ]
  },
  {
   "cell_type": "code",
   "execution_count": 79,
   "id": "0e06b727",
   "metadata": {},
   "outputs": [
    {
     "data": {
      "text/plain": [
       "6"
      ]
     },
     "execution_count": 79,
     "metadata": {},
     "output_type": "execute_result"
    }
   ],
   "source": [
    "sum(x ) # not as neat, but gives same result"
   ]
  },
  {
   "cell_type": "markdown",
   "id": "d62d313e",
   "metadata": {
    "slideshow": {
     "slide_type": "subslide"
    }
   },
   "source": [
    "The array attribute `.dtype` contains the data type of the array's elements."
   ]
  },
  {
   "cell_type": "code",
   "execution_count": 80,
   "id": "fbffa6a4",
   "metadata": {},
   "outputs": [
    {
     "data": {
      "text/plain": [
       "dtype('int64')"
      ]
     },
     "execution_count": 80,
     "metadata": {},
     "output_type": "execute_result"
    }
   ],
   "source": [
    "x.dtype"
   ]
  },
  {
   "cell_type": "code",
   "execution_count": 81,
   "id": "e8443c1f",
   "metadata": {},
   "outputs": [
    {
     "data": {
      "text/plain": [
       "array([1, 2, 3])"
      ]
     },
     "execution_count": 81,
     "metadata": {},
     "output_type": "execute_result"
    }
   ],
   "source": [
    "x"
   ]
  },
  {
   "cell_type": "code",
   "execution_count": 82,
   "id": "879c5678",
   "metadata": {},
   "outputs": [
    {
     "data": {
      "text/plain": [
       "array([4.1, 5.2, 6.3])"
      ]
     },
     "execution_count": 82,
     "metadata": {},
     "output_type": "execute_result"
    }
   ],
   "source": [
    "y"
   ]
  },
  {
   "cell_type": "code",
   "execution_count": 83,
   "id": "3d5f47b2",
   "metadata": {},
   "outputs": [
    {
     "data": {
      "text/plain": [
       "dtype('float64')"
      ]
     },
     "execution_count": 83,
     "metadata": {},
     "output_type": "execute_result"
    }
   ],
   "source": [
    "y.dtype"
   ]
  },
  {
   "cell_type": "code",
   "execution_count": 84,
   "id": "f8a9935f",
   "metadata": {},
   "outputs": [
    {
     "data": {
      "text/plain": [
       "dtype('float64')"
      ]
     },
     "execution_count": 84,
     "metadata": {},
     "output_type": "execute_result"
    }
   ],
   "source": [
    "(x + y).dtype"
   ]
  },
  {
   "cell_type": "markdown",
   "id": "d1161f71",
   "metadata": {},
   "source": [
    "See [here][link5] or [here][link6] for a complete list of Numpy data types.\n",
    "\n",
    "[link5]: https://docs.scipy.org/doc/numpy-1.15.0/user/basics.types.html\n",
    "[link6]: https://jakevdp.github.io/PythonDataScienceHandbook/02.01-understanding-data-types.html#NumPy-Standard-Data-Types "
   ]
  },
  {
   "cell_type": "markdown",
   "id": "9e9641a1",
   "metadata": {
    "slideshow": {
     "slide_type": "slide"
    }
   },
   "source": [
    " The pythonic role of packages is to not only contribute one class (e.g., `ndarray`), but more functions related to the packages role. This is why a variety of additional functions are provided as well.  "
   ]
  },
  {
   "cell_type": "code",
   "execution_count": 87,
   "id": "bf55a359",
   "metadata": {},
   "outputs": [
    {
     "data": {
      "text/plain": [
       "array([0.84147098, 0.90929743, 0.14112001])"
      ]
     },
     "execution_count": 87,
     "metadata": {},
     "output_type": "execute_result"
    }
   ],
   "source": [
    "np.sin(x)"
   ]
  },
  {
   "cell_type": "markdown",
   "id": "4ca2f357",
   "metadata": {},
   "source": [
    "Keep in mind that this is not the same as the `math.sin` function we have imported above. Indeed, this function throws an error:"
   ]
  },
  {
   "cell_type": "code",
   "execution_count": 89,
   "id": "ed985f3f",
   "metadata": {},
   "outputs": [
    {
     "data": {
      "text/plain": [
       "[0.8414709848078965, 0.9092974268256817, 0.1411200080598672]"
      ]
     },
     "execution_count": 89,
     "metadata": {},
     "output_type": "execute_result"
    }
   ],
   "source": [
    "[sin(i) for i in x] # or math.sin(x)"
   ]
  },
  {
   "cell_type": "markdown",
   "id": "32298df7",
   "metadata": {
    "slideshow": {
     "slide_type": "slide"
    }
   },
   "source": [
    "#### Indexing\n",
    "\n",
    "You can subset NumPy arrays with indexes or Boolean arrays. Again, this is similar to R.\n",
    "\n",
    "But be careful! Python uses `and` and `or` to combine conditions, but NumPy uses `&` and `|`!"
   ]
  },
  {
   "cell_type": "code",
   "execution_count": 90,
   "id": "08afcfa9",
   "metadata": {},
   "outputs": [
    {
     "data": {
      "text/plain": [
       "array([1, 2, 3])"
      ]
     },
     "execution_count": 90,
     "metadata": {},
     "output_type": "execute_result"
    }
   ],
   "source": [
    "x"
   ]
  },
  {
   "cell_type": "code",
   "execution_count": 91,
   "id": "2a69d15a",
   "metadata": {},
   "outputs": [
    {
     "data": {
      "text/plain": [
       "1"
      ]
     },
     "execution_count": 91,
     "metadata": {},
     "output_type": "execute_result"
    }
   ],
   "source": [
    "x[0]"
   ]
  },
  {
   "cell_type": "code",
   "execution_count": 92,
   "id": "2b171426",
   "metadata": {},
   "outputs": [
    {
     "data": {
      "text/plain": [
       "2"
      ]
     },
     "execution_count": 92,
     "metadata": {},
     "output_type": "execute_result"
    }
   ],
   "source": [
    "x[1]"
   ]
  },
  {
   "cell_type": "code",
   "execution_count": 94,
   "id": "f19b44bf",
   "metadata": {},
   "outputs": [
    {
     "name": "stderr",
     "output_type": "stream",
     "text": [
      "/var/folders/fh/hvkm2z9n7631q5058px_kqg80000gr/T/ipykernel_82160/1199830713.py:1: DeprecationWarning: elementwise comparison failed; this will raise an error in the future.\n",
      "  x == x[1:]\n"
     ]
    },
    {
     "data": {
      "text/plain": [
       "False"
      ]
     },
     "execution_count": 94,
     "metadata": {},
     "output_type": "execute_result"
    }
   ],
   "source": [
    "x == x[1:]"
   ]
  },
  {
   "cell_type": "code",
   "execution_count": 95,
   "id": "ee939057",
   "metadata": {
    "slideshow": {
     "slide_type": "subslide"
    }
   },
   "outputs": [
    {
     "data": {
      "text/plain": [
       "matrix([[1, 2, 3],\n",
       "        [4, 5, 6]])"
      ]
     },
     "execution_count": 95,
     "metadata": {},
     "output_type": "execute_result"
    }
   ],
   "source": [
    "m"
   ]
  },
  {
   "cell_type": "code",
   "execution_count": 96,
   "id": "fe5c22fd",
   "metadata": {
    "slideshow": {
     "slide_type": "-"
    }
   },
   "outputs": [
    {
     "data": {
      "text/plain": [
       "(2, 3)"
      ]
     },
     "execution_count": 96,
     "metadata": {},
     "output_type": "execute_result"
    }
   ],
   "source": [
    "m.shape"
   ]
  },
  {
   "cell_type": "code",
   "execution_count": 97,
   "id": "7c96af5c",
   "metadata": {},
   "outputs": [
    {
     "data": {
      "text/plain": [
       "4"
      ]
     },
     "execution_count": 97,
     "metadata": {},
     "output_type": "execute_result"
    }
   ],
   "source": [
    "m[1,0]"
   ]
  },
  {
   "cell_type": "code",
   "execution_count": 98,
   "id": "9c13591f",
   "metadata": {
    "slideshow": {
     "slide_type": "subslide"
    }
   },
   "outputs": [
    {
     "data": {
      "text/plain": [
       "array([False,  True, False])"
      ]
     },
     "execution_count": 98,
     "metadata": {},
     "output_type": "execute_result"
    }
   ],
   "source": [
    "x % 2 == 0"
   ]
  },
  {
   "cell_type": "code",
   "execution_count": 99,
   "id": "fd509ea4",
   "metadata": {},
   "outputs": [
    {
     "data": {
      "text/plain": [
       "array([2])"
      ]
     },
     "execution_count": 99,
     "metadata": {},
     "output_type": "execute_result"
    }
   ],
   "source": [
    "x[x % 2 == 0] # true or false"
   ]
  },
  {
   "cell_type": "markdown",
   "id": "2f9f29bc",
   "metadata": {},
   "source": [
    "Note that although only one element is selected, a one-dimensional array is returned! "
   ]
  },
  {
   "cell_type": "markdown",
   "id": "fee10b67",
   "metadata": {
    "slideshow": {
     "slide_type": "subslide"
    }
   },
   "source": [
    "In multidimensional arrays, separate indexes for each dimension with commas. The bare slice `:` selects everything in one dimension, just as we have seen in the last lectures. "
   ]
  },
  {
   "cell_type": "code",
   "execution_count": 111,
   "id": "dbc298ab",
   "metadata": {},
   "outputs": [],
   "source": [
    "m = np.matrix(m)"
   ]
  },
  {
   "cell_type": "code",
   "execution_count": 120,
   "id": "36f31bad",
   "metadata": {},
   "outputs": [
    {
     "data": {
      "text/plain": [
       "matrix([[1, 2, 3],\n",
       "        [4, 5, 6]])"
      ]
     },
     "execution_count": 120,
     "metadata": {},
     "output_type": "execute_result"
    }
   ],
   "source": [
    "m"
   ]
  },
  {
   "cell_type": "code",
   "execution_count": 117,
   "id": "0cefbebe",
   "metadata": {},
   "outputs": [
    {
     "data": {
      "text/plain": [
       "matrix([[4, 5, 6]])"
      ]
     },
     "execution_count": 117,
     "metadata": {},
     "output_type": "execute_result"
    }
   ],
   "source": [
    "m[1, :]"
   ]
  },
  {
   "cell_type": "code",
   "execution_count": 119,
   "id": "25f35553",
   "metadata": {},
   "outputs": [
    {
     "data": {
      "text/plain": [
       "matrix([[1, 2],\n",
       "        [4, 5]])"
      ]
     },
     "execution_count": 119,
     "metadata": {},
     "output_type": "execute_result"
    }
   ],
   "source": [
    "m[:, 0:2]"
   ]
  },
  {
   "cell_type": "code",
   "execution_count": 122,
   "id": "bc7d044d",
   "metadata": {},
   "outputs": [
    {
     "data": {
      "text/plain": [
       "(1, 3)"
      ]
     },
     "execution_count": 122,
     "metadata": {},
     "output_type": "execute_result"
    }
   ],
   "source": [
    "m[0,:].shape # ? "
   ]
  },
  {
   "cell_type": "markdown",
   "id": "8882fcb8",
   "metadata": {
    "slideshow": {
     "slide_type": "slide"
    }
   },
   "source": [
    "Matrix algebra can performed using `@`. "
   ]
  },
  {
   "cell_type": "code",
   "execution_count": 128,
   "id": "c4f74213",
   "metadata": {
    "slideshow": {
     "slide_type": "-"
    }
   },
   "outputs": [
    {
     "data": {
      "text/plain": [
       "matrix([[1, 2, 3],\n",
       "        [4, 5, 6]])"
      ]
     },
     "execution_count": 128,
     "metadata": {},
     "output_type": "execute_result"
    }
   ],
   "source": [
    "m"
   ]
  },
  {
   "cell_type": "code",
   "execution_count": 130,
   "id": "9587e86d",
   "metadata": {
    "slideshow": {
     "slide_type": "-"
    }
   },
   "outputs": [
    {
     "data": {
      "text/plain": [
       "(2, 3)"
      ]
     },
     "execution_count": 130,
     "metadata": {},
     "output_type": "execute_result"
    }
   ],
   "source": [
    "m.shape"
   ]
  },
  {
   "cell_type": "code",
   "execution_count": 131,
   "id": "74dd7921",
   "metadata": {
    "slideshow": {
     "slide_type": "-"
    }
   },
   "outputs": [
    {
     "data": {
      "text/plain": [
       "(3, 2)"
      ]
     },
     "execution_count": 131,
     "metadata": {},
     "output_type": "execute_result"
    }
   ],
   "source": [
    "(m.T).shape"
   ]
  },
  {
   "cell_type": "code",
   "execution_count": 132,
   "id": "c62954ec",
   "metadata": {
    "slideshow": {
     "slide_type": "-"
    }
   },
   "outputs": [
    {
     "data": {
      "text/plain": [
       "matrix([[14, 32],\n",
       "        [32, 77]])"
      ]
     },
     "execution_count": 132,
     "metadata": {},
     "output_type": "execute_result"
    }
   ],
   "source": [
    "m @ m.T"
   ]
  },
  {
   "cell_type": "code",
   "execution_count": 134,
   "id": "d7e80736",
   "metadata": {
    "slideshow": {
     "slide_type": "-"
    }
   },
   "outputs": [
    {
     "data": {
      "text/plain": [
       "(3, 1)"
      ]
     },
     "execution_count": 134,
     "metadata": {},
     "output_type": "execute_result"
    }
   ],
   "source": [
    "(np.matrix([[1, 2, 3]]).T).shape"
   ]
  },
  {
   "cell_type": "code",
   "execution_count": 136,
   "id": "42245d95",
   "metadata": {
    "slideshow": {
     "slide_type": "-"
    }
   },
   "outputs": [
    {
     "ename": "ValueError",
     "evalue": "matmul: Input operand 1 has a mismatch in its core dimension 0, with gufunc signature (n?,k),(k,m?)->(n?,m?) (size 1 is different from 3)",
     "output_type": "error",
     "traceback": [
      "\u001b[0;31m---------------------------------------------------------------------------\u001b[0m",
      "\u001b[0;31mValueError\u001b[0m                                Traceback (most recent call last)",
      "\u001b[0;32m/var/folders/fh/hvkm2z9n7631q5058px_kqg80000gr/T/ipykernel_82160/1294789562.py\u001b[0m in \u001b[0;36m<module>\u001b[0;34m\u001b[0m\n\u001b[0;32m----> 1\u001b[0;31m \u001b[0mm\u001b[0m \u001b[0;34m@\u001b[0m \u001b[0mnp\u001b[0m\u001b[0;34m.\u001b[0m\u001b[0mmatrix\u001b[0m\u001b[0;34m(\u001b[0m\u001b[0;34m[\u001b[0m\u001b[0;34m[\u001b[0m\u001b[0;36m1\u001b[0m\u001b[0;34m,\u001b[0m \u001b[0;36m2\u001b[0m\u001b[0;34m,\u001b[0m \u001b[0;36m3\u001b[0m\u001b[0;34m]\u001b[0m\u001b[0;34m]\u001b[0m\u001b[0;34m)\u001b[0m\u001b[0;34m\u001b[0m\u001b[0;34m\u001b[0m\u001b[0m\n\u001b[0m",
      "\u001b[0;31mValueError\u001b[0m: matmul: Input operand 1 has a mismatch in its core dimension 0, with gufunc signature (n?,k),(k,m?)->(n?,m?) (size 1 is different from 3)"
     ]
    }
   ],
   "source": [
    "m @ np.matrix([[1, 2, 3]])"
   ]
  },
  {
   "cell_type": "markdown",
   "id": "2699211d",
   "metadata": {
    "slideshow": {
     "slide_type": "slide"
    }
   },
   "source": [
    "So what is NumPy good for?\n",
    "\n",
    "NumPy also provides functions for:\n",
    "- Linear algebra (multiplication, transposition, decomposition, ...)\n",
    "- Random number generation\n",
    "- Elementary statistics\n",
    "- Signal processing\n",
    "- And more...\n",
    "\n",
    "There isn't time to cover all of these in detail in lecture, but you can learn more from the documentation and references."
   ]
  },
  {
   "cell_type": "markdown",
   "id": "7746da25",
   "metadata": {
    "slideshow": {
     "slide_type": "slide"
    }
   },
   "source": [
    "## Using NumPy for Monte Carlo Integration\n",
    "### Example - approximate $\\pi$ using Monte Carlo method\n",
    "\n",
    "Consider a circle with radius 1 circumscribed by a square with side length 2.\n",
    "\n",
    "The area of the circle is $\\pi$, so for a uniform distribution on the square, the probability a point will fall in the circle is $\\pi / 4$.\n",
    "\n",
    "We can estimate the probability to estimate $\\pi$."
   ]
  },
  {
   "cell_type": "code",
   "execution_count": 151,
   "id": "66e583e7",
   "metadata": {
    "slideshow": {
     "slide_type": "subslide"
    }
   },
   "outputs": [],
   "source": [
    "import numpy as np\n",
    "\n",
    "def approx_pi(n): \n",
    "    # First, we need to sample points (x, y) with x in (0, 1) and y the same\n",
    "    u = np.random.rand(n, 2) # returns array of dim n # uniform distribution from 0 to 1\n",
    "\n",
    "    # Check whether sampled point lies in the circle\n",
    "    in_circle = u[:,0]**2 + u[:,1]**2 <= 1\n",
    "\n",
    "    # Estimate pi\n",
    "    pi = 4 * in_circle.mean()\n",
    "    return pi"
   ]
  },
  {
   "cell_type": "code",
   "execution_count": 157,
   "id": "cc68cf24",
   "metadata": {},
   "outputs": [
    {
     "data": {
      "text/plain": [
       "3.14163202"
      ]
     },
     "execution_count": 157,
     "metadata": {},
     "output_type": "execute_result"
    }
   ],
   "source": [
    "approx_pi(200_000_000)"
   ]
  },
  {
   "cell_type": "code",
   "execution_count": 165,
   "id": "ded60cb3",
   "metadata": {},
   "outputs": [
    {
     "data": {
      "text/plain": [
       "array([[[0.45809246, 0.27607872],\n",
       "        [0.84935889, 0.60868436]],\n",
       "\n",
       "       [[0.19318044, 0.73245953],\n",
       "        [0.5420101 , 0.61482829]],\n",
       "\n",
       "       [[0.5982617 , 0.86669571],\n",
       "        [0.56430921, 0.35471745]],\n",
       "\n",
       "       [[0.57404825, 0.77325338],\n",
       "        [0.66635636, 0.90547839]]])"
      ]
     },
     "execution_count": 165,
     "metadata": {},
     "output_type": "execute_result"
    }
   ],
   "source": [
    "np.random.rand(4, 2, 2)"
   ]
  },
  {
   "cell_type": "code",
   "execution_count": 154,
   "id": "1ec0c0ef",
   "metadata": {},
   "outputs": [
    {
     "data": {
      "text/plain": [
       "3.141592653589793"
      ]
     },
     "execution_count": 154,
     "metadata": {},
     "output_type": "execute_result"
    }
   ],
   "source": [
    "math.pi"
   ]
  },
  {
   "cell_type": "code",
   "execution_count": 150,
   "id": "bbef8486",
   "metadata": {},
   "outputs": [
    {
     "data": {
      "text/plain": [
       "0.25"
      ]
     },
     "execution_count": 150,
     "metadata": {},
     "output_type": "execute_result"
    }
   ],
   "source": [
    "u = np.random.rand(4, 2)\n",
    "(u[:,0]**2 + u[:,1]**2 <= 1).mean()"
   ]
  },
  {
   "cell_type": "markdown",
   "id": "07dc1444",
   "metadata": {
    "slideshow": {
     "slide_type": "subslide"
    }
   },
   "source": [
    "We have used the package `numpy.random`, a subpackage or NumPy. "
   ]
  },
  {
   "cell_type": "code",
   "execution_count": null,
   "id": "4b17a542",
   "metadata": {
    "scrolled": true
   },
   "outputs": [],
   "source": [
    "help(np.random)"
   ]
  },
  {
   "cell_type": "markdown",
   "id": "735d0ed7",
   "metadata": {
    "slideshow": {
     "slide_type": "slide"
    }
   },
   "source": [
    "There are other packages that produce random numbers, like `random`. "
   ]
  },
  {
   "cell_type": "code",
   "execution_count": null,
   "id": "fc75ff49",
   "metadata": {},
   "outputs": [],
   "source": [
    "import random\n",
    "random.seed(1) # np.random.seed(1) # alternative, but different seed! "
   ]
  },
  {
   "cell_type": "markdown",
   "id": "d5c45544",
   "metadata": {
    "slideshow": {
     "slide_type": "subslide"
    }
   },
   "source": [
    "Lets see how how fast our approximation converges. "
   ]
  },
  {
   "cell_type": "code",
   "execution_count": null,
   "id": "da33a1e5",
   "metadata": {},
   "outputs": [],
   "source": [
    "log10_nsims = np.linspace(start=0.5, stop=6, num=100)"
   ]
  },
  {
   "cell_type": "code",
   "execution_count": 167,
   "id": "25da6574",
   "metadata": {},
   "outputs": [
    {
     "data": {
      "text/plain": [
       "array([0.5       , 0.55555556, 0.61111111, 0.66666667, 0.72222222,\n",
       "       0.77777778, 0.83333333, 0.88888889, 0.94444444, 1.        ,\n",
       "       1.05555556, 1.11111111, 1.16666667, 1.22222222, 1.27777778,\n",
       "       1.33333333, 1.38888889, 1.44444444, 1.5       , 1.55555556,\n",
       "       1.61111111, 1.66666667, 1.72222222, 1.77777778, 1.83333333,\n",
       "       1.88888889, 1.94444444, 2.        , 2.05555556, 2.11111111,\n",
       "       2.16666667, 2.22222222, 2.27777778, 2.33333333, 2.38888889,\n",
       "       2.44444444, 2.5       , 2.55555556, 2.61111111, 2.66666667,\n",
       "       2.72222222, 2.77777778, 2.83333333, 2.88888889, 2.94444444,\n",
       "       3.        , 3.05555556, 3.11111111, 3.16666667, 3.22222222,\n",
       "       3.27777778, 3.33333333, 3.38888889, 3.44444444, 3.5       ,\n",
       "       3.55555556, 3.61111111, 3.66666667, 3.72222222, 3.77777778,\n",
       "       3.83333333, 3.88888889, 3.94444444, 4.        , 4.05555556,\n",
       "       4.11111111, 4.16666667, 4.22222222, 4.27777778, 4.33333333,\n",
       "       4.38888889, 4.44444444, 4.5       , 4.55555556, 4.61111111,\n",
       "       4.66666667, 4.72222222, 4.77777778, 4.83333333, 4.88888889,\n",
       "       4.94444444, 5.        , 5.05555556, 5.11111111, 5.16666667,\n",
       "       5.22222222, 5.27777778, 5.33333333, 5.38888889, 5.44444444,\n",
       "       5.5       , 5.55555556, 5.61111111, 5.66666667, 5.72222222,\n",
       "       5.77777778, 5.83333333, 5.88888889, 5.94444444, 6.        ])"
      ]
     },
     "execution_count": 167,
     "metadata": {},
     "output_type": "execute_result"
    }
   ],
   "source": [
    "log10_nsims"
   ]
  },
  {
   "cell_type": "code",
   "execution_count": 168,
   "id": "58f5b3b5",
   "metadata": {},
   "outputs": [],
   "source": [
    "nsims = (10**log10_nsims).astype(int)"
   ]
  },
  {
   "cell_type": "code",
   "execution_count": 160,
   "id": "fb6969d0",
   "metadata": {},
   "outputs": [
    {
     "data": {
      "text/plain": [
       "array([      3,       3,       4,       4,       5,       5,       6,\n",
       "             7,       8,      10,      11,      12,      14,      16,\n",
       "            18,      21,      24,      27,      31,      35,      40,\n",
       "            46,      52,      59,      68,      77,      87,     100,\n",
       "           113,     129,     146,     166,     189,     215,     244,\n",
       "           278,     316,     359,     408,     464,     527,     599,\n",
       "           681,     774,     879,    1000,    1136,    1291,    1467,\n",
       "          1668,    1895,    2154,    2448,    2782,    3162,    3593,\n",
       "          4084,    4641,    5274,    5994,    6812,    7742,    8799,\n",
       "         10000,   11364,   12915,   14677,   16681,   18957,   21544,\n",
       "         24484,   27825,   31622,   35938,   40842,   46415,   52749,\n",
       "         59948,   68129,   77426,   87992,  100000,  113646,  129154,\n",
       "        146779,  166810,  189573,  215443,  244843,  278255,  316227,\n",
       "        359381,  408423,  464158,  527499,  599484,  681292,  774263,\n",
       "        879922, 1000000])"
      ]
     },
     "execution_count": 160,
     "metadata": {},
     "output_type": "execute_result"
    }
   ],
   "source": [
    "nsims"
   ]
  },
  {
   "cell_type": "code",
   "execution_count": 161,
   "id": "560e98dd",
   "metadata": {
    "scrolled": true,
    "slideshow": {
     "slide_type": "subslide"
    }
   },
   "outputs": [
    {
     "data": {
      "text/plain": [
       "[4.0,\n",
       " 2.6666666666666665,\n",
       " 4.0,\n",
       " 3.0,\n",
       " 3.2,\n",
       " 4.0,\n",
       " 2.6666666666666665,\n",
       " 3.4285714285714284,\n",
       " 3.5,\n",
       " 3.6,\n",
       " 2.909090909090909,\n",
       " 2.3333333333333335,\n",
       " 3.7142857142857144,\n",
       " 3.75,\n",
       " 3.111111111111111,\n",
       " 3.4285714285714284,\n",
       " 3.5,\n",
       " 2.962962962962963,\n",
       " 3.7419354838709675,\n",
       " 3.2,\n",
       " 3.3,\n",
       " 3.0434782608695654,\n",
       " 3.230769230769231,\n",
       " 3.1864406779661016,\n",
       " 3.0,\n",
       " 3.272727272727273,\n",
       " 2.942528735632184,\n",
       " 3.08,\n",
       " 3.2920353982300883,\n",
       " 3.2248062015503876,\n",
       " 2.8493150684931505,\n",
       " 3.0120481927710845,\n",
       " 3.068783068783069,\n",
       " 3.2372093023255815,\n",
       " 3.0163934426229506,\n",
       " 2.906474820143885,\n",
       " 3.0759493670886076,\n",
       " 3.2200557103064065,\n",
       " 3.107843137254902,\n",
       " 3.060344827586207,\n",
       " 3.1650853889943074,\n",
       " 3.1919866444073457,\n",
       " 3.1365638766519823,\n",
       " 3.147286821705426,\n",
       " 3.15358361774744,\n",
       " 3.084,\n",
       " 3.193661971830986,\n",
       " 3.0952749806351667,\n",
       " 3.0838445807770962,\n",
       " 3.1630695443645083,\n",
       " 3.1514511873350926,\n",
       " 3.160631383472609,\n",
       " 3.1241830065359477,\n",
       " 3.168943206326384,\n",
       " 3.1929158760278304,\n",
       " 3.1182855552463122,\n",
       " 3.190989226248776,\n",
       " 3.1527687998276233,\n",
       " 3.097459233978005,\n",
       " 3.1431431431431434,\n",
       " 3.1285965942454492,\n",
       " 3.141823818134849,\n",
       " 3.1521763836799637,\n",
       " 3.114,\n",
       " 3.1316437873988034,\n",
       " 3.132171893147503,\n",
       " 3.1622266130680656,\n",
       " 3.1564054912775013,\n",
       " 3.145223400327056,\n",
       " 3.1593018937987374,\n",
       " 3.132821434406143,\n",
       " 3.1298472596585802,\n",
       " 3.148314464613244,\n",
       " 3.1503144304079247,\n",
       " 3.149796777826747,\n",
       " 3.153721857158246,\n",
       " 3.1392443458643764,\n",
       " 3.145659571628745,\n",
       " 3.1508461888476273,\n",
       " 3.1346059463229405,\n",
       " 3.145785980543686,\n",
       " 3.14944,\n",
       " 3.134610984988473,\n",
       " 3.1365966210880036,\n",
       " 3.1460631289217122,\n",
       " 3.147245368982675,\n",
       " 3.1407848164031797,\n",
       " 3.141415594844112,\n",
       " 3.144954113452294,\n",
       " 3.1473576395752096,\n",
       " 3.140933569872275,\n",
       " 3.144328720772662,\n",
       " 3.1382953457567275,\n",
       " 3.1408184282076363,\n",
       " 3.141003110906371,\n",
       " 3.142055501064249,\n",
       " 3.1424058993794146,\n",
       " 3.142286277401865,\n",
       " 3.1421330527023987,\n",
       " 3.142452]"
      ]
     },
     "execution_count": 161,
     "metadata": {},
     "output_type": "execute_result"
    }
   ],
   "source": [
    "pi = [approx_pi(n) for n in nsims]\n",
    "pi"
   ]
  },
  {
   "cell_type": "markdown",
   "id": "ef12b873",
   "metadata": {
    "slideshow": {
     "slide_type": "slide"
    }
   },
   "source": [
    "Lets visualise this numerical convergence. "
   ]
  },
  {
   "cell_type": "code",
   "execution_count": 162,
   "id": "c01769a3",
   "metadata": {
    "scrolled": true
   },
   "outputs": [
    {
     "data": {
      "image/png": "[encoded data removed]",
      "text/plain": [
       "<Figure size 640x480 with 1 Axes>"
      ]
     },
     "metadata": {},
     "output_type": "display_data"
    }
   ],
   "source": [
    "import matplotlib.pyplot as plt\n",
    "plt.plot(log10_nsims, pi)\n",
    "plt.axhline(y=np.pi, color='r', linestyle='-') # add red line \n",
    "plt.xlabel(\"$\\log_{10}($nsims$)$\") # add label with LaTex\n",
    "plt.show() "
   ]
  }
 ],
 "metadata": {
  "celltoolbar": "Slideshow",
  "kernelspec": {
   "display_name": "Python 3 (ipykernel)",
   "language": "python",
   "name": "python3"
  },
  "language_info": {
   "codemirror_mode": {
    "name": "ipython",
    "version": 3
   },
   "file_extension": ".py",
   "mimetype": "text/x-python",
   "name": "python",
   "nbconvert_exporter": "python",
   "pygments_lexer": "ipython3",
   "version": "3.9.12"
  },
  "rise": {
   "progress": true,
   "scroll": true,
   "theme": "white"
  }
 },
 "nbformat": 4,
 "nbformat_minor": 5
}
