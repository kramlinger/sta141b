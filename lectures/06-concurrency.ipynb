{
 "cells": [
  {
   "cell_type": "markdown",
   "id": "f5f6b056",
   "metadata": {
    "slideshow": {
     "slide_type": "slide"
    }
   },
   "source": [
    "# STA 141B Data & Web Technologies for Data Analysis\n",
    "\n",
    "### Lecture 6, 1/23/25, Concurrency\n"
   ]
  },
  {
   "cell_type": "markdown",
   "id": "ec0e2bb0",
   "metadata": {
    "slideshow": {
     "slide_type": "slide"
    }
   },
   "source": [
    "### Announcements\n",
    "\n",
    "- Midterm next Tuesday! \n",
    "- One-time OH tomorrow, F 10-11 AM via [Zoom](https://ucdavis.zoom.us/j/91463124318?pwd=Ynt0vbXTftuxBVkEQlDLhPzzNWoc65.1)"
   ]
  },
  {
   "cell_type": "markdown",
   "id": "31c23b40",
   "metadata": {
    "slideshow": {
     "slide_type": "slide"
    }
   },
   "source": [
    "### Today's Topics\n",
    "\n",
    " - Concurrency\n",
    "     - Threads and Processes\n",
    "     - I/O-Concurrency\n",
    "         - `threading`\n",
    "     - CPU-Concurrency (Parallelization)\n",
    "         - `multiprocessing` \n",
    "         - `Spark`\n",
    " \n",
    "### References\n",
    "- [SuperFastPython](https://superfastpython.com/thread-vs-process/) by Jason Brownlee\n",
    "- [An introduction to parallel programming](https://sebastianraschka.com/Articles/2014_multiprocessing.html) by Sebastian Raschka\n",
    "- [Speed Up Your Python Program With Concurrency](https://realpython.com/python-concurrency/) by Jim Anderson\n",
    "- [An Intro to Threading in Python](https://realpython.com/intro-to-python-threading/) by Jim Anderson\n",
    "- [3 Methods for Parallelization in Spark](https://towardsdatascience.com/3-methods-for-parallelization-in-spark-6a1a4333b473) by Ben Weber"
   ]
  },
  {
   "cell_type": "markdown",
   "id": "af7ff17e",
   "metadata": {
    "slideshow": {
     "slide_type": "slide"
    }
   },
   "source": [
    "### Threads and Processes\n",
    "\n",
    "A computer can have multiple CPUs, each CPU has multiple cores (e.g., two quad-core CPUs). \n",
    "All the CPUs are connected to memory (e.g., 64G memory). \n",
    "CPU cores can execute in parallel. \n",
    "\n",
    "<div>\n",
    "<img src=\"./source/fig1.png\" alt=\"Drawing\" style=\"width: 1000px;\"/>\n",
    "</div>"
   ]
  },
  {
   "cell_type": "markdown",
   "id": "5780d8f5",
   "metadata": {
    "slideshow": {
     "slide_type": "slide"
    }
   },
   "source": [
    "A __process__ is the *operating system’s spawned and controlled entity that encapsulates an executing application* ([Breshears: The Art of Concurrency](https://amzn.to/3J74TRr)). \n",
    "\n",
    "A __thread__ is a path of execution which belongs to a process. \n",
    "\n",
    "Each thread belongs to a process. In single-threaded processes, the process contains one thread. In multithreaded processes, the process contains more than one thread, and the process is accomplishing a number of things at the same time. "
   ]
  },
  {
   "cell_type": "markdown",
   "id": "efa686ed",
   "metadata": {
    "slideshow": {
     "slide_type": "slide"
    }
   },
   "source": [
    "Threads can share memory within a process. This means that functions executed in new threads can access the same data and state. These might be global variables or data shared via function arguments. As such, sharing state between threads is straightforward.\n",
    "\n",
    "Threads are sometimes called lightweight processes because they have their own stack but can access shared data. \n",
    "\n",
    "<div>\n",
    "<img src=\"./source/fig3.png\" alt=\"Drawing\" style=\"width: 1000px;\"/>\n",
    "</div>"
   ]
  },
  {
   "cell_type": "markdown",
   "id": "06f3ce4e",
   "metadata": {
    "slideshow": {
     "slide_type": "slide"
    }
   },
   "source": [
    "On the other hand, processes are 'share nothing', i.e., they independently execute without sharing memory or state. This makes it easier to turn into a distributed application, but typically, sharing data between processes requires explicit mechanisms.\n",
    "\n",
    "<div>\n",
    "<img src=\"./source/fig4.png\" alt=\"Drawing\" style=\"width: 1000px;\"/>\n",
    "</div>"
   ]
  },
  {
   "cell_type": "markdown",
   "id": "26549817",
   "metadata": {
    "slideshow": {
     "slide_type": "slide"
    }
   },
   "source": [
    "Python allows to execute code using the principle of global interpreter lock (GIL). This means that only one thread can be executed at a time. This simplifies implementation, but makes it more difficult to execute code concurrently. \n",
    "\n",
    "Today, we will explore the advantages of executing multiple processes and threads and discuss under what circumstances which approach is most adequate. "
   ]
  },
  {
   "cell_type": "markdown",
   "id": "db6e5625",
   "metadata": {
    "slideshow": {
     "slide_type": "slide"
    }
   },
   "source": [
    "There are two major kind of tasks, that will slow down your program: CPU-bound and I/O-bound.\n",
    "\n",
    "I/O-bound tasks cause your program to slow down because it frequently must wait for input/output (I/O) from some external resource. They arise when your program interacts with other sources, i.e., when your are *requesting* data from another source. "
   ]
  },
  {
   "cell_type": "markdown",
   "id": "b7536a1c",
   "metadata": {},
   "source": [
    "<div>\n",
    "<img src=https://files.realpython.com/media/IOBound.4810a888b457.png style=\"width: 1700px;\"/>\n",
    "</div>"
   ]
  },
  {
   "cell_type": "markdown",
   "id": "e37d5c2f",
   "metadata": {
    "slideshow": {
     "slide_type": "slide"
    }
   },
   "source": [
    "CPU-bound tasks are those that require a lot of *computational* effort to complete. "
   ]
  },
  {
   "cell_type": "markdown",
   "id": "7977d552",
   "metadata": {},
   "source": [
    "<div>\n",
    "<img src=https://files.realpython.com/media/CPUBound.d2d32cb2626c.png style=\"width: 1700px;\"/>\n",
    "</div>"
   ]
  },
  {
   "cell_type": "markdown",
   "id": "cb3a34ea",
   "metadata": {
    "slideshow": {
     "slide_type": "-"
    }
   },
   "source": [
    "We will use threads and the module `threading` for I/O-bound tasks and processes and the module `multiprocessing` for CPU-bound tasks."
   ]
  },
  {
   "cell_type": "markdown",
   "id": "70dbd78f",
   "metadata": {
    "slideshow": {
     "slide_type": "slide"
    }
   },
   "source": [
    "### I/O-Concurrency\n",
    "\n",
    "We’ll start with a non-concurrent version of this  I/O-bound task. Namely, we will use `request` to request data from a [website](https://anson.ucdavis.edu/~kramling/). For `requets.Session`, see [here](https://requests.readthedocs.io/en/latest/user/advanced/) and [docs](https://requests.readthedocs.io/en/latest/api/?#requests.Session). "
   ]
  },
  {
   "cell_type": "code",
   "execution_count": null,
   "id": "abc40ba6",
   "metadata": {},
   "outputs": [],
   "source": [
    "import requests, time\n",
    "\n",
    "def download_site(url, session):\n",
    "    session.get(url) # fetch information from url \n",
    "    # ... do something ...  \n",
    "\n",
    "def download_all_sites(sites):\n",
    "    session = requests.Session()\n",
    "    [download_site(url, session) for url in sites]\n",
    "        \n",
    "def task(): \n",
    "    sites = [\"https://anson.ucdavis.edu/~kramling/\"] * 500\n",
    "    start_time = time.time()\n",
    "    download_all_sites(sites)\n",
    "    print(time.time() - start_time)"
   ]
  },
  {
   "cell_type": "code",
   "execution_count": null,
   "id": "fd019147",
   "metadata": {
    "scrolled": true
   },
   "outputs": [],
   "source": [
    "task()"
   ]
  },
  {
   "cell_type": "markdown",
   "id": "4aa81ee4",
   "metadata": {
    "slideshow": {
     "slide_type": ""
    }
   },
   "source": [
    "We will now use concurrent threads that accomplish the same task, retrieving information by executing `requests.get` more efficient. "
   ]
  },
  {
   "cell_type": "code",
   "execution_count": null,
   "id": "ff809c7d",
   "metadata": {
    "scrolled": true
   },
   "outputs": [],
   "source": [
    "import concurrent.futures, threading\n",
    "\n",
    "thread_local = threading.local() # instantiates thread to create local data (here: session-attr.)\n",
    "\n",
    "def download_site(url):\n",
    "    session = get_session()\n",
    "    session.get(url)\n",
    "    # ... do something ... \n",
    "\n",
    "def download_all_sites(sites):\n",
    "    with concurrent.futures.ThreadPoolExecutor(max_workers = 8) as executor:\n",
    "        executor.map(download_site, sites)\n",
    "#    concurrent.futures.ThreadPoolExecutor(max_workers=8).map(download_site, sites) \n",
    "\n",
    "def get_session():\n",
    "    '''Create a new requests.Session if there is none in thread_local'''\n",
    "    if not hasattr(thread_local, \"session\"): \n",
    "        thread_local.session = requests.Session()\n",
    "    return thread_local.session"
   ]
  },
  {
   "cell_type": "code",
   "execution_count": null,
   "id": "4daf886f",
   "metadata": {},
   "outputs": [],
   "source": [
    "task()"
   ]
  },
  {
   "cell_type": "code",
   "execution_count": null,
   "id": "094351f5",
   "metadata": {
    "scrolled": true
   },
   "outputs": [],
   "source": [
    "5 / 8"
   ]
  },
  {
   "cell_type": "markdown",
   "id": "5cae5510",
   "metadata": {
    "slideshow": {
     "slide_type": "subslide"
    }
   },
   "source": [
    "We have created a `concurrent.futures.ThreadPoolExecutor`. It creates five threads that are run concurrently. \n",
    "\n",
    "Also, each thread will become its own separate `requests.Session`. This is one of the interesting and difficult issues with threading. Because the operating system is in control of switching between threads, any data that is shared between the threads needs to be protected, or thread-safe. Unfortunately `requests.Session` is not thread-safe. If untreated, *race conditions* can produce hard-to-detect bugs. \n",
    "\n",
    "Here, we use `threading.local()` to instantiate an object that looks like a global but is specific to each individual thread. "
   ]
  },
  {
   "cell_type": "markdown",
   "id": "9d3489e5",
   "metadata": {
    "slideshow": {
     "slide_type": "subslide"
    }
   },
   "source": [
    "The code above is faster than the non-concurrent version, because the I/O-bound has been circumvented. "
   ]
  },
  {
   "cell_type": "markdown",
   "id": "588b71f8",
   "metadata": {},
   "source": [
    "<div>\n",
    "<img src=https://files.realpython.com/media/Threading.3eef48da829e.png style=\"width: 1600px;\"/>\n",
    "</div>"
   ]
  },
  {
   "cell_type": "markdown",
   "id": "d69fe6bf",
   "metadata": {
    "slideshow": {
     "slide_type": "slide"
    }
   },
   "source": [
    "### CPU-Concurrency (Parallelization)\n",
    "\n",
    "The above example of concurrency run only on a single CPU. This is due to the GIL. The `multiprocessing` module breaks down that barrier and runs code across multiple CPUs. \n",
    "\n",
    "It does this by creating a new instance of the Python interpreter (a new process) to run on each CPU and then farming out part of your program to run on it.  Bringing up a separate Python interpreter is not as fast as starting a new thread in the current Python interpreter. Regarding `.set_start_method`, see [here](https://docs.python.org/3/library/multiprocessing.html#contexts-and-start-methods). "
   ]
  },
  {
   "cell_type": "code",
   "execution_count": null,
   "id": "6c717270",
   "metadata": {},
   "outputs": [],
   "source": [
    "import multiprocessing\n",
    "multiprocessing.cpu_count()"
   ]
  },
  {
   "cell_type": "code",
   "execution_count": null,
   "id": "0147a708",
   "metadata": {
    "scrolled": true
   },
   "outputs": [],
   "source": [
    "session = None\n",
    "multiprocessing.set_start_method(\"fork\", True) # new process will be a copy from previous process\n",
    "\n",
    "def set_global_session():\n",
    "    global session\n",
    "    if not session:\n",
    "        session = requests.Session()\n",
    "\n",
    "def download_site(url):\n",
    "    session.get(url)\n",
    "    # ... do something ... \n",
    "\n",
    "def download_all_sites(sites):\n",
    "    with multiprocessing.Pool(initializer=set_global_session, processes = 8) as pool: # change processes!\n",
    "        pool.map(download_site, sites)\n",
    "    \n",
    "task()"
   ]
  },
  {
   "cell_type": "markdown",
   "id": "796232fc",
   "metadata": {
    "slideshow": {
     "slide_type": "subslide"
    }
   },
   "source": [
    "We may even be faster than with `threading`, since we are running up to 8 processes in parallel, but `multiprocessing` cannot scale beyond the number of cores in your local machine. \n",
    "The default argument `processes` of `multiprocessing.pool.Pool` ([docs](https://docs.python.org/3/library/multiprocessing.html?#module-multiprocessing.pool)), is the number of available cores on the machine. \n",
    "\n",
    "Remember that each process has its own memory space (share-nothing). That means that they cannot share things like a `requests.Session` object. We don’t want to create a new Session each time the function is called, you want to create one for each process, which calls `request.get` multiple times after another. \n",
    "\n",
    "The `initializer` function parameter is built for just this case. We initialize a global `session` variable to hold the single `requests.Session` *for each process*. Because each process has its own memory space, the global for each one will be different."
   ]
  },
  {
   "cell_type": "markdown",
   "id": "d2706e97",
   "metadata": {
    "slideshow": {
     "slide_type": "subslide"
    }
   },
   "source": [
    "<div>\n",
    "<img src=https://files.realpython.com/media/MProc.7cf3be371bbc.png style=\"width: 1600px;\"/>\n",
    "</div>"
   ]
  },
  {
   "cell_type": "markdown",
   "id": "fcb37351",
   "metadata": {
    "slideshow": {
     "slide_type": "subslide"
    }
   },
   "source": [
    "This course will deal with fetching information from the web, usually via requests. While these requests will usually be bound by third partys who maintain the servers we are requesting from as well, they are in essence I/O-bound task. `multiprocessing` however is useful for CPU-bound tasks. Consequently, lets consider a computational problem. "
   ]
  },
  {
   "cell_type": "markdown",
   "id": "b26a50fc",
   "metadata": {
    "slideshow": {
     "slide_type": "subslide"
    }
   },
   "source": [
    "For the purposes of our example, we’ll use a somewhat silly function to create something that takes a long time to run on the CPU. This function computes the sum of the squares of each number from 0 to the passed-in value:"
   ]
  },
  {
   "cell_type": "code",
   "execution_count": null,
   "id": "91aed228",
   "metadata": {
    "scrolled": true,
    "slideshow": {
     "slide_type": "-"
    }
   },
   "outputs": [],
   "source": [
    "def problem(number):\n",
    "    return sum(i * i for i in range(number))\n",
    "\n",
    "def find_sums(numbers):\n",
    "    for number in numbers:\n",
    "        problem(number)\n",
    "\n",
    "def task():\n",
    "    numbers = [5_000_000 + x for x in range(20)]\n",
    "    start_time = time.time()\n",
    "    find_sums(numbers)\n",
    "    print(time.time() - start_time)"
   ]
  },
  {
   "cell_type": "code",
   "execution_count": null,
   "id": "7f50b4f8",
   "metadata": {
    "scrolled": true
   },
   "outputs": [],
   "source": [
    "task()"
   ]
  },
  {
   "cell_type": "markdown",
   "id": "5156106a",
   "metadata": {
    "slideshow": {
     "slide_type": "subslide"
    }
   },
   "source": [
    "This code calls `cpu_bound` 20 times with a different large number each time. It does all of this on a single thread in a single process on a single CPU. The execution timing diagram looks like this:"
   ]
  },
  {
   "cell_type": "markdown",
   "id": "352504cf",
   "metadata": {},
   "source": [
    "<div>\n",
    "<img src=https://files.realpython.com/media/CPUBound.d2d32cb2626c.png style=\"width: 1600px;\"/>\n",
    "</div>"
   ]
  },
  {
   "cell_type": "markdown",
   "id": "e2e90528",
   "metadata": {
    "slideshow": {
     "slide_type": "slide"
    }
   },
   "source": [
    "Since there is no I/O waiting time, `threading` will not speed up this problem. We can however speed the computation by using our multiple cores. "
   ]
  },
  {
   "cell_type": "code",
   "execution_count": null,
   "id": "a08497fb",
   "metadata": {
    "scrolled": true
   },
   "outputs": [],
   "source": [
    "# multiprocessing.set_start_method(\"fork\", True) # has already been set\n",
    "def find_sums(numbers):\n",
    "    pool = multiprocessing.Pool()\n",
    "    return pool.map(problem, numbers)"
   ]
  },
  {
   "cell_type": "code",
   "execution_count": null,
   "id": "9d37a16a",
   "metadata": {},
   "outputs": [],
   "source": [
    "task()"
   ]
  },
  {
   "cell_type": "code",
   "execution_count": null,
   "id": "62e24362",
   "metadata": {
    "scrolled": true
   },
   "outputs": [],
   "source": [
    "7 / 8"
   ]
  },
  {
   "cell_type": "markdown",
   "id": "989e83dd",
   "metadata": {
    "slideshow": {
     "slide_type": "subslide"
    }
   },
   "source": [
    "This code is similar as for the I/O-bound problem, but here you don’t need to worry about the `requests.Session` object. Notably, the speed-up is not equal to the number of cores, as each process has to set up its own Python interpreter. "
   ]
  },
  {
   "cell_type": "markdown",
   "id": "b44d8b66",
   "metadata": {},
   "source": [
    "<div>\n",
    "<img src=https://files.realpython.com/media/CPUMP.69c1a7fad9c4.png style=\"width: 1600px;\"/>\n",
    "</div>"
   ]
  },
  {
   "cell_type": "markdown",
   "id": "e041da47",
   "metadata": {
    "slideshow": {
     "slide_type": "subslide"
    }
   },
   "source": [
    "While this codes is easy and fast. All the single processes are automatically taken care of with `multiprocessing.Pool`. The results returned by `problem` are gathered by `multiprocessing.map` as a <kbd>list</kbd> type. "
   ]
  },
  {
   "cell_type": "code",
   "execution_count": null,
   "id": "ce2d860d",
   "metadata": {
    "scrolled": true
   },
   "outputs": [],
   "source": [
    "find_sums(range(0, 4)) # returns a list"
   ]
  },
  {
   "cell_type": "markdown",
   "id": "a7f23510",
   "metadata": {
    "slideshow": {
     "slide_type": "subslide"
    }
   },
   "source": [
    "However, many solution require communication between the processes. This can add some complexity to your solution that a non-concurrent program would not need to deal with."
   ]
  },
  {
   "cell_type": "markdown",
   "id": "1dfec646",
   "metadata": {
    "slideshow": {
     "slide_type": "subslide"
    }
   },
   "source": [
    "A `multiprocessing.Queue` object provides a mechanism to pass data between a parent process and the descendent processes of it. It adheres the *first in first out* principle. We can retrieve with the `multiprocessing.get` method and set with the `multiprocessing.put` method. \n",
    "\n",
    "<div>\n",
    "<img src=https://media.geeksforgeeks.org/wp-content/uploads/multiprocessing-python-4.png style=\"width: 1400px;\"/>\n",
    "</div>"
   ]
  },
  {
   "cell_type": "code",
   "execution_count": null,
   "id": "cc5e0f8c",
   "metadata": {
    "scrolled": true,
    "slideshow": {
     "slide_type": "subslide"
    }
   },
   "outputs": [],
   "source": [
    "q = multiprocessing.Queue()\n",
    "def myfun(q, i): \n",
    "    q.put(i)"
   ]
  },
  {
   "cell_type": "code",
   "execution_count": null,
   "id": "d7c91964",
   "metadata": {
    "scrolled": true
   },
   "outputs": [],
   "source": [
    "# initialize process\n",
    "processes = [multiprocessing.Process(target=myfun, args = (q, i)) for i in range(4)]\n",
    "processes"
   ]
  },
  {
   "cell_type": "code",
   "execution_count": null,
   "id": "11f32da0",
   "metadata": {
    "scrolled": true
   },
   "outputs": [],
   "source": [
    "!ps aux | grep \"[1]4529\""
   ]
  },
  {
   "cell_type": "markdown",
   "id": "6ae2563f",
   "metadata": {
    "slideshow": {
     "slide_type": "subslide"
    }
   },
   "source": [
    "The processess are initialized but not yet executed. "
   ]
  },
  {
   "cell_type": "code",
   "execution_count": null,
   "id": "352a0f44",
   "metadata": {},
   "outputs": [],
   "source": [
    "q.empty()"
   ]
  },
  {
   "cell_type": "code",
   "execution_count": null,
   "id": "cde02eb9",
   "metadata": {},
   "outputs": [],
   "source": [
    "# run processes\n",
    "for process in processes:\n",
    "    process.start()"
   ]
  },
  {
   "cell_type": "code",
   "execution_count": null,
   "id": "7157638f",
   "metadata": {
    "scrolled": true
   },
   "outputs": [],
   "source": [
    "processes"
   ]
  },
  {
   "cell_type": "code",
   "execution_count": null,
   "id": "d2cc7a6f",
   "metadata": {
    "scrolled": true
   },
   "outputs": [],
   "source": [
    "# join processes\n",
    "for process in processes:\n",
    "    process.join()"
   ]
  },
  {
   "cell_type": "markdown",
   "id": "d4970b0e",
   "metadata": {
    "slideshow": {
     "slide_type": "subslide"
    }
   },
   "source": [
    "The main purpose of `multiprocessing.join` ([docs](https://docs.python.org/3/library/multiprocessing.html?#multiprocessing.Process.join)) is to ensure that a child process has completed before the main process does anything that depends on the work of the child process."
   ]
  },
  {
   "cell_type": "code",
   "execution_count": null,
   "id": "9de3dd4b",
   "metadata": {
    "scrolled": true
   },
   "outputs": [],
   "source": [
    "processes"
   ]
  },
  {
   "cell_type": "markdown",
   "id": "11235928",
   "metadata": {},
   "source": [
    "The value `exitcode=0` means that the process has been completed successfully, without error ([docs](https://docs.python.org/3/library/multiprocessing.html?#multiprocessing.Process.exitcode)). "
   ]
  },
  {
   "cell_type": "code",
   "execution_count": null,
   "id": "c8813362",
   "metadata": {
    "scrolled": true,
    "slideshow": {
     "slide_type": "subslide"
    }
   },
   "outputs": [],
   "source": [
    "q.empty()"
   ]
  },
  {
   "cell_type": "code",
   "execution_count": null,
   "id": "9296cd87",
   "metadata": {
    "scrolled": true
   },
   "outputs": [],
   "source": [
    "[q.get() for process in processes]"
   ]
  },
  {
   "cell_type": "code",
   "execution_count": null,
   "id": "5bbeaee0",
   "metadata": {
    "scrolled": true
   },
   "outputs": [],
   "source": [
    "q.empty()"
   ]
  },
  {
   "cell_type": "markdown",
   "id": "d1c201ce",
   "metadata": {},
   "source": [
    "While `multiprocessing` allows you to steer the processes directly, many statistical problems are already implemented and ready for parallel computing, e.g. via `Spark`. "
   ]
  },
  {
   "cell_type": "markdown",
   "id": "b71fae09",
   "metadata": {
    "slideshow": {
     "slide_type": "slide"
    }
   },
   "source": [
    "### Spark\n",
    "\n",
    "Apache Spark is a computational engine that works with huge sets of data by processing them in parallel and batch systems. Spark is written in Scala, and [PySpark](https://www.dominodatalab.com/data-science-dictionary/pyspark) was released to support the collaboration of Spark and Python. \n",
    "\n",
    "The key data type used in PySpark is the Spark dataframe. This object can be thought of as a table distributed across a cluster, and has functionality that is similar to dataframes in `pandas`. If you want to do distributed computation using `PySpark`, then you’ll need to perform operations on Spark dataframes and not other Python data types.\n",
    "\n",
    "Here we explore how to perform tasks using `PySpark`."
   ]
  },
  {
   "cell_type": "code",
   "execution_count": null,
   "id": "732af5cc",
   "metadata": {
    "scrolled": true
   },
   "outputs": [],
   "source": [
    "!pip install pyspark"
   ]
  },
  {
   "cell_type": "markdown",
   "id": "8dcfcea2",
   "metadata": {
    "slideshow": {
     "slide_type": "subslide"
    }
   },
   "source": [
    "We consider a simple regression model for predicting house prices. Lets consider the non-serialized version first: "
   ]
  },
  {
   "cell_type": "code",
   "execution_count": null,
   "id": "c4c308fe",
   "metadata": {
    "scrolled": true
   },
   "outputs": [],
   "source": [
    "import numpy as np\n",
    "import pandas as pd"
   ]
  },
  {
   "cell_type": "code",
   "execution_count": null,
   "id": "607cf3dc",
   "metadata": {
    "scrolled": true
   },
   "outputs": [],
   "source": [
    "# load the california housing data set\n",
    "from sklearn.datasets import fetch_california_housing\n",
    "housing = fetch_california_housing()\n",
    "\n",
    "# convert to a Pandas Data Frame\n",
    "housing_pd = pd.DataFrame(data= np.c_[housing['data'],housing['target']], \n",
    "                          columns= np.append(housing['feature_names'], 'target')).sample(frac=1)"
   ]
  },
  {
   "cell_type": "code",
   "execution_count": null,
   "id": "e730ea58",
   "metadata": {
    "scrolled": true
   },
   "outputs": [],
   "source": [
    "housing_pd.shape"
   ]
  },
  {
   "cell_type": "code",
   "execution_count": null,
   "id": "881752ff",
   "metadata": {
    "scrolled": true,
    "slideshow": {
     "slide_type": "subslide"
    }
   },
   "outputs": [],
   "source": [
    "housing_pd.head(5)"
   ]
  },
  {
   "cell_type": "code",
   "execution_count": null,
   "id": "1ed30a81",
   "metadata": {
    "scrolled": true,
    "slideshow": {
     "slide_type": "subslide"
    }
   },
   "outputs": [],
   "source": [
    "from pyspark.ml.feature import VectorAssembler\n",
    "from pyspark.context import SparkContext\n",
    "from pyspark.sql.session import SparkSession\n",
    "\n",
    "sc = SparkContext('local')\n",
    "spark = SparkSession(sc)"
   ]
  },
  {
   "cell_type": "code",
   "execution_count": null,
   "id": "2845b7b0",
   "metadata": {
    "scrolled": true,
    "slideshow": {
     "slide_type": "subslide"
    }
   },
   "outputs": [],
   "source": [
    "# convert to a Spark data frame\n",
    "housing_sp = spark.createDataFrame(housing_pd)"
   ]
  },
  {
   "cell_type": "code",
   "execution_count": null,
   "id": "a2c066fa",
   "metadata": {
    "slideshow": {
     "slide_type": "-"
    }
   },
   "outputs": [],
   "source": [
    "features = housing_sp.schema.names[:]\n",
    "target = features.pop()"
   ]
  },
  {
   "cell_type": "code",
   "execution_count": null,
   "id": "343ac557",
   "metadata": {
    "slideshow": {
     "slide_type": "-"
    }
   },
   "outputs": [],
   "source": [
    "# convert to vector representation for MLlib\n",
    "assembler = VectorAssembler(inputCols=features, outputCol=\"features\" )\n",
    "housing = assembler.transform(housing_sp).select('features', 'target') "
   ]
  },
  {
   "cell_type": "markdown",
   "id": "f0b08b37",
   "metadata": {
    "slideshow": {
     "slide_type": "subslide"
    }
   },
   "source": [
    "See [docs](https://spark.apache.org/docs/latest/api/python/reference/api/pyspark.ml.regression.LinearRegression.html). "
   ]
  },
  {
   "cell_type": "code",
   "execution_count": null,
   "id": "7b0342cb",
   "metadata": {
    "scrolled": true,
    "slideshow": {
     "slide_type": "-"
    }
   },
   "outputs": [],
   "source": [
    "# linear regresion with Spark\n",
    "from pyspark.ml.regression import LinearRegression\n",
    "from pyspark.ml.tuning import ParamGridBuilder, CrossValidator\n",
    "from pyspark.ml.evaluation import RegressionEvaluator"
   ]
  },
  {
   "cell_type": "code",
   "execution_count": null,
   "id": "4f5a998f",
   "metadata": {
    "scrolled": true
   },
   "outputs": [],
   "source": [
    "# linear regression with penalization\n",
    "lr = LinearRegression(labelCol=\"target\", featuresCol=\"features\", \n",
    "                      elasticNetParam = 1.0, # lasso / l1-penalization\n",
    "                      standardization = True, \n",
    "                      fitIntercept=False)"
   ]
  },
  {
   "cell_type": "code",
   "execution_count": null,
   "id": "e7357989",
   "metadata": {
    "scrolled": true
   },
   "outputs": [],
   "source": [
    "lrparamGrid = (ParamGridBuilder()\n",
    "               .addGrid(lr.regParam, [0.001, 0.01, 0.1, 0.5, 1.0, 2.0])\n",
    "               .build())"
   ]
  },
  {
   "cell_type": "code",
   "execution_count": null,
   "id": "900f93c8",
   "metadata": {
    "scrolled": true,
    "slideshow": {
     "slide_type": "subslide"
    }
   },
   "outputs": [],
   "source": [
    "# Evaluate model\n",
    "lrevaluator = RegressionEvaluator(predictionCol=\"prediction\", labelCol=\"target\", metricName=\"mse\")"
   ]
  },
  {
   "cell_type": "code",
   "execution_count": null,
   "id": "f828c15d",
   "metadata": {
    "scrolled": true
   },
   "outputs": [],
   "source": [
    "# Create 5-fold CrossValidator\n",
    "lrcv = CrossValidator(estimator = lr,\n",
    "                      estimatorParamMaps = lrparamGrid,\n",
    "                      evaluator = lrevaluator,\n",
    "                      numFolds = 5)"
   ]
  },
  {
   "cell_type": "code",
   "execution_count": null,
   "id": "233503bf",
   "metadata": {
    "scrolled": true,
    "slideshow": {
     "slide_type": "subslide"
    }
   },
   "outputs": [],
   "source": [
    "# Run cross validations\n",
    "lrcvModel = lrcv.fit(housing)"
   ]
  },
  {
   "cell_type": "markdown",
   "id": "113c2f4d",
   "metadata": {
    "slideshow": {
     "slide_type": "subslide"
    }
   },
   "source": [
    "See [docs](https://spark.apache.org/docs/latest/api/python/reference/api/pyspark.ml.regression.LinearRegressionTrainingSummary.html). "
   ]
  },
  {
   "cell_type": "code",
   "execution_count": null,
   "id": "1d38055c",
   "metadata": {
    "scrolled": true
   },
   "outputs": [],
   "source": [
    "# Get Model Summary Statistics\n",
    "lrcvSummary = lrcvModel.bestModel.summary\n",
    "lrcvSummary.meanSquaredError"
   ]
  },
  {
   "cell_type": "code",
   "execution_count": null,
   "id": "e1db4e31",
   "metadata": {},
   "outputs": [],
   "source": [
    "lrcvModel.bestModel.coefficients"
   ]
  },
  {
   "cell_type": "code",
   "execution_count": null,
   "id": "d751bd08",
   "metadata": {
    "scrolled": true
   },
   "outputs": [],
   "source": [
    "housing_sp.schema.names"
   ]
  },
  {
   "cell_type": "markdown",
   "id": "36e30ed5",
   "metadata": {
    "slideshow": {
     "slide_type": "slide"
    }
   },
   "source": [
    "### Summary \n",
    "\n",
    "- There are I/O- and CPU-bound problems\n",
    "- Use `threading` for I/O-bound problems, `multiprocessing` for CPU-bound problems\n",
    "- Communication between processes is cumbersome\n",
    "- For many CPU-bound tasks, there may be implemented solutions. "
   ]
  }
 ],
 "metadata": {
  "celltoolbar": "Slideshow",
  "kernelspec": {
   "display_name": "Python 3 (ipykernel)",
   "language": "python",
   "name": "python3"
  },
  "language_info": {
   "codemirror_mode": {
    "name": "ipython",
    "version": 3
   },
   "file_extension": ".py",
   "mimetype": "text/x-python",
   "name": "python",
   "nbconvert_exporter": "python",
   "pygments_lexer": "ipython3",
   "version": "3.9.12"
  },
  "rise": {
   "progress": true,
   "scroll": true,
   "theme": "white"
  }
 },
 "nbformat": 4,
 "nbformat_minor": 5
}
