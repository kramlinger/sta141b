{
 "cells": [
  {
   "cell_type": "markdown",
   "id": "ddb945f7",
   "metadata": {},
   "source": [
    "# STA 141B Data & Web Technologies for Data Analysis\n",
    "\n",
    "### Lecture 11, 2/13/25, Scraping\n",
    "\n",
    "### Announcements\n",
    "- \n",
    "\n",
    "### Today's topics\n",
    " - Web Scraping: \n",
    "     - Foodwise\n",
    "     - Tornado Watch\n",
    "\n",
    "### Ressources\n",
    " - [Foodwise](https://foodwise.org/)\n",
    " - [Tornado Watch](https://www.tornadohq.com/)"
   ]
  },
  {
   "cell_type": "markdown",
   "id": "e8a3cad9",
   "metadata": {},
   "source": [
    "### Writing Scrapers\n",
    "\n",
    "Lets scrape the wiki table ourselves. Attention: We are using request, so pay attention to the file that is being returned. Check on devtools the html element for `<thead>` and see what is returned in the network. "
   ]
  },
  {
   "cell_type": "code",
   "execution_count": null,
   "id": "7d28bd1d",
   "metadata": {},
   "outputs": [],
   "source": [
    "import requests\n",
    "import lxml.html as lx\n",
    "import pandas as pd"
   ]
  },
  {
   "cell_type": "code",
   "execution_count": null,
   "id": "bef498da",
   "metadata": {},
   "outputs": [],
   "source": [
    "result = requests.get(url = 'https://en.wikipedia.org/wiki/List_of_United_States_cities_by_area')\n",
    "html = lx.fromstring(result.text)"
   ]
  },
  {
   "cell_type": "code",
   "execution_count": null,
   "id": "98663682",
   "metadata": {},
   "outputs": [],
   "source": [
    "result.text[:100]"
   ]
  },
  {
   "cell_type": "code",
   "execution_count": null,
   "id": "4fd8730a",
   "metadata": {},
   "outputs": [],
   "source": [
    "tables = html.xpath('//table[2]')\n",
    "table = tables[0]"
   ]
  },
  {
   "cell_type": "code",
   "execution_count": null,
   "id": "7b4665d7",
   "metadata": {
    "scrolled": true
   },
   "outputs": [],
   "source": [
    "table.text_content()"
   ]
  },
  {
   "cell_type": "code",
   "execution_count": null,
   "id": "0bc46b7a",
   "metadata": {},
   "outputs": [],
   "source": [
    "html.xpath('//*[@id=\"mw-content-text\"]/div[1]/table[2]/thead')"
   ]
  },
  {
   "cell_type": "code",
   "execution_count": null,
   "id": "fa6a00a2",
   "metadata": {
    "scrolled": true
   },
   "outputs": [],
   "source": [
    "html.xpath('//table[2]/tbody/tr[4]//text()')"
   ]
  },
  {
   "cell_type": "code",
   "execution_count": null,
   "id": "d2bb7c2b",
   "metadata": {},
   "outputs": [],
   "source": [
    "def retrieve_rows(html): \n",
    "    rows = html.xpath('//table[2]/tbody/tr')\n",
    "    cells = []\n",
    "    for row in rows: \n",
    "        # ./td|th means we start at the node (not searching the whole doc again), and choose td OR th children\n",
    "        cells.append([cell.text_content() for cell in row.xpath('./td|th')]) # no text, as some cells are in <b>\n",
    "    return cells"
   ]
  },
  {
   "cell_type": "code",
   "execution_count": null,
   "id": "7e807fb0",
   "metadata": {},
   "outputs": [],
   "source": [
    "retrieve_rows(html)"
   ]
  },
  {
   "cell_type": "code",
   "execution_count": null,
   "id": "423ef5ea",
   "metadata": {},
   "outputs": [],
   "source": [
    "df = pd.DataFrame(retrieve_rows(html))\n",
    "df.head(10)"
   ]
  },
  {
   "cell_type": "markdown",
   "id": "94d4b67e",
   "metadata": {},
   "source": [
    "### Example: Foodwise\n",
    "\n",
    "Foodwise, formerly CUESA (Center for Urban Education about Sustainable Agriculture) provides [a chart](https://foodwise.org/eat-seasonally/seasonality-chart-vegetables/) on when certain vegetables are in season. We want to create this chart for ourselves. All the info we need is on `foodwise`, so lets scrape! "
   ]
  },
  {
   "cell_type": "markdown",
   "id": "f79a3b26",
   "metadata": {},
   "source": [
    "First, observe that the search mask (Food type, Month) invokes an API. However, the params are complicated to assemble, also, the returned object is an html. So we have to scrape the html. First check, using devtools, that the desired information is returned by the API (under `doc`). "
   ]
  },
  {
   "cell_type": "code",
   "execution_count": null,
   "id": "e966f975",
   "metadata": {},
   "outputs": [],
   "source": [
    "import requests\n",
    "import lxml.html as lx\n",
    "import requests_cache\n",
    "import time\n",
    "requests_cache.install_cache(\"lecture10\")"
   ]
  },
  {
   "cell_type": "code",
   "execution_count": null,
   "id": "722cec00",
   "metadata": {},
   "outputs": [],
   "source": [
    "url = \"https://foodwise.org/eat-seasonally/seasonality-charts/?_food_type=vegetable\""
   ]
  },
  {
   "cell_type": "code",
   "execution_count": null,
   "id": "efd45c9a",
   "metadata": {},
   "outputs": [],
   "source": [
    "headers = {\n",
    "    'user-agent': 'Mozilla/5.0 (Macintosh; Intel Mac OS X 10_15_7) AppleWebKit/537.36 (KHTML, like Gecko) Chrome/106.0.0.0 Safari/537.36'\n",
    "}"
   ]
  },
  {
   "cell_type": "markdown",
   "id": "7f78cf23",
   "metadata": {},
   "source": [
    "Here, the server needs the `user-agent` key in the header. "
   ]
  },
  {
   "cell_type": "code",
   "execution_count": null,
   "id": "6f1b83b9",
   "metadata": {},
   "outputs": [],
   "source": [
    "response = requests.get(url, headers = headers)\n",
    "response.raise_for_status()"
   ]
  },
  {
   "cell_type": "code",
   "execution_count": null,
   "id": "dd5f3f77",
   "metadata": {
    "scrolled": true
   },
   "outputs": [],
   "source": [
    "response.text[:100]"
   ]
  },
  {
   "cell_type": "markdown",
   "id": "067f848f",
   "metadata": {},
   "source": [
    "##### First approach"
   ]
  },
  {
   "cell_type": "code",
   "execution_count": null,
   "id": "b7f74968",
   "metadata": {},
   "outputs": [],
   "source": [
    "url = \"https://foodwise.org/foods/cactus-pads/\"\n",
    "response = requests.get(url, headers = headers)"
   ]
  },
  {
   "cell_type": "code",
   "execution_count": null,
   "id": "ea214549",
   "metadata": {},
   "outputs": [],
   "source": [
    "response.raise_for_status()"
   ]
  },
  {
   "cell_type": "code",
   "execution_count": null,
   "id": "c6b4b3a1",
   "metadata": {},
   "outputs": [],
   "source": [
    "response.text # works after executed chunk below, as we use cache"
   ]
  },
  {
   "cell_type": "markdown",
   "id": "ee824dcd",
   "metadata": {},
   "source": [
    "We have to provide the correct header! "
   ]
  },
  {
   "cell_type": "code",
   "execution_count": null,
   "id": "0813f953",
   "metadata": {},
   "outputs": [],
   "source": [
    "response = requests.get(url, headers = headers)\n",
    "response.raise_for_status"
   ]
  },
  {
   "cell_type": "code",
   "execution_count": null,
   "id": "621419d2",
   "metadata": {},
   "outputs": [],
   "source": [
    "response.text[:100]"
   ]
  },
  {
   "cell_type": "code",
   "execution_count": null,
   "id": "7db552f5",
   "metadata": {},
   "outputs": [],
   "source": [
    "html = lx.fromstring(response.text) # Parse the HTML\n",
    "html"
   ]
  },
  {
   "cell_type": "code",
   "execution_count": null,
   "id": "50c8c7bf",
   "metadata": {},
   "outputs": [],
   "source": [
    "html.xpath('//*[@id=\"primary\"]/div[2]/div[2]/section[1]/text()')[1]"
   ]
  },
  {
   "cell_type": "code",
   "execution_count": null,
   "id": "a2ce68fe",
   "metadata": {},
   "outputs": [],
   "source": [
    "string = html.xpath('//section[@class=\"sidebar__section\"][h2[contains(text(), \"In Season\")]]/text()')[1]\n",
    "string"
   ]
  },
  {
   "cell_type": "code",
   "execution_count": null,
   "id": "11ccf32d",
   "metadata": {},
   "outputs": [],
   "source": [
    "from re import sub\n",
    "sub(r'\\W', ' ', string).split() # we are going to talk about RegEx some other time"
   ]
  },
  {
   "cell_type": "code",
   "execution_count": null,
   "id": "93d2bf30",
   "metadata": {},
   "outputs": [],
   "source": [
    "def get_months(produce): \n",
    "    time.sleep(0.05)\n",
    "    url = \"https://foodwise.org/foods/\" + produce + \"/\"\n",
    "    response = requests.get(url, headers = headers)\n",
    "    response.raise_for_status()\n",
    "    html = lx.fromstring(response.text)\n",
    "    string = html.xpath('//section[@class=\"sidebar__section\"][h2[contains(text(), \"In Season\")]]/text()')[1]\n",
    "    month = sub(r'(In Season)|\\W', ' ', string).split()\n",
    "    return month"
   ]
  },
  {
   "cell_type": "code",
   "execution_count": null,
   "id": "ba3c7f9f",
   "metadata": {},
   "outputs": [],
   "source": [
    "month = get_months('burdock')\n",
    "month "
   ]
  },
  {
   "cell_type": "markdown",
   "id": "b6d20967",
   "metadata": {},
   "source": [
    "##### How to get the product in the first place? "
   ]
  },
  {
   "cell_type": "code",
   "execution_count": null,
   "id": "4a44853d",
   "metadata": {},
   "outputs": [],
   "source": [
    "url = 'https://foodwise.org/eat-seasonally/seasonality-charts/?_food_type=vegetable'\n",
    "response = requests.get(url, headers = headers)\n",
    "response.raise_for_status()"
   ]
  },
  {
   "cell_type": "code",
   "execution_count": null,
   "id": "b2e7bc8e",
   "metadata": {},
   "outputs": [],
   "source": [
    "html = lx.fromstring(response.text) # Parse the HTML\n",
    "html"
   ]
  },
  {
   "cell_type": "code",
   "execution_count": null,
   "id": "0b7eee97",
   "metadata": {},
   "outputs": [],
   "source": [
    "produce = html.xpath('//div[@class=\"card-image-title__text-content\"]/h3/text()')\n",
    "produce   "
   ]
  },
  {
   "cell_type": "code",
   "execution_count": null,
   "id": "445a93f4",
   "metadata": {},
   "outputs": [],
   "source": [
    "def get_produce(page):\n",
    "    url = 'https://foodwise.org/eat-seasonally/seasonality-charts/'\n",
    "    response = requests.get(url, headers = headers, params = {\n",
    "        '_food_type': 'vegetable',\n",
    "        '_paged': page\n",
    "    })\n",
    "    response.raise_for_status()\n",
    "    html = lx.fromstring(response.text) # Parse the HTML\n",
    "    produce = html.xpath('//div[@class=\"card-image-title__text-content\"]/h3/text()')\n",
    "    return produce"
   ]
  },
  {
   "cell_type": "code",
   "execution_count": null,
   "id": "6525ed28",
   "metadata": {},
   "outputs": [],
   "source": [
    "get_produce(3)"
   ]
  },
  {
   "cell_type": "code",
   "execution_count": null,
   "id": "e895343d",
   "metadata": {
    "scrolled": true
   },
   "outputs": [],
   "source": [
    "produce = [item for sublist in [get_produce(i) for i in range(1,5)] for item in sublist]\n",
    "produce"
   ]
  },
  {
   "cell_type": "markdown",
   "id": "6103147f",
   "metadata": {},
   "source": [
    "##### Iterate over produce items"
   ]
  },
  {
   "cell_type": "code",
   "execution_count": null,
   "id": "fc30db8b",
   "metadata": {},
   "outputs": [],
   "source": [
    "year = ['January', 'February', 'March', 'April', 'May', 'June', 'July', 'August', 'September', \n",
    "        'October', 'November', 'December']"
   ]
  },
  {
   "cell_type": "code",
   "execution_count": null,
   "id": "c1bc35d4",
   "metadata": {},
   "outputs": [],
   "source": [
    "month = get_months('Tatsoi')"
   ]
  },
  {
   "cell_type": "code",
   "execution_count": null,
   "id": "092aac82",
   "metadata": {},
   "outputs": [],
   "source": [
    "month"
   ]
  },
  {
   "cell_type": "code",
   "execution_count": null,
   "id": "0524b066",
   "metadata": {},
   "outputs": [],
   "source": [
    "d = {'Produce': 'Tatsoi'}\n",
    "d.update({item: True if item in month else False for item in year})\n",
    "d"
   ]
  },
  {
   "cell_type": "code",
   "execution_count": null,
   "id": "b6a8052c",
   "metadata": {
    "scrolled": true
   },
   "outputs": [],
   "source": [
    "import pandas\n",
    "pandas.DataFrame([d, d])"
   ]
  },
  {
   "cell_type": "code",
   "execution_count": null,
   "id": "bdcfa7bf",
   "metadata": {},
   "outputs": [],
   "source": [
    "def assemble_row(produce): \n",
    "    print(produce)\n",
    "    month = get_months(produce)\n",
    "    d = {'Produce': produce}\n",
    "    d.update({item: True if item in month else False for item in year})\n",
    "    return d"
   ]
  },
  {
   "cell_type": "code",
   "execution_count": null,
   "id": "4f14f2c3",
   "metadata": {},
   "outputs": [],
   "source": [
    "assemble_row(\"Tatsoi\")"
   ]
  },
  {
   "cell_type": "code",
   "execution_count": null,
   "id": "87f506c7",
   "metadata": {},
   "outputs": [],
   "source": [
    "import pandas as pd"
   ]
  },
  {
   "cell_type": "code",
   "execution_count": null,
   "id": "d008de62",
   "metadata": {},
   "outputs": [],
   "source": [
    "pd.DataFrame([assemble_row(p) for p in produce[:3]])"
   ]
  },
  {
   "cell_type": "code",
   "execution_count": null,
   "id": "60ef0a4e",
   "metadata": {},
   "outputs": [],
   "source": [
    "produce[:3]"
   ]
  },
  {
   "cell_type": "code",
   "execution_count": null,
   "id": "8776ec1c",
   "metadata": {
    "scrolled": false
   },
   "outputs": [],
   "source": [
    "df = [assemble_row(i) for i in produce] # runs for 45 secs"
   ]
  },
  {
   "cell_type": "code",
   "execution_count": null,
   "id": "2dbfa552",
   "metadata": {},
   "outputs": [],
   "source": [
    "def get_months(produce): \n",
    "    time.sleep(0.05)\n",
    "    url = \"https://foodwise.org/foods/\" + produce + \"/\"\n",
    "    response = requests.get(url, headers = headers)\n",
    "    response.raise_for_status()\n",
    "    html = lx.fromstring(response.text)\n",
    "    try: \n",
    "        string = html.xpath('//section[@class=\"sidebar__section\"][h2[contains(text(), \"In Season\")]]/text()')[1]\n",
    "        month = sub(r'(In Season)|\\W', ' ', string).split() \n",
    "    except:\n",
    "        month = []\n",
    "    return month"
   ]
  },
  {
   "cell_type": "code",
   "execution_count": null,
   "id": "31b0954a",
   "metadata": {
    "scrolled": false
   },
   "outputs": [],
   "source": [
    "[assemble_row(i) for i in produce]"
   ]
  },
  {
   "cell_type": "markdown",
   "id": "430535b1",
   "metadata": {},
   "source": [
    "Try to catch the error, or check what happened! "
   ]
  },
  {
   "cell_type": "code",
   "execution_count": null,
   "id": "1c147c3d",
   "metadata": {},
   "outputs": [],
   "source": [
    "# Not run! \n",
    "def get_months(produce): \n",
    "    time.sleep(0.05)\n",
    "    url = \"https://foodwise.org/foods/\" + produce + \"/\"\n",
    "    response = requests.get(url, headers = headers)\n",
    "    try: response.raise_for_status()\n",
    "    except requests.HTTPError:\n",
    "        month = []\n",
    "        return month \n",
    "    else:\n",
    "        html = lx.fromstring(response.text)\n",
    "        try: \n",
    "            string = html.xpath('//section[@class=\"sidebar__section\"][h2[contains(text(), \"In Season\")]]/text()')[1]\n",
    "            month = sub(r'(In Season)|\\W', ' ', string).split() \n",
    "        except:\n",
    "            month = []\n",
    "            return month \n",
    "        return month"
   ]
  },
  {
   "cell_type": "markdown",
   "id": "9d46cb0b",
   "metadata": {},
   "source": [
    "We have to account for new links.... Retrieve the `href` attribute from the anchor."
   ]
  },
  {
   "cell_type": "code",
   "execution_count": null,
   "id": "96328607",
   "metadata": {},
   "outputs": [],
   "source": [
    "url = 'https://foodwise.org/eat-seasonally/seasonality-charts/?_food_type=vegetable&_paged=3' #try page 3,4\n",
    "response = requests.get(url, headers = headers)\n",
    "response.raise_for_status()\n",
    "html = lx.fromstring(response.text) # Parse the HTML\n",
    "produce = html.xpath('//article[@class=\"card-image-title__container\"]/a/@href') #returns href attribute of anchor link\n",
    "produce"
   ]
  },
  {
   "cell_type": "code",
   "execution_count": null,
   "id": "e9a23edd",
   "metadata": {},
   "outputs": [],
   "source": [
    "def get_url(i):\n",
    "    url = 'https://foodwise.org/eat-seasonally/seasonality-charts/?_food_type=vegetable&_paged=' + str(i)\n",
    "    response = requests.get(url, headers = headers)\n",
    "    response.raise_for_status()\n",
    "    html = lx.fromstring(response.text) # Parse the HTML\n",
    "    #returns href attribute of anchor link\n",
    "    produce_link = html.xpath('//article[@class=\"card-image-title__container\"]/a/@href') \n",
    "    return produce_link"
   ]
  },
  {
   "cell_type": "code",
   "execution_count": null,
   "id": "2a267ac8",
   "metadata": {
    "scrolled": true
   },
   "outputs": [],
   "source": [
    "produce_links = [item for sublist in [get_url(i) for i in range(1,5)] for item in sublist]\n",
    "produce_links"
   ]
  },
  {
   "cell_type": "markdown",
   "id": "31a64cd3",
   "metadata": {},
   "source": [
    "Lets find the (new) produce name from its site. "
   ]
  },
  {
   "cell_type": "code",
   "execution_count": null,
   "id": "8a768932",
   "metadata": {},
   "outputs": [],
   "source": [
    "result = requests.get('https://foodwise.org/foods/peppers-chile/', headers = headers)\n",
    "result.raise_for_status()"
   ]
  },
  {
   "cell_type": "code",
   "execution_count": null,
   "id": "e7a249e0",
   "metadata": {},
   "outputs": [],
   "source": [
    "html = lx.fromstring(result.text)"
   ]
  },
  {
   "cell_type": "code",
   "execution_count": null,
   "id": "9fef2536",
   "metadata": {},
   "outputs": [],
   "source": [
    "html.xpath(\"//h1/text()\")[0]"
   ]
  },
  {
   "cell_type": "code",
   "execution_count": null,
   "id": "7e98254c",
   "metadata": {},
   "outputs": [],
   "source": [
    "def get_months(produce_link): \n",
    "    time.sleep(0.05)\n",
    "    response = requests.get(produce_link, headers = headers)\n",
    "    html = lx.fromstring(response.text)\n",
    "    try: \n",
    "        string = html.xpath('//section[@class=\"sidebar__section\"][h2[contains(text(), \"In Season\")]]/text()')[1]\n",
    "    except:\n",
    "          return [None, []] \n",
    "    else: \n",
    "        month = sub(r'(In Season)|\\W', ' ', string).split() \n",
    "        name = html.xpath(\"//h1/text()\")[0]\n",
    "        return [name, month]"
   ]
  },
  {
   "cell_type": "code",
   "execution_count": null,
   "id": "33c4fdea",
   "metadata": {},
   "outputs": [],
   "source": [
    "get_months('https://foodwise.org/foods/peppers-chile/')"
   ]
  },
  {
   "cell_type": "code",
   "execution_count": null,
   "id": "94be6b79",
   "metadata": {},
   "outputs": [],
   "source": [
    "def assemble_row(produce_link): \n",
    "    name, month = get_months(produce_link)\n",
    "    d = {'Produce': name}\n",
    "    d.update({item: True if item in month else False for item in year})\n",
    "    return d"
   ]
  },
  {
   "cell_type": "code",
   "execution_count": null,
   "id": "614614d9",
   "metadata": {},
   "outputs": [],
   "source": [
    "assemble_row('https://foodwise.org/foods/peppers-chile/')"
   ]
  },
  {
   "cell_type": "code",
   "execution_count": null,
   "id": "e3805a0a",
   "metadata": {},
   "outputs": [],
   "source": [
    "df = [assemble_row(i) for i in produce_links] \n",
    "df"
   ]
  },
  {
   "cell_type": "code",
   "execution_count": null,
   "id": "692a2e85",
   "metadata": {},
   "outputs": [],
   "source": [
    "tbl = pd.DataFrame(df)\n",
    "tbl.shape"
   ]
  },
  {
   "cell_type": "code",
   "execution_count": null,
   "id": "ac2f5088",
   "metadata": {},
   "outputs": [],
   "source": [
    "tbl.head()"
   ]
  },
  {
   "cell_type": "code",
   "execution_count": null,
   "id": "9efe1b28",
   "metadata": {},
   "outputs": [],
   "source": [
    "tbl.set_index(\"Produce\")"
   ]
  },
  {
   "cell_type": "markdown",
   "id": "a66168db",
   "metadata": {},
   "source": [
    "### Tornado Watch \n",
    "\n",
    "We are interested in scraping and plotting the locations of all tornado warnings in the last 48 hours. "
   ]
  },
  {
   "cell_type": "code",
   "execution_count": null,
   "id": "b1f42337",
   "metadata": {},
   "outputs": [],
   "source": [
    "import requests\n",
    "import lxml.html as lx\n",
    "import time\n",
    "import pandas as pd"
   ]
  },
  {
   "cell_type": "code",
   "execution_count": null,
   "id": "0aacb6d8",
   "metadata": {},
   "outputs": [],
   "source": [
    "result = requests.get('https://www.tornadohq.com/')\n",
    "result.raise_for_status"
   ]
  },
  {
   "cell_type": "code",
   "execution_count": null,
   "id": "b5e0a265",
   "metadata": {},
   "outputs": [],
   "source": [
    "html = lx.fromstring(result.text) # Parse the HTML"
   ]
  },
  {
   "cell_type": "code",
   "execution_count": null,
   "id": "4145e4d1",
   "metadata": {
    "scrolled": true
   },
   "outputs": [],
   "source": [
    "warnings = html.xpath('//pre')\n",
    "warnings"
   ]
  },
  {
   "cell_type": "code",
   "execution_count": null,
   "id": "90017d57",
   "metadata": {},
   "outputs": [],
   "source": [
    "warning = warnings[0].text\n",
    "warning"
   ]
  },
  {
   "cell_type": "markdown",
   "id": "6311ad16",
   "metadata": {},
   "source": [
    "Lets match the latitude-longitude pair after `LAT...LON`. "
   ]
  },
  {
   "cell_type": "code",
   "execution_count": null,
   "id": "00a180f2",
   "metadata": {},
   "outputs": [],
   "source": [
    "from re import findall"
   ]
  },
  {
   "cell_type": "code",
   "execution_count": null,
   "id": "d8569d5f",
   "metadata": {},
   "outputs": [],
   "source": [
    "findall('(?<=LAT\\.{3}LON\\s)(\\d+\\s\\d+)', warning)[0].split()"
   ]
  },
  {
   "cell_type": "markdown",
   "id": "2046de57",
   "metadata": {},
   "source": [
    "Rename the coordinates in readable format. "
   ]
  },
  {
   "cell_type": "code",
   "execution_count": null,
   "id": "fb48d1b4",
   "metadata": {},
   "outputs": [],
   "source": [
    "coord_list = [findall('(?<=LAT\\.{3}LON\\s)(\\d+\\s\\d+)', warning.text)[0].split() for warning in warnings]"
   ]
  },
  {
   "cell_type": "code",
   "execution_count": null,
   "id": "e62ee9ca",
   "metadata": {},
   "outputs": [],
   "source": [
    "coord_list"
   ]
  },
  {
   "cell_type": "code",
   "execution_count": null,
   "id": "a4dbd2cd",
   "metadata": {},
   "outputs": [],
   "source": [
    "coord = pd.DataFrame(coord_list)\n",
    "coord.columns = ['N', 'W']\n",
    "coord = coord.applymap(lambda x: float(x) / 100) # convert location in readable format\n",
    "coord['W'] = -coord['W'] # longitude to west is negative\n",
    "coord.head()"
   ]
  },
  {
   "cell_type": "markdown",
   "id": "1116cf8e",
   "metadata": {},
   "source": [
    "Plot the results (consider a [mapbox token](https://studio.mapbox.com/) to plot.)!"
   ]
  },
  {
   "cell_type": "code",
   "execution_count": null,
   "id": "ecccc9bd",
   "metadata": {},
   "outputs": [],
   "source": [
    "import plotly.express as px\n",
    "import geopandas as gpd\n",
    "\n",
    "px.set_mapbox_access_token(open(\"./../keys/mapbox.txt\").read())\n",
    "fig = px.scatter_mapbox(coord,\n",
    "                        lat='N',\n",
    "                        lon='W',\n",
    "                        zoom=4)\n",
    "fig.show()"
   ]
  },
  {
   "cell_type": "markdown",
   "id": "abace56b",
   "metadata": {},
   "source": [
    "### Summary \n",
    "\n",
    "- Scraping does not necessarily return the desired, make use of error handling \n",
    "- Make use of the advantages of devtools to see how the website is structured"
   ]
  }
 ],
 "metadata": {
  "kernelspec": {
   "display_name": "Python 3 (ipykernel)",
   "language": "python",
   "name": "python3"
  },
  "language_info": {
   "codemirror_mode": {
    "name": "ipython",
    "version": 3
   },
   "file_extension": ".py",
   "mimetype": "text/x-python",
   "name": "python",
   "nbconvert_exporter": "python",
   "pygments_lexer": "ipython3",
   "version": "3.9.12"
  }
 },
 "nbformat": 4,
 "nbformat_minor": 5
}
