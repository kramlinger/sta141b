{
 "cells": [
  {
   "cell_type": "markdown",
   "id": "e90b297f",
   "metadata": {
    "slideshow": {
     "slide_type": "slide"
    }
   },
   "source": [
    "## STA 141B Data & Web Technologies for Data Analysis\n",
    "\n",
    "### Lecture 12, 2/20/25, Natural language processing\n"
   ]
  },
  {
   "cell_type": "markdown",
   "id": "870724d4",
   "metadata": {
    "slideshow": {
     "slide_type": "slide"
    }
   },
   "source": [
    "### Announcements\n",
    "\n",
    "- HW 3 is due this Sunday."
   ]
  },
  {
   "cell_type": "markdown",
   "id": "555139ec",
   "metadata": {},
   "source": [
    "### Recap "
   ]
  },
  {
   "cell_type": "code",
   "execution_count": null,
   "id": "2e0ab83e",
   "metadata": {},
   "outputs": [],
   "source": [
    "import requests\n",
    "import lxml.html as lx\n",
    "import re\n",
    "\n",
    "result = requests.get(\"https://en.wikipedia.org/wiki/HTTP\").text"
   ]
  },
  {
   "cell_type": "code",
   "execution_count": null,
   "id": "84c890c1",
   "metadata": {
    "scrolled": false
   },
   "outputs": [],
   "source": [
    "links = [i for i in lx.fromstring(result).xpath(\"//a/@href\")]\n",
    "links[300:310]"
   ]
  },
  {
   "cell_type": "markdown",
   "id": "adcd6d02",
   "metadata": {},
   "source": [
    "Remove links with `#`, colon and those that do not start by `/wiki/`"
   ]
  },
  {
   "cell_type": "code",
   "execution_count": null,
   "id": "5a617abf",
   "metadata": {},
   "outputs": [],
   "source": []
  },
  {
   "cell_type": "code",
   "execution_count": null,
   "id": "3ed670d2",
   "metadata": {
    "scrolled": false
   },
   "outputs": [],
   "source": []
  },
  {
   "cell_type": "markdown",
   "id": "489acc7d",
   "metadata": {},
   "source": [
    "[&#128011;](https://www.gutenberg.org/files/2701/2701-h/2701-h.htm)"
   ]
  },
  {
   "cell_type": "code",
   "execution_count": null,
   "id": "17430109",
   "metadata": {},
   "outputs": [],
   "source": [
    "import nltk.corpus\n",
    "import re\n",
    "\n",
    "moby = nltk.corpus.gutenberg.raw(\"melville-moby_dick.txt\")"
   ]
  },
  {
   "cell_type": "code",
   "execution_count": null,
   "id": "a058e493",
   "metadata": {},
   "outputs": [],
   "source": [
    "len(re.findall('CHAPTER \\d+\\s+.+(?=\\s)', moby))"
   ]
  },
  {
   "cell_type": "code",
   "execution_count": null,
   "id": "16296583",
   "metadata": {},
   "outputs": [],
   "source": [
    "pattern = '(?:EXTRACTS|ETYMOLOGY\\.|Epilogue|CHAPTER \\d+)\\s+.+(?=\\s)'\n",
    "len(re.findall(pattern, moby))"
   ]
  },
  {
   "cell_type": "code",
   "execution_count": null,
   "id": "ed319895",
   "metadata": {},
   "outputs": [],
   "source": [
    "chapters=re.split(pattern, moby)\n",
    "chapters.pop(0) # remove the title \n",
    "len(chapters)"
   ]
  },
  {
   "cell_type": "code",
   "execution_count": null,
   "id": "491bc7f7",
   "metadata": {},
   "outputs": [],
   "source": [
    "chapters[2][:20]"
   ]
  },
  {
   "cell_type": "code",
   "execution_count": null,
   "id": "0eb1451f",
   "metadata": {},
   "outputs": [],
   "source": [
    "chapter=chapters[0]"
   ]
  },
  {
   "cell_type": "markdown",
   "id": "042a33db",
   "metadata": {
    "slideshow": {
     "slide_type": "slide"
    }
   },
   "source": [
    "### Today's topics\n",
    "- Natural Language Processing\n",
    "     - Standardizing Text\n",
    "     - Feature extraction\n",
    "         - Term frequencies\n",
    "         - One-hot encoding\n",
    "         - Term Frequency-Inverse Document Frequency"
   ]
  },
  {
   "cell_type": "markdown",
   "id": "e814c46d",
   "metadata": {},
   "source": [
    "### Resources\n",
    "- [Natural Language Processing with Python][nlpp], chapters 1-3. Beware: the print version is for Python 2.\n",
    "- [Scikit-Learn Documentation][skl], especially the section about [Text Feature Extraction](https://scikit-learn.org/stable/modules/feature_extraction.html#text-feature-extraction)\n",
    "\n",
    "\n",
    "[PDSH]: https://jakevdp.github.io/PythonDataScienceHandbook/\n",
    "[ProGit]: https://git-scm.com/book/\n",
    "[nlpp]: https://www.nltk.org/book/\n",
    "[atap]: https://search.library.ucdavis.edu/primo-explore/fulldisplay?docid=01UCD_ALMA51320822340003126&context=L&vid=01UCD_V1&search_scope=everything_scope&tab=default_tab&lang=en_US\n",
    "[skl]: https://scikit-learn.org/stable/documentation.html\n"
   ]
  },
  {
   "cell_type": "markdown",
   "id": "b9b17788",
   "metadata": {},
   "source": [
    "### Standardizing Text\n",
    "\n",
    "We standardize numerical data in order to make fair comparisons, comparisons that are not influenced by the location and scale of the data. Similarly, you can standardize text (tokens) to make sure comparisons are fair and accurate.\n",
    "\n",
    "For example, `\"Cat\"` and `\"cat\"` are the same word even though they're different tokens. Converting all characters to lowercase is one way to standardize a document.\n",
    "\n",
    "Some common standardization techniques for text are:\n",
    "\n",
    "* Lowercasing\n",
    "* Stemming: Use patterns to remove prefixes and suffixes from words.\n",
    "* Lemmatiziation: Look up each token in a dictionary and replace it with a root word. Similar to stemming, but more accurate.\n",
    "* Stopword Removal: Remove tokens that don't contribute meaning. For example, \"the\" is meaningless on its own.\n",
    "* Identifying Outliers: Identify and possibly remove non-standard \"words\" like numbers, mispellings, code, etc...\n",
    "\n",
    "How and whether you should standardize a document or corpus depends on what kind of analysis you want to do. There is no formula; you must think carefully and experiment to determine which standardization techniques work best for your problem."
   ]
  },
  {
   "cell_type": "markdown",
   "id": "d2bf0be2",
   "metadata": {},
   "source": [
    "#### Lowercasing\n",
    "\n",
    "You can use Python's string methods for simple text transformations."
   ]
  },
  {
   "cell_type": "code",
   "execution_count": null,
   "id": "43256a44",
   "metadata": {},
   "outputs": [],
   "source": [
    "chapter[:100]"
   ]
  },
  {
   "cell_type": "code",
   "execution_count": null,
   "id": "99b6564d",
   "metadata": {},
   "outputs": [],
   "source": [
    "chapter.lower()[:100]"
   ]
  },
  {
   "cell_type": "code",
   "execution_count": null,
   "id": "ccdd5b2b",
   "metadata": {},
   "outputs": [],
   "source": [
    "chapter.upper()[:100]"
   ]
  },
  {
   "cell_type": "code",
   "execution_count": null,
   "id": "68de4da1",
   "metadata": {},
   "outputs": [],
   "source": [
    "words = re.findall(r\"\\w+\", chapter)"
   ]
  },
  {
   "cell_type": "code",
   "execution_count": null,
   "id": "de8d5cbb",
   "metadata": {},
   "outputs": [],
   "source": [
    "words[0:9]"
   ]
  },
  {
   "cell_type": "code",
   "execution_count": null,
   "id": "cfe70092",
   "metadata": {},
   "outputs": [],
   "source": [
    "lower = [w.lower() for w in words] # lower and upper\n",
    "lower[:10]"
   ]
  },
  {
   "cell_type": "markdown",
   "id": "1721749d",
   "metadata": {},
   "source": [
    "#### Stemming\n",
    "\n",
    "_Stemming_ runs an algorithm on each token to remove affixes (prefixes and suffixes). The result is called a _stem_.\n",
    "\n",
    "Stemming is useful if you want to ignore affixes.\n",
    "\n",
    "For example, most English verbs use suffixes to mark the tense. We write \"They fish\" (present) and \"They fished\" (past). Without any standardization, the tokens \"fish\" and \"fished\" would be treated as separate words. Stemming converts both tokens to the common stem \"fish\":"
   ]
  },
  {
   "cell_type": "code",
   "execution_count": null,
   "id": "887f5b9f",
   "metadata": {
    "scrolled": true
   },
   "outputs": [],
   "source": [
    "[nltk.PorterStemmer().stem(w) for w in words[0:20]]"
   ]
  },
  {
   "cell_type": "code",
   "execution_count": null,
   "id": "a3c9cc9d",
   "metadata": {},
   "outputs": [],
   "source": [
    "print(nltk.PorterStemmer().stem(\"whales\"))"
   ]
  },
  {
   "cell_type": "code",
   "execution_count": null,
   "id": "2f05faeb",
   "metadata": {},
   "outputs": [],
   "source": [
    "print(nltk.PorterStemmer().stem(\"whaling\"))"
   ]
  },
  {
   "cell_type": "code",
   "execution_count": null,
   "id": "7de594f8",
   "metadata": {},
   "outputs": [],
   "source": [
    "print(nltk.PorterStemmer().stem(\"whalebone\"))"
   ]
  },
  {
   "cell_type": "code",
   "execution_count": null,
   "id": "5efbe78f",
   "metadata": {},
   "outputs": [],
   "source": [
    "print(nltk.PorterStemmer().stem(\"narwhales\"))"
   ]
  },
  {
   "cell_type": "markdown",
   "id": "778e96d1",
   "metadata": {},
   "source": [
    "Stemmers use a sequence of rules to determine the stem for each token, but natural languages are full of special cases and exceptions. So as you can see in the example above, some stems are not words , and sometimes tokens that seem like they should have the same stem don't.\n",
    "\n",
    "Several different stemmers are provided in the `nltk.stem` submodule."
   ]
  },
  {
   "cell_type": "markdown",
   "id": "c0215e08",
   "metadata": {},
   "source": [
    "#### Lemmatization\n",
    "\n",
    "_Lemmatization_ looks up each token in a dictionary to find a root word, or _lemma_.\n",
    "\n",
    "Lemmatization serves the same purpose as stemming. Lemmatization is more accurate, but requires a dictionary and usually takes longer."
   ]
  },
  {
   "cell_type": "code",
   "execution_count": null,
   "id": "4b47f302",
   "metadata": {},
   "outputs": [],
   "source": [
    "nltk.download('wordnet')"
   ]
  },
  {
   "cell_type": "code",
   "execution_count": null,
   "id": "22243d79",
   "metadata": {},
   "outputs": [],
   "source": [
    "nltk.WordNetLemmatizer().lemmatize(\"whaling\")"
   ]
  },
  {
   "cell_type": "code",
   "execution_count": null,
   "id": "80e39784",
   "metadata": {},
   "outputs": [],
   "source": [
    "nltk.WordNetLemmatizer().lemmatize(\"whaling\", \"n\") #this is a verb - it should be lemmatized to 'whale'"
   ]
  },
  {
   "cell_type": "code",
   "execution_count": null,
   "id": "84604cbb",
   "metadata": {},
   "outputs": [],
   "source": [
    "nltk.WordNetLemmatizer().lemmatize(\"whalebone\")"
   ]
  },
  {
   "cell_type": "code",
   "execution_count": null,
   "id": "929829e1",
   "metadata": {},
   "outputs": [],
   "source": [
    "nltk.WordNetLemmatizer().lemmatize(\"narwhales\")"
   ]
  },
  {
   "cell_type": "markdown",
   "id": "5939c5ce",
   "metadata": {},
   "source": [
    "The WordNet lemmatizer requires part of speech information in order to lemmatize words. You can get approximate part of speech information with __nltk__'s `pos_tag()` function."
   ]
  },
  {
   "cell_type": "code",
   "execution_count": null,
   "id": "7b1ee010",
   "metadata": {},
   "outputs": [],
   "source": [
    "nltk.download('averaged_perceptron_tagger')"
   ]
  },
  {
   "cell_type": "code",
   "execution_count": null,
   "id": "18602a93",
   "metadata": {},
   "outputs": [],
   "source": [
    "nltk.pos_tag([\"whaling\"])"
   ]
  },
  {
   "cell_type": "code",
   "execution_count": null,
   "id": "4e43431f",
   "metadata": {},
   "outputs": [],
   "source": [
    "nltk.pos_tag([\"whale\"])"
   ]
  },
  {
   "cell_type": "markdown",
   "id": "d9ef5382",
   "metadata": {},
   "source": [
    "NLTK POS Tags are [Brown POS tags][brown]\n",
    "\n",
    "[brown]: https://en.wikipedia.org/wiki/Brown_Corpus#Part-of-speech_tags_used"
   ]
  },
  {
   "cell_type": "markdown",
   "id": "4029a332",
   "metadata": {},
   "source": [
    "#### Foreign language"
   ]
  },
  {
   "cell_type": "code",
   "execution_count": null,
   "id": "bb8473de",
   "metadata": {},
   "outputs": [],
   "source": [
    "from nltk.stem.snowball import SnowballStemmer"
   ]
  },
  {
   "cell_type": "code",
   "execution_count": null,
   "id": "c57530a2",
   "metadata": {},
   "outputs": [],
   "source": [
    "fr = SnowballStemmer('french')\n",
    "\n",
    "sent = \"En mathématiques, une fonction càdlàg (continue à droite, limite à gauche) est ...\"\n",
    "nltk.word_tokenize(sent)"
   ]
  },
  {
   "cell_type": "code",
   "execution_count": null,
   "id": "bfafb169",
   "metadata": {},
   "outputs": [],
   "source": [
    "nltk.pos_tag([word for word in nltk.word_tokenize(sent)])"
   ]
  },
  {
   "cell_type": "code",
   "execution_count": null,
   "id": "34ee3ed4",
   "metadata": {},
   "outputs": [],
   "source": [
    "moby_tags = nltk.pos_tag(words)\n",
    "moby_tags[0:10]"
   ]
  },
  {
   "cell_type": "markdown",
   "id": "a895ac60",
   "metadata": {},
   "source": [
    "The `nltk.stem` submodule also provides several different lemmatizers."
   ]
  },
  {
   "cell_type": "markdown",
   "id": "d6410415",
   "metadata": {},
   "source": [
    "### Stopword Removal\n",
    "\n",
    "_Stopwords_ are words that appear frequently but don't add meaning.\n",
    "\n",
    "In English, \"the\", \"a\", and \"at\" are examples. However, exactly which words are stopwords depends on your analysis. Words that are meaningless in one analysis might be very important in others.\n",
    "\n",
    "You can filter out stopwords with a list comprehension:"
   ]
  },
  {
   "cell_type": "code",
   "execution_count": null,
   "id": "55ed57b2",
   "metadata": {},
   "outputs": [],
   "source": [
    "stopwords = [\"the\", \"a\", \"and\", \"or\", \"in\", \"by\"]\n",
    "[w for w in words if w not in stopwords][0:20]"
   ]
  },
  {
   "cell_type": "markdown",
   "id": "aafad6f3",
   "metadata": {},
   "source": [
    "__nltk__ also provides a stopwords corpus that contains common stopwords for several languages."
   ]
  },
  {
   "cell_type": "code",
   "execution_count": null,
   "id": "8f34fc31",
   "metadata": {},
   "outputs": [],
   "source": [
    "nltk.download(\"stopwords\")"
   ]
  },
  {
   "cell_type": "code",
   "execution_count": null,
   "id": "df35c952",
   "metadata": {},
   "outputs": [],
   "source": [
    "stopwords = nltk.corpus.stopwords.words(\"english\")"
   ]
  },
  {
   "cell_type": "code",
   "execution_count": null,
   "id": "e2456721",
   "metadata": {},
   "outputs": [],
   "source": [
    "stopwords"
   ]
  },
  {
   "cell_type": "code",
   "execution_count": null,
   "id": "9d229e3a",
   "metadata": {},
   "outputs": [],
   "source": [
    "[w.lower() for w in words if w.lower() not in stopwords][0:20]"
   ]
  },
  {
   "cell_type": "markdown",
   "id": "826bfeac",
   "metadata": {},
   "source": [
    "### Feature Engineering for Natural Language Data\n",
    "\n",
    "Most statistical techniques take numbers as input. You may have already noticed this when working with categorical data. We can't compute the mean, median, standard deviation, or z-score if the observations aren't numbers. While we can fit linear models, it takes extra work because we have to create, or _engineer_, indicator variables.\n",
    "\n",
    "We face the same problem with natural language data. We need to _quantify_ documents, or turn them into numbers, so that we can use a wider variety of statistical techniques. We can do this by engineering features from our documents.\n",
    "\n",
    "So: what kinds of features can we create for language data?"
   ]
  },
  {
   "cell_type": "code",
   "execution_count": null,
   "id": "83fa4fec",
   "metadata": {},
   "outputs": [],
   "source": [
    "import numpy as np\n",
    "import pandas as pd\n",
    "import nltk, nltk.corpus"
   ]
  },
  {
   "cell_type": "markdown",
   "id": "37457163",
   "metadata": {},
   "source": [
    "#### Term Frequencies\n",
    "\n",
    "One solution is to extend the idea of frequency analysis. We used frequency analysis to study individual documents, but what if we compute the word frequencies for every document in our corpus, and use those frequencies as features?\n",
    "\n",
    "Let's try this for a small corpus:"
   ]
  },
  {
   "cell_type": "code",
   "execution_count": null,
   "id": "b7f955f7",
   "metadata": {},
   "outputs": [],
   "source": [
    "corpus = [\"The cat saw the dog was angry at the other cat.\", \n",
    "          \"The dog saw the cat was angry at the other cat.\", \n",
    "          \"The canary saw the iguana was sad.\"]\n",
    "\n",
    "def get_freq_doc(doc):\n",
    "    words = (w.lower() for w in nltk.word_tokenize(doc))\n",
    "    #words = (w for w in words if w not in [\"the\", \"a\", \"an\", \"at\", 'other', \".\"] and w.isalnum())\n",
    "    return nltk.FreqDist(words)"
   ]
  },
  {
   "cell_type": "code",
   "execution_count": null,
   "id": "68164b1a",
   "metadata": {},
   "outputs": [],
   "source": [
    "dict(get_freq_doc(corpus[0]))"
   ]
  },
  {
   "cell_type": "code",
   "execution_count": null,
   "id": "7a029703",
   "metadata": {},
   "outputs": [],
   "source": [
    "import pandas as pd"
   ]
  },
  {
   "cell_type": "code",
   "execution_count": null,
   "id": "f8f37694",
   "metadata": {},
   "outputs": [],
   "source": [
    "# use the function to get frequency for each word\n",
    "df = pd.DataFrame([get_freq_doc(doc) for doc in corpus])"
   ]
  },
  {
   "cell_type": "code",
   "execution_count": null,
   "id": "c96c2261",
   "metadata": {},
   "outputs": [],
   "source": [
    "df = df.fillna(0)\n",
    "df = df.astype(int)"
   ]
  },
  {
   "cell_type": "code",
   "execution_count": null,
   "id": "9a78e59d",
   "metadata": {},
   "outputs": [],
   "source": [
    "df"
   ]
  },
  {
   "cell_type": "code",
   "execution_count": null,
   "id": "5d97b8dd",
   "metadata": {},
   "outputs": [],
   "source": [
    "# The isalnum() method returns True if all characters in the string are alphanumeric\n",
    "\"dog?2\".isalnum()"
   ]
  },
  {
   "cell_type": "code",
   "execution_count": null,
   "id": "08e36f02",
   "metadata": {},
   "outputs": [],
   "source": [
    "words = [re.findall(r\"\\w+\", chapter) for chapter in chapters]\n",
    "words = [w for l in words for w in l] "
   ]
  },
  {
   "cell_type": "code",
   "execution_count": null,
   "id": "d0498b15",
   "metadata": {},
   "outputs": [],
   "source": [
    "len(set(words))"
   ]
  },
  {
   "cell_type": "code",
   "execution_count": null,
   "id": "668715e5",
   "metadata": {},
   "outputs": [],
   "source": [
    "words = [w.lower() for w in words if w not in stopwords]\n",
    "#words = [w for w in words if w.isalnum()]\n",
    "words[0:10]"
   ]
  },
  {
   "cell_type": "code",
   "execution_count": null,
   "id": "06573915",
   "metadata": {},
   "outputs": [],
   "source": [
    "len(set(words))"
   ]
  },
  {
   "cell_type": "code",
   "execution_count": null,
   "id": "097b7a03",
   "metadata": {},
   "outputs": [],
   "source": [
    "#stopwords"
   ]
  },
  {
   "cell_type": "markdown",
   "id": "6bc8e17f",
   "metadata": {},
   "source": [
    "`fq` will give the frequencies for each word, see [here](https://tedboy.github.io/nlps/generated/generated/nltk.FreqDist.html). "
   ]
  },
  {
   "cell_type": "code",
   "execution_count": null,
   "id": "094b3e63",
   "metadata": {},
   "outputs": [],
   "source": [
    "fq = nltk.FreqDist(words)"
   ]
  },
  {
   "cell_type": "code",
   "execution_count": null,
   "id": "8be8293a",
   "metadata": {},
   "outputs": [],
   "source": [
    "fq"
   ]
  },
  {
   "cell_type": "markdown",
   "id": "bb6d99ef",
   "metadata": {},
   "source": [
    "Frequency distribution objects have a few methods to provide summary information.\n",
    "\n",
    "The `.most_common()` method returns the most common tokens and their frequencies:"
   ]
  },
  {
   "cell_type": "code",
   "execution_count": null,
   "id": "25b10e70",
   "metadata": {},
   "outputs": [],
   "source": [
    "fq.most_common(10)"
   ]
  },
  {
   "cell_type": "markdown",
   "id": "125ee60f",
   "metadata": {},
   "source": [
    "A _hapax_ is a token that only occurs once within a document. The `.hapaxes()` method returns the hapaxes:"
   ]
  },
  {
   "cell_type": "code",
   "execution_count": null,
   "id": "e662415f",
   "metadata": {},
   "outputs": [],
   "source": [
    "len(fq.hapaxes())#[:10]"
   ]
  },
  {
   "cell_type": "markdown",
   "id": "5d1f3750",
   "metadata": {},
   "source": [
    "The `.plot()` method displays a plot of word frequencies, sorted from most to least frequent word.\n",
    "\n",
    "The first parameter controls how many words to display. The second parameter controls whether the plot is cummulative."
   ]
  },
  {
   "cell_type": "code",
   "execution_count": null,
   "id": "0d28fb6b",
   "metadata": {},
   "outputs": [],
   "source": [
    "%matplotlib inline"
   ]
  },
  {
   "cell_type": "code",
   "execution_count": null,
   "id": "dcea4494",
   "metadata": {
    "scrolled": false
   },
   "outputs": [],
   "source": [
    "fq.plot(40, cumulative = True)"
   ]
  },
  {
   "cell_type": "code",
   "execution_count": null,
   "id": "d0f8f4bf",
   "metadata": {
    "scrolled": false
   },
   "outputs": [],
   "source": [
    "fq.plot(40)"
   ]
  },
  {
   "cell_type": "markdown",
   "id": "32e87756",
   "metadata": {},
   "source": [
    "Consider [Zipf's law](https://en.wikipedia.org/wiki/Zipf%27s_law): When the elements of a set - for example, the words of a text - are ordered by their frequency, the probability $p$ of their occurrence is inversely proportional to the place $n$ on the frequency list. "
   ]
  },
  {
   "cell_type": "code",
   "execution_count": null,
   "id": "f4740dc6",
   "metadata": {},
   "outputs": [],
   "source": [
    "import numpy as np"
   ]
  },
  {
   "cell_type": "code",
   "execution_count": null,
   "id": "a1dc409c",
   "metadata": {},
   "outputs": [],
   "source": [
    "logFreq = [np.log(i) for _, i in fq.most_common(2000)]\n",
    "logRank = [np.log(1 + i) for i in range(0,2000)]"
   ]
  },
  {
   "cell_type": "code",
   "execution_count": null,
   "id": "ff49da6d",
   "metadata": {},
   "outputs": [],
   "source": [
    "logTheo = [np.log(1/(1 + i)) for i in range(0,2000)] + logFreq[0]"
   ]
  },
  {
   "cell_type": "code",
   "execution_count": null,
   "id": "955bac8e",
   "metadata": {},
   "outputs": [],
   "source": [
    "import plotnine as p9"
   ]
  },
  {
   "cell_type": "code",
   "execution_count": null,
   "id": "dbef0da7",
   "metadata": {
    "scrolled": false
   },
   "outputs": [],
   "source": [
    "(\n",
    "p9.ggplot() + p9.theme_minimal() + \n",
    "    p9.geom_line(p9.aes(x='logRank', y='logFreq')) + \n",
    "    p9.geom_line(p9.aes(x='logRank', y='logTheo'), color = 'red') \n",
    ")"
   ]
  },
  {
   "cell_type": "markdown",
   "id": "3cacda7c",
   "metadata": {},
   "source": [
    "Notice that when we use term frequencies as features, we lose information about the order of the words in each document.\n",
    "\n",
    "The first and second document contain the same words, but in different orders. The word frequency features for these two documents are identical.\n",
    "\n",
    "The __scikit-learn__ package provides functions to help with feature engineering. The `sklearn.feature_extraction.text` submodule is specifically for extracting features from text documents."
   ]
  },
  {
   "cell_type": "code",
   "execution_count": null,
   "id": "79cbf6dc",
   "metadata": {},
   "outputs": [],
   "source": [
    "from sklearn.feature_extraction.text import CountVectorizer"
   ]
  },
  {
   "cell_type": "code",
   "execution_count": null,
   "id": "50b4fba2",
   "metadata": {},
   "outputs": [],
   "source": [
    "corpus"
   ]
  },
  {
   "cell_type": "code",
   "execution_count": null,
   "id": "c07bd84f",
   "metadata": {},
   "outputs": [],
   "source": [
    "vec = CountVectorizer(tokenizer = nltk.word_tokenize)\n",
    "freq = vec.fit_transform(corpus)"
   ]
  },
  {
   "cell_type": "code",
   "execution_count": null,
   "id": "e72e6675",
   "metadata": {},
   "outputs": [],
   "source": [
    "freq"
   ]
  },
  {
   "cell_type": "code",
   "execution_count": null,
   "id": "672d2318",
   "metadata": {},
   "outputs": [],
   "source": [
    "# .todense() convert sparse matrix to a dense matrix\n",
    "# Don't do this for a really large matrix!\n",
    "freq.todense()"
   ]
  },
  {
   "cell_type": "code",
   "execution_count": null,
   "id": "5df8b5ea",
   "metadata": {},
   "outputs": [],
   "source": [
    "df"
   ]
  },
  {
   "cell_type": "markdown",
   "id": "1a814172",
   "metadata": {},
   "source": [
    "Use the `.get_feature_names_out()` method to see which term each column corresponds to:"
   ]
  },
  {
   "cell_type": "code",
   "execution_count": null,
   "id": "ab946667",
   "metadata": {},
   "outputs": [],
   "source": [
    "vec.get_feature_names_out()"
   ]
  },
  {
   "cell_type": "code",
   "execution_count": null,
   "id": "e9c32bf2",
   "metadata": {},
   "outputs": [],
   "source": [
    "vec"
   ]
  },
  {
   "cell_type": "markdown",
   "id": "dadbed15",
   "metadata": {},
   "source": [
    "One problem with term frequencies is that some terms have high frequencies simply because they appear frequently in the language. These terms can cause documents to appear similar even if they are otherwise different.\n",
    "\n",
    "While removing stopwords takes care of some high-frequency words, there may also be high-frequency words that have meaning and need to be kept."
   ]
  },
  {
   "cell_type": "markdown",
   "id": "4d5ee884",
   "metadata": {},
   "source": [
    "### One-hot Encoding\n",
    "\n",
    "We can avoid emphasis on high-frequency words by ignoring frequency altogether. Instead, we can create indicator variables for individual words. The indicator is 1 if the word appears in the document, and 0 otherwise.\n",
    "\n",
    "In machine learning, an indicator variable is also called a _one-hot encoding_.\n",
    "\n",
    "The `sklearn.preprocessing` submodule of __scikit-learn__ provides a function for one-hot encoding."
   ]
  },
  {
   "cell_type": "code",
   "execution_count": null,
   "id": "eb917ea7",
   "metadata": {
    "scrolled": true
   },
   "outputs": [],
   "source": [
    "from sklearn.preprocessing import Binarizer\n",
    "help(Binarizer)"
   ]
  },
  {
   "cell_type": "code",
   "execution_count": null,
   "id": "f02efdfb",
   "metadata": {},
   "outputs": [],
   "source": [
    "freq"
   ]
  },
  {
   "cell_type": "code",
   "execution_count": null,
   "id": "c6e2e124",
   "metadata": {},
   "outputs": [],
   "source": [
    "(freq > 0).todense()"
   ]
  },
  {
   "cell_type": "code",
   "execution_count": null,
   "id": "e572f34f",
   "metadata": {},
   "outputs": [],
   "source": [
    "ohot = Binarizer().fit_transform(freq)\n",
    "ohot.todense()"
   ]
  },
  {
   "cell_type": "code",
   "execution_count": null,
   "id": "57a17573",
   "metadata": {},
   "outputs": [],
   "source": [
    "freq.todense()"
   ]
  },
  {
   "cell_type": "code",
   "execution_count": null,
   "id": "5b11ec0f",
   "metadata": {},
   "outputs": [],
   "source": [
    "corpus"
   ]
  },
  {
   "cell_type": "code",
   "execution_count": null,
   "id": "100a043a",
   "metadata": {},
   "outputs": [],
   "source": [
    "vec.get_feature_names_out()"
   ]
  },
  {
   "cell_type": "markdown",
   "id": "d79e3a06",
   "metadata": {},
   "source": [
    "As with term frequencies, we lose information about the order of the words in the document.\n",
    "\n",
    "One-hot encoding as an extreme transformation: every term is equally important. This means terms that are relatively rare or unique still might be underemphasized (this is also a problem for term frequencies)."
   ]
  },
  {
   "cell_type": "markdown",
   "id": "91ced790",
   "metadata": {},
   "source": [
    "### Term Frequency-Inverse Document Frequency"
   ]
  },
  {
   "cell_type": "markdown",
   "id": "37325ab6",
   "metadata": {},
   "source": [
    "_Term frequency-inverse document frequency_ (tf-idf) statistics put terms on approximately the same scale while also emphasizing relatively rare terms. There are [several different tf-idf statistics](https://en.wikipedia.org/wiki/Tf%E2%80%93idf).\n",
    "\n",
    "The _smoothed tf-idf_, for a term $t$ and document $d$, is given by:\n",
    "\n",
    "$$\n",
    "\\operatorname{tf-idf}(t, d) = \\operatorname{tf}(t, d) \\cdot \\log \\left( \\frac{N}{1 + n_t} \\right)\n",
    "$$\n",
    "\n",
    "where $N$ is the total number of documents and $n_t$ is the number of documents that contain $t$.\n",
    "\n",
    "The `sklearn.feature_extraction.text` submodule of __scikit-learn__ provides a function for computing tf-idf:"
   ]
  },
  {
   "cell_type": "code",
   "execution_count": null,
   "id": "64cb2dbb",
   "metadata": {},
   "outputs": [],
   "source": [
    "from sklearn.feature_extraction.text import TfidfVectorizer\n",
    "#help(TfidfVectorizer)"
   ]
  },
  {
   "cell_type": "code",
   "execution_count": null,
   "id": "cb9b1512",
   "metadata": {},
   "outputs": [],
   "source": [
    "vec = TfidfVectorizer(tokenizer = nltk.word_tokenize) \n",
    "tfidf = vec.fit_transform(corpus)"
   ]
  },
  {
   "cell_type": "code",
   "execution_count": null,
   "id": "bebf15aa",
   "metadata": {},
   "outputs": [],
   "source": [
    "vec.get_feature_names_out()"
   ]
  },
  {
   "cell_type": "code",
   "execution_count": null,
   "id": "37dd2cc7",
   "metadata": {},
   "outputs": [],
   "source": [
    "df = pd.DataFrame(tfidf.todense(), columns = vec.get_feature_names_out() )"
   ]
  },
  {
   "cell_type": "code",
   "execution_count": null,
   "id": "c80ff469",
   "metadata": {},
   "outputs": [],
   "source": [
    "(1 / 12) * np.log(3 / ( 1 + 3)) # '.' appears once in all 12 words,"
   ]
  },
  {
   "cell_type": "code",
   "execution_count": null,
   "id": "5eb7ffb5",
   "metadata": {},
   "outputs": [],
   "source": [
    "corpus"
   ]
  },
  {
   "cell_type": "markdown",
   "id": "c3c3767a",
   "metadata": {},
   "source": [
    "In long documents or documents with many high-frequency terms, we can further reduce the emphasis on these terms by taking the logarithm of the term frequency. To do this, set `sublinear_tf = True` in the `TfidfVectorizer()` function."
   ]
  },
  {
   "cell_type": "markdown",
   "id": "b30c8678",
   "metadata": {},
   "source": [
    "## Measuring Similarity\n",
    "\n",
    "We can measure the _similarity_ of two documents by computing the distance between their term frequency vectors. There are many different ways we can measure distance and similarity:\n",
    "\n",
    "* Minkowski distance, a family of distances that includes Euclidean distance ($\\ell_2$-norm) and Manhattan distance ($\\ell_1$-norm). \n",
    " * $\\ell_2$-norm, $\\|a - b \\|_2 = \\sqrt{\\sum_{i=1}^n (a_i - b_i)^2}$\n",
    " * $\\ell_1$-norm, $\\|a -b\\|_1 = \\sum_{i=1}^n |a_i - b_i|$\n",
    "\n",
    "* $\\ell_\\infty$-norm, $\\|a-b\\|_\\infty = \\max_{1\\leq i\\leq n} |a_i - b_i|$\n",
    "\n",
    "    * Relation between those norms: $\\|\\cdot\\|_1$ $\\geq$ $\\|\\cdot\\|_2$ $\\geq$ $\\cdots$ $\\geq$ $\\|\\cdot\\|_\\infty$\n",
    "\n",
    "* Mahalanobis distance, the Euclidean distance between z-scores.\n",
    "* Cosine similarity, the cosine of the angle between two vectors. See [here](https://stats.stackexchange.com/a/235676/29695) for an explanation of how cosine similarity is related to correlation. Note that the range of cosine is $[-1, 1]$ and $\\cos(0) = 1$, so vectors that are close together will have a cosine similarity close to 1, not 0.\n",
    "* And others...\n",
    "\n",
    "Cosine similarity often works well for language data. The cosine similarity between two vectors $a$ and $b$ is defined as:\n",
    "\n",
    "$$\n",
    "\\frac{a'b}{\\Vert a \\Vert_2 \\Vert b \\Vert_2}.\n",
    "$$\n",
    "\n",
    "The `TfidfVectorizer()` function already divides the returned tf-idf vectors by their Euclidean norms, so we can compute cosine similarity as a simple dot product:"
   ]
  },
  {
   "cell_type": "code",
   "execution_count": null,
   "id": "770773ec",
   "metadata": {},
   "outputs": [],
   "source": [
    "df"
   ]
  },
  {
   "cell_type": "code",
   "execution_count": null,
   "id": "ca9c5032",
   "metadata": {
    "scrolled": true
   },
   "outputs": [],
   "source": [
    "df @ df.T"
   ]
  },
  {
   "cell_type": "markdown",
   "id": "21de509a",
   "metadata": {},
   "source": [
    "Part of the reason that cosine similarity is a good measure in NLP is that cosine similarity, like correlation, is not affected by the scale of the vector elements. For vectors that contain term frequencies (or functions of term frequencies), this means that the length of the original documents will not affect whether or not they are similar -- only their word content will."
   ]
  },
  {
   "cell_type": "markdown",
   "id": "9bc53c27",
   "metadata": {},
   "source": [
    "### Summary \n",
    "\n",
    "- Standardize text first\n",
    "- Engineer features depending on priorities"
   ]
  }
 ],
 "metadata": {
  "kernelspec": {
   "display_name": "Python 3 (ipykernel)",
   "language": "python",
   "name": "python3"
  },
  "language_info": {
   "codemirror_mode": {
    "name": "ipython",
    "version": 3
   },
   "file_extension": ".py",
   "mimetype": "text/x-python",
   "name": "python",
   "nbconvert_exporter": "python",
   "pygments_lexer": "ipython3",
   "version": "3.9.12"
  },
  "vscode": {
   "interpreter": {
    "hash": "b2b12ec50b0a525a62abe739e766b0c808eccd181e3f804cedbbca00f4d5b392"
   }
  }
 },
 "nbformat": 4,
 "nbformat_minor": 5
}
