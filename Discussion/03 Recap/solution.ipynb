{
 "cells": [
  {
   "cell_type": "code",
   "execution_count": 65,
   "id": "dc82986a",
   "metadata": {},
   "outputs": [
    {
     "name": "stdout",
     "output_type": "stream",
     "text": [
      "hip\n",
      "hep\n"
     ]
    }
   ],
   "source": [
    "x = \"pangolin\"\n",
    "y = set(x)\n",
    "\n",
    "try: y[1] == \"p\" # (i)\n",
    "except: print(\"hip\")\n",
    "try: x[1] = \"s\" # (ii)\n",
    "except: print(\"hep\")\n",
    "if len(y) == len(x): # (iii)\n",
    "    print(\"hop\")"
   ]
  },
  {
   "cell_type": "code",
   "execution_count": 66,
   "id": "8198f845",
   "metadata": {},
   "outputs": [
    {
     "name": "stdout",
     "output_type": "stream",
     "text": [
      "<class 'list'> [None, None]\n"
     ]
    }
   ],
   "source": [
    "def f(x, y = 2): x if y < 1 else x - y\n",
    "x = [f(x, i) for i, x in enumerate((1, 2))]\n",
    "print(type(x), str(x))"
   ]
  },
  {
   "cell_type": "code",
   "execution_count": 67,
   "id": "b8438a40",
   "metadata": {},
   "outputs": [
    {
     "name": "stdout",
     "output_type": "stream",
     "text": [
      "<class 'generator'>\n",
      "<class 'list'> []\n"
     ]
    }
   ],
   "source": [
    "x = (i for i in range(3))\n",
    "y = [i for i in x if i < 2]\n",
    "z = list(x)\n",
    "\n",
    "print(type(x))\n",
    "print(type(z), str(z))"
   ]
  },
  {
   "cell_type": "code",
   "execution_count": 68,
   "id": "bdaebc70",
   "metadata": {},
   "outputs": [
    {
     "name": "stdout",
     "output_type": "stream",
     "text": [
      "hep\n"
     ]
    }
   ],
   "source": [
    "f = lambda n: 1 if n==0 else n*f(n-1)\n",
    "\n",
    "try: f(4.0) # (i)\n",
    "except: print(\"hip\")\n",
    "try: f(-1) # (ii)\n",
    "except: print(\"hep\")"
   ]
  },
  {
   "cell_type": "code",
   "execution_count": 69,
   "id": "3c6fbbe7",
   "metadata": {},
   "outputs": [
    {
     "name": "stdout",
     "output_type": "stream",
     "text": [
      "hop\n"
     ]
    }
   ],
   "source": [
    "x = (2, 3)[:1]\n",
    "y = {2: 3, 3: x, x: 2}\n",
    "del x\n",
    "\n",
    "try: y[(2,)] == y.get(2) # (i)\n",
    "except: print('hip')\n",
    "try: y[3.0] = 'hep' # (ii)\n",
    "except: print('hep')\n",
    "try: y[x] = 3 # (iii)\n",
    "except: print('hop')    "
   ]
  },
  {
   "cell_type": "code",
   "execution_count": 70,
   "id": "489303dc",
   "metadata": {},
   "outputs": [
    {
     "name": "stdout",
     "output_type": "stream",
     "text": [
      "[True, True, True, True]\n",
      "[False, True, True, True]\n"
     ]
    }
   ],
   "source": [
    "from copy import deepcopy\n",
    "\n",
    "x = [{'quiche': 4}, 444, 4.0, 'quiche']\n",
    "y = x.copy()\n",
    "z = deepcopy(x)\n",
    "\n",
    "print([i is j for i,j in zip(x, y)]) # (i)\n",
    "print([i is j for i,j in zip(x, z)]) # (ii)"
   ]
  },
  {
   "cell_type": "code",
   "execution_count": 71,
   "id": "3695bffd",
   "metadata": {},
   "outputs": [
    {
     "name": "stdout",
     "output_type": "stream",
     "text": [
      "hop\n"
     ]
    }
   ],
   "source": [
    "x = ['dreams', {3, 4}, None, '!']\n",
    "try: y = ('dreams', {4, 3}, None, x)\n",
    "except: print('hip')\n",
    "try: x[x.index('!')] = y\n",
    "except: print('hep')\n",
    "try: \n",
    "    if x[3][3] is x: print('hop')\n",
    "except: print('hup')"
   ]
  },
  {
   "cell_type": "code",
   "execution_count": 72,
   "id": "bc43ccab",
   "metadata": {},
   "outputs": [
    {
     "name": "stdout",
     "output_type": "stream",
     "text": [
      "[True, True, False]\n"
     ]
    }
   ],
   "source": [
    "import sys \n",
    "\n",
    "f = lambda: sys.intern('purple turtle')\n",
    "x = f()\n",
    "y = x, f(),'purple turtle'\n",
    "del x\n",
    "z = f()\n",
    "\n",
    "print([z is i for i in y])"
   ]
  },
  {
   "cell_type": "code",
   "execution_count": 73,
   "id": "e5e29bfd",
   "metadata": {},
   "outputs": [],
   "source": [
    "import numpy as np\n",
    "\n",
    "x = np.array([int('1'), 1.4])\n",
    "if isinstance(x[0], int): print('hep')"
   ]
  },
  {
   "cell_type": "code",
   "execution_count": 74,
   "id": "abfc67c5",
   "metadata": {},
   "outputs": [
    {
     "name": "stdout",
     "output_type": "stream",
     "text": [
      "(2, 3, 1)\n",
      "(3, 1)\n"
     ]
    }
   ],
   "source": [
    "x = np.array([[[1], [2.0], [4.1]], \n",
    "              [[2.1], [3], [None]]])\n",
    "y = np.matrix(x[0])\n",
    "\n",
    "\n",
    "print(x.shape) # (i)\n",
    "print(y.shape) # (ii)"
   ]
  },
  {
   "cell_type": "code",
   "execution_count": 77,
   "id": "04fbcce0",
   "metadata": {},
   "outputs": [],
   "source": [
    "x = np.array([[3, 2, 4.0], [0, -4, 1]])\n",
    "\n",
    "try: (x - 3) + x\n",
    "except: print('hep')\n",
    "try: x + np.transpose([[1, 2.0], [3, 4], [3, 4]])\n",
    "except: print('hip')\n",
    "try: x[:2,0] @ [1, 2.0]\n",
    "except: print('hop')"
   ]
  },
  {
   "cell_type": "code",
   "execution_count": 162,
   "id": "df98601a",
   "metadata": {},
   "outputs": [
    {
     "name": "stdout",
     "output_type": "stream",
     "text": [
      "[1, 0, 1]\n"
     ]
    }
   ],
   "source": [
    "import pandas as pd\n",
    "\n",
    "x = pd.Series([1,2,0,3], index = [2, 1, 0, 4])\n",
    "\n",
    "print([x[2], x.iloc[2], x.loc[2]]) "
   ]
  },
  {
   "cell_type": "code",
   "execution_count": 168,
   "id": "1455c5ea",
   "metadata": {},
   "outputs": [
    {
     "name": "stdout",
     "output_type": "stream",
     "text": [
      "[<class 'numpy.int64'>, <class 'numpy.int64'>, <class 'numpy.float64'>]\n"
     ]
    }
   ],
   "source": [
    "y = x.reset_index()\n",
    "y = y.rename(columns = {'index': 'A', 0: 'B'})\n",
    "\n",
    "try: z = y.iloc[:,1] * x / 3 # (i)\n",
    "except: print('hip')\n",
    "try: y['C'] = z # (ii)\n",
    "except: print('hep')\n",
    "    \n",
    "print([type(y.iloc[0,i]) for i in range(y.shape[1])])  # (iii)"
   ]
  }
 ],
 "metadata": {
  "kernelspec": {
   "display_name": "Python 3 (ipykernel)",
   "language": "python",
   "name": "python3"
  },
  "language_info": {
   "codemirror_mode": {
    "name": "ipython",
    "version": 3
   },
   "file_extension": ".py",
   "mimetype": "text/x-python",
   "name": "python",
   "nbconvert_exporter": "python",
   "pygments_lexer": "ipython3",
   "version": "3.9.12"
  }
 },
 "nbformat": 4,
 "nbformat_minor": 5
}
