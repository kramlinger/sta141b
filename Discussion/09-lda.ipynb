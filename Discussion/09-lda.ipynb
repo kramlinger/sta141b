{
 "cells": [
  {
   "cell_type": "markdown",
   "id": "7a2e308e",
   "metadata": {},
   "source": [
    "## Exemplifying the LDA on the Facebook data set"
   ]
  },
  {
   "cell_type": "markdown",
   "id": "a339fcac",
   "metadata": {},
   "source": [
    "_This discussion is in R_"
   ]
  },
  {
   "cell_type": "markdown",
   "id": "6a9f8b61",
   "metadata": {},
   "source": [
    "Consider the data set that is described in [this](https://psycnet.apa.org/fulltext/2016-57141-003.html) paper. You can download the data [here](https://www.michalkosinski.com/data-mining-tutorial). "
   ]
  },
  {
   "cell_type": "markdown",
   "id": "e6f932bd",
   "metadata": {},
   "source": [
    "The sample data set contains psychodemographic profiles of $n_u=110,728$ Facebook users and their Facebook likes.\n",
    "\n",
    "1. *users.csv*: contains psychodemographic user profiles. It has $n_u = 110,728$ rows and nine columns: anonymized user ID,\n",
    "gender (0 for male, 1 for female), age, political views (0 for Democrat, 1 for Republican), and five personality scores, including Openness, Conscientiousness, Extroversion, Agreeableness, and Neuroticism.\n",
    "\n",
    "2. *likes.csv*: contains anonymized IDs and names of $n_L=1,580,284$ Facebook Likes. It has two columns: ID and name.\n",
    "\n",
    "3. *users-likes.csv*: contains the associations between users and their Likes, stored as user–Like pairs. It has $n_{u-L}\n",
    "=10,612,326$ rows and two columns: user ID and Like ID."
   ]
  },
  {
   "cell_type": "code",
   "execution_count": null,
   "id": "6a9f1ccb",
   "metadata": {},
   "outputs": [],
   "source": [
    "# load the files\n",
    "users = read.csv(\"../data/users.csv\")\n",
    "likes = read.csv(\"../data/likes.csv\")\n",
    "ul = read.csv(\"../data/users-likes.csv\")"
   ]
  },
  {
   "cell_type": "code",
   "execution_count": null,
   "id": "1ae8b6a7",
   "metadata": {
    "scrolled": true
   },
   "outputs": [],
   "source": [
    "print(dim(users)) # 110728 users\n",
    "head(users)"
   ]
  },
  {
   "cell_type": "code",
   "execution_count": null,
   "id": "0ad8456e",
   "metadata": {
    "scrolled": true
   },
   "outputs": [],
   "source": [
    "print(dim(likes)) # 1580284 Likes\n",
    "head(likes)"
   ]
  },
  {
   "cell_type": "code",
   "execution_count": null,
   "id": "38a265db",
   "metadata": {
    "scrolled": true
   },
   "outputs": [],
   "source": [
    "print(dim(ul)) # 10612326 user-Like pairs\n",
    "head(ul)"
   ]
  },
  {
   "cell_type": "markdown",
   "id": "0bea50bd",
   "metadata": {},
   "source": [
    "## Constructing a User-Like Matrix\n",
    "\n",
    "We proceed to construct a user-Like matrix `M`. The user stored in the $i$th row of the data frame `users` will be put in the $i$th row of matrix `M`, and the Like stored in the $j$th row of the data frame `likes` will be put in the $j$th column of matrix `M`. If the $i$th user likes the $j$th Like, then $M_{i,j}=1$."
   ]
  },
  {
   "cell_type": "code",
   "execution_count": null,
   "id": "a4eec910",
   "metadata": {
    "scrolled": true
   },
   "outputs": [],
   "source": [
    "ul$user_row = match(ul$userid, users$userid)\n",
    "ul$like_row = match(ul$likeid, likes$likeid)\n",
    "head(ul)"
   ]
  },
  {
   "cell_type": "code",
   "execution_count": null,
   "id": "144c8d07",
   "metadata": {},
   "outputs": [],
   "source": [
    "library(Matrix)\n",
    "\n",
    "M = sparseMatrix(i = ul$user_row, j = ul$like_row, x = 1) # user-Like matrix \n",
    "rownames(M) = users$userid\n",
    "colnames(M) = likes$name\n",
    "dim(M)"
   ]
  },
  {
   "cell_type": "markdown",
   "id": "c6384c21",
   "metadata": {},
   "source": [
    "## Trimming the User-Like Matrix\n",
    "\n",
    "We use a minimum of 50 Likes per user and a minimum of 150 users per Like to reduce the time required for further analyses."
   ]
  },
  {
   "cell_type": "code",
   "execution_count": null,
   "id": "d0dfac48",
   "metadata": {
    "scrolled": true
   },
   "outputs": [],
   "source": [
    "sum(MF) / (as.double(nrow(MF)) * ncol(MF)) # 0.006% non-zero entries"
   ]
  },
  {
   "cell_type": "code",
   "execution_count": null,
   "id": "da1a8cf4",
   "metadata": {
    "scrolled": true
   },
   "outputs": [],
   "source": [
    "MF = M # keep the full matrix\n",
    "\n",
    "repeat {\n",
    "    i = sum(dim(M))\n",
    "    M = M[rowSums(M) >= 50, colSums(M) >= 150]\n",
    "    if (sum(dim(M)) == i)\n",
    "        break\n",
    "}\n",
    "\n",
    "dim(M)"
   ]
  },
  {
   "cell_type": "code",
   "execution_count": null,
   "id": "e70451a2",
   "metadata": {
    "scrolled": false
   },
   "outputs": [],
   "source": [
    "users = users[match(rownames(M), users$userid),]\n",
    "dim(users)"
   ]
  },
  {
   "cell_type": "code",
   "execution_count": null,
   "id": "2a85d6a4",
   "metadata": {
    "scrolled": true
   },
   "outputs": [],
   "source": [
    "sum(M) / (nrow(M) * ncol(M)) # 2.27% non-zero entries"
   ]
  },
  {
   "cell_type": "markdown",
   "id": "543b891c",
   "metadata": {},
   "source": [
    "## Reducing the Dimensionality of the User-Like Matrix Using LDA"
   ]
  },
  {
   "cell_type": "markdown",
   "id": "8433ba5a",
   "metadata": {},
   "source": [
    "Applied to the user-Like matrix $M$ of size $n \\times m$, LDA produces matrix $\\gamma$ of size $n \\times k$, describing the posterior distribution of clusters for each user; and matrix $\\beta$ of size $k \\times m$, describing the posterior distribution of Likes for each cluster."
   ]
  },
  {
   "cell_type": "markdown",
   "id": "3d67b8ca",
   "metadata": {},
   "source": [
    "Here, we are going to fit the model with Gibbs sampling by specifying `method = \"Gibbs\"`, you can also try to fit the model using Variational Expectation Maximization (VEM) Algorithm with `method = \"VEM\"`. To compare Gibbs and VEM, you can check this [paper](https://koreascience.kr/article/JAKO202022449681884.pdf)."
   ]
  },
  {
   "cell_type": "code",
   "execution_count": null,
   "id": "c066dd41",
   "metadata": {},
   "outputs": [],
   "source": [
    "library(topicmodels)\n",
    "\n",
    "# fit the model\n",
    "Mlda = LDA(M, \n",
    "           k = 5,\n",
    "           control = list(alpha = 10,\n",
    "                          delta = .1,\n",
    "                          seed = 68),\n",
    "          method = \"Gibbs\")\n",
    "gamma = Mlda@gamma # posterior topic distribution for each user\n",
    "beta = exp(Mlda@beta) # posterior like distribution for each topics"
   ]
  },
  {
   "cell_type": "code",
   "execution_count": null,
   "id": "4878943e",
   "metadata": {
    "scrolled": true
   },
   "outputs": [],
   "source": [
    "dim(gamma)"
   ]
  },
  {
   "cell_type": "code",
   "execution_count": null,
   "id": "3faca552",
   "metadata": {
    "scrolled": true
   },
   "outputs": [],
   "source": [
    "dim(beta)"
   ]
  },
  {
   "cell_type": "code",
   "execution_count": null,
   "id": "5bfe4bd6",
   "metadata": {
    "scrolled": false
   },
   "outputs": [],
   "source": [
    "sum(gamma[1,]) # topics - posterior probs"
   ]
  },
  {
   "cell_type": "code",
   "execution_count": null,
   "id": "fa968fdf",
   "metadata": {
    "scrolled": true
   },
   "outputs": [],
   "source": [
    "sum(beta[1,]) # like - posterior probs"
   ]
  },
  {
   "cell_type": "code",
   "execution_count": null,
   "id": "e12aee9a",
   "metadata": {},
   "outputs": [],
   "source": [
    "# plot log-likelihood against number of clusters k\n",
    "## do not run, takes very long\n",
    "LK = rep(NA, 7)\n",
    "\n",
    "for (i in 2:8){\n",
    " Mlda = LDA(M, \n",
    "            k = i, \n",
    "            control = list(alpha = 10,\n",
    "                           delta = .1,\n",
    "                           seed = 68), \n",
    "            method = \"Gibbs\")\n",
    "    \n",
    " LK[i-1] = logLik(Mlda)\n",
    "}"
   ]
  },
  {
   "cell_type": "code",
   "execution_count": null,
   "id": "8e3d554d",
   "metadata": {},
   "outputs": [],
   "source": [
    "plot(2:8, LK, pch = 18, cex = 1.5)"
   ]
  },
  {
   "cell_type": "markdown",
   "id": "dcc58588",
   "metadata": {},
   "source": [
    "This plot could be used for selecting the number of clusters $k$. Typically, the log-likelihood grows rapidly for lower ranges of $k$, flattens at higher $k$ values, and may start decreasing once the number of clusters becomes very large. Selecting a $k$ that marks the end of a rapid growth of log-likelihood values usually offers decent interpretability of the topics."
   ]
  },
  {
   "cell_type": "markdown",
   "id": "e7b9f4ba",
   "metadata": {},
   "source": [
    "### Interpreting Clusters \n",
    "\n",
    "The correlation between users' membership on LDA clusters ($\\gamma$) and psychodemographic user traits:"
   ]
  },
  {
   "cell_type": "code",
   "execution_count": null,
   "id": "fdd6e578",
   "metadata": {
    "scrolled": true
   },
   "outputs": [],
   "source": [
    "# Interpretation of LDA\n",
    "Clda = cor(gamma, users[,-1], use = \"pairwise\") # construct correlation matrix\n",
    "rownames(Clda) = c(\"LDA1\", \"LDA2\", \"LDA3\", \"LDA4\", \"LDA5\")\n",
    "\n",
    "library(pheatmap)\n",
    "pheatmap(t(Clda), cluster_rows = FALSE, cluster_cols = FALSE)"
   ]
  },
  {
   "cell_type": "markdown",
   "id": "bc9001f0",
   "metadata": {},
   "source": [
    "Find the top 10 Likes most strongly associated with each of the clusters."
   ]
  },
  {
   "cell_type": "code",
   "execution_count": null,
   "id": "7843ee5a",
   "metadata": {},
   "outputs": [],
   "source": [
    "top.lda = list()\n",
    "\n",
    "for (i in 1:5){\n",
    "  f = order(beta[i,])\n",
    "  temp = tail(f, n = 10)\n",
    "  top.lda[[i]] = colnames(M)[temp]\n",
    "}"
   ]
  },
  {
   "cell_type": "code",
   "execution_count": null,
   "id": "2f3d2d99",
   "metadata": {
    "scrolled": false
   },
   "outputs": [],
   "source": [
    "top.lda"
   ]
  },
  {
   "cell_type": "markdown",
   "id": "dc00b69a",
   "metadata": {},
   "source": [
    "## Reducing the Dimensionality of the User-Like Matrix Using SVD\n",
    "\n",
    "SVD represents a given matrix of size $n \\times m$ as a product of three matrices:\n",
    "\n",
    "$$M=U \\Sigma V^\\top$$\n",
    "\n",
    "where $U$ of size $n \\times k$ contains left singular vector, $\\Sigma$ of size $k \\times k$ contains singular values, and $V$ of size $m \\times k$ contains right singular vectors, $k$ is the number of dimensions chosen to extract.\n",
    "\n",
    "Applied to the non-centered user-Like matrix $M$, SVD produces matrix $U$ containing users' scores on the SVD dimensions, and matrix $V$ shows Likes' scores on the SVD dimensions."
   ]
  },
  {
   "cell_type": "code",
   "execution_count": null,
   "id": "c6b11a99",
   "metadata": {},
   "outputs": [],
   "source": [
    "set.seed(seed = 68)\n",
    "library(irlba)\n",
    "\n",
    "Msvd = irlba(M, nv = 20)\n",
    "u = Msvd$u\n",
    "v = Msvd$v"
   ]
  },
  {
   "cell_type": "code",
   "execution_count": null,
   "id": "7173576d",
   "metadata": {
    "scrolled": true
   },
   "outputs": [],
   "source": [
    "# scree plot: singular values against index\n",
    "plot(Msvd$d, pch = 18, cex = 1.5)"
   ]
  },
  {
   "cell_type": "markdown",
   "id": "54a389e9",
   "metadata": {},
   "source": [
    "The scree plot could be used for selecting the number of SVD dimensions $k$. The optimum $k$ lies at the \"knee\" of the resulting scree plot."
   ]
  },
  {
   "cell_type": "markdown",
   "id": "b56e09db",
   "metadata": {},
   "source": [
    "To improve SVD's interpretability, matrix $M$ could have been centered. Centering, however, does not preserve the sparsity of the matrix, and thus is often impossible in the context of big data sets. Instead, the interpretability of the dimensions extracted from the non-centered matrix can be improved by rotating SVD dimensions with use of rotation technique, like varimax, quartimax, equimax, etc."
   ]
  },
  {
   "cell_type": "code",
   "execution_count": null,
   "id": "a1236b40",
   "metadata": {},
   "outputs": [],
   "source": [
    "Msvd = irlba(M, nv = 5)\n",
    "u = Msvd$u # user scores on the SVD dimensions\n",
    "v = Msvd$v # Likes scores on the SVD dimensions\n",
    "\n",
    "# factor rotation\n",
    "v_rot = unclass(varimax(Msvd$v)$loadings) # Likes scores on the varimax-rotated SVD dimensions\n",
    "u_rot = as.matrix(M %*% v_rot) # user scores on the varimax-rotated SVD dimensions"
   ]
  },
  {
   "cell_type": "markdown",
   "id": "2fd63952",
   "metadata": {},
   "source": [
    "### Interpreting Dimensions\n",
    "\n",
    "The correlations between user scores on the varimax-rotated SVD dimensions ($U_{rot}$) and psychodemographic user traits:"
   ]
  },
  {
   "cell_type": "code",
   "execution_count": null,
   "id": "b3eff948",
   "metadata": {
    "scrolled": false
   },
   "outputs": [],
   "source": [
    "Csvd = cor(u_rot, users[,-1], use = \"pairwise\")\n",
    "rownames(Csvd) = paste0(\"rot_SVD\", 1:5)\n",
    "pheatmap(t(Csvd), cluster_rows = FALSE, cluster_cols = FALSE)"
   ]
  },
  {
   "cell_type": "code",
   "execution_count": null,
   "id": "20d7cb58",
   "metadata": {},
   "outputs": [],
   "source": [
    "top.svd = bottom.svd = list()\n",
    "\n",
    "for (i in 1:5){\n",
    "    f = order(v_rot[,i])\n",
    "    top.svd[[i]] = colnames(M)[tail(f, n = 10)]\n",
    "    bottom.svd[[i]] = colnames(M)[head(f, n = 10)]\n",
    "}"
   ]
  },
  {
   "cell_type": "code",
   "execution_count": null,
   "id": "8616c047",
   "metadata": {
    "scrolled": true
   },
   "outputs": [],
   "source": [
    "top.svd # top 10 likes positively associated with each varimax-rotated SVD dimension"
   ]
  },
  {
   "cell_type": "code",
   "execution_count": null,
   "id": "cb6a9ca5",
   "metadata": {},
   "outputs": [],
   "source": [
    "bottom.svd # top 10 likes negatively associated with each varimax-rotated SVD dimension"
   ]
  }
 ],
 "metadata": {
  "kernelspec": {
   "display_name": "R",
   "language": "R",
   "name": "ir"
  },
  "language_info": {
   "codemirror_mode": "r",
   "file_extension": ".r",
   "mimetype": "text/x-r-source",
   "name": "R",
   "pygments_lexer": "r",
   "version": "4.4.2"
  }
 },
 "nbformat": 4,
 "nbformat_minor": 5
}
